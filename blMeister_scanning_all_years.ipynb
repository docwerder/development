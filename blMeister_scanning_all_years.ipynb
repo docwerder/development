{
 "cells": [
  {
   "attachments": {},
   "cell_type": "markdown",
   "metadata": {},
   "source": [
    "Script for getting the eternal table for all years..."
   ]
  },
  {
   "cell_type": "code",
   "execution_count": 1,
   "metadata": {},
   "outputs": [],
   "source": [
    "from bs4 import BeautifulSoup\n",
    "import requests\n",
    "import pandas as pd\n",
    "import re\n",
    "import warnings\n",
    "import ipyvolume as ipv\n",
    "import numpy as np\n",
    "warnings.filterwarnings(\"ignore\")\n",
    "pd.set_option('display.max_rows', None)\n",
    "pd.set_option('display.max_columns', 500)\n",
    "pd.set_option('display.width', 1000)\n"
   ]
  },
  {
   "attachments": {},
   "cell_type": "markdown",
   "metadata": {},
   "source": [
    "Building the years"
   ]
  },
  {
   "cell_type": "code",
   "execution_count": 26,
   "metadata": {},
   "outputs": [
    {
     "name": "stdout",
     "output_type": "stream",
     "text": [
      "Year:  1964\n",
      "Year:  1965\n",
      "Year:  1966\n",
      "Year:  1967\n",
      "Year:  1968\n",
      "Year:  1969\n",
      "Year:  1970\n",
      "Year:  1971\n",
      "Year:  1972\n",
      "Year:  1973\n",
      "Year:  1974\n",
      "Year:  1975\n",
      "Year:  1976\n",
      "Year:  1977\n",
      "Year:  1978\n",
      "Year:  1979\n",
      "Year:  1980\n",
      "Year:  1981\n",
      "Year:  1982\n",
      "Year:  1983\n",
      "Year:  1984\n",
      "Year:  1985\n",
      "Year:  1986\n",
      "Year:  1987\n",
      "Year:  1988\n",
      "Year:  1989\n",
      "Year:  1990\n",
      "Year:  1991\n",
      "Year:  1992\n",
      "Year:  1993\n",
      "Year:  1994\n",
      "Year:  1995\n",
      "Year:  1996\n",
      "Year:  1997\n",
      "Year:  1998\n",
      "Year:  1999\n",
      "Year:  2000\n",
      "Year:  2001\n",
      "Year:  2002\n",
      "Year:  2003\n",
      "Year:  2004\n",
      "Year:  2005\n",
      "Year:  2006\n",
      "Year:  2007\n",
      "Year:  2008\n",
      "Year:  2009\n",
      "Year:  2010\n",
      "Year:  2011\n",
      "Year:  2012\n",
      "Year:  2013\n",
      "Year:  2014\n",
      "Year:  2015\n",
      "Year:  2016\n",
      "Year:  2017\n",
      "Year:  2018\n",
      "Year:  2019\n",
      "Year:  2020\n",
      "Year:  2021\n",
      "Year:  2022\n",
      "Year:  2023\n"
     ]
    }
   ],
   "source": [
    "from tabulate import tabulate\n",
    "df_eternal = pd.DataFrame()\n",
    "years = range(1964, 2024)\n",
    "for year in years[:]:\n",
    "    url = f\"https://www.fussballdaten.de/bundesliga/{str(year)}/ewige-tabelle/\"\n",
    "    site = requests.get(url)\n",
    "    bs=BeautifulSoup(site.content, \"lxml\")\n",
    "    table_body=bs.find('tbody')\n",
    "    rows = table_body.find_all('tr')\n",
    "    teams = []\n",
    "    points = []\n",
    "    for row in rows[:]:\n",
    "        cols=row.find_all('td')\n",
    "        cols=[x.text.strip(' ') for x in cols]\n",
    "        # print(cols)\n",
    "        test_string = cols[1]\n",
    "        points.append(cols[-1])\n",
    "        team_string = re.split(r'Bundesliga|2. Bundesliga|3. Liga|Regionalliga West|Oberliga NOFV-Nord|Regionalliga|Oberliga Baden-|Oberliga Niederrhein', test_string)\n",
    "        # print(team_string[0])\n",
    "        teams.append(team_string[0])\n",
    "\n",
    "    lst_club_name = []\n",
    "    lst_city_name = []\n",
    "    for team in teams:\n",
    "        # Find the index of the city name without the club name\n",
    "        for i in range(len(team)-1, -1, -1):\n",
    "            if team[i].isupper() and team[i+1:].lower() == team[i+1:]:\n",
    "                city_index = i\n",
    "                break\n",
    "        else:\n",
    "            # If no match is found, skip this team\n",
    "            continue\n",
    "\n",
    "        # Get the club name and format it\n",
    "        club_name_tmp = team[:city_index].replace(\".\", \". \").strip()\n",
    "        city_name_tmp = team[city_index:].strip()\n",
    "        # print(club_name_tmp)\n",
    "        if club_name_tmp == \"TSV 1860 MünchenTS\":\n",
    "            club_name_tmp = \"TSV 1860 München\"\n",
    "            city_name_tmp = \"TSV 1860\"\n",
    "        if club_name_tmp == \"Hertha BSCHertha BS\":\n",
    "            club_name_tmp = \"Hertha BSC\"\n",
    "            city_name_tmp = \"Hertha BSC\"\n",
    "        if club_name_tmp == \"SV Tasmania BerlinSV\":\n",
    "            club_name_tmp = \"SV Tasmania Berlin\"\n",
    "            city_name_tmp = \"SV Tasmania\"\n",
    "        if club_name_tmp == \"Rot-Weiss EssenRW\":\n",
    "            club_name_tmp = \"RW Essen\"\n",
    "            city_name_tmp = \"Essen\"\n",
    "        if club_name_tmp == \"VfL BochumVfL\":\n",
    "            club_name_tmp = \"VFL Bochum\"\n",
    "            city_name_tmp = \"Bochum\"\n",
    "        if club_name_tmp == \"KFC Uerdingen 05Uerdingen\":\n",
    "            club_name_tmp = \"KFC Uerdingen 05\"\n",
    "            city_name_tmp = \"Uerdingen\"\n",
    "        if club_name_tmp == \"FC St.  PauliSt.\":   \n",
    "            club_name_tmp = \"FC St. Pauli\"\n",
    "            city_name_tmp = \"St. Pauli\"\n",
    "        if club_name_tmp == \"Tennis Borussia BerlinTB\":\n",
    "            club_name_tmp = \"Tennis Borussia Berlin\"\n",
    "            city_name_tmp = \"TB Berlin\"\n",
    "        if club_name_tmp == \"Fortuna KölnFortuna\":\n",
    "            club_name_tmp = \"Fortuna Köln\"\n",
    "            city_name_tmp = \"Köln\"\n",
    "        if club_name_tmp == \"Blau-Weiß 90 BerlinBW90\":\n",
    "            club_name_tmp = \"Blau-Weiß 90 Berlin\"\n",
    "            city_name_tmp = \"Berlin\"\n",
    "        if club_name_tmp == \"Stuttgarter KickersSt.\":\n",
    "            club_name_tmp = \"Stuttgarter Kickers\"\n",
    "            city_name_tmp = \"Stuttgart\"\n",
    "        if club_name_tmp == \"1.  FC Lokomotive LeipzigLok\":\n",
    "            club_name_tmp = \"1.  FC Lokomotive Leipzig\"\n",
    "            city_name_tmp = \"Leipzig\"\n",
    "        if club_name_tmp == \"FC Ingolstadt 04FC\":\n",
    "            club_name_tmp = \"FC  Ingolstadt 04\"\n",
    "            city_name_tmp = \"Ingolstadt\"\n",
    "        if club_name_tmp == \"RB LeipzigRB\":\n",
    "            # print(\"found\")\n",
    "            club_name_tmp = \"RB Leipzig\"\n",
    "            city_name_tmp = \"Leipzig\"\n",
    "        if club_name_tmp == \"1.  FC Union BerlinUnion\":\n",
    "            club_name_tmp = \"1.  FC Union Berlin\"\n",
    "            city_name_tmp = \"Berlin\"\n",
    "\n",
    "\n",
    "            \n",
    "        lst_club_name.append(club_name_tmp)\n",
    "        lst_city_name.append(city_name_tmp)\n",
    "\n",
    "    print('Year: ', year)\n",
    "    df_eternal_tmp = pd.DataFrame(columns=lst_club_name)\n",
    "    df_eternal_tmp.loc[str(year), :] = list(points)\n",
    "    # print(tabulate(df_eternal_tmp.head(), headers='keys', tablefmt='psql'))\n",
    "    # print(f\"df_eternal_tem: {df_eternal_tmp.head()}\")    \n",
    "    df_eternal = df_eternal.append(df_eternal_tmp)\n",
    "    df_eternal = df_eternal.fillna(0)\n",
    "    # print('lst_club_name: ', lst_club_name)\n",
    "    # print(df_eternal)"
   ]
  },
  {
   "cell_type": "code",
   "execution_count": 12,
   "metadata": {},
   "outputs": [],
   "source": [
    "df_eternal.to_csv('blMeister_all_years.csv')"
   ]
  },
  {
   "cell_type": "code",
   "execution_count": 27,
   "metadata": {},
   "outputs": [],
   "source": [
    "# 1964 --> 1963/1964\n",
    "\n",
    "url = \"https://www.fussballdaten.de/bundesliga/1964/ewige-tabelle/\"\n",
    "site_1964 = requests.get(url)\n",
    "import re\n",
    "bs=BeautifulSoup(site_1964.content, \"lxml\")\n",
    "table_body=bs.find('tbody')\n",
    "rows = table_body.find_all('tr')\n",
    "teams = []\n",
    "points = []\n",
    "for row in rows[:]:\n",
    "    cols=row.find_all('td')\n",
    "    cols=[x.text.strip(' ') for x in cols]\n",
    "    # print(cols)\n",
    "    test_string = cols[1]\n",
    "    points.append(cols[-1])\n",
    "    team_string = re.split(r'Bundesliga|2. Bundesliga|3. Liga|Regionalliga West', test_string)\n",
    "    # print(team_string[0])\n",
    "    teams.append(team_string[0])\n",
    "\n",
    "lst_club_name = []\n",
    "ls_city_name = []\n",
    "for team in teams:\n",
    "    # Find the index of the city name without the club name\n",
    "    for i in range(len(team)-1, -1, -1):\n",
    "        if team[i].isupper() and team[i+1:].lower() == team[i+1:]:\n",
    "            city_index = i\n",
    "            break\n",
    "    else:\n",
    "        # If no match is found, skip this team\n",
    "        continue\n",
    "\n",
    "    # Get the club name and format it\n",
    "    club_name_tmp = team[:city_index].replace(\".\", \". \").strip()\n",
    "    city_name_tmp = team[city_index:].strip()\n",
    "    if club_name_tmp == \"TSV 1860 MünchenTS\":\n",
    "        club_name_tmp = \"TSV 1860 München\"\n",
    "        city_name_tmp = \"TSV 1860\"\n",
    "    if club_name_tmp == \"Hertha BSCHertha BS\":\n",
    "        club_name_tmp = \"Hertha BSC\"\n",
    "        city_name_tmp = \"Hertha BSC\"\n",
    "        \n",
    "    lst_club_name.append(club_name_tmp)\n",
    "    ls_city_name.append(city_name_tmp)\n",
    "\n",
    "#     split_string2 = split_string1[0].split('Frankfurt')\n",
    "# #\n",
    "#     # print(test_string)\n",
    "#     # print(split_string1)\n",
    "#     print(type(split_string1[0]))\n",
    "#     print(split_string2)"
   ]
  },
  {
   "cell_type": "code",
   "execution_count": 28,
   "metadata": {},
   "outputs": [],
   "source": [
    "df_eternal.insert(0, \"Saison\", list(df_eternal.index))"
   ]
  },
  {
   "cell_type": "code",
   "execution_count": 30,
   "metadata": {},
   "outputs": [],
   "source": [
    "df_eternal.to_csv('blMeister_all_years.csv', index=False)"
   ]
  },
  {
   "cell_type": "code",
   "execution_count": 23,
   "metadata": {},
   "outputs": [
    {
     "ename": "NotImplementedError",
     "evalue": "__delete__",
     "output_type": "error",
     "traceback": [
      "\u001b[0;31m---------------------------------------------------------------------------\u001b[0m",
      "\u001b[0;31mNotImplementedError\u001b[0m                       Traceback (most recent call last)",
      "Cell \u001b[0;32mIn[23], line 1\u001b[0m\n\u001b[0;32m----> 1\u001b[0m \u001b[39mdel\u001b[39;00m df_eternal\u001b[39m.\u001b[39;49mindex\n",
      "\u001b[0;31mNotImplementedError\u001b[0m: __delete__"
     ]
    }
   ],
   "source": [
    "del df_eternal.index"
   ]
  },
  {
   "cell_type": "code",
   "execution_count": 3,
   "metadata": {},
   "outputs": [],
   "source": [
    "import ipyvolume as ipv\n",
    "import numpy as np"
   ]
  },
  {
   "cell_type": "code",
   "execution_count": 4,
   "metadata": {},
   "outputs": [
    {
     "name": "stdout",
     "output_type": "stream",
     "text": [
      "x,y and z are of shape (25, 25)\n",
      "and flattened of shape (625,)\n",
      "z is of shape (15, 625)\n"
     ]
    }
   ],
   "source": [
    "# create 2d grids: x, y, and r\n",
    "u = np.linspace(-10, 10, 25)\n",
    "x, y = np.meshgrid(u, u)\n",
    "r = np.sqrt(x**2+y**2)\n",
    "print(\"x,y and z are of shape\", x.shape)\n",
    "# and turn them into 1d\n",
    "x = x.flatten()\n",
    "y = y.flatten()\n",
    "r = r.flatten()\n",
    "print(\"and flattened of shape\", x.shape)\n",
    "time = np.linspace(0, np.pi*2, 15)\n",
    "z = np.array([(np.cos(r + t) * np.exp(-r/5)) for t in time])\n",
    "print(\"z is of shape\", z.shape)"
   ]
  },
  {
   "cell_type": "code",
   "execution_count": 5,
   "metadata": {},
   "outputs": [
    {
     "data": {
      "application/vnd.jupyter.widget-view+json": {
       "model_id": "be128d46f1934dbcb4dbde941012b30f",
       "version_major": 2,
       "version_minor": 0
      },
      "text/plain": [
       "Container(children=[HBox(children=(Play(value=0, interval=200, max=14), IntSlider(value=0, max=14)))], figure=…"
      ]
     },
     "metadata": {},
     "output_type": "display_data"
    }
   ],
   "source": [
    "\n",
    "# draw the scatter plot, and add controls with animate_glyphs\n",
    "ipv.figure()\n",
    "s = ipv.scatter(x, z, y, marker=\"sphere\")\n",
    "ipv.animation_control(s, interval=200)\n",
    "ipv.ylim(-3,3)\n",
    "ipv.show()"
   ]
  },
  {
   "cell_type": "code",
   "execution_count": 1,
   "metadata": {},
   "outputs": [
    {
     "name": "stderr",
     "output_type": "stream",
     "text": [
      "/Users/joerg/opt/anaconda3/envs/dev_env/lib/python3.11/site-packages/ipyvolume/serialize.py:102: RuntimeWarning: invalid value encountered in cast\n",
      "  subdata[..., i] = ((gradient[i][zindex] / 2.0 + 0.5) * 255).astype(np.uint8)\n"
     ]
    },
    {
     "data": {
      "application/vnd.jupyter.widget-view+json": {
       "model_id": "8d998fc419c1467c9966f95f00f9b50a",
       "version_major": 2,
       "version_minor": 0
      },
      "text/plain": [
       "Container(children=[VBox(children=(HBox(children=(Label(value='levels:'), FloatSlider(value=0.25, max=1.0, ste…"
      ]
     },
     "execution_count": 1,
     "metadata": {},
     "output_type": "execute_result"
    }
   ],
   "source": [
    "import numpy as np\n",
    "import ipyvolume as ipv\n",
    "V = np.zeros((128,128,128)) # our 3d array\n",
    "# outer box\n",
    "V[30:-30,30:-30,30:-30] = 0.75\n",
    "V[35:-35,35:-35,35:-35] = 0.0\n",
    "# inner box\n",
    "V[50:-50,50:-50,50:-50] = 0.25\n",
    "V[55:-55,55:-55,55:-55] = 0.0\n",
    "ipv.quickvolshow(V, level=[0.25, 0.75], opacity=0.03, level_width=0.1, data_min=0, data_max=1)"
   ]
  },
  {
   "cell_type": "code",
   "execution_count": null,
   "metadata": {},
   "outputs": [],
   "source": [
    "figure()"
   ]
  }
 ],
 "metadata": {
  "kernelspec": {
   "display_name": "dev_env",
   "language": "python",
   "name": "python3"
  },
  "language_info": {
   "codemirror_mode": {
    "name": "ipython",
    "version": 3
   },
   "file_extension": ".py",
   "mimetype": "text/x-python",
   "name": "python",
   "nbconvert_exporter": "python",
   "pygments_lexer": "ipython3",
   "version": "3.11.0"
  },
  "orig_nbformat": 4,
  "vscode": {
   "interpreter": {
    "hash": "49b32e718d396453da74a87fcbdef4c593c9ec438ad1347297e2038d8db89ee5"
   }
  }
 },
 "nbformat": 4,
 "nbformat_minor": 2
}
