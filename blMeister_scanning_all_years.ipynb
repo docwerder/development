{
 "cells": [
  {
   "attachments": {},
   "cell_type": "markdown",
   "metadata": {},
   "source": [
    "Script for getting the eternal table for all years..."
   ]
  },
  {
   "cell_type": "code",
   "execution_count": 2,
   "metadata": {},
   "outputs": [],
   "source": [
    "from bs4 import BeautifulSoup\n",
    "import requests\n",
    "import pandas as pd\n",
    "import re\n",
    "import warnings\n"
   ]
  },
  {
   "attachments": {},
   "cell_type": "markdown",
   "metadata": {},
   "source": [
    "Building the years"
   ]
  },
  {
   "cell_type": "code",
   "execution_count": 36,
   "metadata": {},
   "outputs": [
    {
     "name": "stderr",
     "output_type": "stream",
     "text": [
      "/var/folders/z2/_gyyb63x4pv6zvl1bd53ryg00000gn/T/ipykernel_92978/2010603830.py:92: FutureWarning: The frame.append method is deprecated and will be removed from pandas in a future version. Use pandas.concat instead.\n",
      "  df_eternal = df_eternal.append(df_eternal_tmp)\n",
      "/var/folders/z2/_gyyb63x4pv6zvl1bd53ryg00000gn/T/ipykernel_92978/2010603830.py:92: FutureWarning: The frame.append method is deprecated and will be removed from pandas in a future version. Use pandas.concat instead.\n",
      "  df_eternal = df_eternal.append(df_eternal_tmp)\n",
      "/var/folders/z2/_gyyb63x4pv6zvl1bd53ryg00000gn/T/ipykernel_92978/2010603830.py:92: FutureWarning: The frame.append method is deprecated and will be removed from pandas in a future version. Use pandas.concat instead.\n",
      "  df_eternal = df_eternal.append(df_eternal_tmp)\n",
      "/var/folders/z2/_gyyb63x4pv6zvl1bd53ryg00000gn/T/ipykernel_92978/2010603830.py:92: FutureWarning: The frame.append method is deprecated and will be removed from pandas in a future version. Use pandas.concat instead.\n",
      "  df_eternal = df_eternal.append(df_eternal_tmp)\n",
      "/var/folders/z2/_gyyb63x4pv6zvl1bd53ryg00000gn/T/ipykernel_92978/2010603830.py:92: FutureWarning: The frame.append method is deprecated and will be removed from pandas in a future version. Use pandas.concat instead.\n",
      "  df_eternal = df_eternal.append(df_eternal_tmp)\n",
      "/var/folders/z2/_gyyb63x4pv6zvl1bd53ryg00000gn/T/ipykernel_92978/2010603830.py:92: FutureWarning: The frame.append method is deprecated and will be removed from pandas in a future version. Use pandas.concat instead.\n",
      "  df_eternal = df_eternal.append(df_eternal_tmp)\n",
      "/var/folders/z2/_gyyb63x4pv6zvl1bd53ryg00000gn/T/ipykernel_92978/2010603830.py:92: FutureWarning: The frame.append method is deprecated and will be removed from pandas in a future version. Use pandas.concat instead.\n",
      "  df_eternal = df_eternal.append(df_eternal_tmp)\n",
      "/var/folders/z2/_gyyb63x4pv6zvl1bd53ryg00000gn/T/ipykernel_92978/2010603830.py:92: FutureWarning: The frame.append method is deprecated and will be removed from pandas in a future version. Use pandas.concat instead.\n",
      "  df_eternal = df_eternal.append(df_eternal_tmp)\n",
      "/var/folders/z2/_gyyb63x4pv6zvl1bd53ryg00000gn/T/ipykernel_92978/2010603830.py:92: FutureWarning: The frame.append method is deprecated and will be removed from pandas in a future version. Use pandas.concat instead.\n",
      "  df_eternal = df_eternal.append(df_eternal_tmp)\n",
      "/var/folders/z2/_gyyb63x4pv6zvl1bd53ryg00000gn/T/ipykernel_92978/2010603830.py:92: FutureWarning: The frame.append method is deprecated and will be removed from pandas in a future version. Use pandas.concat instead.\n",
      "  df_eternal = df_eternal.append(df_eternal_tmp)\n",
      "/var/folders/z2/_gyyb63x4pv6zvl1bd53ryg00000gn/T/ipykernel_92978/2010603830.py:92: FutureWarning: The frame.append method is deprecated and will be removed from pandas in a future version. Use pandas.concat instead.\n",
      "  df_eternal = df_eternal.append(df_eternal_tmp)\n",
      "/var/folders/z2/_gyyb63x4pv6zvl1bd53ryg00000gn/T/ipykernel_92978/2010603830.py:92: FutureWarning: The frame.append method is deprecated and will be removed from pandas in a future version. Use pandas.concat instead.\n",
      "  df_eternal = df_eternal.append(df_eternal_tmp)\n",
      "/var/folders/z2/_gyyb63x4pv6zvl1bd53ryg00000gn/T/ipykernel_92978/2010603830.py:92: FutureWarning: The frame.append method is deprecated and will be removed from pandas in a future version. Use pandas.concat instead.\n",
      "  df_eternal = df_eternal.append(df_eternal_tmp)\n",
      "/var/folders/z2/_gyyb63x4pv6zvl1bd53ryg00000gn/T/ipykernel_92978/2010603830.py:92: FutureWarning: The frame.append method is deprecated and will be removed from pandas in a future version. Use pandas.concat instead.\n",
      "  df_eternal = df_eternal.append(df_eternal_tmp)\n",
      "/var/folders/z2/_gyyb63x4pv6zvl1bd53ryg00000gn/T/ipykernel_92978/2010603830.py:92: FutureWarning: The frame.append method is deprecated and will be removed from pandas in a future version. Use pandas.concat instead.\n",
      "  df_eternal = df_eternal.append(df_eternal_tmp)\n",
      "/var/folders/z2/_gyyb63x4pv6zvl1bd53ryg00000gn/T/ipykernel_92978/2010603830.py:92: FutureWarning: The frame.append method is deprecated and will be removed from pandas in a future version. Use pandas.concat instead.\n",
      "  df_eternal = df_eternal.append(df_eternal_tmp)\n",
      "/var/folders/z2/_gyyb63x4pv6zvl1bd53ryg00000gn/T/ipykernel_92978/2010603830.py:92: FutureWarning: The frame.append method is deprecated and will be removed from pandas in a future version. Use pandas.concat instead.\n",
      "  df_eternal = df_eternal.append(df_eternal_tmp)\n",
      "/var/folders/z2/_gyyb63x4pv6zvl1bd53ryg00000gn/T/ipykernel_92978/2010603830.py:92: FutureWarning: The frame.append method is deprecated and will be removed from pandas in a future version. Use pandas.concat instead.\n",
      "  df_eternal = df_eternal.append(df_eternal_tmp)\n",
      "/var/folders/z2/_gyyb63x4pv6zvl1bd53ryg00000gn/T/ipykernel_92978/2010603830.py:92: FutureWarning: The frame.append method is deprecated and will be removed from pandas in a future version. Use pandas.concat instead.\n",
      "  df_eternal = df_eternal.append(df_eternal_tmp)\n",
      "/var/folders/z2/_gyyb63x4pv6zvl1bd53ryg00000gn/T/ipykernel_92978/2010603830.py:92: FutureWarning: The frame.append method is deprecated and will be removed from pandas in a future version. Use pandas.concat instead.\n",
      "  df_eternal = df_eternal.append(df_eternal_tmp)\n",
      "/var/folders/z2/_gyyb63x4pv6zvl1bd53ryg00000gn/T/ipykernel_92978/2010603830.py:92: FutureWarning: The frame.append method is deprecated and will be removed from pandas in a future version. Use pandas.concat instead.\n",
      "  df_eternal = df_eternal.append(df_eternal_tmp)\n",
      "/var/folders/z2/_gyyb63x4pv6zvl1bd53ryg00000gn/T/ipykernel_92978/2010603830.py:92: FutureWarning: The frame.append method is deprecated and will be removed from pandas in a future version. Use pandas.concat instead.\n",
      "  df_eternal = df_eternal.append(df_eternal_tmp)\n",
      "/var/folders/z2/_gyyb63x4pv6zvl1bd53ryg00000gn/T/ipykernel_92978/2010603830.py:92: FutureWarning: The frame.append method is deprecated and will be removed from pandas in a future version. Use pandas.concat instead.\n",
      "  df_eternal = df_eternal.append(df_eternal_tmp)\n",
      "/var/folders/z2/_gyyb63x4pv6zvl1bd53ryg00000gn/T/ipykernel_92978/2010603830.py:92: FutureWarning: The frame.append method is deprecated and will be removed from pandas in a future version. Use pandas.concat instead.\n",
      "  df_eternal = df_eternal.append(df_eternal_tmp)\n",
      "/var/folders/z2/_gyyb63x4pv6zvl1bd53ryg00000gn/T/ipykernel_92978/2010603830.py:92: FutureWarning: The frame.append method is deprecated and will be removed from pandas in a future version. Use pandas.concat instead.\n",
      "  df_eternal = df_eternal.append(df_eternal_tmp)\n",
      "/var/folders/z2/_gyyb63x4pv6zvl1bd53ryg00000gn/T/ipykernel_92978/2010603830.py:92: FutureWarning: The frame.append method is deprecated and will be removed from pandas in a future version. Use pandas.concat instead.\n",
      "  df_eternal = df_eternal.append(df_eternal_tmp)\n",
      "/var/folders/z2/_gyyb63x4pv6zvl1bd53ryg00000gn/T/ipykernel_92978/2010603830.py:92: FutureWarning: The frame.append method is deprecated and will be removed from pandas in a future version. Use pandas.concat instead.\n",
      "  df_eternal = df_eternal.append(df_eternal_tmp)\n",
      "/var/folders/z2/_gyyb63x4pv6zvl1bd53ryg00000gn/T/ipykernel_92978/2010603830.py:92: FutureWarning: The frame.append method is deprecated and will be removed from pandas in a future version. Use pandas.concat instead.\n",
      "  df_eternal = df_eternal.append(df_eternal_tmp)\n",
      "/var/folders/z2/_gyyb63x4pv6zvl1bd53ryg00000gn/T/ipykernel_92978/2010603830.py:92: FutureWarning: The frame.append method is deprecated and will be removed from pandas in a future version. Use pandas.concat instead.\n",
      "  df_eternal = df_eternal.append(df_eternal_tmp)\n",
      "/var/folders/z2/_gyyb63x4pv6zvl1bd53ryg00000gn/T/ipykernel_92978/2010603830.py:92: FutureWarning: The frame.append method is deprecated and will be removed from pandas in a future version. Use pandas.concat instead.\n",
      "  df_eternal = df_eternal.append(df_eternal_tmp)\n",
      "/var/folders/z2/_gyyb63x4pv6zvl1bd53ryg00000gn/T/ipykernel_92978/2010603830.py:92: FutureWarning: The frame.append method is deprecated and will be removed from pandas in a future version. Use pandas.concat instead.\n",
      "  df_eternal = df_eternal.append(df_eternal_tmp)\n",
      "/var/folders/z2/_gyyb63x4pv6zvl1bd53ryg00000gn/T/ipykernel_92978/2010603830.py:92: FutureWarning: The frame.append method is deprecated and will be removed from pandas in a future version. Use pandas.concat instead.\n",
      "  df_eternal = df_eternal.append(df_eternal_tmp)\n",
      "/var/folders/z2/_gyyb63x4pv6zvl1bd53ryg00000gn/T/ipykernel_92978/2010603830.py:92: FutureWarning: The frame.append method is deprecated and will be removed from pandas in a future version. Use pandas.concat instead.\n",
      "  df_eternal = df_eternal.append(df_eternal_tmp)\n",
      "/var/folders/z2/_gyyb63x4pv6zvl1bd53ryg00000gn/T/ipykernel_92978/2010603830.py:92: FutureWarning: The frame.append method is deprecated and will be removed from pandas in a future version. Use pandas.concat instead.\n",
      "  df_eternal = df_eternal.append(df_eternal_tmp)\n",
      "/var/folders/z2/_gyyb63x4pv6zvl1bd53ryg00000gn/T/ipykernel_92978/2010603830.py:92: FutureWarning: The frame.append method is deprecated and will be removed from pandas in a future version. Use pandas.concat instead.\n",
      "  df_eternal = df_eternal.append(df_eternal_tmp)\n",
      "/var/folders/z2/_gyyb63x4pv6zvl1bd53ryg00000gn/T/ipykernel_92978/2010603830.py:92: FutureWarning: The frame.append method is deprecated and will be removed from pandas in a future version. Use pandas.concat instead.\n",
      "  df_eternal = df_eternal.append(df_eternal_tmp)\n",
      "/var/folders/z2/_gyyb63x4pv6zvl1bd53ryg00000gn/T/ipykernel_92978/2010603830.py:92: FutureWarning: The frame.append method is deprecated and will be removed from pandas in a future version. Use pandas.concat instead.\n",
      "  df_eternal = df_eternal.append(df_eternal_tmp)\n",
      "/var/folders/z2/_gyyb63x4pv6zvl1bd53ryg00000gn/T/ipykernel_92978/2010603830.py:92: FutureWarning: The frame.append method is deprecated and will be removed from pandas in a future version. Use pandas.concat instead.\n",
      "  df_eternal = df_eternal.append(df_eternal_tmp)\n",
      "/var/folders/z2/_gyyb63x4pv6zvl1bd53ryg00000gn/T/ipykernel_92978/2010603830.py:92: FutureWarning: The frame.append method is deprecated and will be removed from pandas in a future version. Use pandas.concat instead.\n",
      "  df_eternal = df_eternal.append(df_eternal_tmp)\n",
      "/var/folders/z2/_gyyb63x4pv6zvl1bd53ryg00000gn/T/ipykernel_92978/2010603830.py:92: FutureWarning: The frame.append method is deprecated and will be removed from pandas in a future version. Use pandas.concat instead.\n",
      "  df_eternal = df_eternal.append(df_eternal_tmp)\n",
      "/var/folders/z2/_gyyb63x4pv6zvl1bd53ryg00000gn/T/ipykernel_92978/2010603830.py:92: FutureWarning: The frame.append method is deprecated and will be removed from pandas in a future version. Use pandas.concat instead.\n",
      "  df_eternal = df_eternal.append(df_eternal_tmp)\n",
      "/var/folders/z2/_gyyb63x4pv6zvl1bd53ryg00000gn/T/ipykernel_92978/2010603830.py:92: FutureWarning: The frame.append method is deprecated and will be removed from pandas in a future version. Use pandas.concat instead.\n",
      "  df_eternal = df_eternal.append(df_eternal_tmp)\n",
      "/var/folders/z2/_gyyb63x4pv6zvl1bd53ryg00000gn/T/ipykernel_92978/2010603830.py:92: FutureWarning: The frame.append method is deprecated and will be removed from pandas in a future version. Use pandas.concat instead.\n",
      "  df_eternal = df_eternal.append(df_eternal_tmp)\n",
      "/var/folders/z2/_gyyb63x4pv6zvl1bd53ryg00000gn/T/ipykernel_92978/2010603830.py:92: FutureWarning: The frame.append method is deprecated and will be removed from pandas in a future version. Use pandas.concat instead.\n",
      "  df_eternal = df_eternal.append(df_eternal_tmp)\n",
      "/var/folders/z2/_gyyb63x4pv6zvl1bd53ryg00000gn/T/ipykernel_92978/2010603830.py:92: FutureWarning: The frame.append method is deprecated and will be removed from pandas in a future version. Use pandas.concat instead.\n",
      "  df_eternal = df_eternal.append(df_eternal_tmp)\n",
      "/var/folders/z2/_gyyb63x4pv6zvl1bd53ryg00000gn/T/ipykernel_92978/2010603830.py:92: FutureWarning: The frame.append method is deprecated and will be removed from pandas in a future version. Use pandas.concat instead.\n",
      "  df_eternal = df_eternal.append(df_eternal_tmp)\n",
      "/var/folders/z2/_gyyb63x4pv6zvl1bd53ryg00000gn/T/ipykernel_92978/2010603830.py:92: FutureWarning: The frame.append method is deprecated and will be removed from pandas in a future version. Use pandas.concat instead.\n",
      "  df_eternal = df_eternal.append(df_eternal_tmp)\n",
      "/var/folders/z2/_gyyb63x4pv6zvl1bd53ryg00000gn/T/ipykernel_92978/2010603830.py:92: FutureWarning: The frame.append method is deprecated and will be removed from pandas in a future version. Use pandas.concat instead.\n",
      "  df_eternal = df_eternal.append(df_eternal_tmp)\n",
      "/var/folders/z2/_gyyb63x4pv6zvl1bd53ryg00000gn/T/ipykernel_92978/2010603830.py:92: FutureWarning: The frame.append method is deprecated and will be removed from pandas in a future version. Use pandas.concat instead.\n",
      "  df_eternal = df_eternal.append(df_eternal_tmp)\n",
      "/var/folders/z2/_gyyb63x4pv6zvl1bd53ryg00000gn/T/ipykernel_92978/2010603830.py:92: FutureWarning: The frame.append method is deprecated and will be removed from pandas in a future version. Use pandas.concat instead.\n",
      "  df_eternal = df_eternal.append(df_eternal_tmp)\n",
      "/var/folders/z2/_gyyb63x4pv6zvl1bd53ryg00000gn/T/ipykernel_92978/2010603830.py:92: FutureWarning: The frame.append method is deprecated and will be removed from pandas in a future version. Use pandas.concat instead.\n",
      "  df_eternal = df_eternal.append(df_eternal_tmp)\n",
      "/var/folders/z2/_gyyb63x4pv6zvl1bd53ryg00000gn/T/ipykernel_92978/2010603830.py:92: FutureWarning: The frame.append method is deprecated and will be removed from pandas in a future version. Use pandas.concat instead.\n",
      "  df_eternal = df_eternal.append(df_eternal_tmp)\n",
      "/var/folders/z2/_gyyb63x4pv6zvl1bd53ryg00000gn/T/ipykernel_92978/2010603830.py:92: FutureWarning: The frame.append method is deprecated and will be removed from pandas in a future version. Use pandas.concat instead.\n",
      "  df_eternal = df_eternal.append(df_eternal_tmp)\n"
     ]
    },
    {
     "name": "stdout",
     "output_type": "stream",
     "text": [
      "found\n"
     ]
    },
    {
     "name": "stderr",
     "output_type": "stream",
     "text": [
      "/var/folders/z2/_gyyb63x4pv6zvl1bd53ryg00000gn/T/ipykernel_92978/2010603830.py:92: FutureWarning: The frame.append method is deprecated and will be removed from pandas in a future version. Use pandas.concat instead.\n",
      "  df_eternal = df_eternal.append(df_eternal_tmp)\n"
     ]
    },
    {
     "name": "stdout",
     "output_type": "stream",
     "text": [
      "found\n"
     ]
    },
    {
     "name": "stderr",
     "output_type": "stream",
     "text": [
      "/var/folders/z2/_gyyb63x4pv6zvl1bd53ryg00000gn/T/ipykernel_92978/2010603830.py:92: FutureWarning: The frame.append method is deprecated and will be removed from pandas in a future version. Use pandas.concat instead.\n",
      "  df_eternal = df_eternal.append(df_eternal_tmp)\n"
     ]
    },
    {
     "name": "stdout",
     "output_type": "stream",
     "text": [
      "found\n"
     ]
    },
    {
     "name": "stderr",
     "output_type": "stream",
     "text": [
      "/var/folders/z2/_gyyb63x4pv6zvl1bd53ryg00000gn/T/ipykernel_92978/2010603830.py:92: FutureWarning: The frame.append method is deprecated and will be removed from pandas in a future version. Use pandas.concat instead.\n",
      "  df_eternal = df_eternal.append(df_eternal_tmp)\n"
     ]
    },
    {
     "name": "stdout",
     "output_type": "stream",
     "text": [
      "found\n"
     ]
    },
    {
     "name": "stderr",
     "output_type": "stream",
     "text": [
      "/var/folders/z2/_gyyb63x4pv6zvl1bd53ryg00000gn/T/ipykernel_92978/2010603830.py:92: FutureWarning: The frame.append method is deprecated and will be removed from pandas in a future version. Use pandas.concat instead.\n",
      "  df_eternal = df_eternal.append(df_eternal_tmp)\n"
     ]
    },
    {
     "name": "stdout",
     "output_type": "stream",
     "text": [
      "found\n"
     ]
    },
    {
     "name": "stderr",
     "output_type": "stream",
     "text": [
      "/var/folders/z2/_gyyb63x4pv6zvl1bd53ryg00000gn/T/ipykernel_92978/2010603830.py:92: FutureWarning: The frame.append method is deprecated and will be removed from pandas in a future version. Use pandas.concat instead.\n",
      "  df_eternal = df_eternal.append(df_eternal_tmp)\n"
     ]
    },
    {
     "name": "stdout",
     "output_type": "stream",
     "text": [
      "found\n"
     ]
    },
    {
     "name": "stderr",
     "output_type": "stream",
     "text": [
      "/var/folders/z2/_gyyb63x4pv6zvl1bd53ryg00000gn/T/ipykernel_92978/2010603830.py:92: FutureWarning: The frame.append method is deprecated and will be removed from pandas in a future version. Use pandas.concat instead.\n",
      "  df_eternal = df_eternal.append(df_eternal_tmp)\n"
     ]
    },
    {
     "name": "stdout",
     "output_type": "stream",
     "text": [
      "found\n"
     ]
    },
    {
     "name": "stderr",
     "output_type": "stream",
     "text": [
      "/var/folders/z2/_gyyb63x4pv6zvl1bd53ryg00000gn/T/ipykernel_92978/2010603830.py:92: FutureWarning: The frame.append method is deprecated and will be removed from pandas in a future version. Use pandas.concat instead.\n",
      "  df_eternal = df_eternal.append(df_eternal_tmp)\n"
     ]
    }
   ],
   "source": [
    "df_eternal = pd.DataFrame()\n",
    "years = range(1964, 2024)\n",
    "for year in years[:]:\n",
    "    url = f\"https://www.fussballdaten.de/bundesliga/{str(year)}/ewige-tabelle/\"\n",
    "    site = requests.get(url)\n",
    "    bs=BeautifulSoup(site.content, \"lxml\")\n",
    "    table_body=bs.find('tbody')\n",
    "    rows = table_body.find_all('tr')\n",
    "    teams = []\n",
    "    points = []\n",
    "    for row in rows[:]:\n",
    "        cols=row.find_all('td')\n",
    "        cols=[x.text.strip(' ') for x in cols]\n",
    "        # print(cols)\n",
    "        test_string = cols[1]\n",
    "        points.append(cols[-1])\n",
    "        team_string = re.split(r'Bundesliga|2. Bundesliga|3. Liga|Regionalliga West|Oberliga NOFV-Nord|Regionalliga|Oberliga Baden-|Oberliga Niederrhein', test_string)\n",
    "        # print(team_string[0])\n",
    "        teams.append(team_string[0])\n",
    "\n",
    "    lst_club_name = []\n",
    "    lst_city_name = []\n",
    "    for team in teams:\n",
    "        # Find the index of the city name without the club name\n",
    "        for i in range(len(team)-1, -1, -1):\n",
    "            if team[i].isupper() and team[i+1:].lower() == team[i+1:]:\n",
    "                city_index = i\n",
    "                break\n",
    "        else:\n",
    "            # If no match is found, skip this team\n",
    "            continue\n",
    "\n",
    "        # Get the club name and format it\n",
    "        club_name_tmp = team[:city_index].replace(\".\", \". \").strip()\n",
    "        city_name_tmp = team[city_index:].strip()\n",
    "        # print(club_name_tmp)\n",
    "        if club_name_tmp == \"TSV 1860 MünchenTS\":\n",
    "            club_name_tmp = \"TSV 1860 München\"\n",
    "            city_name_tmp = \"TSV 1860\"\n",
    "        if club_name_tmp == \"Hertha BSCHertha BS\":\n",
    "            club_name_tmp = \"Hertha BSC\"\n",
    "            city_name_tmp = \"Hertha BSC\"\n",
    "        if club_name_tmp == \"SV Tasmania BerlinSV\":\n",
    "            club_name_tmp = \"SV Tasmania Berlin\"\n",
    "            city_name_tmp = \"SV Tasmania\"\n",
    "        if club_name_tmp == \"Rot-Weiss EssenRW\":\n",
    "            club_name_tmp = \"RW Essen\"\n",
    "            city_name_tmp = \"Essen\"\n",
    "        if club_name_tmp == \"VfL BochumVfL\":\n",
    "            club_name_tmp = \"VFL Bochum\"\n",
    "            city_name_tmp = \"Bochum\"\n",
    "        if club_name_tmp == \"KFC Uerdingen 05Uerdingen\":\n",
    "            club_name_tmp = \"KFC Uerdingen 05\"\n",
    "            city_name_tmp = \"Uerdingen\"\n",
    "        if club_name_tmp == \"FC St.  PauliSt.\":   \n",
    "            club_name_tmp = \"FC St. Pauli\"\n",
    "            city_name_tmp = \"St. Pauli\"\n",
    "        if club_name_tmp == \"Tennis Borussia BerlinTB\":\n",
    "            club_name_tmp = \"Tennis Borussia Berlin\"\n",
    "            city_name_tmp = \"TB Berlin\"\n",
    "        if club_name_tmp == \"Fortuna KölnFortuna\":\n",
    "            club_name_tmp = \"Fortuna Köln\"\n",
    "            city_name_tmp = \"Köln\"\n",
    "        if club_name_tmp == \"Blau-Weiß 90 BerlinBW90\":\n",
    "            club_name_tmp = \"Blau-Weiß 90 Berlin\"\n",
    "            city_name_tmp = \"Berlin\"\n",
    "        if club_name_tmp == \"Stuttgarter KickersSt.\":\n",
    "            club_name_tmp = \"Stuttgarter Kickers\"\n",
    "            city_name_tmp = \"Stuttgart\"\n",
    "        if club_name_tmp == \"1.  FC Lokomotive LeipzigLok\":\n",
    "            club_name_tmp = \"1.  FC Lokomotive Leipzig\"\n",
    "            city_name_tmp = \"Leipzig\"\n",
    "        if club_name_tmp == \"FC Ingolstadt 04FC\":\n",
    "            club_name_tmp = \"FC  Ingolstadt 04\"\n",
    "            city_name_tmp = \"Ingolstadt\"\n",
    "        if club_name_tmp == \"RB LeipzigRB\":\n",
    "            print(\"found\")\n",
    "            club_name_tmp = \"RB Leipzig\"\n",
    "            city_name_tmp = \"Leipzig\"\n",
    "        if club_name_tmp == \"1.  FC Union BerlinUnion\":\n",
    "            club_name_tmp = \"1.  FC Union Berlin\"\n",
    "            city_name_tmp = \"Berlin\"\n",
    "\n",
    "\n",
    "            \n",
    "        lst_club_name.append(club_name_tmp)\n",
    "        lst_city_name.append(city_name_tmp)\n",
    "\n",
    "    # print('Year: ', year)\n",
    "    df_eternal_tmp = pd.DataFrame(columns=lst_club_name)\n",
    "    df_eternal_tmp.loc[str(year), :] = list(points)    \n",
    "    df_eternal = df_eternal.append(df_eternal_tmp)\n",
    "    # print('lst_club_name: ', lst_club_name)\n",
    "    # print(df_eternal)"
   ]
  },
  {
   "cell_type": "code",
   "execution_count": 33,
   "metadata": {},
   "outputs": [],
   "source": [
    "df_eternal = df_eternal.fillna(0)"
   ]
  },
  {
   "cell_type": "code",
   "execution_count": 34,
   "metadata": {},
   "outputs": [],
   "source": [
    "pd.set_option('display.max_rows', None)\n",
    "pd.set_option('display.max_columns', 500)\n",
    "pd.set_option('display.width', 1000)"
   ]
  },
  {
   "cell_type": "code",
   "execution_count": 35,
   "metadata": {},
   "outputs": [
    {
     "data": {
      "text/plain": [
       "1964      38\n",
       "1965      94\n",
       "1966     160\n",
       "1967     199\n",
       "1968     261\n",
       "1969     309\n",
       "1970     350\n",
       "1971     394\n",
       "1972     436\n",
       "1973     479\n",
       "1974     519\n",
       "1975     553\n",
       "1976     594\n",
       "1977     640\n",
       "1978     684\n",
       "1979     725\n",
       "1980     761\n",
       "1981     761\n",
       "1982     820\n",
       "1983     895\n",
       "1984     959\n",
       "1985    1023\n",
       "1986    1092\n",
       "1987    1149\n",
       "1988    1223\n",
       "1989    1285\n",
       "1990    1329\n",
       "1991    1385\n",
       "1992    1434\n",
       "1993    1501\n",
       "1994    1550\n",
       "1995    1618\n",
       "1996    1662\n",
       "1997    1710\n",
       "1998    1760\n",
       "1999    1798\n",
       "2000    1845\n",
       "2001    1898\n",
       "2002    1954\n",
       "2003    2006\n",
       "2004    2080\n",
       "2005    2139\n",
       "2006    2209\n",
       "2007    2275\n",
       "2008    2341\n",
       "2009    2386\n",
       "2010    2447\n",
       "2011    2488\n",
       "2012    2530\n",
       "2013    2564\n",
       "2014    2603\n",
       "2015    2646\n",
       "2016    2684\n",
       "2017    2729\n",
       "2018    2771\n",
       "2019    2824\n",
       "2020    2855\n",
       "2021    2886\n",
       "2022    2886\n",
       "2023    2921\n",
       "Name: SV Werder Bremen, dtype: object"
      ]
     },
     "execution_count": 35,
     "metadata": {},
     "output_type": "execute_result"
    }
   ],
   "source": [
    "df_eternal[\"SV Werder Bremen\"]"
   ]
  },
  {
   "cell_type": "code",
   "execution_count": 16,
   "metadata": {},
   "outputs": [],
   "source": [
    "# 1964 --> 1963/1964\n",
    "\n",
    "url = \"https://www.fussballdaten.de/bundesliga/1964/ewige-tabelle/\"\n",
    "site_1964 = requests.get(url)\n",
    "import re\n",
    "bs=BeautifulSoup(site_1964.content, \"lxml\")\n",
    "table_body=bs.find('tbody')\n",
    "rows = table_body.find_all('tr')\n",
    "teams = []\n",
    "points = []\n",
    "for row in rows[:]:\n",
    "    cols=row.find_all('td')\n",
    "    cols=[x.text.strip(' ') for x in cols]\n",
    "    # print(cols)\n",
    "    test_string = cols[1]\n",
    "    points.append(cols[-1])\n",
    "    team_string = re.split(r'Bundesliga|2. Bundesliga|3. Liga|Regionalliga West', test_string)\n",
    "    # print(team_string[0])\n",
    "    teams.append(team_string[0])\n",
    "\n",
    "lst_club_name = []\n",
    "ls_city_name = []\n",
    "for team in teams:\n",
    "    # Find the index of the city name without the club name\n",
    "    for i in range(len(team)-1, -1, -1):\n",
    "        if team[i].isupper() and team[i+1:].lower() == team[i+1:]:\n",
    "            city_index = i\n",
    "            break\n",
    "    else:\n",
    "        # If no match is found, skip this team\n",
    "        continue\n",
    "\n",
    "    # Get the club name and format it\n",
    "    club_name_tmp = team[:city_index].replace(\".\", \". \").strip()\n",
    "    city_name_tmp = team[city_index:].strip()\n",
    "    if club_name_tmp == \"TSV 1860 MünchenTS\":\n",
    "        club_name_tmp = \"TSV 1860 München\"\n",
    "        city_name_tmp = \"TSV 1860\"\n",
    "    if club_name_tmp == \"Hertha BSCHertha BS\":\n",
    "        club_name_tmp = \"Hertha BSC\"\n",
    "        city_name_tmp = \"Hertha BSC\"\n",
    "        \n",
    "    lst_club_name.append(club_name_tmp)\n",
    "    ls_city_name.append(city_name_tmp)\n",
    "\n",
    "#     split_string2 = split_string1[0].split('Frankfurt')\n",
    "# #\n",
    "#     # print(test_string)\n",
    "#     # print(split_string1)\n",
    "#     print(type(split_string1[0]))\n",
    "#     print(split_string2)"
   ]
  },
  {
   "cell_type": "code",
   "execution_count": null,
   "metadata": {},
   "outputs": [],
   "source": []
  }
 ],
 "metadata": {
  "kernelspec": {
   "display_name": "pyside2_dev",
   "language": "python",
   "name": "python3"
  },
  "language_info": {
   "codemirror_mode": {
    "name": "ipython",
    "version": 3
   },
   "file_extension": ".py",
   "mimetype": "text/x-python",
   "name": "python",
   "nbconvert_exporter": "python",
   "pygments_lexer": "ipython3",
   "version": "3.10.6"
  },
  "orig_nbformat": 4
 },
 "nbformat": 4,
 "nbformat_minor": 2
}
