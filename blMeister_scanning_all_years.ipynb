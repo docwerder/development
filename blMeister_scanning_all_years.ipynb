{
 "cells": [
  {
   "attachments": {},
   "cell_type": "markdown",
   "metadata": {},
   "source": [
    "Script for getting the eternal table for all years..."
   ]
  },
  {
   "cell_type": "code",
   "execution_count": null,
   "metadata": {},
   "outputs": [],
   "source": [
    "from bs4 import BeautifulSoup\n",
    "import requests\n",
    "import pandas as pd\n",
    "import re\n",
    "import warnings\n",
    "import ipyvolume as ipv\n",
    "import numpy as np\n",
    "warnings.filterwarnings(\"ignore\")\n",
    "pd.set_option('display.max_rows', None)\n",
    "pd.set_option('display.max_columns', 500)\n",
    "pd.set_option('display.width', 1000)\n"
   ]
  },
  {
   "attachments": {},
   "cell_type": "markdown",
   "metadata": {},
   "source": [
    "Building the years"
   ]
  },
  {
   "cell_type": "code",
   "execution_count": null,
   "metadata": {},
   "outputs": [],
   "source": [
    "from tabulate import tabulate\n",
    "df_eternal = pd.DataFrame()\n",
    "years = range(1964, 2024)\n",
    "for year in years[:]:\n",
    "    url = f\"https://www.fussballdaten.de/bundesliga/{str(year)}/ewige-tabelle/\"\n",
    "    site = requests.get(url)\n",
    "    bs=BeautifulSoup(site.content, \"lxml\")\n",
    "    table_body=bs.find('tbody')\n",
    "    rows = table_body.find_all('tr')\n",
    "    teams = []\n",
    "    points = []\n",
    "    for row in rows[:]:\n",
    "        cols=row.find_all('td')\n",
    "        cols=[x.text.strip(' ') for x in cols]\n",
    "        # print(cols)\n",
    "        test_string = cols[1]\n",
    "        points.append(cols[-1])\n",
    "        team_string = re.split(r'Bundesliga|2. Bundesliga|3. Liga|Regionalliga West|Oberliga NOFV-Nord|Regionalliga|Oberliga Baden-|Oberliga Niederrhein', test_string)\n",
    "        # print(team_string[0])\n",
    "        teams.append(team_string[0])\n",
    "\n",
    "    lst_club_name = []\n",
    "    lst_city_name = []\n",
    "    for team in teams:\n",
    "        # Find the index of the city name without the club name\n",
    "        for i in range(len(team)-1, -1, -1):\n",
    "            if team[i].isupper() and team[i+1:].lower() == team[i+1:]:\n",
    "                city_index = i\n",
    "                break\n",
    "        else:\n",
    "            # If no match is found, skip this team\n",
    "            continue\n",
    "\n",
    "        # Get the club name and format it\n",
    "        club_name_tmp = team[:city_index].replace(\".\", \". \").strip()\n",
    "        city_name_tmp = team[city_index:].strip()\n",
    "        # print(club_name_tmp)\n",
    "        if club_name_tmp == \"TSV 1860 MünchenTS\":\n",
    "            club_name_tmp = \"TSV 1860 München\"\n",
    "            city_name_tmp = \"TSV 1860\"\n",
    "        if club_name_tmp == \"Hertha BSCHertha BS\":\n",
    "            club_name_tmp = \"Hertha BSC\"\n",
    "            city_name_tmp = \"Hertha BSC\"\n",
    "        if club_name_tmp == \"SV Tasmania BerlinSV\":\n",
    "            club_name_tmp = \"SV Tasmania Berlin\"\n",
    "            city_name_tmp = \"SV Tasmania\"\n",
    "        if club_name_tmp == \"Rot-Weiss EssenRW\":\n",
    "            club_name_tmp = \"RW Essen\"\n",
    "            city_name_tmp = \"Essen\"\n",
    "        if club_name_tmp == \"VfL BochumVfL\":\n",
    "            club_name_tmp = \"VFL Bochum\"\n",
    "            city_name_tmp = \"Bochum\"\n",
    "        if club_name_tmp == \"KFC Uerdingen 05Uerdingen\":\n",
    "            club_name_tmp = \"KFC Uerdingen 05\"\n",
    "            city_name_tmp = \"Uerdingen\"\n",
    "        if club_name_tmp == \"FC St.  PauliSt.\":   \n",
    "            club_name_tmp = \"FC St. Pauli\"\n",
    "            city_name_tmp = \"St. Pauli\"\n",
    "        if club_name_tmp == \"Tennis Borussia BerlinTB\":\n",
    "            club_name_tmp = \"Tennis Borussia Berlin\"\n",
    "            city_name_tmp = \"TB Berlin\"\n",
    "        if club_name_tmp == \"Fortuna KölnFortuna\":\n",
    "            club_name_tmp = \"Fortuna Köln\"\n",
    "            city_name_tmp = \"Köln\"\n",
    "        if club_name_tmp == \"Blau-Weiß 90 BerlinBW90\":\n",
    "            club_name_tmp = \"Blau-Weiß 90 Berlin\"\n",
    "            city_name_tmp = \"Berlin\"\n",
    "        if club_name_tmp == \"Stuttgarter KickersSt.\":\n",
    "            club_name_tmp = \"Stuttgarter Kickers\"\n",
    "            city_name_tmp = \"Stuttgart\"\n",
    "        if club_name_tmp == \"1.  FC Lokomotive LeipzigLok\":\n",
    "            club_name_tmp = \"1.  FC Lokomotive Leipzig\"\n",
    "            city_name_tmp = \"Leipzig\"\n",
    "        if club_name_tmp == \"FC Ingolstadt 04FC\":\n",
    "            club_name_tmp = \"FC  Ingolstadt 04\"\n",
    "            city_name_tmp = \"Ingolstadt\"\n",
    "        if club_name_tmp == \"RB LeipzigRB\":\n",
    "            # print(\"found\")\n",
    "            club_name_tmp = \"RB Leipzig\"\n",
    "            city_name_tmp = \"Leipzig\"\n",
    "        if club_name_tmp == \"1.  FC Union BerlinUnion\":\n",
    "            club_name_tmp = \"1.  FC Union Berlin\"\n",
    "            city_name_tmp = \"Berlin\"\n",
    "\n",
    "\n",
    "            \n",
    "        lst_club_name.append(club_name_tmp)\n",
    "        lst_city_name.append(city_name_tmp)\n",
    "\n",
    "    print('Year: ', year)\n",
    "    df_eternal_tmp = pd.DataFrame(columns=lst_club_name)\n",
    "    df_eternal_tmp.loc[str(year), :] = list(points)\n",
    "    # print(tabulate(df_eternal_tmp.head(), headers='keys', tablefmt='psql'))\n",
    "    # print(f\"df_eternal_tem: {df_eternal_tmp.head()}\")    \n",
    "    df_eternal = df_eternal.append(df_eternal_tmp)\n",
    "    df_eternal = df_eternal.fillna(0)\n",
    "    # print('lst_club_name: ', lst_club_name)\n",
    "    # print(df_eternal)"
   ]
  },
  {
   "cell_type": "code",
   "execution_count": null,
   "metadata": {},
   "outputs": [],
   "source": [
    "df_eternal.to_csv('blMeister_all_years.csv')"
   ]
  },
  {
   "cell_type": "code",
   "execution_count": null,
   "metadata": {},
   "outputs": [],
   "source": [
    "# 1964 --> 1963/1964\n",
    "\n",
    "url = \"https://www.fussballdaten.de/bundesliga/1964/ewige-tabelle/\"\n",
    "site_1964 = requests.get(url)\n",
    "import re\n",
    "bs=BeautifulSoup(site_1964.content, \"lxml\")\n",
    "table_body=bs.find('tbody')\n",
    "rows = table_body.find_all('tr')\n",
    "teams = []\n",
    "points = []\n",
    "for row in rows[:]:\n",
    "    cols=row.find_all('td')\n",
    "    cols=[x.text.strip(' ') for x in cols]\n",
    "    # print(cols)\n",
    "    test_string = cols[1]\n",
    "    points.append(cols[-1])\n",
    "    team_string = re.split(r'Bundesliga|2. Bundesliga|3. Liga|Regionalliga West', test_string)\n",
    "    # print(team_string[0])\n",
    "    teams.append(team_string[0])\n",
    "\n",
    "lst_club_name = []\n",
    "ls_city_name = []\n",
    "for team in teams:\n",
    "    # Find the index of the city name without the club name\n",
    "    for i in range(len(team)-1, -1, -1):\n",
    "        if team[i].isupper() and team[i+1:].lower() == team[i+1:]:\n",
    "            city_index = i\n",
    "            break\n",
    "    else:\n",
    "        # If no match is found, skip this team\n",
    "        continue\n",
    "\n",
    "    # Get the club name and format it\n",
    "    club_name_tmp = team[:city_index].replace(\".\", \". \").strip()\n",
    "    city_name_tmp = team[city_index:].strip()\n",
    "    if club_name_tmp == \"TSV 1860 MünchenTS\":\n",
    "        club_name_tmp = \"TSV 1860 München\"\n",
    "        city_name_tmp = \"TSV 1860\"\n",
    "    if club_name_tmp == \"Hertha BSCHertha BS\":\n",
    "        club_name_tmp = \"Hertha BSC\"\n",
    "        city_name_tmp = \"Hertha BSC\"\n",
    "        \n",
    "    lst_club_name.append(club_name_tmp)\n",
    "    ls_city_name.append(city_name_tmp)\n",
    "\n",
    "#     split_string2 = split_string1[0].split('Frankfurt')\n",
    "# #\n",
    "#     # print(test_string)\n",
    "#     # print(split_string1)\n",
    "#     print(type(split_string1[0]))\n",
    "#     print(split_string2)"
   ]
  },
  {
   "cell_type": "code",
   "execution_count": null,
   "metadata": {},
   "outputs": [],
   "source": [
    "df_eternal.insert(0, \"Saison\", list(df_eternal.index))"
   ]
  },
  {
   "cell_type": "code",
   "execution_count": null,
   "metadata": {},
   "outputs": [],
   "source": [
    "df_eternal.to_csv('blMeister_all_years.csv', index=False)"
   ]
  },
  {
   "cell_type": "code",
   "execution_count": null,
   "metadata": {},
   "outputs": [],
   "source": [
    "del df_eternal.index"
   ]
  },
  {
   "cell_type": "code",
   "execution_count": null,
   "metadata": {},
   "outputs": [],
   "source": [
    "import ipyvolume as ipv\n",
    "import numpy as np"
   ]
  },
  {
   "cell_type": "code",
   "execution_count": null,
   "metadata": {},
   "outputs": [],
   "source": [
    "# create 2d grids: x, y, and r\n",
    "u = np.linspace(-10, 10, 25)\n",
    "x, y = np.meshgrid(u, u)\n",
    "r = np.sqrt(x**2+y**2)\n",
    "print(\"x,y and z are of shape\", x.shape)\n",
    "# and turn them into 1d\n",
    "x = x.flatten()\n",
    "y = y.flatten()\n",
    "r = r.flatten()\n",
    "print(\"and flattened of shape\", x.shape)\n",
    "time = np.linspace(0, np.pi*2, 15)\n",
    "z = np.array([(np.cos(r + t) * np.exp(-r/5)) for t in time])\n",
    "print(\"z is of shape\", z.shape)"
   ]
  },
  {
   "cell_type": "code",
   "execution_count": null,
   "metadata": {},
   "outputs": [],
   "source": [
    "\n",
    "# draw the scatter plot, and add controls with animate_glyphs\n",
    "ipv.figure()\n",
    "s = ipv.scatter(x, z, y, marker=\"sphere\")\n",
    "ipv.animation_control(s, interval=200)\n",
    "ipv.ylim(-3,3)\n",
    "ipv.show()"
   ]
  },
  {
   "cell_type": "code",
   "execution_count": null,
   "metadata": {},
   "outputs": [],
   "source": [
    "import numpy as np\n",
    "import ipyvolume as ipv\n",
    "V = np.zeros((128,128,128)) # our 3d array\n",
    "# outer box\n",
    "V[30:-30,30:-30,30:-30] = 0.75\n",
    "V[35:-35,35:-35,35:-35] = 0.0\n",
    "# inner box\n",
    "V[50:-50,50:-50,50:-50] = 0.25\n",
    "V[55:-55,55:-55,55:-55] = 0.0\n",
    "ipv.quickvolshow(V, level=[0.25, 0.75], opacity=0.03, level_width=0.1, data_min=0, data_max=1)"
   ]
  },
  {
   "cell_type": "code",
   "execution_count": null,
   "metadata": {},
   "outputs": [],
   "source": [
    "import pandas as pd\n",
    "pd.set_option('display.max_rows', None)\n",
    "pd.set_option('display.max_columns', 500)\n",
    "pd.set_option('display.width', 1000)\n"
   ]
  },
  {
   "cell_type": "code",
   "execution_count": 44,
   "metadata": {},
   "outputs": [],
   "source": [
    "import pandas as pd\n",
    "selected_year = 1987\n",
    "df = pd.read_csv(r\"/Users/joerg/repos/development/blMeister_all_years.csv\", index_col=False)\n",
    "df = df.reset_index(drop=True)\n",
    "\n",
    "selected_row = df[df[\"Saison\"] == selected_year].squeeze()\n",
    "selected_row_1 = df[df[\"Saison\"] == selected_year]"
   ]
  },
  {
   "cell_type": "code",
   "execution_count": 48,
   "metadata": {},
   "outputs": [
    {
     "data": {
      "text/plain": [
       "1161"
      ]
     },
     "execution_count": 48,
     "metadata": {},
     "output_type": "execute_result"
    }
   ],
   "source": [
    "selected_row[\"Eintracht Frankfurt\"]"
   ]
  },
  {
   "cell_type": "code",
   "execution_count": 47,
   "metadata": {},
   "outputs": [
    {
     "data": {
      "text/html": [
       "<div>\n",
       "<style scoped>\n",
       "    .dataframe tbody tr th:only-of-type {\n",
       "        vertical-align: middle;\n",
       "    }\n",
       "\n",
       "    .dataframe tbody tr th {\n",
       "        vertical-align: top;\n",
       "    }\n",
       "\n",
       "    .dataframe thead th {\n",
       "        text-align: right;\n",
       "    }\n",
       "</style>\n",
       "<table border=\"1\" class=\"dataframe\">\n",
       "  <thead>\n",
       "    <tr style=\"text-align: right;\">\n",
       "      <th></th>\n",
       "      <th>Saison</th>\n",
       "      <th>1.  FC Köln</th>\n",
       "      <th>Eintracht Frankfurt</th>\n",
       "      <th>MSV Duisburg</th>\n",
       "      <th>Borussia Dortmund</th>\n",
       "      <th>VfB Stuttgart</th>\n",
       "      <th>Hamburger SV</th>\n",
       "      <th>TSV 1860 München</th>\n",
       "      <th>FC Schalke 04</th>\n",
       "      <th>1.  FC Nürnberg</th>\n",
       "      <th>...</th>\n",
       "      <th>SSV Ulm 1846</th>\n",
       "      <th>FC Energie Cottbus</th>\n",
       "      <th>1.  FSV Mainz 05</th>\n",
       "      <th>1899 Hoffenheim</th>\n",
       "      <th>FC Augsburg</th>\n",
       "      <th>SpVgg Greuther Fürth</th>\n",
       "      <th>SC Paderborn 07</th>\n",
       "      <th>FC  Ingolstadt 04</th>\n",
       "      <th>RB Leipzig</th>\n",
       "      <th>1.  FC Union Berlin</th>\n",
       "    </tr>\n",
       "  </thead>\n",
       "  <tbody>\n",
       "    <tr>\n",
       "      <th>23</th>\n",
       "      <td>1987</td>\n",
       "      <td>1314</td>\n",
       "      <td>1161</td>\n",
       "      <td>818</td>\n",
       "      <td>940</td>\n",
       "      <td>1115</td>\n",
       "      <td>1293</td>\n",
       "      <td>449</td>\n",
       "      <td>990</td>\n",
       "      <td>543</td>\n",
       "      <td>...</td>\n",
       "      <td>0</td>\n",
       "      <td>0</td>\n",
       "      <td>0</td>\n",
       "      <td>0</td>\n",
       "      <td>0</td>\n",
       "      <td>0</td>\n",
       "      <td>0</td>\n",
       "      <td>0</td>\n",
       "      <td>0</td>\n",
       "      <td>0</td>\n",
       "    </tr>\n",
       "  </tbody>\n",
       "</table>\n",
       "<p>1 rows × 57 columns</p>\n",
       "</div>"
      ],
      "text/plain": [
       "    Saison  1.  FC Köln  Eintracht Frankfurt  MSV Duisburg  Borussia Dortmund  \\\n",
       "23    1987         1314                 1161           818                940   \n",
       "\n",
       "    VfB Stuttgart  Hamburger SV  TSV 1860 München  FC Schalke 04  \\\n",
       "23           1115          1293               449            990   \n",
       "\n",
       "    1.  FC Nürnberg  ...  SSV Ulm 1846  FC Energie Cottbus  1.  FSV Mainz 05  \\\n",
       "23              543  ...             0                   0                 0   \n",
       "\n",
       "    1899 Hoffenheim  FC Augsburg  SpVgg Greuther Fürth  SC Paderborn 07  \\\n",
       "23                0            0                     0                0   \n",
       "\n",
       "    FC  Ingolstadt 04  RB Leipzig  1.  FC Union Berlin  \n",
       "23                  0           0                    0  \n",
       "\n",
       "[1 rows x 57 columns]"
      ]
     },
     "execution_count": 47,
     "metadata": {},
     "output_type": "execute_result"
    }
   ],
   "source": [
    "selected_row_1"
   ]
  },
  {
   "cell_type": "code",
   "execution_count": 2,
   "metadata": {},
   "outputs": [
    {
     "data": {
      "text/plain": [
       "3836.5200000000004"
      ]
     },
     "execution_count": 2,
     "metadata": {},
     "output_type": "execute_result"
    }
   ],
   "source": [
    "4106.64-283.41+13.29"
   ]
  },
  {
   "cell_type": "code",
   "execution_count": 3,
   "metadata": {},
   "outputs": [
    {
     "data": {
      "text/plain": [
       "114.13"
      ]
     },
     "execution_count": 3,
     "metadata": {},
     "output_type": "execute_result"
    }
   ],
   "source": [
    "74.85+39.28"
   ]
  },
  {
   "cell_type": "code",
   "execution_count": null,
   "metadata": {},
   "outputs": [],
   "source": []
  }
 ],
 "metadata": {
  "kernelspec": {
   "display_name": "dev_env",
   "language": "python",
   "name": "python3"
  },
  "language_info": {
   "codemirror_mode": {
    "name": "ipython",
    "version": 3
   },
   "file_extension": ".py",
   "mimetype": "text/x-python",
   "name": "python",
   "nbconvert_exporter": "python",
   "pygments_lexer": "ipython3",
   "version": "3.10.6"
  },
  "orig_nbformat": 4,
  "vscode": {
   "interpreter": {
    "hash": "49b32e718d396453da74a87fcbdef4c593c9ec438ad1347297e2038d8db89ee5"
   }
  }
 },
 "nbformat": 4,
 "nbformat_minor": 2
}
