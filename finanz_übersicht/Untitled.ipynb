{
 "cells": [
  {
   "cell_type": "code",
   "execution_count": 1,
   "id": "6be36a6d",
   "metadata": {},
   "outputs": [],
   "source": [
    "import json"
   ]
  },
  {
   "cell_type": "code",
   "execution_count": 2,
   "id": "2bf20207",
   "metadata": {},
   "outputs": [
    {
     "name": "stdout",
     "output_type": "stream",
     "text": [
      "Data:  {'Id': '706185894', 'AcctId': '548249525', 'OwnrAcctCcy': 'EUR', 'OwnrAcctIBAN': 'DE19266500011180147058', 'OwnrAcctNo': '1180147058', 'OwnrAcctBIC': 'NOLADE21EMS', 'OwnrAcctBankCode': '26650001', 'BookgDt': '2022-05-02', 'ValDt': '2022-04-30', 'Amt': '3.95', 'AmtCcy': 'EUR', 'CdtDbtInd': 'DBIT', 'RmtInf': 'Entgeltabrechnung          siehe Anlage', 'BookgTxt': 'ENTGELTABSCHLUSS', 'PrimaNotaNo': '6666', 'BkTxCd': 'NCHG', 'RmtdAcctCtry': 'DE', 'RmtdAcctNo': '0000000000', 'RmtdAcctBankCode': '26650001', 'BookgSts': 'BOOK', 'GVC': '809', 'Category': 'Konsumkosten:Kontoführung', 'ReadStatus': False, 'Flag': 'OK'}\n"
     ]
    }
   ],
   "source": [
    "with open('test_buchungen.json') as json_file:\n",
    "    data = json.load(json_file)\n",
    "    \n",
    "    print(\"Data: \", data[0])"
   ]
  },
  {
   "cell_type": "code",
   "execution_count": 3,
   "id": "484e9b20",
   "metadata": {},
   "outputs": [
    {
     "name": "stdout",
     "output_type": "stream",
     "text": [
      "Data:  {'Id': '706185895', 'AcctId': '548249525', 'OwnrAcctCcy': 'EUR', 'OwnrAcctIBAN': 'DE19266500011180147058', 'OwnrAcctNo': '1180147058', 'OwnrAcctBIC': 'NOLADE21EMS', 'OwnrAcctBankCode': '26650001', 'BookgDt': '2022-05-02', 'ValDt': '2022-05-01', 'Amt': '100.00', 'AmtCcy': 'EUR', 'CdtDbtInd': 'DBIT', 'RmtInf': 'Sparrate 4585261755', 'BookgTxt': 'SONSTIGE BELASTUNGSBUCHUNG', 'PrimaNotaNo': '7035', 'BkTxCd': 'NMSC', 'RmtdNm': 'Jörg Wilhelm Wingbermühle Karin    Maria Wingbermühle', 'RmtdAcctCtry': 'DE', 'RmtdAcctIBAN': 'DE07266500014585261755', 'RmtdAcctBIC': 'NOLADE21EMS', 'BookgSts': 'BOOK', 'GVC': '835', 'Category': 'Sparrate:Prämiensparen Jörg+Karin', 'ReadStatus': False, 'Flag': 'OK'}\n"
     ]
    }
   ],
   "source": [
    "print(\"Data: \", data[1])"
   ]
  },
  {
   "cell_type": "code",
   "execution_count": 11,
   "id": "b2d730bf",
   "metadata": {},
   "outputs": [],
   "source": [
    "betrag = []\n",
    "kategorie = []\n",
    "abbucher = []\n",
    "datum = []\n",
    "for lf in range(len(data)):\n",
    "    try:  \n",
    "        betrag_tmp = data[lf]['Amt']\n",
    "    except:  \n",
    "        print(\"key error: Amt does not contain in dictionary value!\") \n",
    "        data[lf]['Amt'] = 'No value'\n",
    "    \n",
    "    try:  \n",
    "        kategorie_tmp = data[lf]['Category']\n",
    "    except:  \n",
    "        print(\"key error: Category does not contain in dictionary value!\") \n",
    "        data[lf]['Category'] = 'No value'\n",
    "    \n",
    "    try:  \n",
    "        abbucher_tmp = data[lf]['RmtdNm']\n",
    "    except:  \n",
    "        print(\"key error: RmtdNm does not contain in dictionary value!\") \n",
    "        data[lf]['RmtdNm'] = 'No value'\n",
    "    \n",
    "    try:  \n",
    "        datum_tmp = data[lf]['ValDt']\n",
    "    except:  \n",
    "        print(\"key error: ValDt does not contain in dictionary value!\") \n",
    "        data[lf]['ValDt'] = 'No value'\n",
    "    \n",
    "    \n",
    "    \n",
    "#     kategorie_tmp = data[lf]['Category']\n",
    "#         kategorie.append(kategorie_tmp)\n",
    "#         abbucher_tmp = data[lf]['RmtdNm']\n",
    "#         abbucher.append(abbucher_tmp)\n",
    "#         datum_tmp = data[lf]['ValDt']\n",
    "#         datum.append(datum_tmp)\n",
    "        \n",
    "#         #print(data[lf]['Category'])  \n",
    "  \n",
    "    betrag_tmp = data[lf]['Amt']\n",
    "    betrag.append(betrag_tmp)\n",
    "    kategorie_tmp = data[lf]['Category']\n",
    "    kategorie.append(kategorie_tmp)\n",
    "    abbucher_tmp = data[lf]['RmtdNm']\n",
    "    abbucher.append(abbucher_tmp)\n",
    "    datum_tmp = data[lf]['ValDt']\n",
    "    datum.append(datum_tmp)\n",
    "    #print(data[lf])\n",
    "    #print(datum_tmp)"
   ]
  },
  {
   "cell_type": "code",
   "execution_count": 12,
   "id": "2059c887",
   "metadata": {},
   "outputs": [
    {
     "data": {
      "text/plain": [
       "106"
      ]
     },
     "execution_count": 12,
     "metadata": {},
     "output_type": "execute_result"
    }
   ],
   "source": [
    "len(betrag)"
   ]
  },
  {
   "cell_type": "code",
   "execution_count": 13,
   "id": "43241bf9",
   "metadata": {},
   "outputs": [],
   "source": [
    "uebersicht_tmp = {'Datum': list(datum), 'Abbucher': list(abbucher), 'Kategorie': list(kategorie), 'Betrag': list(betrag),}"
   ]
  },
  {
   "cell_type": "code",
   "execution_count": 14,
   "id": "c6024405",
   "metadata": {},
   "outputs": [
    {
     "data": {
      "text/plain": [
       "106"
      ]
     },
     "execution_count": 14,
     "metadata": {},
     "output_type": "execute_result"
    }
   ],
   "source": [
    "len(list(betrag))"
   ]
  },
  {
   "cell_type": "code",
   "execution_count": null,
   "id": "e8752eb5",
   "metadata": {},
   "outputs": [],
   "source": []
  },
  {
   "cell_type": "code",
   "execution_count": 15,
   "id": "2d225627",
   "metadata": {},
   "outputs": [],
   "source": [
    "import pandas as pd\n",
    "uebersicht = pd.DataFrame(uebersicht_tmp)"
   ]
  },
  {
   "cell_type": "code",
   "execution_count": 16,
   "id": "9b7f3e4a",
   "metadata": {},
   "outputs": [
    {
     "data": {
      "text/html": [
       "<div>\n",
       "<style scoped>\n",
       "    .dataframe tbody tr th:only-of-type {\n",
       "        vertical-align: middle;\n",
       "    }\n",
       "\n",
       "    .dataframe tbody tr th {\n",
       "        vertical-align: top;\n",
       "    }\n",
       "\n",
       "    .dataframe thead th {\n",
       "        text-align: right;\n",
       "    }\n",
       "</style>\n",
       "<table border=\"1\" class=\"dataframe\">\n",
       "  <thead>\n",
       "    <tr style=\"text-align: right;\">\n",
       "      <th></th>\n",
       "      <th>Datum</th>\n",
       "      <th>Abbucher</th>\n",
       "      <th>Kategorie</th>\n",
       "      <th>Betrag</th>\n",
       "    </tr>\n",
       "  </thead>\n",
       "  <tbody>\n",
       "    <tr>\n",
       "      <th>0</th>\n",
       "      <td>2022-04-30</td>\n",
       "      <td>No value</td>\n",
       "      <td>Konsumkosten:Kontoführung</td>\n",
       "      <td>3.95</td>\n",
       "    </tr>\n",
       "    <tr>\n",
       "      <th>1</th>\n",
       "      <td>2022-05-01</td>\n",
       "      <td>Jörg Wilhelm Wingbermühle Karin    Maria Wingb...</td>\n",
       "      <td>Sparrate:Prämiensparen Jörg+Karin</td>\n",
       "      <td>100.00</td>\n",
       "    </tr>\n",
       "    <tr>\n",
       "      <th>2</th>\n",
       "      <td>2022-05-02</td>\n",
       "      <td>Entis Lebensversicherung AG                   ...</td>\n",
       "      <td>No value</td>\n",
       "      <td>237.05</td>\n",
       "    </tr>\n",
       "    <tr>\n",
       "      <th>3</th>\n",
       "      <td>2022-05-02</td>\n",
       "      <td>DSL Bank Ndl DB AG                            ...</td>\n",
       "      <td>No value</td>\n",
       "      <td>913.88</td>\n",
       "    </tr>\n",
       "    <tr>\n",
       "      <th>4</th>\n",
       "      <td>2022-05-02</td>\n",
       "      <td>PB Lebensversicherung AG                      ...</td>\n",
       "      <td>Altersvorsorge:Postbank Jörg</td>\n",
       "      <td>111.56</td>\n",
       "    </tr>\n",
       "    <tr>\n",
       "      <th>...</th>\n",
       "      <td>...</td>\n",
       "      <td>...</td>\n",
       "      <td>...</td>\n",
       "      <td>...</td>\n",
       "    </tr>\n",
       "    <tr>\n",
       "      <th>101</th>\n",
       "      <td>2022-06-01</td>\n",
       "      <td>Bonprix</td>\n",
       "      <td>No value</td>\n",
       "      <td>24.94</td>\n",
       "    </tr>\n",
       "    <tr>\n",
       "      <th>102</th>\n",
       "      <td>2022-06-02</td>\n",
       "      <td>AMAZON EU S.A R.L., NIEDERLASSUNG DEUTSCHLAND</td>\n",
       "      <td>Laufende Kosten:Haushalt (Kleinanschaffungen)</td>\n",
       "      <td>425.98</td>\n",
       "    </tr>\n",
       "    <tr>\n",
       "      <th>103</th>\n",
       "      <td>2022-06-03</td>\n",
       "      <td>Neue Osnabruecker Zeitung                     ...</td>\n",
       "      <td>Konsumkosten:Ems-Zeitung</td>\n",
       "      <td>39.90</td>\n",
       "    </tr>\n",
       "    <tr>\n",
       "      <th>104</th>\n",
       "      <td>2022-06-03</td>\n",
       "      <td>Ludgerusschule Rhede</td>\n",
       "      <td>Einnahmen:Kindergeld Till</td>\n",
       "      <td>24.00</td>\n",
       "    </tr>\n",
       "    <tr>\n",
       "      <th>105</th>\n",
       "      <td>2022-06-03</td>\n",
       "      <td>Dr. Jörg Wilhelm Wingbermühle Karin Maria Wing...</td>\n",
       "      <td>Umbuchung</td>\n",
       "      <td>1500.00</td>\n",
       "    </tr>\n",
       "  </tbody>\n",
       "</table>\n",
       "<p>106 rows × 4 columns</p>\n",
       "</div>"
      ],
      "text/plain": [
       "          Datum                                           Abbucher  \\\n",
       "0    2022-04-30                                           No value   \n",
       "1    2022-05-01  Jörg Wilhelm Wingbermühle Karin    Maria Wingb...   \n",
       "2    2022-05-02  Entis Lebensversicherung AG                   ...   \n",
       "3    2022-05-02  DSL Bank Ndl DB AG                            ...   \n",
       "4    2022-05-02  PB Lebensversicherung AG                      ...   \n",
       "..          ...                                                ...   \n",
       "101  2022-06-01                                            Bonprix   \n",
       "102  2022-06-02      AMAZON EU S.A R.L., NIEDERLASSUNG DEUTSCHLAND   \n",
       "103  2022-06-03  Neue Osnabruecker Zeitung                     ...   \n",
       "104  2022-06-03                               Ludgerusschule Rhede   \n",
       "105  2022-06-03  Dr. Jörg Wilhelm Wingbermühle Karin Maria Wing...   \n",
       "\n",
       "                                         Kategorie   Betrag  \n",
       "0                        Konsumkosten:Kontoführung     3.95  \n",
       "1                Sparrate:Prämiensparen Jörg+Karin   100.00  \n",
       "2                                         No value   237.05  \n",
       "3                                         No value   913.88  \n",
       "4                     Altersvorsorge:Postbank Jörg   111.56  \n",
       "..                                             ...      ...  \n",
       "101                                       No value    24.94  \n",
       "102  Laufende Kosten:Haushalt (Kleinanschaffungen)   425.98  \n",
       "103                       Konsumkosten:Ems-Zeitung    39.90  \n",
       "104                      Einnahmen:Kindergeld Till    24.00  \n",
       "105                                      Umbuchung  1500.00  \n",
       "\n",
       "[106 rows x 4 columns]"
      ]
     },
     "execution_count": 16,
     "metadata": {},
     "output_type": "execute_result"
    }
   ],
   "source": [
    "uebersicht"
   ]
  },
  {
   "cell_type": "code",
   "execution_count": null,
   "id": "db34ca11",
   "metadata": {},
   "outputs": [],
   "source": []
  }
 ],
 "metadata": {
  "kernelspec": {
   "display_name": "python38_jl30",
   "language": "python",
   "name": "python38_jl30"
  },
  "language_info": {
   "codemirror_mode": {
    "name": "ipython",
    "version": 3
   },
   "file_extension": ".py",
   "mimetype": "text/x-python",
   "name": "python",
   "nbconvert_exporter": "python",
   "pygments_lexer": "ipython3",
   "version": "3.10.4"
  }
 },
 "nbformat": 4,
 "nbformat_minor": 5
}
