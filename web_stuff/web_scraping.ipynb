{
 "cells": [
  {
   "cell_type": "code",
   "execution_count": 20,
   "metadata": {},
   "outputs": [],
   "source": [
    "from bs4 import BeautifulSoup\n",
    "import requests\n",
    "import csv\n",
    "import re\n",
    "import urllib\n",
    "#https://pics-x.com/pornstar/8237/rebecca-more\n",
    "url = \"https://pics-x.com/gallery/329162/rock-hard-for-her-tits-porn-world/\"\n",
    "url_2 = \"https://pics-x.com/gallery/330057/extra-large-dick-impresses-hardcore-addict-rebecca-moore-in-job-interview-gp778-porn-world\"\n",
    "html = requests.get(url)\n",
    "soup = BeautifulSoup(html.text, 'html.parser')\n",
    "# print(soup.prettify())\n",
    "images = soup.find_all('div', {'class': 'image-container'})\n",
    "lst_images = []\n",
    "for image in images:\n",
    "    # src = image.attrs[\"src\"]\n",
    "    # print(src)\n",
    "    single_image = image.find('img')\n",
    "\n",
    "    lst_images.append(single_image.attrs[\"src\"])\n",
    "    # print(single_image.attrs[\"src\"])"
   ]
  },
  {
   "cell_type": "code",
   "execution_count": 21,
   "metadata": {},
   "outputs": [
    {
     "name": "stdout",
     "output_type": "stream",
     "text": [
      "/users/joerg/repos/development/web_stuff/RM2/rm_pic_0.jpg\n",
      "/users/joerg/repos/development/web_stuff/RM2/rm_pic_1.jpg\n",
      "/users/joerg/repos/development/web_stuff/RM2/rm_pic_2.jpg\n",
      "/users/joerg/repos/development/web_stuff/RM2/rm_pic_3.jpg\n",
      "/users/joerg/repos/development/web_stuff/RM2/rm_pic_4.jpg\n",
      "/users/joerg/repos/development/web_stuff/RM2/rm_pic_5.jpg\n",
      "/users/joerg/repos/development/web_stuff/RM2/rm_pic_6.jpg\n",
      "/users/joerg/repos/development/web_stuff/RM2/rm_pic_7.jpg\n",
      "/users/joerg/repos/development/web_stuff/RM2/rm_pic_8.jpg\n",
      "/users/joerg/repos/development/web_stuff/RM2/rm_pic_9.jpg\n",
      "/users/joerg/repos/development/web_stuff/RM2/rm_pic_10.jpg\n",
      "/users/joerg/repos/development/web_stuff/RM2/rm_pic_11.jpg\n",
      "/users/joerg/repos/development/web_stuff/RM2/rm_pic_12.jpg\n",
      "/users/joerg/repos/development/web_stuff/RM2/rm_pic_13.jpg\n",
      "/users/joerg/repos/development/web_stuff/RM2/rm_pic_14.jpg\n",
      "/users/joerg/repos/development/web_stuff/RM2/rm_pic_15.jpg\n",
      "/users/joerg/repos/development/web_stuff/RM2/rm_pic_16.jpg\n",
      "/users/joerg/repos/development/web_stuff/RM2/rm_pic_17.jpg\n",
      "/users/joerg/repos/development/web_stuff/RM2/rm_pic_18.jpg\n",
      "/users/joerg/repos/development/web_stuff/RM2/rm_pic_19.jpg\n",
      "/users/joerg/repos/development/web_stuff/RM2/rm_pic_20.jpg\n",
      "/users/joerg/repos/development/web_stuff/RM2/rm_pic_21.jpg\n",
      "/users/joerg/repos/development/web_stuff/RM2/rm_pic_22.jpg\n",
      "/users/joerg/repos/development/web_stuff/RM2/rm_pic_23.jpg\n",
      "/users/joerg/repos/development/web_stuff/RM2/rm_pic_24.jpg\n",
      "/users/joerg/repos/development/web_stuff/RM2/rm_pic_25.jpg\n",
      "/users/joerg/repos/development/web_stuff/RM2/rm_pic_26.jpg\n",
      "/users/joerg/repos/development/web_stuff/RM2/rm_pic_27.jpg\n",
      "/users/joerg/repos/development/web_stuff/RM2/rm_pic_28.jpg\n",
      "/users/joerg/repos/development/web_stuff/RM2/rm_pic_29.jpg\n",
      "/users/joerg/repos/development/web_stuff/RM2/rm_pic_30.jpg\n",
      "/users/joerg/repos/development/web_stuff/RM2/rm_pic_31.jpg\n",
      "/users/joerg/repos/development/web_stuff/RM2/rm_pic_32.jpg\n",
      "/users/joerg/repos/development/web_stuff/RM2/rm_pic_33.jpg\n",
      "/users/joerg/repos/development/web_stuff/RM2/rm_pic_34.jpg\n",
      "/users/joerg/repos/development/web_stuff/RM2/rm_pic_35.jpg\n",
      "/users/joerg/repos/development/web_stuff/RM2/rm_pic_36.jpg\n",
      "/users/joerg/repos/development/web_stuff/RM2/rm_pic_37.jpg\n",
      "/users/joerg/repos/development/web_stuff/RM2/rm_pic_38.jpg\n",
      "/users/joerg/repos/development/web_stuff/RM2/rm_pic_39.jpg\n",
      "/users/joerg/repos/development/web_stuff/RM2/rm_pic_40.jpg\n",
      "/users/joerg/repos/development/web_stuff/RM2/rm_pic_41.jpg\n",
      "/users/joerg/repos/development/web_stuff/RM2/rm_pic_42.jpg\n",
      "/users/joerg/repos/development/web_stuff/RM2/rm_pic_43.jpg\n",
      "/users/joerg/repos/development/web_stuff/RM2/rm_pic_44.jpg\n",
      "/users/joerg/repos/development/web_stuff/RM2/rm_pic_45.jpg\n",
      "/users/joerg/repos/development/web_stuff/RM2/rm_pic_46.jpg\n",
      "/users/joerg/repos/development/web_stuff/RM2/rm_pic_47.jpg\n",
      "/users/joerg/repos/development/web_stuff/RM2/rm_pic_48.jpg\n",
      "/users/joerg/repos/development/web_stuff/RM2/rm_pic_49.jpg\n",
      "/users/joerg/repos/development/web_stuff/RM2/rm_pic_50.jpg\n",
      "/users/joerg/repos/development/web_stuff/RM2/rm_pic_51.jpg\n",
      "/users/joerg/repos/development/web_stuff/RM2/rm_pic_52.jpg\n",
      "/users/joerg/repos/development/web_stuff/RM2/rm_pic_53.jpg\n",
      "/users/joerg/repos/development/web_stuff/RM2/rm_pic_54.jpg\n",
      "/users/joerg/repos/development/web_stuff/RM2/rm_pic_55.jpg\n",
      "/users/joerg/repos/development/web_stuff/RM2/rm_pic_56.jpg\n",
      "/users/joerg/repos/development/web_stuff/RM2/rm_pic_57.jpg\n",
      "/users/joerg/repos/development/web_stuff/RM2/rm_pic_58.jpg\n",
      "/users/joerg/repos/development/web_stuff/RM2/rm_pic_59.jpg\n"
     ]
    }
   ],
   "source": [
    "len(lst_images)\n",
    "from pathlib import Path\n",
    "root_folder = Path(r\"/users/joerg/repos/development/web_stuff\")\n",
    "rm_folder = \"RM2\"\n",
    "root_file_name = \"rm_pic_\"\n",
    "for ending in range(len(lst_images)):\n",
    "    file_name_str = root_file_name + str(ending) + \".jpg\"\n",
    "    file_name = Path(file_name_str)\n",
    "    single_file_name = root_folder / rm_folder / file_name\n",
    "    print(single_file_name)\n",
    "\n",
    "    single_img_data = requests.get(lst_images[ending]).content\n",
    "    with open(str(single_file_name), 'wb') as handler:\n",
    "        handler.write(single_img_data)"
   ]
  },
  {
   "cell_type": "code",
   "execution_count": 16,
   "metadata": {},
   "outputs": [],
   "source": [
    "img_data = requests.get(lst_images[1]).content\n",
    "\n",
    "\n",
    "with open('image_name.jpg', 'wb') as handler:\n",
    "    handler.write(img_data)"
   ]
  },
  {
   "cell_type": "code",
   "execution_count": 9,
   "metadata": {},
   "outputs": [
    {
     "data": {
      "text/plain": [
       "'/Users/joerg/repos/development/web_stuff'"
      ]
     },
     "execution_count": 9,
     "metadata": {},
     "output_type": "execute_result"
    }
   ],
   "source": [
    "pwd"
   ]
  },
  {
   "cell_type": "code",
   "execution_count": 8,
   "metadata": {},
   "outputs": [
    {
     "data": {
      "text/plain": [
       "4051.0760000000005"
      ]
     },
     "execution_count": 8,
     "metadata": {},
     "output_type": "execute_result"
    }
   ],
   "source": [
    "20255.38*0.2\n"
   ]
  },
  {
   "cell_type": "code",
   "execution_count": 4,
   "metadata": {},
   "outputs": [
    {
     "data": {
      "text/plain": [
       "3615.585"
      ]
     },
     "execution_count": 4,
     "metadata": {},
     "output_type": "execute_result"
    }
   ],
   "source": [
    "12051.95*0.3"
   ]
  },
  {
   "cell_type": "code",
   "execution_count": 5,
   "metadata": {},
   "outputs": [
    {
     "data": {
      "text/plain": [
       "2410.3900000000003"
      ]
     },
     "execution_count": 5,
     "metadata": {},
     "output_type": "execute_result"
    }
   ],
   "source": [
    "12051.95*0.2"
   ]
  },
  {
   "cell_type": "code",
   "execution_count": null,
   "metadata": {},
   "outputs": [],
   "source": []
  }
 ],
 "metadata": {
  "kernelspec": {
   "display_name": "pyside2_dev",
   "language": "python",
   "name": "python3"
  },
  "language_info": {
   "codemirror_mode": {
    "name": "ipython",
    "version": 3
   },
   "file_extension": ".py",
   "mimetype": "text/x-python",
   "name": "python",
   "nbconvert_exporter": "python",
   "pygments_lexer": "ipython3",
   "version": "3.10.6"
  },
  "orig_nbformat": 4
 },
 "nbformat": 4,
 "nbformat_minor": 2
}
