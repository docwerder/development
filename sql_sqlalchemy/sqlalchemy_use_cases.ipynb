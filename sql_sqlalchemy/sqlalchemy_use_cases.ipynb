{
 "cells": [
  {
   "cell_type": "markdown",
   "metadata": {},
   "source": [
    "### Script for testing and trying sqlalchemy use_cases"
   ]
  },
  {
   "cell_type": "code",
   "execution_count": 1,
   "metadata": {},
   "outputs": [
    {
     "name": "stdout",
     "output_type": "stream",
     "text": [
      "Active environment /Users/joerg/opt/anaconda3/envs/sql_dev/bin/python\n"
     ]
    }
   ],
   "source": [
    "import sys\n",
    "print('Active environment', sys.executable)\n"
   ]
  },
  {
   "cell_type": "code",
   "execution_count": 2,
   "metadata": {},
   "outputs": [],
   "source": [
    "from sqlalchemy import create_engine"
   ]
  },
  {
   "cell_type": "code",
   "execution_count": 3,
   "metadata": {},
   "outputs": [
    {
     "ename": "ModuleNotFoundError",
     "evalue": "No module named '_mysql'",
     "output_type": "error",
     "traceback": [
      "\u001b[0;31m---------------------------------------------------------------------------\u001b[0m",
      "\u001b[0;31mModuleNotFoundError\u001b[0m                       Traceback (most recent call last)",
      "\u001b[1;32m/Users/joerg/repos/development/sql_sqlalchemy/sqlalchemy_use_cases.ipynb Zelle 4\u001b[0m in \u001b[0;36m<cell line: 1>\u001b[0;34m()\u001b[0m\n\u001b[0;32m----> <a href='vscode-notebook-cell:/Users/joerg/repos/development/sql_sqlalchemy/sqlalchemy_use_cases.ipynb#W3sZmlsZQ%3D%3D?line=0'>1</a>\u001b[0m \u001b[39mimport\u001b[39;00m \u001b[39m_mysql\u001b[39;00m\n",
      "\u001b[0;31mModuleNotFoundError\u001b[0m: No module named '_mysql'"
     ]
    }
   ],
   "source": [
    "import _mysql"
   ]
  },
  {
   "cell_type": "code",
   "execution_count": 4,
   "metadata": {},
   "outputs": [
    {
     "ename": "NameError",
     "evalue": "name '_mysql' is not defined",
     "output_type": "error",
     "traceback": [
      "\u001b[0;31m---------------------------------------------------------------------------\u001b[0m",
      "\u001b[0;31mImportError\u001b[0m                               Traceback (most recent call last)",
      "File \u001b[0;32m~/opt/anaconda3/envs/sql_dev/lib/python3.10/site-packages/MySQLdb/__init__.py:18\u001b[0m, in \u001b[0;36m<module>\u001b[0;34m\u001b[0m\n\u001b[1;32m     17\u001b[0m \u001b[39mfrom\u001b[39;00m \u001b[39mMySQLdb\u001b[39;00m\u001b[39m.\u001b[39;00m\u001b[39mrelease\u001b[39;00m \u001b[39mimport\u001b[39;00m version_info\n\u001b[0;32m---> 18\u001b[0m \u001b[39mfrom\u001b[39;00m \u001b[39m.\u001b[39;00m \u001b[39mimport\u001b[39;00m _mysql\n\u001b[1;32m     20\u001b[0m \u001b[39massert\u001b[39;00m version_info \u001b[39m==\u001b[39m _mysql\u001b[39m.\u001b[39mversion_info\n",
      "\u001b[0;31mImportError\u001b[0m: dlopen(/Users/joerg/opt/anaconda3/envs/sql_dev/lib/python3.10/site-packages/MySQLdb/_mysql.cpython-310-darwin.so, 0x0002): symbol not found in flat namespace '_mysql_affected_rows'",
      "\nDuring handling of the above exception, another exception occurred:\n",
      "\u001b[0;31mNameError\u001b[0m                                 Traceback (most recent call last)",
      "\u001b[1;32m/Users/joerg/repos/development/sql_sqlalchemy/sqlalchemy_use_cases.ipynb Zelle 5\u001b[0m in \u001b[0;36m<cell line: 1>\u001b[0;34m()\u001b[0m\n\u001b[0;32m----> <a href='vscode-notebook-cell:/Users/joerg/repos/development/sql_sqlalchemy/sqlalchemy_use_cases.ipynb#W4sZmlsZQ%3D%3D?line=0'>1</a>\u001b[0m engine \u001b[39m=\u001b[39m create_engine(\u001b[39m\"\u001b[39;49m\u001b[39mmariadb:///?User=db_user&;Password=pax123&Database=werderdb&Server=192.168.178.48&Port=3306\u001b[39;49m\u001b[39m\"\u001b[39;49m)\n",
      "File \u001b[0;32m<string>:2\u001b[0m, in \u001b[0;36mcreate_engine\u001b[0;34m(url, **kwargs)\u001b[0m\n",
      "File \u001b[0;32m~/opt/anaconda3/envs/sql_dev/lib/python3.10/site-packages/sqlalchemy/util/deprecations.py:309\u001b[0m, in \u001b[0;36mdeprecated_params.<locals>.decorate.<locals>.warned\u001b[0;34m(fn, *args, **kwargs)\u001b[0m\n\u001b[1;32m    302\u001b[0m     \u001b[39mif\u001b[39;00m m \u001b[39min\u001b[39;00m kwargs:\n\u001b[1;32m    303\u001b[0m         _warn_with_version(\n\u001b[1;32m    304\u001b[0m             messages[m],\n\u001b[1;32m    305\u001b[0m             versions[m],\n\u001b[1;32m    306\u001b[0m             version_warnings[m],\n\u001b[1;32m    307\u001b[0m             stacklevel\u001b[39m=\u001b[39m\u001b[39m3\u001b[39m,\n\u001b[1;32m    308\u001b[0m         )\n\u001b[0;32m--> 309\u001b[0m \u001b[39mreturn\u001b[39;00m fn(\u001b[39m*\u001b[39;49margs, \u001b[39m*\u001b[39;49m\u001b[39m*\u001b[39;49mkwargs)\n",
      "File \u001b[0;32m~/opt/anaconda3/envs/sql_dev/lib/python3.10/site-packages/sqlalchemy/engine/create.py:548\u001b[0m, in \u001b[0;36mcreate_engine\u001b[0;34m(url, **kwargs)\u001b[0m\n\u001b[1;32m    546\u001b[0m         \u001b[39mif\u001b[39;00m k \u001b[39min\u001b[39;00m kwargs:\n\u001b[1;32m    547\u001b[0m             dbapi_args[k] \u001b[39m=\u001b[39m pop_kwarg(k)\n\u001b[0;32m--> 548\u001b[0m     dbapi \u001b[39m=\u001b[39m dialect_cls\u001b[39m.\u001b[39;49mdbapi(\u001b[39m*\u001b[39;49m\u001b[39m*\u001b[39;49mdbapi_args)\n\u001b[1;32m    550\u001b[0m dialect_args[\u001b[39m\"\u001b[39m\u001b[39mdbapi\u001b[39m\u001b[39m\"\u001b[39m] \u001b[39m=\u001b[39m dbapi\n\u001b[1;32m    552\u001b[0m dialect_args\u001b[39m.\u001b[39msetdefault(\u001b[39m\"\u001b[39m\u001b[39mcompiler_linting\u001b[39m\u001b[39m\"\u001b[39m, compiler\u001b[39m.\u001b[39mNO_LINTING)\n",
      "File \u001b[0;32m~/opt/anaconda3/envs/sql_dev/lib/python3.10/site-packages/sqlalchemy/dialects/mysql/mysqldb.py:163\u001b[0m, in \u001b[0;36mMySQLDialect_mysqldb.dbapi\u001b[0;34m(cls)\u001b[0m\n\u001b[1;32m    161\u001b[0m \u001b[39m@classmethod\u001b[39m\n\u001b[1;32m    162\u001b[0m \u001b[39mdef\u001b[39;00m \u001b[39mdbapi\u001b[39m(\u001b[39mcls\u001b[39m):\n\u001b[0;32m--> 163\u001b[0m     \u001b[39mreturn\u001b[39;00m \u001b[39m__import__\u001b[39;49m(\u001b[39m\"\u001b[39;49m\u001b[39mMySQLdb\u001b[39;49m\u001b[39m\"\u001b[39;49m)\n",
      "File \u001b[0;32m~/opt/anaconda3/envs/sql_dev/lib/python3.10/site-packages/MySQLdb/__init__.py:24\u001b[0m, in \u001b[0;36m<module>\u001b[0;34m\u001b[0m\n\u001b[1;32m     20\u001b[0m     \u001b[39massert\u001b[39;00m version_info \u001b[39m==\u001b[39m _mysql\u001b[39m.\u001b[39mversion_info\n\u001b[1;32m     21\u001b[0m \u001b[39mexcept\u001b[39;00m \u001b[39mException\u001b[39;00m:\n\u001b[1;32m     22\u001b[0m     \u001b[39mraise\u001b[39;00m \u001b[39mImportError\u001b[39;00m(\n\u001b[1;32m     23\u001b[0m         \u001b[39m\"\u001b[39m\u001b[39mthis is MySQLdb version \u001b[39m\u001b[39m{}\u001b[39;00m\u001b[39m, but _mysql is version \u001b[39m\u001b[39m{!r}\u001b[39;00m\u001b[39m\\n\u001b[39;00m\u001b[39m_mysql: \u001b[39m\u001b[39m{!r}\u001b[39;00m\u001b[39m\"\u001b[39m\u001b[39m.\u001b[39mformat(\n\u001b[0;32m---> 24\u001b[0m             version_info, _mysql\u001b[39m.\u001b[39mversion_info, _mysql\u001b[39m.\u001b[39m\u001b[39m__file__\u001b[39m\n\u001b[1;32m     25\u001b[0m         )\n\u001b[1;32m     26\u001b[0m     )\n\u001b[1;32m     29\u001b[0m \u001b[39mfrom\u001b[39;00m \u001b[39m.\u001b[39;00m\u001b[39m_mysql\u001b[39;00m \u001b[39mimport\u001b[39;00m (\n\u001b[1;32m     30\u001b[0m     NotSupportedError,\n\u001b[1;32m     31\u001b[0m     OperationalError,\n\u001b[0;32m   (...)\u001b[0m\n\u001b[1;32m     43\u001b[0m     \u001b[39mWarning\u001b[39;00m,\n\u001b[1;32m     44\u001b[0m )\n\u001b[1;32m     45\u001b[0m \u001b[39mfrom\u001b[39;00m \u001b[39mMySQLdb\u001b[39;00m\u001b[39m.\u001b[39;00m\u001b[39mconstants\u001b[39;00m \u001b[39mimport\u001b[39;00m FIELD_TYPE\n",
      "\u001b[0;31mNameError\u001b[0m: name '_mysql' is not defined"
     ]
    }
   ],
   "source": [
    "engine = create_engine(\"mariadb:///?User=db_user&;Password=pax123&Database=werderdb&Server=192.168.178.48&Port=3306\")"
   ]
  },
  {
   "cell_type": "code",
   "execution_count": null,
   "metadata": {},
   "outputs": [],
   "source": []
  }
 ],
 "metadata": {
  "kernelspec": {
   "display_name": "Python 3.10.4 ('sql_dev')",
   "language": "python",
   "name": "python3"
  },
  "language_info": {
   "codemirror_mode": {
    "name": "ipython",
    "version": 3
   },
   "file_extension": ".py",
   "mimetype": "text/x-python",
   "name": "python",
   "nbconvert_exporter": "python",
   "pygments_lexer": "ipython3",
   "version": "3.10.4"
  },
  "orig_nbformat": 4,
  "vscode": {
   "interpreter": {
    "hash": "c5db0ce4916e7a0023c71d2610cc14526b5f69d95391b8e9e7f958ca80509f20"
   }
  }
 },
 "nbformat": 4,
 "nbformat_minor": 2
}
