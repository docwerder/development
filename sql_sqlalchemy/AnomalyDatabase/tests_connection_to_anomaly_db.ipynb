{
 "cells": [
  {
   "cell_type": "markdown",
   "id": "30a8d078",
   "metadata": {},
   "source": [
    "## Test of sqlite3 the the database 'anomaly_database.db'"
   ]
  },
  {
   "cell_type": "markdown",
   "id": "8168a66b",
   "metadata": {},
   "source": [
    "### Connect to the file 'anomaly_database.db'"
   ]
  },
  {
   "cell_type": "code",
   "execution_count": 1,
   "id": "de35ba6c",
   "metadata": {},
   "outputs": [],
   "source": [
    "import pandas.io.sql\n",
    "import pandas as pd\n",
    "import sqlite3\n",
    "anomaly_db_path = '/Users/joerg/repos/development/sql/AnomalyDatabase/anomaly_database.db'\n",
    "connection = sqlite3.connect(anomaly_db_path)\n",
    "cur = connection.cursor()"
   ]
  },
  {
   "cell_type": "markdown",
   "id": "e209646a",
   "metadata": {},
   "source": [
    "### Get the names of the tables within the database"
   ]
  },
  {
   "cell_type": "code",
   "execution_count": 2,
   "id": "40b6e6db",
   "metadata": {},
   "outputs": [
    {
     "name": "stdout",
     "output_type": "stream",
     "text": [
      "[('project',), ('anomaly_type',), ('anomaly',)]\n"
     ]
    }
   ],
   "source": [
    "cur.execute(\"SELECT name FROM sqlite_master WHERE type='table';\")\n",
    "print(cur.fetchall())"
   ]
  },
  {
   "cell_type": "markdown",
   "id": "5a72531a",
   "metadata": {},
   "source": [
    "### Get the names of the columns within the specific table 'project'"
   ]
  },
  {
   "cell_type": "code",
   "execution_count": 3,
   "id": "0d3882dd",
   "metadata": {},
   "outputs": [
    {
     "name": "stdout",
     "output_type": "stream",
     "text": [
      "['id', 'region', 'project_number', 'lineshort']\n"
     ]
    }
   ],
   "source": [
    "# connect to the database via the command sqlite3.connect...\n",
    "connection = sqlite3.connect(anomaly_db_path)\n",
    "cursor = connection.execute('select * from project')\n",
    "names = list(map(lambda x: x[0], cursor.description))\n",
    "#connection.close()\n",
    "print(names)"
   ]
  },
  {
   "cell_type": "markdown",
   "id": "12d7ebc8",
   "metadata": {},
   "source": [
    "### Get the names of the columns within the specific table 'anomaly_type'"
   ]
  },
  {
   "cell_type": "code",
   "execution_count": 4,
   "id": "1e2fde68",
   "metadata": {},
   "outputs": [
    {
     "name": "stdout",
     "output_type": "stream",
     "text": [
      "['id', 'type']\n"
     ]
    }
   ],
   "source": [
    "# connect to the database via the command sqlite3.connect...\n",
    "connection = sqlite3.connect(anomaly_db_path)\n",
    "cursor = connection.execute('select * from anomaly_type')\n",
    "names = list(map(lambda x: x[0], cursor.description))\n",
    "connection.close()\n",
    "print(names)"
   ]
  },
  {
   "cell_type": "markdown",
   "id": "15ac089e",
   "metadata": {},
   "source": [
    "### Get the names of the columns within the specific table 'anomaly'"
   ]
  },
  {
   "cell_type": "code",
   "execution_count": 5,
   "id": "6b76143a",
   "metadata": {},
   "outputs": [
    {
     "name": "stdout",
     "output_type": "stream",
     "text": [
      "['id', 'project_id', 'anomaly_type_id', 'exchange_id', 'wallthickness', 'echof', 'echot', 'tranf', 'pth_offset_corrected']\n"
     ]
    }
   ],
   "source": [
    "# connect to the database via the command sqlite3.connect...\n",
    "connection = sqlite3.connect(anomaly_db_path)\n",
    "cursor = connection.execute('select * from anomaly')\n",
    "names = list(map(lambda x: x[0], cursor.description))\n",
    "connection.close()\n",
    "print(names)"
   ]
  },
  {
   "cell_type": "markdown",
   "id": "a7c0aeac",
   "metadata": {},
   "source": [
    "### Get distinct count of row at a specific table "
   ]
  },
  {
   "cell_type": "code",
   "execution_count": 7,
   "id": "37e4d4a2",
   "metadata": {},
   "outputs": [
    {
     "name": "stdout",
     "output_type": "stream",
     "text": [
      "CPU times: user 712 ms, sys: 2.79 s, total: 3.51 s\n",
      "Wall time: 17.8 s\n"
     ]
    }
   ],
   "source": [
    "%%time\n",
    "connection = sqlite3.connect(anomaly_db_path)\n",
    "#cursor = connection.execute('SELECT id, project_id, anomaly_type_id, exchange_id, wallthickness  FROM anomaly')\n",
    "cursor = connection.execute('SELECT project_id FROM anomaly')\n",
    "cursor_2 = connection.execute('select * from project')\n",
    "#data_one_anomaly = cursor.fetchone()\n",
    "#data_one_project = cursor_2.fetchone()\n",
    "#data_100 = cursor.fetchmany(100)\n",
    "data_all = cursor.fetchall()\n",
    "\n",
    "#names = list(map(lambda x: x[0], cursor1.description))\n",
    "connection.close()\n",
    "\n"
   ]
  },
  {
   "cell_type": "code",
   "execution_count": 8,
   "id": "b90351c0",
   "metadata": {},
   "outputs": [
    {
     "data": {
      "text/plain": [
       "(1,)"
      ]
     },
     "execution_count": 8,
     "metadata": {},
     "output_type": "execute_result"
    }
   ],
   "source": [
    "data_one_anomaly"
   ]
  },
  {
   "cell_type": "code",
   "execution_count": null,
   "id": "bbb2ca2e",
   "metadata": {},
   "outputs": [],
   "source": [
    "data_one_project"
   ]
  },
  {
   "cell_type": "code",
   "execution_count": null,
   "id": "895c5d91",
   "metadata": {},
   "outputs": [],
   "source": [
    "data_all.head()"
   ]
  },
  {
   "cell_type": "code",
   "execution_count": null,
   "id": "5b16ad73",
   "metadata": {},
   "outputs": [],
   "source": []
  }
 ],
 "metadata": {
  "kernelspec": {
   "display_name": "python38",
   "language": "python",
   "name": "python38"
  },
  "language_info": {
   "codemirror_mode": {
    "name": "ipython",
    "version": 3
   },
   "file_extension": ".py",
   "mimetype": "text/x-python",
   "name": "python",
   "nbconvert_exporter": "python",
   "pygments_lexer": "ipython3",
   "version": "3.8.8"
  }
 },
 "nbformat": 4,
 "nbformat_minor": 5
}
