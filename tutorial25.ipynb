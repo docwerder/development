{
 "cells": [
  {
   "cell_type": "code",
   "execution_count": 3,
   "metadata": {},
   "outputs": [
    {
     "name": "stdin",
     "output_type": "stream",
     "text": [
      "Bitte Stadt eingeben:  Rhede\n"
     ]
    },
    {
     "name": "stdout",
     "output_type": "stream",
     "text": [
      "In Rhede beträgt die Temperatur 11.21 Grad\n"
     ]
    }
   ],
   "source": [
    "import requests\n",
    "api_key = 'e1b8c7307dc5d97e97471350f44f8ab7'\n",
    "city = input('Bitte Stadt eingeben: ')\n",
    "url = f'https://api.openweathermap.org/data/2.5/weather?q={city}&appid={api_key}&units=metric'\n",
    "\n",
    "data = requests.get(url).json()\n",
    "\n",
    "temperatur = data['main']['temp']\n",
    "\n",
    "print(f'In {city} beträgt die Temperatur {temperatur} Grad')"
   ]
  },
  {
   "cell_type": "code",
   "execution_count": 4,
   "metadata": {},
   "outputs": [
    {
     "data": {
      "text/plain": [
       "{'highlight_selected_word': {'delay': 500,\n",
       "  'code_cells_only': True,\n",
       "  'highlight_color': 'lime'},\n",
       " 'load_extensions': {'nbextensions_configurator/config_menu/main': True,\n",
       "  'highlight_selected_word/main': True,\n",
       "  'codefolding/main': True},\n",
       " 'Notebook': {'Toolbar': True, 'Header': True},\n",
       " 'Cell': {'cm_config': {'lineNumbers': True}}}"
      ]
     },
     "execution_count": 4,
     "metadata": {},
     "output_type": "execute_result"
    }
   ],
   "source": [
    "from notebook.services.config import ConfigManager\n",
    "cm = ConfigManager()\n",
    "cm.update('notebook', {'highlight_selected_word': {\n",
    "    'delay': 500,\n",
    "    'code_cells_only': True,\n",
    "}})"
   ]
  },
  {
   "cell_type": "code",
   "execution_count": null,
   "metadata": {},
   "outputs": [],
   "source": [
    "code_cells_only"
   ]
  }
 ],
 "metadata": {
  "kernelspec": {
   "display_name": "python38",
   "language": "python",
   "name": "python38"
  },
  "language_info": {
   "codemirror_mode": {
    "name": "ipython",
    "version": 3
   },
   "file_extension": ".py",
   "mimetype": "text/x-python",
   "name": "python",
   "nbconvert_exporter": "python",
   "pygments_lexer": "ipython3",
   "version": "3.8.8"
  }
 },
 "nbformat": 4,
 "nbformat_minor": 4
}
