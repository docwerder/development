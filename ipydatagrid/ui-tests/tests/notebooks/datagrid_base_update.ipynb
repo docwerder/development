{
 "cells": [
  {
   "cell_type": "code",
   "execution_count": null,
   "id": "edec5770",
   "metadata": {},
   "outputs": [],
   "source": [
    "import ipydatagrid as g\n",
    "import pandas as pd\n",
    "import numpy as np\n",
    "\n",
    "np.random.seed(1)\n",
    "df = pd.DataFrame(columns=\"A B C D E\".split(), data=np.random.randint(-10, 10, size=(10, 5)))\n",
    "grid = g.DataGrid(df, layout={\"height\":\"250px\"})\n",
    "grid"
   ]
  },
  {
   "cell_type": "code",
   "execution_count": null,
   "id": "194bf879",
   "metadata": {},
   "outputs": [],
   "source": [
    "grid.header_visibility = 'row'"
   ]
  },
  {
   "cell_type": "code",
   "execution_count": null,
   "id": "70cc0d58",
   "metadata": {},
   "outputs": [],
   "source": [
    "grid.header_visibility = 'column'"
   ]
  },
  {
   "cell_type": "code",
   "execution_count": null,
   "id": "27e17448",
   "metadata": {},
   "outputs": [],
   "source": [
    "grid.header_visibility = 'none'"
   ]
  },
  {
   "cell_type": "code",
   "execution_count": null,
   "id": "5bb8a480",
   "metadata": {},
   "outputs": [],
   "source": [
    "grid.header_visibility = 'all'"
   ]
  },
  {
   "cell_type": "code",
   "execution_count": null,
   "id": "e48003ed",
   "metadata": {},
   "outputs": [],
   "source": [
    "grid.base_row_size = 50"
   ]
  },
  {
   "cell_type": "code",
   "execution_count": null,
   "id": "7e018319",
   "metadata": {},
   "outputs": [],
   "source": [
    "grid.base_row_size = 20"
   ]
  },
  {
   "cell_type": "code",
   "execution_count": null,
   "id": "e5c94ee0",
   "metadata": {},
   "outputs": [],
   "source": [
    "grid.base_column_size = 128"
   ]
  },
  {
   "cell_type": "code",
   "execution_count": null,
   "id": "471e683f",
   "metadata": {},
   "outputs": [],
   "source": [
    "grid.base_column_size = 64"
   ]
  },
  {
   "cell_type": "code",
   "execution_count": null,
   "id": "ef075a09",
   "metadata": {},
   "outputs": [],
   "source": [
    "grid.base_column_header_size = 60"
   ]
  },
  {
   "cell_type": "code",
   "execution_count": null,
   "id": "8a2827a6",
   "metadata": {},
   "outputs": [],
   "source": [
    "grid.base_column_header_size = 20"
   ]
  },
  {
   "cell_type": "code",
   "execution_count": null,
   "id": "c57b31cc",
   "metadata": {},
   "outputs": [],
   "source": [
    "grid.base_row_header_size = 20"
   ]
  },
  {
   "cell_type": "code",
   "execution_count": null,
   "id": "ec9e89a3",
   "metadata": {},
   "outputs": [],
   "source": [
    "grid.base_row_header_size = 64"
   ]
  },
  {
   "cell_type": "code",
   "execution_count": null,
   "id": "55c5026c",
   "metadata": {},
   "outputs": [],
   "source": [
    "header_renderer = g.TextRenderer(text_color='dodgerblue', background_color=\"navy\")\n",
    "grid.header_renderer = header_renderer"
   ]
  },
  {
   "cell_type": "code",
   "execution_count": null,
   "id": "4b38c5ad",
   "metadata": {},
   "outputs": [],
   "source": [
    "corner_renderer = g.TextRenderer(text_color='white', background_color=\"limegreen\")\n",
    "grid.corner_renderer = corner_renderer"
   ]
  },
  {
   "cell_type": "code",
   "execution_count": null,
   "id": "77a9d3d4",
   "metadata": {},
   "outputs": [],
   "source": [
    "index_renderer = g.TextRenderer(text_color='white', background_color=\"brown\")\n",
    "grid.renderers = {\"key\": index_renderer}"
   ]
  },
  {
   "cell_type": "code",
   "execution_count": null,
   "id": "1d47d80b",
   "metadata": {},
   "outputs": [],
   "source": [
    "default_renderer = g.TextRenderer(background_color=\"bisque\")\n",
    "grid.default_renderer = default_renderer"
   ]
  },
  {
   "cell_type": "code",
   "execution_count": null,
   "id": "83bc1b97",
   "metadata": {},
   "outputs": [],
   "source": [
    "grid.selection_mode = \"column\"\n",
    "grid.select(0, 0)"
   ]
  },
  {
   "cell_type": "code",
   "execution_count": null,
   "id": "7647c9af",
   "metadata": {},
   "outputs": [],
   "source": [
    "grid.selections = []"
   ]
  },
  {
   "cell_type": "code",
   "execution_count": null,
   "id": "c140fc55",
   "metadata": {},
   "outputs": [],
   "source": [
    "grid.selection_mode = \"row\"\n",
    "grid.select(5, 4)"
   ]
  },
  {
   "cell_type": "code",
   "execution_count": null,
   "id": "78d4df80",
   "metadata": {},
   "outputs": [],
   "source": [
    "grid.selections = []"
   ]
  },
  {
   "cell_type": "code",
   "execution_count": null,
   "id": "c123f4c5",
   "metadata": {},
   "outputs": [],
   "source": [
    "grid.auto_fit_columns = True"
   ]
  },
  {
   "cell_type": "code",
   "execution_count": null,
   "id": "471db608",
   "metadata": {},
   "outputs": [],
   "source": [
    "grid.auto_fit_columns = False"
   ]
  },
  {
   "cell_type": "code",
   "execution_count": null,
   "id": "3d96901f",
   "metadata": {},
   "outputs": [],
   "source": [
    "grid.auto_fit_params = {'area': 'body', 'padding': 80, 'numCols': 3}"
   ]
  },
  {
   "cell_type": "code",
   "execution_count": null,
   "id": "907a7bf2",
   "metadata": {},
   "outputs": [],
   "source": [
    "grid.auto_fit_columns = True"
   ]
  }
 ],
 "metadata": {
  "kernelspec": {
   "display_name": "Python 3 (ipykernel)",
   "language": "python",
   "name": "python3"
  },
  "language_info": {
   "codemirror_mode": {
    "name": "ipython",
    "version": 3
   },
   "file_extension": ".py",
   "mimetype": "text/x-python",
   "name": "python",
   "nbconvert_exporter": "python",
   "pygments_lexer": "ipython3",
   "version": "3.9.9"
  }
 },
 "nbformat": 4,
 "nbformat_minor": 5
}
