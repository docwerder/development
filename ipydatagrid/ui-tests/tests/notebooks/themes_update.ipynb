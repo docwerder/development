{
 "cells": [
  {
   "cell_type": "code",
   "execution_count": 1,
   "id": "4bbf0955",
   "metadata": {},
   "outputs": [
    {
     "data": {
      "application/vnd.jupyter.widget-view+json": {
       "model_id": "c6eb1b8643d54018b257c66a97efeb37",
       "version_major": 2,
       "version_minor": 0
      },
      "text/plain": [
       "DataGrid(auto_fit_params={'area': 'all', 'padding': 30, 'numCols': None}, corner_renderer=None, default_render…"
      ]
     },
     "metadata": {},
     "output_type": "display_data"
    }
   ],
   "source": [
    "import pandas as pd\n",
    "import numpy as np\n",
    "import ipydatagrid as grid\n",
    "\n",
    "np.random.seed(104)\n",
    "rang = 10\n",
    "df = pd.DataFrame(\n",
    "    data=[np.random.randint(0, 11, rang) for i in range(rang)],\n",
    "    index=[f\"Row {i}\" for i in range(rang)],\n",
    "    columns=[f\"Col {i}\" for i in range(rang)],\n",
    ")\n",
    "\n",
    "g = grid.DataGrid(\n",
    "    df, layout={\"height\": \"300px\", \"width\": \"800px\"}, selection_mode=\"cell\"\n",
    ")\n",
    "g"
   ]
  },
  {
   "cell_type": "code",
   "execution_count": 2,
   "id": "ccd78ce4",
   "metadata": {},
   "outputs": [],
   "source": [
    "monokai = {\n",
    "    \"background_color\": \"#2c292d\",\n",
    "    \"grid_line_color\": \"#a698eb7a\",\n",
    "    \"header_background_color\": \"#2c292d9a\",\n",
    "    \"header_grid_line_color\": \"#fc98675a\",\n",
    "    \"selection_fill_color\": \"#78dce81a\",\n",
    "    \"selection_border_color\": \"#ffd866\",\n",
    "    \"header_selection_fill_color\": \"#ab9df24a\",\n",
    "    \"header_selection_border_color\": \"lawngreen\",\n",
    "    \"cursor_fill_color\": \"#78dce87a\",\n",
    "    \"cursor_border_color\": \"#ff6188\",\n",
    "}\n",
    "\n",
    "g.grid_style = monokai"
   ]
  },
  {
   "cell_type": "code",
   "execution_count": 3,
   "id": "3901bc22",
   "metadata": {},
   "outputs": [],
   "source": [
    "cotton_candy = {\n",
    "    \"background_color\": \"rgb(255, 245, 251)\",\n",
    "    \"header_background_color\": \"rgb(207, 212, 252, 1)\",\n",
    "    \"header_grid_line_color\": \"rgb(0, 247, 181, 0.9)\",\n",
    "    \"vertical_grid_line_color\": \"rgb(0, 247, 181, 0.3)\",\n",
    "    \"horizontal_grid_line_color\": \"rgb(0, 247, 181, 0.3)\",\n",
    "    \"selection_fill_color\": \"rgb(212, 245, 255, 0.3)\",\n",
    "    \"selection_border_color\": \"rgb(78, 174, 212)\",\n",
    "    \"header_selection_fill_color\": \"rgb(212, 255, 239, 0.3)\",\n",
    "    \"header_selection_border_color\": \"rgb(252, 3, 115)\",\n",
    "    \"cursor_fill_color\": \"rgb(186, 32, 186, 0.2)\",\n",
    "    \"cursor_border_color\": \"rgb(191, 191, 78)\",\n",
    "}\n",
    "\n",
    "g.grid_style = cotton_candy"
   ]
  },
  {
   "cell_type": "code",
   "execution_count": 4,
   "id": "7af7688c",
   "metadata": {},
   "outputs": [],
   "source": [
    "watermelon = {\n",
    "    \"column_background_color\": grid.VegaExpr(\n",
    "        \"cell % 2 === 0 ? 'rgb(255, 130, 145, 0.5)' : 'rgb(255, 130, 145, 0.2)'\"\n",
    "    ),\n",
    "    \"header_vertical_grid_line_color\": \"rgb(0, 140, 86, 0.8)\",\n",
    "    \"header_horizontal_grid_line_color\": \"rgb(0, 140, 86, 0.4)\",\n",
    "    \"vertical_grid_line_color\": \"rgb(176, 176, 176)\",\n",
    "    \"horizontal_grid_line_color\": \"rgb(0, 247, 181, 0)\",\n",
    "    \"selection_fill_color\": \"rgb(235, 223, 7, 0.3)\",\n",
    "    \"selection_border_color\": \"rgb(201, 219, 7)\",\n",
    "    \"header_selection_fill_color\": \"rgb(235, 223, 7, 0.4)\",\n",
    "    \"header_selection_border_color\": \"rgb(252, 3, 115)\",\n",
    "    \"cursor_fill_color\": \"rgb(235, 7, 113, 0.4)\",\n",
    "    \"cursor_border_color\": \"rgb(6, 191, 58, 0.9)\",\n",
    "}\n",
    "\n",
    "\n",
    "g.grid_style = watermelon\n",
    "g.corner_renderer = grid.TextRenderer(\n",
    "    background_color=\"rgb(250, 242, 130)\", text_color=\"black\"\n",
    ")\n",
    "g.header_renderer = grid.TextRenderer(\n",
    "    background_color=grid.VegaExpr(\n",
    "        \"cell.column % 2 === 0 ? 'rgb(34, 110, 29)': 'rgb(24, 150, 19)'\"\n",
    "    ),\n",
    "    text_color=\"white\",\n",
    ")\n",
    "g.renderers = {\n",
    "    \"key\": grid.TextRenderer(\n",
    "        background_color=grid.VegaExpr(\n",
    "            \"cell.row % 2 === 0 ? 'rgb(21, 116, 163)': 'rgb(21, 116, 163)'\"\n",
    "        ),\n",
    "        text_color=\"white\",\n",
    "    )\n",
    "}"
   ]
  }
 ],
 "metadata": {
  "kernelspec": {
   "display_name": "Python 3 (ipykernel)",
   "language": "python",
   "name": "python3"
  },
  "language_info": {
   "codemirror_mode": {
    "name": "ipython",
    "version": 3
   },
   "file_extension": ".py",
   "mimetype": "text/x-python",
   "name": "python",
   "nbconvert_exporter": "python",
   "pygments_lexer": "ipython3",
   "version": "3.9.9"
  }
 },
 "nbformat": 4,
 "nbformat_minor": 5
}
