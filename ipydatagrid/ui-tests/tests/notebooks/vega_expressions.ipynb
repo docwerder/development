{
 "cells": [
  {
   "cell_type": "code",
   "execution_count": null,
   "id": "e0cab8f8",
   "metadata": {},
   "outputs": [],
   "source": [
    "import pandas as pd\n",
    "import numpy as np\n",
    "import ipydatagrid as grid\n",
    "\n",
    "df = pd.DataFrame({'column 1': [1000,np.nan,0], 'column 2': [3,np.nan,9]})\n",
    "\n",
    "renderers = {\n",
    "    'column 2': grid.TextRenderer(text_value=grid.VegaExpr(\n",
    "            \"\"\"\n",
    "            if(\n",
    "                !isValid(cell.value),\n",
    "                'THIS CELL NA',\n",
    "                format(cell.value, ',.2s'))\n",
    "            \"\"\")),\n",
    "    'column 1': grid.TextRenderer(text_value=grid.VegaExpr(\n",
    "            \"\"\"\n",
    "            if(\n",
    "                !isValid(cell.value),\n",
    "                'THIS CELL NA',\n",
    "                if(\n",
    "                    cell.value==0,\n",
    "                    ' ',\n",
    "                    format(cell.value, ',.2f')\n",
    "                )\n",
    "            )\n",
    "            \"\"\"))\n",
    "}\n",
    "\n",
    "grid.DataGrid(df, base_column_size=110, renderers=renderers, layout={'height':'100px'})"
   ]
  }
 ],
 "metadata": {
  "kernelspec": {
   "display_name": "Python 3 (ipykernel)",
   "language": "python",
   "name": "python3"
  },
  "language_info": {
   "codemirror_mode": {
    "name": "ipython",
    "version": 3
   },
   "file_extension": ".py",
   "mimetype": "text/x-python",
   "name": "python",
   "nbconvert_exporter": "python",
   "pygments_lexer": "ipython3",
   "version": "3.9.9"
  }
 },
 "nbformat": 4,
 "nbformat_minor": 5
}
