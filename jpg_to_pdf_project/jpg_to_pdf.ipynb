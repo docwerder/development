{
 "cells": [
  {
   "cell_type": "code",
   "execution_count": 1,
   "id": "68d8b47c",
   "metadata": {},
   "outputs": [],
   "source": [
    "import os"
   ]
  },
  {
   "cell_type": "code",
   "execution_count": null,
   "id": "28a15f66",
   "metadata": {},
   "outputs": [],
   "source": [
    "ccc_folder = '/Users/joerg/Downloads/ccc_test'\n",
    "# for root, dirs, files in sorted(os.walk(ccc_folder, topdown=False)):\n",
    "#     print('root: ',  root)\n",
    "#     print('dirs: ',  dirs)\n",
    "#     print('files: ',  files)\n",
    "# for above_dir in sorted(os.listdir(ccc_folder)):\n",
    "#     print(sorted(os.listdir(os.path.join(ccc_folder, above_dir))))\n"
   ]
  },
  {
   "cell_type": "code",
   "execution_count": 3,
   "id": "825fb78e",
   "metadata": {},
   "outputs": [
    {
     "name": "stdout",
     "output_type": "stream",
     "text": [
      "/Users/joerg/Downloads/ccc_working_folder\n"
     ]
    }
   ],
   "source": [
    "cd '/Users/joerg/Downloads/ccc_working_folder/'"
   ]
  },
  {
   "cell_type": "code",
   "execution_count": 4,
   "id": "e5e18fc8",
   "metadata": {},
   "outputs": [
    {
     "name": "stdout",
     "output_type": "stream",
     "text": [
      "/Volumes\n"
     ]
    }
   ],
   "source": [
    "cd '/Volumes'"
   ]
  },
  {
   "cell_type": "code",
   "execution_count": null,
   "id": "24b0b83f",
   "metadata": {},
   "outputs": [],
   "source": [
    "import os\n",
    "import img2pdf\n",
    "\n",
    "with open(\"teenage_sex_083.pdf\", \"wb\") as f:\n",
    "    f.write(img2pdf.convert([i for i in sorted(os.listdir()) if i.endswith(\".jpg\")]))\n",
    "    #f.write(img2pdf.convert([i for i in sorted(os.listdir(\"/Users/joerg/OneDrive/jupyter_notebooks/jpg_to_pdf_project/Color Climax Exciting 60/Color Climax Exciting 60\")) if i.endswith(\".jpg\")]))"
   ]
  },
  {
   "cell_type": "code",
   "execution_count": null,
   "id": "89926fa0",
   "metadata": {},
   "outputs": [],
   "source": [
    "ls"
   ]
  },
  {
   "cell_type": "code",
   "execution_count": null,
   "id": "359aa3ca",
   "metadata": {},
   "outputs": [],
   "source": []
  },
  {
   "cell_type": "code",
   "execution_count": null,
   "id": "fc44669e",
   "metadata": {},
   "outputs": [],
   "source": [
    "sorted(os.listdir())"
   ]
  },
  {
   "cell_type": "code",
   "execution_count": null,
   "id": "6ba85d44",
   "metadata": {},
   "outputs": [],
   "source": [
    "#My dictionary\n",
    "dict = {}\n",
    "dict['Capital']=\"London\"\n",
    "dict['Food']=\"Fish&Chips\"\n",
    "dict['2012']=\"Olympics\"\n",
    "\n",
    "#lists\n",
    "temp = []\n",
    "dictList = []\n",
    "\n",
    "#My attempt:\n",
    "for schlüssel, wert in dict.items():\n",
    "    temp = [schlüssel,wert]\n",
    "    dictList.append(temp)"
   ]
  },
  {
   "cell_type": "code",
   "execution_count": null,
   "id": "88442d0a",
   "metadata": {},
   "outputs": [],
   "source": [
    "dictList"
   ]
  },
  {
   "cell_type": "code",
   "execution_count": null,
   "id": "b663cf7e",
   "metadata": {},
   "outputs": [],
   "source": [
    "[c for sublist in dictList for c in sublist]"
   ]
  },
  {
   "cell_type": "code",
   "execution_count": null,
   "id": "b18b972f",
   "metadata": {},
   "outputs": [],
   "source": [
    "user_directory = \"/Users/joerg/Downloads\"\n",
    "os.listdir(user_directory)"
   ]
  },
  {
   "cell_type": "code",
   "execution_count": null,
   "id": "cd21e8f7",
   "metadata": {},
   "outputs": [],
   "source": []
  }
 ],
 "metadata": {
  "kernelspec": {
   "display_name": "python38",
   "language": "python",
   "name": "python38"
  },
  "language_info": {
   "codemirror_mode": {
    "name": "ipython",
    "version": 3
   },
   "file_extension": ".py",
   "mimetype": "text/x-python",
   "name": "python",
   "nbconvert_exporter": "python",
   "pygments_lexer": "ipython3",
   "version": "3.8.8"
  }
 },
 "nbformat": 4,
 "nbformat_minor": 5
}
