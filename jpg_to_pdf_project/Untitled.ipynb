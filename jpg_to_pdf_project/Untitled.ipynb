{
 "cells": [
  {
   "cell_type": "code",
   "execution_count": 2,
   "id": "d46e6ca8",
   "metadata": {},
   "outputs": [],
   "source": [
    "import os\n",
    "import img2pdf"
   ]
  },
  {
   "cell_type": "code",
   "execution_count": null,
   "id": "ef516652",
   "metadata": {},
   "outputs": [],
   "source": [
    "cd '/Volumes/WERDERNAS2X/VIDEOS2X/festplatten_content/COLORCLIMAX/temp_for_python/'"
   ]
  },
  {
   "cell_type": "code",
   "execution_count": 11,
   "id": "4530d6b9",
   "metadata": {},
   "outputs": [
    {
     "name": "stdout",
     "output_type": "stream",
     "text": [
      "current working dir:  /Volumes/WERDERNAS2X/VIDEOS2X/festplatten_content/COLORCLIMAX/temp_for_python/Story001\n",
      "current working dir:  /Volumes/WERDERNAS2X/VIDEOS2X/festplatten_content/COLORCLIMAX/temp_for_python/Story002\n",
      "current working dir:  /Volumes/WERDERNAS2X/VIDEOS2X/festplatten_content/COLORCLIMAX/temp_for_python/Story003\n"
     ]
    }
   ],
   "source": [
    "ccc_folder = '/Volumes/WERDERNAS2X/VIDEOS2X/festplatten_content/COLORCLIMAX/temp_for_python/'\n",
    "\n",
    "os.chdir(ccc_folder)\n",
    "root_folder_1 = [dir for root, dir, files in os.walk('.')]\n",
    "root_folder_2 = [root for root, dir, files in os.walk('.')]\n",
    "\n",
    "#print(root_folder_1)\n",
    "#print(root_folder_2)\n",
    "\n",
    "dir_list = [x.lower() for x in root_folder_1[0]]\n",
    "#print(dir_list)\n",
    "\n",
    "\n",
    "for single_dir in list(dir_list):\n",
    "    path_single_dir = os.path.join(ccc_folder, single_dir)\n",
    "    #print(path_single_dir)\n",
    "    os.chdir(path_single_dir)\n",
    "    cwd = os.getcwd()\n",
    "    print('current working dir: ', cwd)\n",
    "    with open(\"cc110.pdf\", \"wb\") as f:\n",
    "        f.write(img2pdf.convert([i for i in sorted(os.listdir()) if i.endswith(\".jpg\")]))\n",
    "    "
   ]
  },
  {
   "cell_type": "code",
   "execution_count": 5,
   "id": "7930f918",
   "metadata": {},
   "outputs": [
    {
     "data": {
      "text/plain": [
       "'/Users/joerg/OneDrive/jupyter_notebooks/jpg_to_pdf_project'"
      ]
     },
     "execution_count": 5,
     "metadata": {},
     "output_type": "execute_result"
    }
   ],
   "source": [
    "pwd"
   ]
  },
  {
   "cell_type": "code",
   "execution_count": null,
   "id": "9b30074d",
   "metadata": {},
   "outputs": [],
   "source": [
    "cd '/Volumes/WERDERNAS2X/VIDEOS2X/festplatten_content/COLORCLIMAX/temp_for_python/Story001'"
   ]
  },
  {
   "cell_type": "code",
   "execution_count": null,
   "id": "99dcdf44",
   "metadata": {},
   "outputs": [],
   "source": [
    "# Walking a directory tree and printing the names of the directories and files\n",
    "for dirpath, dirnames, files in os.walk('.', topdown=False):\n",
    "    print(f'Found directory: {dirpath}')\n",
    "    for file_name in files:\n",
    "        print(file_name)"
   ]
  },
  {
   "cell_type": "code",
   "execution_count": null,
   "id": "0a1a47e2",
   "metadata": {},
   "outputs": [],
   "source": [
    "with open(\"cc110.pdf\", \"wb\") as f:\n",
    "    f.write(img2pdf.convert([i for i in sorted(os.listdir()) if i.endswith(\".jpg\")]))"
   ]
  },
  {
   "cell_type": "code",
   "execution_count": null,
   "id": "d1362a11",
   "metadata": {},
   "outputs": [],
   "source": [
    "ls"
   ]
  },
  {
   "cell_type": "code",
   "execution_count": null,
   "id": "c30a61df",
   "metadata": {},
   "outputs": [],
   "source": []
  },
  {
   "cell_type": "code",
   "execution_count": null,
   "id": "0d6e6a72",
   "metadata": {},
   "outputs": [],
   "source": []
  },
  {
   "cell_type": "code",
   "execution_count": null,
   "id": "d8bd482b",
   "metadata": {},
   "outputs": [],
   "source": [
    "for root, dirs, files in sorted(os.walk(ccc_folder, topdown=False)):\n",
    "    print('root: ',  root)\n",
    "    print('dirs: ',  dirs)\n",
    "    print('files: ',  files)\n",
    "for above_dir in sorted(os.listdir(ccc_folder)):\n",
    "    print(sorted(os.listdir(os.path.join(ccc_folder, above_dir))))"
   ]
  },
  {
   "cell_type": "code",
   "execution_count": null,
   "id": "07cd6a94",
   "metadata": {},
   "outputs": [],
   "source": []
  }
 ],
 "metadata": {
  "kernelspec": {
   "display_name": "python38",
   "language": "python",
   "name": "python38"
  },
  "language_info": {
   "codemirror_mode": {
    "name": "ipython",
    "version": 3
   },
   "file_extension": ".py",
   "mimetype": "text/x-python",
   "name": "python",
   "nbconvert_exporter": "python",
   "pygments_lexer": "ipython3",
   "version": "3.8.8"
  }
 },
 "nbformat": 4,
 "nbformat_minor": 5
}
