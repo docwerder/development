{
 "cells": [
  {
   "cell_type": "code",
   "execution_count": 2,
   "id": "b8ebe78c",
   "metadata": {},
   "outputs": [],
   "source": [
    "import os\n",
    "from natsort import natsorted\n",
    "import img2pdf"
   ]
  },
  {
   "cell_type": "code",
   "execution_count": 3,
   "id": "95e5f2fd",
   "metadata": {},
   "outputs": [
    {
     "name": "stdout",
     "output_type": "stream",
     "text": [
      "/Users/joerg/repos/development/jpg_to_pdf_project\n"
     ]
    }
   ],
   "source": [
    "print(os.getcwd())\n",
    "# cd '/Users/joerg/Downloads/tmp\n",
    "\n",
    "# for dirpath, dirnames, files in os.walk('.'):\n",
    "#     print(f'Found directory: {dirpath}')\n",
    "#     for file_name in files:\n",
    "#         print(file_name)"
   ]
  },
  {
   "cell_type": "code",
   "execution_count": 4,
   "id": "03d9ce72",
   "metadata": {},
   "outputs": [
    {
     "name": "stdout",
     "output_type": "stream",
     "text": [
      "/Users/joerg/repos/development/jpg_to_pdf_project\n"
     ]
    }
   ],
   "source": [
    "print(os.getcwd())"
   ]
  },
  {
   "cell_type": "code",
   "execution_count": 5,
   "id": "9a224916",
   "metadata": {},
   "outputs": [
    {
     "name": "stdout",
     "output_type": "stream",
     "text": [
      "/Users/joerg/repos/development\n"
     ]
    }
   ],
   "source": [
    "cd .."
   ]
  },
  {
   "cell_type": "code",
   "execution_count": 7,
   "id": "d20a0cf6",
   "metadata": {},
   "outputs": [],
   "source": [
    "import os\n",
    "os.chdir('/Users/joerg/Downloads/frozen/')"
   ]
  },
  {
   "cell_type": "code",
   "execution_count": 9,
   "id": "4f750b7a",
   "metadata": {},
   "outputs": [],
   "source": [
    "#ccc_folder = '/Users/joerg/Downloads/ccc_test'\n",
    "pic_tmp_folder = '/Users/joerg/Downloads/frozen'\n",
    "# for root, dirs, files in sorted(os.walk(ccc_folder, topdown=False)):\n",
    "#     print('root: ',  root)\n",
    "#     print('dirs: ',  dirs)\n",
    "#     print('files: ',  files)\n",
    "# for above_dir in sorted(os.listdir(ccc_folder)):\n",
    "#     print(sorted(os.listdir(os.path.join(ccc_folder, above_dir))))\n"
   ]
  },
  {
   "cell_type": "code",
   "execution_count": 26,
   "id": "0163c5d7",
   "metadata": {},
   "outputs": [
    {
     "name": "stdout",
     "output_type": "stream",
     "text": [
      "/Users/joerg/Downloads/frozen\n"
     ]
    }
   ],
   "source": [
    "print(os.getcwd())"
   ]
  },
  {
   "cell_type": "code",
   "execution_count": 27,
   "id": "3cd52a09",
   "metadata": {},
   "outputs": [
    {
     "name": "stdout",
     "output_type": "stream",
     "text": [
      "['.DS_Store', 'goodcomix.tk_Puppet_(ENG)-01.jpg', 'goodcomix.tk_Puppet_(ENG)-02.jpg', 'goodcomix.tk_Puppet_(ENG)-03.jpg', 'goodcomix.tk_Puppet_(ENG)-04.jpg', 'goodcomix.tk_Puppet_(ENG)-05.jpg', 'goodcomix.tk_Puppet_(ENG)-06.jpg']\n"
     ]
    }
   ],
   "source": [
    "print(sorted(os.listdir(pic_tmp_folder)))"
   ]
  },
  {
   "cell_type": "code",
   "execution_count": 12,
   "id": "bb19f0ce",
   "metadata": {},
   "outputs": [],
   "source": [
    "import img2pdf"
   ]
  },
  {
   "cell_type": "code",
   "execution_count": 28,
   "id": "c19ca43f",
   "metadata": {},
   "outputs": [],
   "source": [
    "\n",
    "with open(\"puppet.pdf\", \"wb\") as f:\n",
    "    f.write(img2pdf.convert([i for i in sorted(os.listdir(pic_tmp_folder)) if i.endswith(\".jpg\")]))"
   ]
  },
  {
   "cell_type": "code",
   "execution_count": 16,
   "id": "a2e2851f",
   "metadata": {},
   "outputs": [
    {
     "name": "stdout",
     "output_type": "stream",
     "text": [
      "/Volumes/WERDERNAS2X/VIDEOS2X/festplatten_content/COLORCLIMAX/temp_for_python\n"
     ]
    }
   ],
   "source": [
    "#cd '/Volumes/WERDERNAS2X/VIDEOS2X/festplatten_content/COLORCLIMAX/temp_for_python'\n",
    "cc_folder = '/Volumes/WERDERNAS2X/VIDEOS2X/festplatten_content/COLORCLIMAX/temp_for_python'  \n",
    "print(cc_folder)"
   ]
  },
  {
   "cell_type": "code",
   "execution_count": 17,
   "id": "ef269814",
   "metadata": {},
   "outputs": [
    {
     "name": "stdout",
     "output_type": "stream",
     "text": [
      "[['Story001', 'Story002', 'Story003'], [], [], []]\n",
      "story001\n",
      "story002\n",
      "story003\n",
      "[]\n"
     ]
    }
   ],
   "source": [
    "\n",
    "ccc = [dir for rot, dir, files in os.walk(cc_folder)]\n",
    "print(ccc)\n",
    "jpg_list = [x.lower() for x in ccc[0]]\n",
    "\n",
    "for single_file in list(jpg_list):\n",
    "    print(single_file)\n",
    "\n",
    "jpg_list = [i for i in sorted(os.listdir()) if i.endswith(\".jpg\")]   \n",
    "print(jpg_list)"
   ]
  },
  {
   "cell_type": "code",
   "execution_count": null,
   "id": "ac14f30e",
   "metadata": {},
   "outputs": [],
   "source": [
    "cd \"/Volumes/WERDERNAS2X/VIDEOS2X/festplatten_content/COLORCLIMAX/temp_for_python/Story001/\""
   ]
  },
  {
   "cell_type": "code",
   "execution_count": null,
   "id": "f9a2711c",
   "metadata": {},
   "outputs": [],
   "source": [
    "pwd"
   ]
  },
  {
   "cell_type": "code",
   "execution_count": null,
   "id": "0be1c482",
   "metadata": {},
   "outputs": [],
   "source": [
    "\n",
    "\n",
    "f1 = \"/Volumes/WERDERNAS2X/VIDEOS2X/festplatten_content/COLORCLIMAX/temp_for_python/Story001/\"\n",
    "output_file = '/Volumes/WERDERNAS2X/VIDEOS2X/festplatten_content/colorclimax/temp_for_python/Story001/cc110.pdf'\n",
    "with open('cc110.pdf', \"wb\") as f:\n",
    "    f.write(img2pdf.convert([i for i in sorted(os.listdir()) if i.endswith(\".jpg\")]))\n",
    "#[i for i in sorted(os.listdir(f1)) if i.endswith(\".jpg\")]"
   ]
  },
  {
   "cell_type": "code",
   "execution_count": null,
   "id": "507d022f",
   "metadata": {},
   "outputs": [],
   "source": []
  },
  {
   "cell_type": "code",
   "execution_count": 14,
   "id": "6f2329b4",
   "metadata": {},
   "outputs": [
    {
     "ename": "NameError",
     "evalue": "name 'jpg_list' is not defined",
     "output_type": "error",
     "traceback": [
      "\u001b[0;31m---------------------------------------------------------------------------\u001b[0m",
      "\u001b[0;31mNameError\u001b[0m                                 Traceback (most recent call last)",
      "\u001b[0;32m<ipython-input-14-c4edaee6f9da>\u001b[0m in \u001b[0;36m<module>\u001b[0;34m\u001b[0m\n\u001b[0;32m----> 1\u001b[0;31m \u001b[0;32mfor\u001b[0m \u001b[0msingle_file\u001b[0m \u001b[0;32min\u001b[0m \u001b[0mjpg_list\u001b[0m\u001b[0;34m:\u001b[0m\u001b[0;34m\u001b[0m\u001b[0;34m\u001b[0m\u001b[0m\n\u001b[0m\u001b[1;32m      2\u001b[0m     \u001b[0mpath_single_file\u001b[0m \u001b[0;34m=\u001b[0m \u001b[0mos\u001b[0m\u001b[0;34m.\u001b[0m\u001b[0mpath\u001b[0m\u001b[0;34m.\u001b[0m\u001b[0mjoin\u001b[0m\u001b[0;34m(\u001b[0m\u001b[0mroot\u001b[0m\u001b[0;34m,\u001b[0m \u001b[0msingle_file\u001b[0m\u001b[0;34m)\u001b[0m\u001b[0;34m\u001b[0m\u001b[0;34m\u001b[0m\u001b[0m\n\u001b[1;32m      3\u001b[0m     \u001b[0;31m#print(path_single_file)\u001b[0m\u001b[0;34m\u001b[0m\u001b[0;34m\u001b[0m\u001b[0;34m\u001b[0m\u001b[0m\n",
      "\u001b[0;31mNameError\u001b[0m: name 'jpg_list' is not defined"
     ]
    }
   ],
   "source": [
    "for single_file in jpg_list:\n",
    "    path_single_file = os.path.join(root, single_file)\n",
    "    #print(path_single_file)"
   ]
  },
  {
   "cell_type": "code",
   "execution_count": null,
   "id": "d3e4162d",
   "metadata": {},
   "outputs": [],
   "source": [
    "from fpdf import FPDF\n",
    "pdf = FPDF()"
   ]
  },
  {
   "cell_type": "code",
   "execution_count": null,
   "id": "691ad6da",
   "metadata": {},
   "outputs": [],
   "source": [
    "for image in jpg_list:\n",
    "    pdf.add_page()\n",
    "    pdf.image(image,x,y,w,h)\n",
    "pdf.output(\"yourfile.pdf\", \"F\")"
   ]
  },
  {
   "cell_type": "code",
   "execution_count": null,
   "id": "a83f4c5d",
   "metadata": {},
   "outputs": [],
   "source": [
    "from natsort import natsorted\n",
    "cc_folder = '/Volumes/WERDERNAS2X/VIDEOS2X/festplatten_content/COLORCLIMAX/temp_for_python'  \n",
    "for root, dirs, files in os.walk(cc_folder):\n",
    "    #print(root)\n",
    "    for single_dir in dirs:\n",
    "        single_dir_path = os.path.join(root, single_dir)\n",
    "        files_complete = [x for x in os.listdir(single_dir_path)]\n",
    "        for single_file in files_complete:\n",
    "            path_single_file = os.path.join(root, dir, single_file)\n",
    "            print(path_single_file)\n",
    "\n"
   ]
  },
  {
   "cell_type": "code",
   "execution_count": null,
   "id": "58113702",
   "metadata": {},
   "outputs": [],
   "source": [
    "\n"
   ]
  },
  {
   "cell_type": "code",
   "execution_count": null,
   "id": "941cacbb",
   "metadata": {},
   "outputs": [],
   "source": [
    "pwd"
   ]
  },
  {
   "cell_type": "code",
   "execution_count": null,
   "id": "a91ee560",
   "metadata": {},
   "outputs": [],
   "source": [
    "import glob\n",
    "output_file = \"/Volumes/WERDERNAS2X/VIDEOS2X/festplatten_content/colorclimax/temp_for_python/Story001/cc110.pdf\"\n",
    "with open(output_file,\"wb\") as f:\n",
    "    f.write(img2pdf.convert(glob.glob(\"/path/to/*.jpg\")))\n"
   ]
  },
  {
   "cell_type": "code",
   "execution_count": null,
   "id": "f7cfba67",
   "metadata": {},
   "outputs": [],
   "source": [
    "pwd"
   ]
  },
  {
   "cell_type": "code",
   "execution_count": null,
   "id": "768fad8d",
   "metadata": {},
   "outputs": [],
   "source": [
    "cd '/Volumes/WERDERNAS2X/VIDEOS2X/festplatten_content/COLORCLIMAX/temp_for_python/Story001'"
   ]
  },
  {
   "cell_type": "code",
   "execution_count": null,
   "id": "76c0c756",
   "metadata": {},
   "outputs": [],
   "source": [
    "import os\n",
    "import img2pdf\n",
    "\n",
    "with open(\"cc110.pdf\", \"wb\") as f:\n",
    "    f.write(img2pdf.convert([i for i in sorted(os.listdir()) if i.endswith(\".jpg\")]))\n",
    "    #f.write(img2pdf.convert([i for i in sorted(os.listdir(\"/Users/joerg/OneDrive/jupyter_notebooks/jpg_to_pdf_project/Color Climax Exciting 60/Color Climax Exciting 60\")) if i.endswith(\".jpg\")]))"
   ]
  },
  {
   "cell_type": "code",
   "execution_count": null,
   "id": "babe8792",
   "metadata": {},
   "outputs": [],
   "source": [
    "[i for i in sorted(os.listdir()) if i.endswith(\".jpg\")]"
   ]
  },
  {
   "cell_type": "code",
   "execution_count": null,
   "id": "b294e4e2",
   "metadata": {},
   "outputs": [],
   "source": []
  },
  {
   "cell_type": "code",
   "execution_count": null,
   "id": "7806812b",
   "metadata": {},
   "outputs": [],
   "source": [
    "sorted(os.listdir())"
   ]
  },
  {
   "cell_type": "code",
   "execution_count": null,
   "id": "2709d8fa",
   "metadata": {},
   "outputs": [],
   "source": [
    "#My dictionary\n",
    "dict = {}\n",
    "dict['Capital']=\"London\"\n",
    "dict['Food']=\"Fish&Chips\"\n",
    "dict['2012']=\"Olympics\"\n",
    "\n",
    "#lists\n",
    "temp = []\n",
    "dictList = []\n",
    "\n",
    "#My attempt:\n",
    "for schlüssel, wert in dict.items():\n",
    "    temp = [schlüssel,wert]\n",
    "    dictList.append(temp)"
   ]
  },
  {
   "cell_type": "code",
   "execution_count": null,
   "id": "4b0eaba9",
   "metadata": {},
   "outputs": [],
   "source": [
    "dictList"
   ]
  },
  {
   "cell_type": "code",
   "execution_count": null,
   "id": "64a1b14b",
   "metadata": {},
   "outputs": [],
   "source": [
    "[c for sublist in dictList for c in sublist]"
   ]
  },
  {
   "cell_type": "code",
   "execution_count": null,
   "id": "3ca9ae5b",
   "metadata": {},
   "outputs": [],
   "source": [
    "user_directory = \"/Users/joerg/Downloads\"\n",
    "os.listdir(user_directory)"
   ]
  },
  {
   "cell_type": "code",
   "execution_count": null,
   "id": "78b758f0",
   "metadata": {},
   "outputs": [],
   "source": []
  }
 ],
 "metadata": {
  "kernelspec": {
   "display_name": "Python 3",
   "language": "python",
   "name": "python3"
  },
  "language_info": {
   "codemirror_mode": {
    "name": "ipython",
    "version": 3
   },
   "file_extension": ".py",
   "mimetype": "text/x-python",
   "name": "python",
   "nbconvert_exporter": "python",
   "pygments_lexer": "ipython3",
   "version": "3.8.8"
  }
 },
 "nbformat": 4,
 "nbformat_minor": 5
}
