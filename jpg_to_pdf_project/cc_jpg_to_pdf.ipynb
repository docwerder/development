{
 "cells": [
  {
   "cell_type": "code",
   "execution_count": 1,
   "id": "68d8b47c",
   "metadata": {},
   "outputs": [],
   "source": [
    "import os\n",
    "from natsort import natsorted\n",
    "import img2pdf"
   ]
  },
  {
   "cell_type": "code",
   "execution_count": null,
   "id": "28a15f66",
   "metadata": {},
   "outputs": [],
   "source": [
    "ccc_folder = '/Users/joerg/Downloads/ccc_test'\n",
    "# for root, dirs, files in sorted(os.walk(ccc_folder, topdown=False)):\n",
    "#     print('root: ',  root)\n",
    "#     print('dirs: ',  dirs)\n",
    "#     print('files: ',  files)\n",
    "# for above_dir in sorted(os.listdir(ccc_folder)):\n",
    "#     print(sorted(os.listdir(os.path.join(ccc_folder, above_dir))))\n"
   ]
  },
  {
   "cell_type": "code",
   "execution_count": null,
   "id": "5debb649",
   "metadata": {},
   "outputs": [],
   "source": [
    "with open(\"cc110.pdf\", \"wb\") as f:\n",
    "    f.write(img2pdf.convert([i for i in sorted(os.listdir()) if i.endswith(\".jpg\")]))"
   ]
  },
  {
   "cell_type": "code",
   "execution_count": 2,
   "id": "825fb78e",
   "metadata": {},
   "outputs": [
    {
     "name": "stdout",
     "output_type": "stream",
     "text": [
      "/Volumes/WERDERNAS2X/VIDEOS2X/festplatten_content/COLORCLIMAX/temp_for_python\n"
     ]
    }
   ],
   "source": [
    "#cd '/Volumes/WERDERNAS2X/VIDEOS2X/festplatten_content/COLORCLIMAX/temp_for_python'\n",
    "cc_folder = '/Volumes/WERDERNAS2X/VIDEOS2X/festplatten_content/COLORCLIMAX/temp_for_python'  \n",
    "print(cc_folder)"
   ]
  },
  {
   "cell_type": "code",
   "execution_count": 6,
   "id": "90e12f22",
   "metadata": {},
   "outputs": [
    {
     "name": "stdout",
     "output_type": "stream",
     "text": [
      "[['Story001', 'Story002', 'Story003'], [], [], []]\n",
      "story001\n",
      "story002\n",
      "story003\n",
      "[]\n"
     ]
    }
   ],
   "source": [
    "\n",
    "ccc = [dir for rot, dir, files in os.walk(cc_folder)]\n",
    "print(ccc)\n",
    "jpg_list = [x.lower() for x in ccc[0]]\n",
    "\n",
    "for single_file in list(jpg_list):\n",
    "    print(single_file)\n",
    "for siing\n",
    "jpg_list = [i for i in sorted(os.listdir()) if i.endswith(\".jpg\")]   \n",
    "print(jpg_list)"
   ]
  },
  {
   "cell_type": "code",
   "execution_count": null,
   "id": "89529d21",
   "metadata": {},
   "outputs": [],
   "source": [
    "cd \"/Volumes/WERDERNAS2X/VIDEOS2X/festplatten_content/COLORCLIMAX/temp_for_python/Story001/\""
   ]
  },
  {
   "cell_type": "code",
   "execution_count": 5,
   "id": "14d36ea2",
   "metadata": {},
   "outputs": [
    {
     "data": {
      "text/plain": [
       "'/Users/joerg/OneDrive/jupyter_notebooks/jpg_to_pdf_project'"
      ]
     },
     "execution_count": 5,
     "metadata": {},
     "output_type": "execute_result"
    }
   ],
   "source": [
    "pwd"
   ]
  },
  {
   "cell_type": "code",
   "execution_count": null,
   "id": "57abf499",
   "metadata": {},
   "outputs": [],
   "source": [
    "\n",
    "\n",
    "f1 = \"/Volumes/WERDERNAS2X/VIDEOS2X/festplatten_content/COLORCLIMAX/temp_for_python/Story001/\"\n",
    "output_file = '/Volumes/WERDERNAS2X/VIDEOS2X/festplatten_content/colorclimax/temp_for_python/Story001/cc110.pdf'\n",
    "with open('cc110.pdf', \"wb\") as f:\n",
    "    f.write(img2pdf.convert([i for i in sorted(os.listdir()) if i.endswith(\".jpg\")]))\n",
    "#[i for i in sorted(os.listdir(f1)) if i.endswith(\".jpg\")]"
   ]
  },
  {
   "cell_type": "code",
   "execution_count": null,
   "id": "ec1d3aa3",
   "metadata": {},
   "outputs": [],
   "source": []
  },
  {
   "cell_type": "code",
   "execution_count": null,
   "id": "23725046",
   "metadata": {},
   "outputs": [],
   "source": [
    "for single_file in jpg_list:\n",
    "    path_single_file = os.path.join(root, single_file)\n",
    "    #print(path_single_file)"
   ]
  },
  {
   "cell_type": "code",
   "execution_count": null,
   "id": "c49f14da",
   "metadata": {},
   "outputs": [],
   "source": [
    "from fpdf import FPDF\n",
    "pdf = FPDF()"
   ]
  },
  {
   "cell_type": "code",
   "execution_count": null,
   "id": "0e0aae6a",
   "metadata": {},
   "outputs": [],
   "source": [
    "for image in jpg_list:\n",
    "    pdf.add_page()\n",
    "    pdf.image(image,x,y,w,h)\n",
    "pdf.output(\"yourfile.pdf\", \"F\")"
   ]
  },
  {
   "cell_type": "code",
   "execution_count": 20,
   "id": "c2e95114",
   "metadata": {},
   "outputs": [
    {
     "name": "stdout",
     "output_type": "stream",
     "text": [
      "/Volumes/WERDERNAS2X/VIDEOS2X/festplatten_content/COLORCLIMAX/temp_for_python/Story001/cc110a01.jpg\n",
      "/Volumes/WERDERNAS2X/VIDEOS2X/festplatten_content/COLORCLIMAX/temp_for_python/Story001/cc110a02.jpg\n",
      "/Volumes/WERDERNAS2X/VIDEOS2X/festplatten_content/COLORCLIMAX/temp_for_python/Story001/cc110a03.jpg\n",
      "/Volumes/WERDERNAS2X/VIDEOS2X/festplatten_content/COLORCLIMAX/temp_for_python/Story001/cc110a04.jpg\n",
      "/Volumes/WERDERNAS2X/VIDEOS2X/festplatten_content/COLORCLIMAX/temp_for_python/Story001/cc110a05.jpg\n",
      "/Volumes/WERDERNAS2X/VIDEOS2X/festplatten_content/COLORCLIMAX/temp_for_python/Story001/cc110a06.jpg\n",
      "/Volumes/WERDERNAS2X/VIDEOS2X/festplatten_content/COLORCLIMAX/temp_for_python/Story001/cc110a07.jpg\n",
      "/Volumes/WERDERNAS2X/VIDEOS2X/festplatten_content/COLORCLIMAX/temp_for_python/Story001/cc110a08.jpg\n",
      "/Volumes/WERDERNAS2X/VIDEOS2X/festplatten_content/COLORCLIMAX/temp_for_python/Story001/cc110a09.jpg\n",
      "/Volumes/WERDERNAS2X/VIDEOS2X/festplatten_content/COLORCLIMAX/temp_for_python/Story001/cc110a10.jpg\n",
      "/Volumes/WERDERNAS2X/VIDEOS2X/festplatten_content/COLORCLIMAX/temp_for_python/Story001/cc110a11.jpg\n",
      "/Volumes/WERDERNAS2X/VIDEOS2X/festplatten_content/COLORCLIMAX/temp_for_python/Story001/cc110a12.jpg\n",
      "/Volumes/WERDERNAS2X/VIDEOS2X/festplatten_content/COLORCLIMAX/temp_for_python/Story001/cc110a13.jpg\n",
      "/Volumes/WERDERNAS2X/VIDEOS2X/festplatten_content/COLORCLIMAX/temp_for_python/Story001/cc110a14.jpg\n",
      "/Volumes/WERDERNAS2X/VIDEOS2X/festplatten_content/COLORCLIMAX/temp_for_python/Story001/cc110a15.jpg\n",
      "/Volumes/WERDERNAS2X/VIDEOS2X/festplatten_content/COLORCLIMAX/temp_for_python/Story001/cc110a16.jpg\n",
      "/Volumes/WERDERNAS2X/VIDEOS2X/festplatten_content/COLORCLIMAX/temp_for_python/Story001/cc110a17.jpg\n",
      "/Volumes/WERDERNAS2X/VIDEOS2X/festplatten_content/COLORCLIMAX/temp_for_python/Story001/cc110a18.jpg\n",
      "/Volumes/WERDERNAS2X/VIDEOS2X/festplatten_content/COLORCLIMAX/temp_for_python/Story001/cc110a19.jpg\n",
      "/Volumes/WERDERNAS2X/VIDEOS2X/festplatten_content/COLORCLIMAX/temp_for_python/Story001/cc110a20.jpg\n",
      "/Volumes/WERDERNAS2X/VIDEOS2X/festplatten_content/COLORCLIMAX/temp_for_python/Story001/cc110a21.jpg\n",
      "/Volumes/WERDERNAS2X/VIDEOS2X/festplatten_content/COLORCLIMAX/temp_for_python/Story001/cc110a22.jpg\n",
      "/Volumes/WERDERNAS2X/VIDEOS2X/festplatten_content/COLORCLIMAX/temp_for_python/Story001/Horny Game.html\n",
      "/Volumes/WERDERNAS2X/VIDEOS2X/festplatten_content/COLORCLIMAX/temp_for_python/Story001/cc110d01.jpg\n",
      "/Volumes/WERDERNAS2X/VIDEOS2X/festplatten_content/COLORCLIMAX/temp_for_python/Story001/cc110d02.jpg\n",
      "/Volumes/WERDERNAS2X/VIDEOS2X/festplatten_content/COLORCLIMAX/temp_for_python/Story001/cc110d03.jpg\n",
      "/Volumes/WERDERNAS2X/VIDEOS2X/festplatten_content/COLORCLIMAX/temp_for_python/Story001/cc110d04.jpg\n",
      "/Volumes/WERDERNAS2X/VIDEOS2X/festplatten_content/COLORCLIMAX/temp_for_python/Story001/cc110d05.jpg\n",
      "/Volumes/WERDERNAS2X/VIDEOS2X/festplatten_content/COLORCLIMAX/temp_for_python/Story001/cc110d06.jpg\n",
      "/Volumes/WERDERNAS2X/VIDEOS2X/festplatten_content/COLORCLIMAX/temp_for_python/Story001/cc110d07.jpg\n",
      "/Volumes/WERDERNAS2X/VIDEOS2X/festplatten_content/COLORCLIMAX/temp_for_python/Story001/cc110d08.jpg\n",
      "/Volumes/WERDERNAS2X/VIDEOS2X/festplatten_content/COLORCLIMAX/temp_for_python/Story001/cc110d09.jpg\n",
      "/Volumes/WERDERNAS2X/VIDEOS2X/festplatten_content/COLORCLIMAX/temp_for_python/Story001/cc110d10.jpg\n",
      "/Volumes/WERDERNAS2X/VIDEOS2X/festplatten_content/COLORCLIMAX/temp_for_python/Story001/cc110d11.jpg\n",
      "/Volumes/WERDERNAS2X/VIDEOS2X/festplatten_content/COLORCLIMAX/temp_for_python/Story001/cc110d12.jpg\n",
      "/Volumes/WERDERNAS2X/VIDEOS2X/festplatten_content/COLORCLIMAX/temp_for_python/Story001/cc110d13.jpg\n",
      "/Volumes/WERDERNAS2X/VIDEOS2X/festplatten_content/COLORCLIMAX/temp_for_python/Story001/cc110d14.jpg\n",
      "/Volumes/WERDERNAS2X/VIDEOS2X/festplatten_content/COLORCLIMAX/temp_for_python/Story001/cc110d15.jpg\n",
      "/Volumes/WERDERNAS2X/VIDEOS2X/festplatten_content/COLORCLIMAX/temp_for_python/Story001/cc110d16.jpg\n",
      "/Volumes/WERDERNAS2X/VIDEOS2X/festplatten_content/COLORCLIMAX/temp_for_python/Story001/cc110d17.jpg\n",
      "/Volumes/WERDERNAS2X/VIDEOS2X/festplatten_content/COLORCLIMAX/temp_for_python/Story001/cc110d18.jpg\n",
      "/Volumes/WERDERNAS2X/VIDEOS2X/festplatten_content/COLORCLIMAX/temp_for_python/Story001/cc110d19.jpg\n",
      "/Volumes/WERDERNAS2X/VIDEOS2X/festplatten_content/COLORCLIMAX/temp_for_python/Story001/cc110d20.jpg\n",
      "/Volumes/WERDERNAS2X/VIDEOS2X/festplatten_content/COLORCLIMAX/temp_for_python/Story001/cc110d21.jpg\n",
      "/Volumes/WERDERNAS2X/VIDEOS2X/festplatten_content/COLORCLIMAX/temp_for_python/Story001/cc110d22.jpg\n",
      "/Volumes/WERDERNAS2X/VIDEOS2X/festplatten_content/COLORCLIMAX/temp_for_python/Story001/Horny Stud.htm\n",
      "/Volumes/WERDERNAS2X/VIDEOS2X/festplatten_content/COLORCLIMAX/temp_for_python/Story001/Black Bun Buster.htm\n",
      "/Volumes/WERDERNAS2X/VIDEOS2X/festplatten_content/COLORCLIMAX/temp_for_python/Story001/cc109j01.jpg\n",
      "/Volumes/WERDERNAS2X/VIDEOS2X/festplatten_content/COLORCLIMAX/temp_for_python/Story001/cc109j02.jpg\n",
      "/Volumes/WERDERNAS2X/VIDEOS2X/festplatten_content/COLORCLIMAX/temp_for_python/Story001/cc109j03.jpg\n",
      "/Volumes/WERDERNAS2X/VIDEOS2X/festplatten_content/COLORCLIMAX/temp_for_python/Story001/cc109j04.jpg\n",
      "/Volumes/WERDERNAS2X/VIDEOS2X/festplatten_content/COLORCLIMAX/temp_for_python/Story001/cc109j05.jpg\n",
      "/Volumes/WERDERNAS2X/VIDEOS2X/festplatten_content/COLORCLIMAX/temp_for_python/Story001/cc109j06.jpg\n",
      "/Volumes/WERDERNAS2X/VIDEOS2X/festplatten_content/COLORCLIMAX/temp_for_python/Story001/cc109j07.jpg\n",
      "/Volumes/WERDERNAS2X/VIDEOS2X/festplatten_content/COLORCLIMAX/temp_for_python/Story001/cc109j08.jpg\n",
      "/Volumes/WERDERNAS2X/VIDEOS2X/festplatten_content/COLORCLIMAX/temp_for_python/Story001/cc109j09.jpg\n",
      "/Volumes/WERDERNAS2X/VIDEOS2X/festplatten_content/COLORCLIMAX/temp_for_python/Story001/cc109j10.jpg\n",
      "/Volumes/WERDERNAS2X/VIDEOS2X/festplatten_content/COLORCLIMAX/temp_for_python/Story001/cc109j11.jpg\n",
      "/Volumes/WERDERNAS2X/VIDEOS2X/festplatten_content/COLORCLIMAX/temp_for_python/Story001/cc109j12.jpg\n",
      "/Volumes/WERDERNAS2X/VIDEOS2X/festplatten_content/COLORCLIMAX/temp_for_python/Story001/cc109j13.jpg\n",
      "/Volumes/WERDERNAS2X/VIDEOS2X/festplatten_content/COLORCLIMAX/temp_for_python/Story001/cc109j14.jpg\n",
      "/Volumes/WERDERNAS2X/VIDEOS2X/festplatten_content/COLORCLIMAX/temp_for_python/Story001/cc109j15.jpg\n",
      "/Volumes/WERDERNAS2X/VIDEOS2X/festplatten_content/COLORCLIMAX/temp_for_python/Story001/cc109j16.jpg\n",
      "/Volumes/WERDERNAS2X/VIDEOS2X/festplatten_content/COLORCLIMAX/temp_for_python/Story001/cc109j17.jpg\n",
      "/Volumes/WERDERNAS2X/VIDEOS2X/festplatten_content/COLORCLIMAX/temp_for_python/Story001/cc109j18.jpg\n",
      "/Volumes/WERDERNAS2X/VIDEOS2X/festplatten_content/COLORCLIMAX/temp_for_python/Story001/cc109j19.jpg\n",
      "/Volumes/WERDERNAS2X/VIDEOS2X/festplatten_content/COLORCLIMAX/temp_for_python/Story001/cc109j20.jpg\n",
      "/Volumes/WERDERNAS2X/VIDEOS2X/festplatten_content/COLORCLIMAX/temp_for_python/Story001/cc109j21.jpg\n",
      "/Volumes/WERDERNAS2X/VIDEOS2X/festplatten_content/COLORCLIMAX/temp_for_python/Story001/cc109j22.jpg\n"
     ]
    }
   ],
   "source": [
    "from natsort import natsorted\n",
    "cc_folder = '/Volumes/WERDERNAS2X/VIDEOS2X/festplatten_content/COLORCLIMAX/temp_for_python'  \n",
    "for root, dirs, files in os.walk(cc_folder):\n",
    "    #print(root)\n",
    "    for single_dir in dirs:\n",
    "        single_dir_path = os.path.join(root, single_dir)\n",
    "        files_complete = [x for x in os.listdir(single_dir_path)]\n",
    "        for single_file in files_complete:\n",
    "            path_single_file = os.path.join(root, dir, single_file)\n",
    "            print(path_single_file)\n",
    "\n"
   ]
  },
  {
   "cell_type": "code",
   "execution_count": 29,
   "id": "19425035",
   "metadata": {},
   "outputs": [
    {
     "ename": "SyntaxError",
     "evalue": "invalid syntax (<ipython-input-29-83b03f0d24fa>, line 2)",
     "output_type": "error",
     "traceback": [
      "\u001b[0;36m  File \u001b[0;32m\"<ipython-input-29-83b03f0d24fa>\"\u001b[0;36m, line \u001b[0;32m2\u001b[0m\n\u001b[0;31m    cd '/Volumes'#/WERDERNAS2X/VIDEOS2X/festplatten_content/COLORCLIMAX/temp_for_python/'\u001b[0m\n\u001b[0m       ^\u001b[0m\n\u001b[0;31mSyntaxError\u001b[0m\u001b[0;31m:\u001b[0m invalid syntax\n"
     ]
    }
   ],
   "source": [
    "# Walking a directory tree and printing the names of the directories and files\n",
    "cd '/Volumes' #/WERDERNAS2X/VIDEOS2X/festplatten_content/COLORCLIMAX/temp_for_python/'\n",
    "for dirpath, dirnames, files in os.walk('.'):\n",
    "    print(f'Found directory: {dirpath}')\n",
    "    for file_name in files:\n",
    "        print(file_name)\n"
   ]
  },
  {
   "cell_type": "code",
   "execution_count": 24,
   "id": "6ba4b584",
   "metadata": {},
   "outputs": [
    {
     "data": {
      "text/plain": [
       "'/Users/joerg/OneDrive/jupyter_notebooks/jpg_to_pdf_project'"
      ]
     },
     "execution_count": 24,
     "metadata": {},
     "output_type": "execute_result"
    }
   ],
   "source": [
    "pwd"
   ]
  },
  {
   "cell_type": "code",
   "execution_count": null,
   "id": "574d98ab",
   "metadata": {},
   "outputs": [],
   "source": [
    "import glob\n",
    "output_file = \"/Volumes/WERDERNAS2X/VIDEOS2X/festplatten_content/colorclimax/temp_for_python/Story001/cc110.pdf\"\n",
    "with open(output_file,\"wb\") as f:\n",
    "    f.write(img2pdf.convert(glob.glob(\"/path/to/*.jpg\")))\n"
   ]
  },
  {
   "cell_type": "code",
   "execution_count": null,
   "id": "ee1cc0cc",
   "metadata": {},
   "outputs": [],
   "source": [
    "pwd"
   ]
  },
  {
   "cell_type": "code",
   "execution_count": null,
   "id": "af5cdc16",
   "metadata": {},
   "outputs": [],
   "source": [
    "cd '/Volumes/WERDERNAS2X/VIDEOS2X/festplatten_content/COLORCLIMAX/temp_for_python/Story001'"
   ]
  },
  {
   "cell_type": "code",
   "execution_count": null,
   "id": "24b0b83f",
   "metadata": {},
   "outputs": [],
   "source": [
    "import os\n",
    "import img2pdf\n",
    "\n",
    "with open(\"cc110.pdf\", \"wb\") as f:\n",
    "    f.write(img2pdf.convert([i for i in sorted(os.listdir()) if i.endswith(\".jpg\")]))\n",
    "    #f.write(img2pdf.convert([i for i in sorted(os.listdir(\"/Users/joerg/OneDrive/jupyter_notebooks/jpg_to_pdf_project/Color Climax Exciting 60/Color Climax Exciting 60\")) if i.endswith(\".jpg\")]))"
   ]
  },
  {
   "cell_type": "code",
   "execution_count": null,
   "id": "89926fa0",
   "metadata": {},
   "outputs": [],
   "source": [
    "[i for i in sorted(os.listdir()) if i.endswith(\".jpg\")]"
   ]
  },
  {
   "cell_type": "code",
   "execution_count": null,
   "id": "359aa3ca",
   "metadata": {},
   "outputs": [],
   "source": []
  },
  {
   "cell_type": "code",
   "execution_count": null,
   "id": "fc44669e",
   "metadata": {},
   "outputs": [],
   "source": [
    "sorted(os.listdir())"
   ]
  },
  {
   "cell_type": "code",
   "execution_count": null,
   "id": "6ba85d44",
   "metadata": {},
   "outputs": [],
   "source": [
    "#My dictionary\n",
    "dict = {}\n",
    "dict['Capital']=\"London\"\n",
    "dict['Food']=\"Fish&Chips\"\n",
    "dict['2012']=\"Olympics\"\n",
    "\n",
    "#lists\n",
    "temp = []\n",
    "dictList = []\n",
    "\n",
    "#My attempt:\n",
    "for schlüssel, wert in dict.items():\n",
    "    temp = [schlüssel,wert]\n",
    "    dictList.append(temp)"
   ]
  },
  {
   "cell_type": "code",
   "execution_count": null,
   "id": "88442d0a",
   "metadata": {},
   "outputs": [],
   "source": [
    "dictList"
   ]
  },
  {
   "cell_type": "code",
   "execution_count": null,
   "id": "b663cf7e",
   "metadata": {},
   "outputs": [],
   "source": [
    "[c for sublist in dictList for c in sublist]"
   ]
  },
  {
   "cell_type": "code",
   "execution_count": null,
   "id": "b18b972f",
   "metadata": {},
   "outputs": [],
   "source": [
    "user_directory = \"/Users/joerg/Downloads\"\n",
    "os.listdir(user_directory)"
   ]
  },
  {
   "cell_type": "code",
   "execution_count": null,
   "id": "cd21e8f7",
   "metadata": {},
   "outputs": [],
   "source": []
  }
 ],
 "metadata": {
  "kernelspec": {
   "display_name": "Python 3",
   "language": "python",
   "name": "python3"
  },
  "language_info": {
   "codemirror_mode": {
    "name": "ipython",
    "version": 3
   },
   "file_extension": ".py",
   "mimetype": "text/x-python",
   "name": "python",
   "nbconvert_exporter": "python",
   "pygments_lexer": "ipython3",
   "version": "3.8.8"
  }
 },
 "nbformat": 4,
 "nbformat_minor": 5
}
