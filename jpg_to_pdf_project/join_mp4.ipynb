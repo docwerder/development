{
 "cells": [
  {
   "cell_type": "code",
   "execution_count": 4,
   "id": "d8ac9de8",
   "metadata": {},
   "outputs": [],
   "source": [
    "from moviepy.editor import *\n",
    "import os\n",
    "from natsort import natsorted"
   ]
  },
  {
   "cell_type": "code",
   "execution_count": 10,
   "id": "f543419c",
   "metadata": {},
   "outputs": [
    {
     "name": "stdout",
     "output_type": "stream",
     "text": [
      "Rocco's Perfect Slaves 2 - Scene 1.mp4\n",
      "/Users/joerg/Downloads/Newshosting/roc/video/Rocco's Perfect Slaves 2 - Scene 1.mp4\n",
      "/Users/joerg/Downloads/Newshosting/roc/video\n",
      "Rocco's Perfect Slaves 2 - Scene 2.mp4\n",
      "/Users/joerg/Downloads/Newshosting/roc/video/Rocco's Perfect Slaves 2 - Scene 2.mp4\n",
      "/Users/joerg/Downloads/Newshosting/roc/video\n",
      "Rocco's Perfect Slaves 2 - Scene 3.mp4\n",
      "/Users/joerg/Downloads/Newshosting/roc/video/Rocco's Perfect Slaves 2 - Scene 3.mp4\n",
      "/Users/joerg/Downloads/Newshosting/roc/video\n"
     ]
    },
    {
     "name": "stderr",
     "output_type": "stream",
     "text": [
      "chunk:   0%|          | 153/210464 [00:00<02:20, 1498.40it/s, now=None]"
     ]
    },
    {
     "name": "stdout",
     "output_type": "stream",
     "text": [
      "Moviepy - Building video /Users/joerg/Downloads/Newshosting/roc/video/roccos_perfect_slaves.mp4.\n",
      "MoviePy - Writing audio in roccos_perfect_slavesTEMP_MPY_wvf_snd.mp3\n"
     ]
    },
    {
     "name": "stderr",
     "output_type": "stream",
     "text": [
      "t:   0%|          | 38/229076 [00:00<10:08, 376.54it/s, now=None]         "
     ]
    },
    {
     "name": "stdout",
     "output_type": "stream",
     "text": [
      "MoviePy - Done.\n",
      "Moviepy - Writing video /Users/joerg/Downloads/Newshosting/roc/video/roccos_perfect_slaves.mp4\n",
      "\n"
     ]
    },
    {
     "name": "stderr",
     "output_type": "stream",
     "text": [
      "                                                                     \r"
     ]
    },
    {
     "name": "stdout",
     "output_type": "stream",
     "text": [
      "Moviepy - Done !\n",
      "Moviepy - video ready /Users/joerg/Downloads/Newshosting/roc/video/roccos_perfect_slaves.mp4\n"
     ]
    }
   ],
   "source": [
    "L = []\n",
    "\n",
    "for root, dirs, files in os.walk(\"/Users/joerg/Downloads/Newshosting/roc/video\"):\n",
    "    \n",
    "    #files.sort()\n",
    "    files = natsorted(files)\n",
    "    for file in files:\n",
    "        if os.path.splitext(file)[1] == \".mp4\":\n",
    "            filePath = os.path.join(root, file)\n",
    "            print(file)\n",
    "            print(filePath)\n",
    "            print(root)\n",
    "            video = VideoFileClip(filePath)\n",
    "            L.append(video)\n",
    "\n",
    "final_clip = concatenate_videoclips(L)\n",
    "path_final_clip = os.path.join(root, 'roccos_perfect_slaves.mp4')\n",
    "final_clip.to_videofile(path_final_clip, fps=24, remove_temp=False)"
   ]
  },
  {
   "cell_type": "code",
   "execution_count": null,
   "id": "c07ddc8f",
   "metadata": {},
   "outputs": [],
   "source": []
  }
 ],
 "metadata": {
  "kernelspec": {
   "display_name": "python38",
   "language": "python",
   "name": "python38"
  },
  "language_info": {
   "codemirror_mode": {
    "name": "ipython",
    "version": 3
   },
   "file_extension": ".py",
   "mimetype": "text/x-python",
   "name": "python",
   "nbconvert_exporter": "python",
   "pygments_lexer": "ipython3",
   "version": "3.8.8"
  }
 },
 "nbformat": 4,
 "nbformat_minor": 5
}
