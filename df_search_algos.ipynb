{
 "cells": [
  {
   "cell_type": "markdown",
   "metadata": {},
   "source": [
    "Define the relevant functions: `search_function` , `get_column_names` and `highlight_value`    \n",
    "All depends on a special given search_string"
   ]
  },
  {
   "cell_type": "code",
   "execution_count": 2,
   "metadata": {},
   "outputs": [],
   "source": [
    "# Define the search function in a given dataframe\n",
    "# a given search_string\n",
    "\n",
    "# def search_df(dataFrame, search_string):\n",
    "#     mask = (dataFrame.applymap(lambda x: isinstance(x, str) and search_string in x)).any(1)\n",
    "#     return dataFrame[mask]\n",
    "\n",
    "# Caution: The following function is the \n",
    "# newer version compared to the one at ROSEN\n",
    "\n",
    "def get_column_names(dataFrame, search_string):\n",
    "    filter_column = (dataFrame.applymap(lambda x: isinstance(x, str) and search_string in x)).any(0)\n",
    "    filter_row = (dataFrame.applymap(lambda x: isinstance(x, str) and search_string in x)).any(1)\n",
    "    # print('filter_column: ', filter_column)\n",
    "    print('len: ', len(filter_column))\n",
    "    found = 0\n",
    "    for lf, i in zip(filter_column, range(len(filter_column))):\n",
    "        # print(filter_column)\n",
    "        if lf: # True\n",
    "            found = 1\n",
    "            found_corresponding_cols = filter_column.index[i]\n",
    "            found_corresponding_rows = filter_row.index[i]\n",
    "            print(f'Search String {search_string} found. \\n Corresponding column: {found_corresponding_cols}')\n",
    "            print(f'Corresponding Index: {found_corresponding_rows}')\n",
    "\n",
    "    \n",
    "    if found == 0:\n",
    "        print(f'Search_string {search_string} not found !')\n",
    "\n",
    "def get_column_names_with_row(dataFrame, search_string):\n",
    "    filter_column = (dataFrame.applymap(lambda x: isinstance(x, str) and search_string in x)).any(0)\n",
    "    filter_row = (dataFrame.applymap(lambda x: isinstance(x, str) and search_string in x)).any(1)\n",
    "    df_row_filtered = dataFrame[filter_row]\n",
    "\n",
    "    found = 0\n",
    "    for lf, i in zip(filter_column, range(len(filter_column))):\n",
    "        # print(filter_column)\n",
    "        if lf: # True\n",
    "            found = 1\n",
    "            found_corresponding_cols = filter_column.index[i]\n",
    "            found_corresponding_rows = filter_row.index[i]\n",
    "            idx_rows = df_row_filtered[df_row_filtered[found_corresponding_cols].str.contains(search_string)].index\n",
    "            print(f'Search String {search_string} found. \\n Corresponding column: {found_corresponding_cols} in row: ', idx_rows.tolist())\n",
    "            print(f'Corresponding Index: {found_corresponding_rows}')\n",
    "\n",
    "    \n",
    "    if found == 0:\n",
    "        print(f'Search_string {search_string} not found !')"
   ]
  },
  {
   "cell_type": "code",
   "execution_count": null,
   "metadata": {},
   "outputs": [],
   "source": [
    "from functools import partial\n",
    "def hightlight_value(val, sstr):\n",
    "    color = 'yellow' if sstr in str(val) else ''\n",
    "    return f'background-color: {color}'"
   ]
  },
  {
   "cell_type": "code",
   "execution_count": null,
   "metadata": {},
   "outputs": [],
   "source": [
    "search_string = 'angelas'\n",
    "len((df_final.applymap(lambda x: isinstance(x, str) and search_string in x)).any(0)), \n",
    "x1 = (df_final.applymap(lambda x: isinstance(x, str) and search_string in x)).any(1)"
   ]
  },
  {
   "cell_type": "code",
   "execution_count": 6,
   "metadata": {},
   "outputs": [],
   "source": [
    "search_Str = \"preppies\"\n",
    "filter_col = (df_final.applymap(lambda x: isinstance(x, str) and search_Str in x)).any(0)\n",
    "sstr_cols = [col_name for col_name in filter_col.index if filter_col[col_name] == True]\n"
   ]
  },
  {
   "cell_type": "code",
   "execution_count": 7,
   "metadata": {},
   "outputs": [
    {
     "data": {
      "text/plain": [
       "['Title', 'Link']"
      ]
     },
     "execution_count": 7,
     "metadata": {},
     "output_type": "execute_result"
    }
   ],
   "source": [
    "sstr_cols"
   ]
  },
  {
   "cell_type": "code",
   "execution_count": 8,
   "metadata": {},
   "outputs": [],
   "source": [
    "collect_df = []\n",
    "for col in sstr_cols:\n",
    "    tmp = df_final[df_final[col].apply(lambda x: isinstance(x, str) and search_Str in x)]\n",
    "    collect_df.append(tmp)\n",
    "collect_df = pd.concat(collect_df)\n"
   ]
  },
  {
   "cell_type": "code",
   "execution_count": null,
   "metadata": {},
   "outputs": [],
   "source": [
    "collect_df"
   ]
  },
  {
   "cell_type": "code",
   "execution_count": null,
   "metadata": {},
   "outputs": [],
   "source": []
  },
  {
   "cell_type": "code",
   "execution_count": 3,
   "metadata": {},
   "outputs": [
    {
     "ename": "NameError",
     "evalue": "name 'get_column_names' is not defined",
     "output_type": "error",
     "traceback": [
      "\u001b[0;31m---------------------------------------------------------------------------\u001b[0m",
      "\u001b[0;31mNameError\u001b[0m                                 Traceback (most recent call last)",
      "\u001b[1;32m/Users/joerg/repos/development/df_search_algos.ipynb Cell 10\u001b[0m in \u001b[0;36m<cell line: 1>\u001b[0;34m()\u001b[0m\n\u001b[0;32m----> <a href='vscode-notebook-cell:/Users/joerg/repos/development/df_search_algos.ipynb#X26sZmlsZQ%3D%3D?line=0'>1</a>\u001b[0m get_column_names(df_final, \u001b[39m'\u001b[39m\u001b[39mdont_forget_to_blow_your_server\u001b[39m\u001b[39m'\u001b[39m)\n",
      "\u001b[0;31mNameError\u001b[0m: name 'get_column_names' is not defined"
     ]
    }
   ],
   "source": [
    "get_column_names(df_final, 'dont_forget_to_blow_your_server')"
   ]
  },
  {
   "cell_type": "code",
   "execution_count": 3,
   "metadata": {},
   "outputs": [
    {
     "ename": "NameError",
     "evalue": "name 'df_final' is not defined",
     "output_type": "error",
     "traceback": [
      "\u001b[0;31m---------------------------------------------------------------------------\u001b[0m",
      "\u001b[0;31mNameError\u001b[0m                                 Traceback (most recent call last)",
      "\u001b[1;32m/Users/joerg/repos/development/df_search_algos.ipynb Cell 11\u001b[0m in \u001b[0;36m<cell line: 1>\u001b[0;34m()\u001b[0m\n\u001b[0;32m----> <a href='vscode-notebook-cell:/Users/joerg/repos/development/df_search_algos.ipynb#X13sZmlsZQ%3D%3D?line=0'>1</a>\u001b[0m df_final\n",
      "\u001b[0;31mNameError\u001b[0m: name 'df_final' is not defined"
     ]
    }
   ],
   "source": [
    "df_final"
   ]
  },
  {
   "cell_type": "code",
   "execution_count": null,
   "metadata": {},
   "outputs": [],
   "source": []
  },
  {
   "cell_type": "code",
   "execution_count": null,
   "metadata": {},
   "outputs": [],
   "source": []
  },
  {
   "cell_type": "code",
   "execution_count": null,
   "metadata": {},
   "outputs": [],
   "source": [
    "df_final[df_final['PS1'].str.contains(\"Angela\")]"
   ]
  },
  {
   "cell_type": "code",
   "execution_count": null,
   "metadata": {},
   "outputs": [],
   "source": [
    "import pandas as pd\n",
    "pd.set_option('display.max_columns', 500)\n",
    "search_string = 'Rebecca'\n",
    "\n",
    "highlight = partial(hightlight_value, sstr=search_string)\n",
    "df_final.style.applymap(highlight)\n"
   ]
  },
  {
   "cell_type": "code",
   "execution_count": null,
   "metadata": {},
   "outputs": [],
   "source": []
  },
  {
   "cell_type": "markdown",
   "metadata": {},
   "source": [
    "Load corresponding csv-files for testing."
   ]
  },
  {
   "cell_type": "code",
   "execution_count": 4,
   "metadata": {},
   "outputs": [],
   "source": [
    "import pandas as pd\n",
    "df_final = pd.read_csv(\"../braz/df_final_my_db_29_08_22.csv\", index_col=[0])"
   ]
  },
  {
   "cell_type": "code",
   "execution_count": 5,
   "metadata": {},
   "outputs": [
    {
     "data": {
      "text/html": [
       "<div>\n",
       "<style scoped>\n",
       "    .dataframe tbody tr th:only-of-type {\n",
       "        vertical-align: middle;\n",
       "    }\n",
       "\n",
       "    .dataframe tbody tr th {\n",
       "        vertical-align: top;\n",
       "    }\n",
       "\n",
       "    .dataframe thead th {\n",
       "        text-align: right;\n",
       "    }\n",
       "</style>\n",
       "<table border=\"1\" class=\"dataframe\">\n",
       "  <thead>\n",
       "    <tr style=\"text-align: right;\">\n",
       "      <th></th>\n",
       "      <th>Site</th>\n",
       "      <th>PS1</th>\n",
       "      <th>PS2</th>\n",
       "      <th>PS3</th>\n",
       "      <th>Title</th>\n",
       "      <th>PS4</th>\n",
       "      <th>PS5</th>\n",
       "      <th>PS6</th>\n",
       "      <th>PS7</th>\n",
       "      <th>PS8</th>\n",
       "      <th>PS9</th>\n",
       "      <th>PS10</th>\n",
       "      <th>Location</th>\n",
       "      <th>Link</th>\n",
       "    </tr>\n",
       "  </thead>\n",
       "  <tbody>\n",
       "    <tr>\n",
       "      <th>0</th>\n",
       "      <td>Baby Got Boobs</td>\n",
       "      <td>Alexis Ford</td>\n",
       "      <td>No Name</td>\n",
       "      <td>No Name</td>\n",
       "      <td>happy_boob_day_720p</td>\n",
       "      <td>No Name</td>\n",
       "      <td>No Name</td>\n",
       "      <td>No Name</td>\n",
       "      <td>No Name</td>\n",
       "      <td>No Name</td>\n",
       "      <td>No Name</td>\n",
       "      <td>No Name</td>\n",
       "      <td>WERDERNASX</td>\n",
       "      <td>/Volumes/WERDERNASX/VIDEOSX/BRAZZERS/baby_got_...</td>\n",
       "    </tr>\n",
       "    <tr>\n",
       "      <th>1</th>\n",
       "      <td>Baby Got Boobs</td>\n",
       "      <td>Alexis Ford</td>\n",
       "      <td>No Name</td>\n",
       "      <td>No Name</td>\n",
       "      <td>make_it_up_to_my_dick_720p</td>\n",
       "      <td>No Name</td>\n",
       "      <td>No Name</td>\n",
       "      <td>No Name</td>\n",
       "      <td>No Name</td>\n",
       "      <td>No Name</td>\n",
       "      <td>No Name</td>\n",
       "      <td>No Name</td>\n",
       "      <td>WERDERNASX</td>\n",
       "      <td>/Volumes/WERDERNASX/VIDEOSX/BRAZZERS/baby_got_...</td>\n",
       "    </tr>\n",
       "    <tr>\n",
       "      <th>2</th>\n",
       "      <td>Baby Got Boobs</td>\n",
       "      <td>Alexis Ford</td>\n",
       "      <td>No Name</td>\n",
       "      <td>No Name</td>\n",
       "      <td>xxx_men_the_hellfire_club_720p</td>\n",
       "      <td>No Name</td>\n",
       "      <td>No Name</td>\n",
       "      <td>No Name</td>\n",
       "      <td>No Name</td>\n",
       "      <td>No Name</td>\n",
       "      <td>No Name</td>\n",
       "      <td>No Name</td>\n",
       "      <td>WERDERNASX</td>\n",
       "      <td>/Volumes/WERDERNASX/VIDEOSX/BRAZZERS/baby_got_...</td>\n",
       "    </tr>\n",
       "  </tbody>\n",
       "</table>\n",
       "</div>"
      ],
      "text/plain": [
       "             Site          PS1      PS2      PS3  \\\n",
       "0  Baby Got Boobs  Alexis Ford  No Name  No Name   \n",
       "1  Baby Got Boobs  Alexis Ford  No Name  No Name   \n",
       "2  Baby Got Boobs  Alexis Ford  No Name  No Name   \n",
       "\n",
       "                            Title      PS4      PS5      PS6      PS7  \\\n",
       "0             happy_boob_day_720p  No Name  No Name  No Name  No Name   \n",
       "1      make_it_up_to_my_dick_720p  No Name  No Name  No Name  No Name   \n",
       "2  xxx_men_the_hellfire_club_720p  No Name  No Name  No Name  No Name   \n",
       "\n",
       "       PS8      PS9     PS10    Location  \\\n",
       "0  No Name  No Name  No Name  WERDERNASX   \n",
       "1  No Name  No Name  No Name  WERDERNASX   \n",
       "2  No Name  No Name  No Name  WERDERNASX   \n",
       "\n",
       "                                                Link  \n",
       "0  /Volumes/WERDERNASX/VIDEOSX/BRAZZERS/baby_got_...  \n",
       "1  /Volumes/WERDERNASX/VIDEOSX/BRAZZERS/baby_got_...  \n",
       "2  /Volumes/WERDERNASX/VIDEOSX/BRAZZERS/baby_got_...  "
      ]
     },
     "execution_count": 5,
     "metadata": {},
     "output_type": "execute_result"
    }
   ],
   "source": [
    "df_final.head(3)"
   ]
  },
  {
   "cell_type": "code",
   "execution_count": 7,
   "metadata": {},
   "outputs": [
    {
     "name": "stdout",
     "output_type": "stream",
     "text": [
      "Search String Alexis Ford found. \n",
      " Corresponding column: PS1 in row:  [0, 1, 2, 52, 107, 108, 264, 265, 266, 497, 498, 553, 874, 875, 1280, 1281, 1420, 1421, 1544, 1570, 1692, 1705]\n",
      "Corresponding Index: 1\n"
     ]
    }
   ],
   "source": [
    "get_column_names_with_row(df_final, \"Alexis Ford\")"
   ]
  },
  {
   "cell_type": "code",
   "execution_count": 9,
   "metadata": {},
   "outputs": [
    {
     "data": {
      "text/plain": [
       "Site                                            Dirty Masseur\n",
       "PS1                                               Alexis Ford\n",
       "PS2                                                   No Name\n",
       "PS3                                                   No Name\n",
       "Title                                the_flirty_masseur_1080p\n",
       "PS4                                                   No Name\n",
       "PS5                                                   No Name\n",
       "PS6                                                   No Name\n",
       "PS7                                                   No Name\n",
       "PS8                                                   No Name\n",
       "PS9                                                   No Name\n",
       "PS10                                                  No Name\n",
       "Location                                          WERDERNAS2X\n",
       "Link        /Volumes/WERDERNAS2X/VIDEOS2X/BRAZZERS2/dirty_...\n",
       "Name: 1692, dtype: object"
      ]
     },
     "execution_count": 9,
     "metadata": {},
     "output_type": "execute_result"
    }
   ],
   "source": [
    "df_final.loc[1692]"
   ]
  },
  {
   "cell_type": "code",
   "execution_count": 3,
   "metadata": {},
   "outputs": [
    {
     "name": "stdout",
     "output_type": "stream",
     "text": [
      "0\n",
      "1\n",
      "2\n",
      "3\n",
      "4\n",
      "5\n",
      "6\n",
      "7\n",
      "8\n",
      "9\n",
      "10\n",
      "11\n",
      "12\n",
      "13\n",
      "14\n",
      "15\n",
      "16\n",
      "17\n",
      "18\n",
      "19\n",
      "20\n",
      "21\n",
      "22\n",
      "23\n",
      "24\n",
      "25\n",
      "26\n",
      "27\n",
      "28\n",
      "29\n",
      "30\n",
      "31\n",
      "32\n",
      "33\n",
      "34\n",
      "35\n",
      "36\n",
      "37\n",
      "38\n",
      "39\n",
      "40\n",
      "41\n",
      "42\n",
      "43\n",
      "44\n",
      "45\n",
      "46\n",
      "47\n",
      "48\n",
      "49\n",
      "50\n",
      "51\n",
      "52\n",
      "53\n",
      "54\n",
      "55\n",
      "56\n",
      "57\n",
      "58\n",
      "59\n",
      "60\n",
      "61\n",
      "62\n",
      "63\n",
      "64\n",
      "65\n",
      "66\n",
      "67\n",
      "68\n",
      "69\n",
      "70\n",
      "71\n",
      "72\n",
      "73\n",
      "74\n",
      "75\n",
      "76\n",
      "77\n",
      "78\n",
      "79\n",
      "80\n",
      "81\n",
      "82\n",
      "83\n",
      "84\n",
      "85\n",
      "86\n",
      "87\n",
      "88\n",
      "89\n",
      "90\n",
      "91\n",
      "92\n",
      "93\n",
      "94\n",
      "95\n",
      "96\n",
      "97\n",
      "98\n",
      "99\n"
     ]
    }
   ],
   "source": [
    "\n",
    "max_col = 100\n",
    "for lf in range(max_col):\n",
    "    print(lf)"
   ]
  },
  {
   "cell_type": "code",
   "execution_count": null,
   "metadata": {},
   "outputs": [],
   "source": []
  }
 ],
 "metadata": {
  "kernelspec": {
   "display_name": "Python 3.10.4 ('sql_dev')",
   "language": "python",
   "name": "python3"
  },
  "language_info": {
   "codemirror_mode": {
    "name": "ipython",
    "version": 3
   },
   "file_extension": ".py",
   "mimetype": "text/x-python",
   "name": "python",
   "nbconvert_exporter": "python",
   "pygments_lexer": "ipython3",
   "version": "3.10.4"
  },
  "orig_nbformat": 4,
  "vscode": {
   "interpreter": {
    "hash": "c5db0ce4916e7a0023c71d2610cc14526b5f69d95391b8e9e7f958ca80509f20"
   }
  }
 },
 "nbformat": 4,
 "nbformat_minor": 2
}
