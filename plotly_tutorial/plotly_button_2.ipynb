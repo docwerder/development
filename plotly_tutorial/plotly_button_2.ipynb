{
 "cells": [
  {
   "cell_type": "code",
   "execution_count": null,
   "id": "d2ada130",
   "metadata": {},
   "outputs": [],
   "source": [
    "# source: https://plotly.com/python/v3/custom-buttons/\n",
    "#import plotly.plotly as py\n",
    "import plotly\n",
    "#import chart_studio \n",
    "import plotly.graph_objs as go\n",
    "\n",
    "from datetime import datetime\n",
    "import pandas as pd\n",
    "\n",
    "df = pd.read_csv('https://raw.githubusercontent.com/plotly/datasets/master/finance-charts-apple.csv')\n",
    "df.columns = [col.replace('AAPL.', '') for col in df.columns]\n",
    "\n",
    "trace_high = go.Scatter(x=list(df.index),\n",
    "                        y=list(df.High),\n",
    "                        name='High',\n",
    "                        line=dict(color='#33CFA5'))\n",
    "\n",
    "trace_high_avg = go.Scatter(x=list(df.index),\n",
    "                            y=[df.High.mean()]*len(df.index),\n",
    "                            name='High Average',\n",
    "                            visible=False,\n",
    "                            line=dict(color='#33CFA5', dash='dash'))\n",
    "\n",
    "trace_low = go.Scatter(x=list(df.index),\n",
    "                       y=list(df.Low),\n",
    "                       name='Low',\n",
    "                       line=dict(color='#F06A6A'))\n",
    "\n",
    "trace_low_avg = go.Scatter(x=list(df.index),\n",
    "                           y=[df.Low.mean()]*len(df.index),\n",
    "                           name='Low Average',\n",
    "                           visible=False,\n",
    "                           line=dict(color='#F06A6A', dash='dash'))\n",
    "\n",
    "data = [trace_high, trace_high_avg, trace_low, trace_low_avg]\n",
    "\n",
    "high_annotations=[dict(x='2016-03-01',\n",
    "                       y=df.High.mean(),\n",
    "                       xref='x', yref='y',\n",
    "                       text='High Average:<br>'+str(df.High.mean()),\n",
    "                       ax=0, ay=-40),\n",
    "                  dict(x=df.High.idxmax(),\n",
    "                       y=df.High.max(),\n",
    "                       xref='x', yref='y',\n",
    "                       text='High Max:<br>'+str(df.High.max()),\n",
    "                       ax=0, ay=-40)]\n",
    "low_annotations=[dict(x='2015-05-01',\n",
    "                      y=df.Low.mean(),\n",
    "                      xref='x', yref='y',\n",
    "                      text='Low Average:<br>'+str(df.Low.mean()),\n",
    "                      ax=0, ay=40),\n",
    "                 dict(x=df.High.idxmin(),\n",
    "                      y=df.Low.min(),\n",
    "                      xref='x', yref='y',\n",
    "                      text='Low Min:<br>'+str(df.Low.min()),\n",
    "                      ax=0, ay=40)]\n",
    "\n",
    "updatemenus = list([\n",
    "    dict(type=\"buttons\",\n",
    "         active=-1,\n",
    "         buttons=list([\n",
    "            dict(label = 'High',\n",
    "                 method = 'update',\n",
    "                 args = [{'visible': [True, True, False, False]},\n",
    "                         {'title': 'Yahoo High',\n",
    "                          'annotations': high_annotations}]),\n",
    "            dict(label = 'Low',\n",
    "                 method = 'update',\n",
    "                 args = [{'visible': [False, False, True, True]},\n",
    "                         {'title': 'Yahoo Low',\n",
    "                          'annotations': low_annotations}]),\n",
    "            dict(label = 'Both',\n",
    "                 method = 'update',\n",
    "                 args = [{'visible': [True, True, True, True]},\n",
    "                         {'title': 'Yahoo',\n",
    "                          'annotations': high_annotations+low_annotations}]),\n",
    "            dict(label = 'Reset',\n",
    "                 method = 'update',\n",
    "                 args = [{'visible': [True, False, True, False]},\n",
    "                         {'title': 'Yahoo',\n",
    "                          'annotations': []}])\n",
    "        ]),\n",
    "    )\n",
    "])\n",
    "\n",
    "layout = dict(title='Yahoo', showlegend=False,\n",
    "              updatemenus=updatemenus)\n",
    "\n",
    "fig = dict(data=data, layout=layout)\n",
    "\n",
    "py.iplot(fig, filename='update_button')"
   ]
  },
  {
   "cell_type": "code",
   "execution_count": null,
   "id": "75e78ccd",
   "metadata": {},
   "outputs": [],
   "source": [
    "!pip install plotly --upgrade"
   ]
  },
  {
   "cell_type": "code",
   "execution_count": null,
   "id": "7b5062fc",
   "metadata": {},
   "outputs": [],
   "source": [
    "import os\n",
    "os.system(\"ls -l\")"
   ]
  },
  {
   "cell_type": "code",
   "execution_count": null,
   "id": "f7ee78fb",
   "metadata": {},
   "outputs": [],
   "source": [
    "import subprocess\n",
    "import os\n",
    "os.system(\"sudo mkdir /Volumes/WERDERNAS2X\")\n",
    "#subprocess.call(\"sudo mkdir /Volumes/WERDERNAS2X\")"
   ]
  },
  {
   "cell_type": "code",
   "execution_count": null,
   "id": "b607b1a4",
   "metadata": {},
   "outputs": [],
   "source": [
    "from sudo import run_as_sudo\n",
    "\n",
    "# run `whoami` from user 'user'\n",
    "cmd = \"whoami\"\n",
    "sudo_user = \"sudo\"\n",
    "\n",
    "run_as_sudo(sudo_user, cmd)\n",
    "\n",
    "# optional shell, timeout (secs)\n",
    "#run_as_sudo(sudo_user, cmd, shell=True, timeout=20)"
   ]
  },
  {
   "cell_type": "code",
   "execution_count": null,
   "id": "9324c2a4",
   "metadata": {},
   "outputs": [],
   "source": [
    "import os\n",
    "import sys\n",
    "if os.geteuid() != 0:\n",
    "    # os.execvp() replaces the running process, rather than launching a child\n",
    "    # process, so there's no need to exit afterwards. The extra \"sudo\" in the\n",
    "    # second parameter is required because Python doesn't automatically set $0\n",
    "    # in the new process.\n",
    "    os.execvp(\"sudo\", [\"sudo\"] + sys.argv)"
   ]
  },
  {
   "cell_type": "code",
   "execution_count": null,
   "id": "680045e9",
   "metadata": {},
   "outputs": [],
   "source": [
    "!pip install askpass"
   ]
  },
  {
   "cell_type": "code",
   "execution_count": null,
   "id": "f34840dd",
   "metadata": {},
   "outputs": [],
   "source": [
    "from askpass import AskPass\n",
    "with AskPass() as ask:\n",
    "  for x in ask:\n",
    "    if x == 'password': break\n",
    "  else:\n",
    "    raise ValueError()"
   ]
  },
  {
   "cell_type": "code",
   "execution_count": null,
   "id": "ce117ef5",
   "metadata": {},
   "outputs": [],
   "source": [
    "os.system('sudo mkdir /Volumes/WERDERNAS2X as sudo with password=1234')"
   ]
  },
  {
   "cell_type": "code",
   "execution_count": null,
   "id": "1201a61b",
   "metadata": {},
   "outputs": [],
   "source": [
    "import subprocess\n",
    "\n",
    "sudoPassword = \"1234\"\n",
    "#command = 'mount -t afp /myfolder /home/myuser/myfolder'\n",
    "command = 'sudo mkdir /Volumes/WERDERNAS2X'\n",
    "\n",
    "subprocess.Popen('sudo -S' , shell=True,stdout=subprocess.PIPE)\n",
    "subprocess.Popen(sudoPassword , shell=True,stdout=subprocess.PIPE)\n",
    "subprocess.Popen(command , shell=True,stdout=subprocess.PIPE)"
   ]
  },
  {
   "cell_type": "code",
   "execution_count": 7,
   "id": "512120c1",
   "metadata": {},
   "outputs": [],
   "source": [
    "from subprocess import Popen, PIPE\n",
    "script = 'tell application \"Finder\" to display dialog \"Hello, my name is Macintosh.\"'\n",
    "script_str = 'tell application \"Finder\" try mount volume \"afp://192.168.178.48/WERDERNAS\" as user name \"admin\" with password \"pax123\" end try end tell'\n",
    "#     on error\n",
    "#         display dialog \"Es ist ein Fehler aufgetreten!\" buttons{\"Ok\"} default button 1 with icon stop\n",
    "#     end try\n",
    "# end tell\n",
    "#'\n",
    "p = Popen(['osascript', '-'], stdin=PIPE, stdout=PIPE, stderr=PIPE, universal_newlines=True)\n",
    "stdout, stderr = p.communicate(script)"
   ]
  },
  {
   "cell_type": "code",
   "execution_count": null,
   "id": "ba8185fb",
   "metadata": {},
   "outputs": [],
   "source": [
    "tell application \"Finder\"\n",
    "    try \n",
    "        mount volume \"afp://192.168.178.58/WERDERNAS\" as user name \"admin\" with password \"pax123\"\n",
    "    on error\n",
    "        display dialog \"Es ist ein Fehler aufgetreten!\" buttons{\"Ok\"} default button 1 with icon stop\n",
    "    end try\n",
    "end tell\n",
    "\n",
    "#to display dialog \"Hello, my name is Macintosh.\""
   ]
  },
  {
   "cell_type": "code",
   "execution_count": 8,
   "id": "8fae34e1",
   "metadata": {},
   "outputs": [
    {
     "name": "stdout",
     "output_type": "stream",
     "text": [
      "Collecting applescript\n",
      "  Downloading applescript-2021.2.9.tar.gz (2.0 kB)\n",
      "Building wheels for collected packages: applescript\n",
      "  Building wheel for applescript (setup.py) ... \u001b[?25ldone\n",
      "\u001b[?25h  Created wheel for applescript: filename=applescript-2021.2.9-py3-none-any.whl size=2759 sha256=2ee057b1623a1d360717bf95ee4464bf011c9edc0ea7efed9383fa18e8d66f35\n",
      "  Stored in directory: /Users/joerg/Library/Caches/pip/wheels/4b/ad/4f/259e4bcceee8a25ffc3c37513cc37177eca21e28b11a7673d9\n",
      "Successfully built applescript\n",
      "Installing collected packages: applescript\n",
      "Successfully installed applescript-2021.2.9\n",
      "Note: you may need to restart the kernel to use updated packages.\n"
     ]
    }
   ],
   "source": [
    "pip install applescript"
   ]
  },
  {
   "cell_type": "code",
   "execution_count": 10,
   "id": "b4630f2f",
   "metadata": {},
   "outputs": [],
   "source": [
    "itt = [1]\n"
   ]
  },
  {
   "cell_type": "code",
   "execution_count": 11,
   "id": "fc109d0b",
   "metadata": {},
   "outputs": [
    {
     "data": {
      "text/plain": [
       "1"
      ]
     },
     "execution_count": 11,
     "metadata": {},
     "output_type": "execute_result"
    }
   ],
   "source": [
    "itt[0]"
   ]
  },
  {
   "cell_type": "code",
   "execution_count": 12,
   "id": "c7ac42ad",
   "metadata": {},
   "outputs": [
    {
     "data": {
      "text/plain": [
       "True"
      ]
     },
     "execution_count": 12,
     "metadata": {},
     "output_type": "execute_result"
    }
   ],
   "source": [
    "bool(itt[0])"
   ]
  },
  {
   "cell_type": "code",
   "execution_count": 13,
   "id": "9e575518",
   "metadata": {},
   "outputs": [],
   "source": [
    "li2 = []"
   ]
  },
  {
   "cell_type": "code",
   "execution_count": 19,
   "id": "0a0a2d48",
   "metadata": {},
   "outputs": [
    {
     "ename": "IndexError",
     "evalue": "list index out of range",
     "output_type": "error",
     "traceback": [
      "\u001b[0;31m---------------------------------------------------------------------------\u001b[0m",
      "\u001b[0;31mIndexError\u001b[0m                                Traceback (most recent call last)",
      "Input \u001b[0;32mIn [19]\u001b[0m, in \u001b[0;36m<cell line: 1>\u001b[0;34m()\u001b[0m\n\u001b[0;32m----> 1\u001b[0m \u001b[38;5;28;01mif\u001b[39;00m \u001b[38;5;129;01mnot\u001b[39;00m \u001b[38;5;28mbool\u001b[39m(\u001b[43mli2\u001b[49m\u001b[43m[\u001b[49m\u001b[38;5;241;43m0\u001b[39;49m\u001b[43m]\u001b[49m):\n\u001b[1;32m      2\u001b[0m     \u001b[38;5;28mprint\u001b[39m(\u001b[38;5;124m'\u001b[39m\u001b[38;5;124mlist is empty\u001b[39m\u001b[38;5;124m'\u001b[39m)\n\u001b[1;32m      3\u001b[0m \u001b[38;5;28;01melse\u001b[39;00m:\n",
      "\u001b[0;31mIndexError\u001b[0m: list index out of range"
     ]
    }
   ],
   "source": [
    "if not bool(li2[0]):\n",
    "    print('list is empty')\n",
    "else:\n",
    "    li2[0]\n",
    "    "
   ]
  },
  {
   "cell_type": "code",
   "execution_count": 16,
   "id": "788e5e47",
   "metadata": {},
   "outputs": [
    {
     "data": {
      "text/plain": [
       "False"
      ]
     },
     "execution_count": 16,
     "metadata": {},
     "output_type": "execute_result"
    }
   ],
   "source": [
    "bool(li2)"
   ]
  },
  {
   "cell_type": "code",
   "execution_count": null,
   "id": "22851444",
   "metadata": {},
   "outputs": [],
   "source": []
  }
 ],
 "metadata": {
  "kernelspec": {
   "display_name": "python38",
   "language": "python",
   "name": "python38"
  },
  "language_info": {
   "codemirror_mode": {
    "name": "ipython",
    "version": 3
   },
   "file_extension": ".py",
   "mimetype": "text/x-python",
   "name": "python",
   "nbconvert_exporter": "python",
   "pygments_lexer": "ipython3",
   "version": "3.8.8"
  }
 },
 "nbformat": 4,
 "nbformat_minor": 5
}
