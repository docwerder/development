{
 "cells": [
  {
   "cell_type": "markdown",
   "id": "7dfc5fe1-7e7a-4788-9c31-4378f1e045b9",
   "metadata": {},
   "source": [
    "# strin = 'H:/proj0/12345/'"
   ]
  },
  {
   "cell_type": "code",
   "execution_count": 2,
   "id": "0c6fc148",
   "metadata": {},
   "outputs": [
    {
     "data": {
      "text/plain": [
       "'/Users/joerg/opt/anaconda3/envs/python38_dja/bin/python'"
      ]
     },
     "execution_count": 2,
     "metadata": {},
     "output_type": "execute_result"
    }
   ],
   "source": [
    "import sys\n",
    "sys.executable"
   ]
  },
  {
   "cell_type": "code",
   "execution_count": 8,
   "id": "93be2b8f",
   "metadata": {},
   "outputs": [],
   "source": [
    "import os \n",
    "root = os.getcwd()\n",
    "# subdir = os.path.join(root, day)\n",
    "final_path = os.path.join(root, 'scanned_site_content')\n",
    "# final_path"
   ]
  },
  {
   "cell_type": "code",
   "execution_count": 9,
   "id": "9a7df2cc-1d35-4723-b1a0-7670d720b706",
   "metadata": {},
   "outputs": [
    {
     "data": {
      "text/plain": [
       "'/Users/joerg/repos/development/scanned_site_content'"
      ]
     },
     "execution_count": 9,
     "metadata": {},
     "output_type": "execute_result"
    }
   ],
   "source": [
    "final_path"
   ]
  },
  {
   "cell_type": "code",
   "execution_count": 1,
   "id": "c58ccbab",
   "metadata": {},
   "outputs": [
    {
     "ename": "NameError",
     "evalue": "name 'os' is not defined",
     "output_type": "error",
     "traceback": [
      "\u001b[0;31m---------------------------------------------------------------------------\u001b[0m",
      "\u001b[0;31mNameError\u001b[0m                                 Traceback (most recent call last)",
      "\u001b[0;32m<ipython-input-1-645c6aaa0819>\u001b[0m in \u001b[0;36m<module>\u001b[0;34m\u001b[0m\n\u001b[0;32m----> 1\u001b[0;31m \u001b[0mfinal_path\u001b[0m \u001b[0;34m=\u001b[0m \u001b[0mos\u001b[0m\u001b[0;34m.\u001b[0m\u001b[0mpath\u001b[0m\u001b[0;34m.\u001b[0m\u001b[0mjoin\u001b[0m\u001b[0;34m(\u001b[0m\u001b[0msubdir\u001b[0m\u001b[0;34m,\u001b[0m \u001b[0;34m'some_file_name'\u001b[0m\u001b[0;34m)\u001b[0m\u001b[0;34m\u001b[0m\u001b[0;34m\u001b[0m\u001b[0m\n\u001b[0m",
      "\u001b[0;31mNameError\u001b[0m: name 'os' is not defined"
     ]
    }
   ],
   "source": [
    "final_path = os.path.join(subdir, 'some_file_name')"
   ]
  },
  {
   "cell_type": "code",
   "execution_count": 2,
   "id": "819ada62-ab76-4c52-a305-c952c634f4d4",
   "metadata": {},
   "outputs": [
    {
     "name": "stdout",
     "output_type": "stream",
     "text": [
      "xxxxxxxxx\n"
     ]
    }
   ],
   "source": [
    "l = (\"xxxxxxxxx\", \"yyyy\",\"zz\")\n",
    "print(max(l, key=len))"
   ]
  },
  {
   "cell_type": "code",
   "execution_count": null,
   "id": "1819d686-cf3c-4baf-8e9e-013ca4b30f1b",
   "metadata": {},
   "outputs": [],
   "source": []
  }
 ],
 "metadata": {
  "kernelspec": {
   "display_name": "python38_dja",
   "language": "python",
   "name": "python38_dja"
  },
  "language_info": {
   "codemirror_mode": {
    "name": "ipython",
    "version": 3
   },
   "file_extension": ".py",
   "mimetype": "text/x-python",
   "name": "python",
   "nbconvert_exporter": "python",
   "pygments_lexer": "ipython3",
   "version": "3.8.12"
  }
 },
 "nbformat": 4,
 "nbformat_minor": 5
}
