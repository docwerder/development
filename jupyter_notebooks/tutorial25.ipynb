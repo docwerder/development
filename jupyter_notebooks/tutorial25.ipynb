{
 "cells": [
  {
   "cell_type": "code",
   "execution_count": 6,
   "metadata": {},
   "outputs": [
    {
     "name": "stdout",
     "output_type": "stream",
     "text": [
      "Bitte Stadt eingeben: Rhede\n",
      "In Rhede beträgt die Temperatur 5.19 Grad\n"
     ]
    }
   ],
   "source": [
    "import requests\n",
    "api_key = 'e1b8c7307dc5d97e97471350f44f8ab7'\n",
    "city = input('Bitte Stadt eingeben: ')\n",
    "url = f'https://api.openweathermap.org/data/2.5/weather?q={city}&appid={api_key}&units=metric'\n",
    "\n",
    "data = requests.get(url).json()\n",
    "\n",
    "temperatur = data['main']['temp']\n",
    "\n",
    "print(f'In {city} beträgt die Temperatur {temperatur} Grad')"
   ]
  },
  {
   "cell_type": "code",
   "execution_count": null,
   "metadata": {},
   "outputs": [],
   "source": []
  },
  {
   "cell_type": "code",
   "execution_count": null,
   "metadata": {},
   "outputs": [],
   "source": []
  }
 ],
 "metadata": {
  "kernelspec": {
   "name": "python38",
   "language": "python",
   "display_name": "python38"
  },
  "language_info": {
   "codemirror_mode": {
    "name": "ipython",
    "version": 3
   },
   "file_extension": ".py",
   "mimetype": "text/x-python",
   "name": "python",
   "nbconvert_exporter": "python",
   "pygments_lexer": "ipython3",
   "version": "3.7.7"
  }
 },
 "nbformat": 4,
 "nbformat_minor": 4
}