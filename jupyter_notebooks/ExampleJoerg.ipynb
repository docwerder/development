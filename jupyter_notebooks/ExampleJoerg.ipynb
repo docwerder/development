{
 "cells": [
  {
   "cell_type": "code",
   "execution_count": 1,
   "metadata": {
    "ExecuteTime": {
     "end_time": "2020-04-16T03:20:05.447774Z",
     "start_time": "2020-04-16T03:20:05.445462Z"
    }
   },
   "outputs": [],
   "source": [
    "import json\n",
    "import pandas as pd"
   ]
  },
  {
   "cell_type": "code",
   "execution_count": 19,
   "metadata": {
    "ExecuteTime": {
     "end_time": "2020-04-16T03:20:05.447774Z",
     "start_time": "2020-04-16T03:20:05.445462Z"
    }
   },
   "outputs": [],
   "source": [
    "lineshort1 = {\"status\":\"OK\", \"rodat yes\":\"none\"}\n",
    "lineshort2 = {\"status\":\"OK\", \"rodat no\":\"none\"}"
   ]
  },
  {
   "cell_type": "markdown",
   "metadata": {},
   "source": [
    "#### Fake files"
   ]
  },
  {
   "cell_type": "code",
   "execution_count": 20,
   "metadata": {
    "ExecuteTime": {
     "end_time": "2020-04-16T03:20:05.447774Z",
     "start_time": "2020-04-16T03:20:05.445462Z"
    }
   },
   "outputs": [],
   "source": [
    "files = {'lineshort1':lineshort1, 'lineshort2': lineshort2}"
   ]
  },
  {
   "cell_type": "code",
   "execution_count": 21,
   "metadata": {},
   "outputs": [
    {
     "data": {
      "text/plain": [
       "{'lineshort1': {'status': 'OK', 'rodat yes': 'none'},\n",
       " 'lineshort2': {'status': 'OK', 'rodat no': 'none'}}"
      ]
     },
     "execution_count": 21,
     "metadata": {},
     "output_type": "execute_result"
    }
   ],
   "source": [
    "files"
   ]
  },
  {
   "cell_type": "code",
   "execution_count": 23,
   "metadata": {},
   "outputs": [
    {
     "data": {
      "text/plain": [
       "'none'"
      ]
     },
     "execution_count": 23,
     "metadata": {},
     "output_type": "execute_result"
    }
   ],
   "source": [
    "files['lineshort1']['rodat yes']"
   ]
  },
  {
   "cell_type": "markdown",
   "metadata": {},
   "source": [
    "#### Loop over fake files"
   ]
  },
  {
   "cell_type": "code",
   "execution_count": 4,
   "metadata": {
    "ExecuteTime": {
     "end_time": "2020-04-16T03:20:05.447774Z",
     "start_time": "2020-04-16T03:20:05.445462Z"
    }
   },
   "outputs": [
    {
     "name": "stdout",
     "output_type": "stream",
     "text": [
      "{'status': 'OK', 'rodat yes': 'none', 'lineshort': 'lineshort1'}\n",
      "{'status': 'OK', 'rodat no': 'none', 'lineshort': 'lineshort2'}\n"
     ]
    },
    {
     "data": {
      "text/plain": [
       "list"
      ]
     },
     "execution_count": 4,
     "metadata": {},
     "output_type": "execute_result"
    }
   ],
   "source": [
    "to_df = []\n",
    "for file_name in files:\n",
    "#    with open(file_name) as fn:\n",
    "    tmp = json.loads(files[file_name]) # ATTENTION loads, not load without s\n",
    "    tmp['lineshort'] = file_name # add lineshort as column\n",
    "    print(tmp)\n",
    "    to_df.append(tmp) # append to list - entries will be rows in df\n",
    "\n",
    "type(to_df)"
   ]
  },
  {
   "cell_type": "markdown",
   "metadata": {},
   "source": [
    "#### Convert to df"
   ]
  },
  {
   "cell_type": "code",
   "execution_count": null,
   "metadata": {
    "ExecuteTime": {
     "end_time": "2020-04-16T03:20:05.447774Z",
     "start_time": "2020-04-16T03:20:05.445462Z"
    }
   },
   "outputs": [],
   "source": [
    "df = pd.DataFrame(to_df)\n",
    "df"
   ]
  },
  {
   "cell_type": "markdown",
   "metadata": {},
   "source": [
    "#### If you realy like lineshorts as index better"
   ]
  },
  {
   "cell_type": "code",
   "execution_count": null,
   "metadata": {},
   "outputs": [],
   "source": [
    "df.set_index('lineshort', drop=True, inplace=True)\n",
    "df"
   ]
  },
  {
   "cell_type": "markdown",
   "metadata": {},
   "source": [
    "#### If you prefere - as 'not available'...of course changeable"
   ]
  },
  {
   "cell_type": "code",
   "execution_count": null,
   "metadata": {},
   "outputs": [],
   "source": [
    "df.fillna('-')"
   ]
  },
  {
   "cell_type": "code",
   "execution_count": null,
   "metadata": {},
   "outputs": [],
   "source": [
    "pwd"
   ]
  },
  {
   "cell_type": "code",
   "execution_count": null,
   "metadata": {},
   "outputs": [],
   "source": []
  }
 ],
 "metadata": {
  "hide_input": false,
  "kernelspec": {
   "display_name": "Python 3.10.6 ('pyside2_dev')",
   "language": "python",
   "name": "python3"
  },
  "language_info": {
   "codemirror_mode": {
    "name": "ipython",
    "version": 3
   },
   "file_extension": ".py",
   "mimetype": "text/x-python",
   "name": "python",
   "nbconvert_exporter": "python",
   "pygments_lexer": "ipython3",
   "version": "3.10.6"
  },
  "vscode": {
   "interpreter": {
    "hash": "52867ee1f7e3b1f93523cdfe2d5d91084b6fa11775e78fca1f22649f7620b014"
   }
  }
 },
 "nbformat": 4,
 "nbformat_minor": 4
}
