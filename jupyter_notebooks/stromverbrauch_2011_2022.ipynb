{
 "cells": [
  {
   "cell_type": "code",
   "execution_count": 1,
   "metadata": {},
   "outputs": [],
   "source": [
    "import pandas as pd\n",
    "\n",
    "import pandas as pd\n",
    "\n",
    "df_tmp = {'01/01/11': 11934, \n",
    "            '02/21/11': 15720}\n",
    "\n",
    "df_strom_2011_2022 = pd.DataFrame(df_tmp.items(), columns=['Datum', 'Zählerstand'])\n",
    "df_strom_2011_2022.loc[0] = ['01/01/11', 11934]\n",
    "df_strom_2011_2022.loc[1] = ['02/21/12', 15720]\n",
    "df_strom_2011_2022.loc[2] = ['02/19/13', 19760]\n",
    "df_strom_2011_2022.loc[3] = ['02/18/14', 23992]\n",
    "df_strom_2011_2022.loc[4] = ['02/12/15', 28357]\n",
    "df_strom_2011_2022.loc[5] = ['02/11/16', 34273]\n",
    "df_strom_2011_2022.loc[6] = ['03/31/16', 35020]\n",
    "df_strom_2011_2022.loc[7] = ['02/14/17', 39644]\n",
    "df_strom_2011_2022.loc[8] = ['03/31/17', 40435]\n",
    "df_strom_2011_2022.loc[9] = ['02/20/18', 45335]\n",
    "df_strom_2011_2022.loc[10] = ['02/19/19', 50756]\n",
    "df_strom_2011_2022.loc[11] = ['03/07/19', 51017]\n",
    "df_strom_2011_2022.loc[12] = ['04/01/19', 51398]\n",
    "df_strom_2011_2022.loc[13] = ['02/20/20', 56414]\n",
    "df_strom_2011_2022.loc[14] = ['03/31/20', 57056]\n",
    "df_strom_2011_2022.loc[15] = ['06/30/20', 58513]\n",
    "df_strom_2011_2022.loc[16] = ['12/31/20', 61464]\n",
    "df_strom_2011_2022.loc[17] = ['02/05/21', 62167]\n",
    "df_strom_2011_2022.loc[18] = ['12/27/21', 67526]\n",
    "df_strom_2011_2022.loc[19] = ['02/28/22', 68701]\n",
    "df_strom_2011_2022.loc[20] = ['06/30/22', 70561]\n",
    "df_strom_2011_2022.loc[21] = ['09/01/22', 71429]\n",
    "df_strom_2011_2022.loc[22] = ['09/19/22', 71698]\n"
   ]
  },
  {
   "cell_type": "markdown",
   "metadata": {},
   "source": [
    "Stromverbrauch detailierter im September 2022"
   ]
  },
  {
   "cell_type": "code",
   "execution_count": 2,
   "metadata": {},
   "outputs": [],
   "source": [
    "import pandas as pd\n",
    "from datetime import datetime\n",
    "from datetime import timedelta\n",
    "#% \n",
    "strom_detail = pd.DataFrame()\n",
    "tmp = []\n",
    "datum = ['09/01/22 13:35:00', \n",
    "         '09/19/22 13:51:00', \n",
    "         '09/20/22 19:29:00',\n",
    "         '09/21/22 23:29:00',\n",
    "         '09/22/22 06:09:00',\n",
    "         '09/22/22 19:37:00',\n",
    "         '09/22/22 22:38:00',\n",
    "         '09/23/22 06:08:00',\n",
    "         '09/23/22 23:21:00',\n",
    "         '09/25/22 09:24:00',\n",
    "         '09/26/22 06:07:00',\n",
    "         '09/27/22 06:07:00',\n",
    "         '09/27/22 23:08:00',\n",
    "         '09/28/22 06:09:00', \n",
    "         '09/29/22 06:07:00',\n",
    "         '09/29/22 23:12:00',\n",
    "         '09/30/22 06:07:00',\n",
    "         '10/01/22 20:21:00',\n",
    "         '10/02/22 00:10:00',\n",
    "         '10/02/22 23:16:00',\n",
    "         '10/04/22 06:09:00',\n",
    "         '10/04/22 23:15:00',\n",
    "         '10/05/22 06:08:00',\n",
    "         '10/05/22 23:53:00',\n",
    "         '10/06/22 06:09:00',\n",
    "         '10/07/22 06:08:00',\n",
    "         '10/10/22 06:08:00',\n",
    "         '10/10/22 23:23:00',\n",
    "         '10/11/22 06:10:00',\n",
    "         '10/12/22 06:07:00', \n",
    "         '10/12/22 22:40:00',\n",
    "         '10/13/22 06:07:00',\n",
    "         '10/13/22 23:09:00',\n",
    "         '10/14/22 06:09:00',\n",
    "         '10/14/22 23:08:00',\n",
    "         '10/15/22 23:12:00',\n",
    "         '10/16/22 23:26:00',\n",
    "         '10/17/22 23:51:00',\n",
    "         '10/18/22 23:22:00',\n",
    "         '10/19/22 23:23:00',\n",
    "         '10/20/22 23:34:00',\n",
    "         '10/21/22 23:24:00',\n",
    "         '10/22/22 23:58:00',\n",
    "         '10/23/22 22:47:00',\n",
    "         '10/24/22 06:08:00',\n",
    "         '10/24/22 23:11:00',\n",
    "         '17/25/22 06:08:00',\n",
    "         '10/25/22 23:47:00',\n",
    "         '10/26/22 06:07:00',\n",
    "         '10/26/22 23:47:00',\n",
    "         '10/27/22 06:09:00',\n",
    "         '10/27/22 20:27:00',\n",
    "         '10/28/22 06:08:00',\n",
    "         '10/28/22 23:50:00',\n",
    "         '10/29/22 23:50:00',\n",
    "         '10/30/22 12:19:00',\n",
    "         '10/30/22 23:55:00',\n",
    "         '10/31/22 14:15:00',\n",
    "         '10/31/22 23:37:00',\n",
    "         '11/01/22 06:06:00',\n",
    "         '11/01/22 23:22:00'\n",
    "]\n",
    "\n",
    "zaehler = [71428.8, 71697.8, 71719.2, 71737.9, 71739.9, 71751.3, \n",
    "           71753.4, 71755.7, 71769.8, 71796.3, 71808.7, 71826.5,\n",
    "           71838.2, 71840.5, 71856.9, 71868.3, 71870.4, 71901.9,\n",
    "           71904.9, 71921.1, 71941.5, 71953.8, 71955.8, 71971.3,\n",
    "           71973.1, 71991.0, 72033.6, 72047.9, 72050.0, 72067.6,\n",
    "           72082.3, 72084.6, 72097.6, 72099.6, 72112.7, 72131.9,\n",
    "           72149.5, 72163.6, 72180.8, 72197.9, 72216.7, 72228.3,\n",
    "           72247.0, 72263.8, 72266.1, 72278.9, 72280.9, 72291.9,\n",
    "           72293.7, 72310.7, 72312.6, 72327.5, 72331.2, 72345.3,\n",
    "           72365.5, 72370.5, 72378.6, 72387.3, 72397.5, 72399.3,\n",
    "\n",
    "\n",
    "           ]\n",
    "\n",
    "strom_detail = pd.DataFrame({'Datum': datum, 'Zählerstand': zaehler})\n",
    "\n",
    "for lf in strom_detail['Datum']:\n",
    "    tmp.append(datetime.strptime(lf, '%m/%d/%y %H:%M:%S'))\n",
    "\n",
    "\n",
    "\n",
    "strom_detail['Date'] = tmp"
   ]
  },
  {
   "cell_type": "code",
   "execution_count": 9,
   "metadata": {},
   "outputs": [
    {
     "name": "stdout",
     "output_type": "stream",
     "text": [
      "23 23\n",
      "27 27\n",
      "29 29\n",
      "4 4\n",
      "5 5\n",
      "10 10\n",
      "12 12\n",
      "13 13\n",
      "14 14\n"
     ]
    }
   ],
   "source": [
    "\n",
    "delta_1 = round(strom_detail.loc[8]['Zählerstand'] - strom_detail.loc[7]['Zählerstand'], 2)\n",
    "print(strom_detail.loc[8]['Date'].day, strom_detail.loc[7]['Date'].day)\n",
    "\n",
    "delta_2 = round(strom_detail.loc[12]['Zählerstand'] - strom_detail.loc[11]['Zählerstand'], 2)\n",
    "print(strom_detail.loc[12]['Date'].day, strom_detail.loc[11]['Date'].day)\n",
    "\n",
    "delta_3 = round(strom_detail.loc[15]['Zählerstand'] - strom_detail.loc[14]['Zählerstand'], 2)\n",
    "print(strom_detail.loc[15]['Date'].day, strom_detail.loc[14]['Date'].day)\n",
    "\n",
    "delta_4 = round(strom_detail.loc[21]['Zählerstand'] - strom_detail.loc[20]['Zählerstand'], 2)\n",
    "print(strom_detail.loc[21]['Date'].day, strom_detail.loc[20]['Date'].day)\n",
    "\n",
    "delta_5 = round(strom_detail.loc[23]['Zählerstand'] - strom_detail.loc[22]['Zählerstand'], 2)\n",
    "print(strom_detail.loc[23]['Date'].day, strom_detail.loc[22]['Date'].day)\n",
    "\n",
    "delta_6 = round(strom_detail.loc[27]['Zählerstand'] - strom_detail.loc[26]['Zählerstand'], 2)\n",
    "print(strom_detail.loc[27]['Date'].day, strom_detail.loc[26]['Date'].day)\n",
    "\n",
    "delta_7 = round(strom_detail.loc[30]['Zählerstand'] - strom_detail.loc[29]['Zählerstand'], 2)\n",
    "print(strom_detail.loc[30]['Date'].day, strom_detail.loc[29]['Date'].day)\n",
    "\n",
    "delta_8 = round(strom_detail.loc[32]['Zählerstand'] - strom_detail.loc[31]['Zählerstand'], 2)\n",
    "print(strom_detail.loc[32]['Date'].day, strom_detail.loc[31]['Date'].day)\n",
    "\n",
    "delta_9 = round(strom_detail.loc[34]['Zählerstand'] - strom_detail.loc[33]['Zählerstand'], 2)\n",
    "print(strom_detail.loc[34]['Date'].day, strom_detail.loc[33]['Date'].day)\n",
    "\n"
   ]
  },
  {
   "cell_type": "code",
   "execution_count": 12,
   "metadata": {},
   "outputs": [],
   "source": [
    "# strom_detail.loc[16:]\n",
    "strom_oktober = strom_detail.loc[16:]"
   ]
  },
  {
   "cell_type": "code",
   "execution_count": 11,
   "metadata": {},
   "outputs": [
    {
     "name": "stdout",
     "output_type": "stream",
     "text": [
      "14.1\n",
      "11.7\n",
      "11.4\n",
      "12.3\n",
      "15.5\n",
      "14.3\n",
      "14.7\n",
      "13.0\n",
      "13.1\n"
     ]
    }
   ],
   "source": [
    "print(delta_1), print(delta_2), print(delta_3), print(delta_4), print(delta_5), \n",
    "print(delta_6), print(delta_7), print(delta_8), print(delta_9)\n",
    "\n",
    "strom_tag = [23, 27, 29, 4, 5]\n"
   ]
  },
  {
   "cell_type": "code",
   "execution_count": 12,
   "metadata": {},
   "outputs": [
    {
     "name": "stdout",
     "output_type": "stream",
     "text": [
      "Mittelwert: 13.344444444444445\n",
      "Standardabweichung: 1.32\n"
     ]
    }
   ],
   "source": [
    "import statistics\n",
    "strom_tag = [delta_1, delta_2, delta_3, delta_4, delta_5, delta_6, delta_7, delta_8, delta_9]\n",
    "mittelwert = statistics.mean(strom_tag)\n",
    "abw = statistics.pstdev(strom_tag)\n",
    "print(f'Mittelwert: {mittelwert}')\n",
    "print(f'Standardabweichung: {abw:.2f}')\n"
   ]
  },
  {
   "cell_type": "code",
   "execution_count": 6,
   "metadata": {},
   "outputs": [
    {
     "data": {
      "application/vnd.plotly.v1+json": {
       "config": {
        "plotlyServerURL": "https://plot.ly"
       },
       "data": [
        {
         "marker": {
          "color": "orange"
         },
         "text": [
          71428.8,
          71697.8,
          71719.2,
          71737.9,
          71739.9,
          71751.3,
          71753.4,
          71755.7,
          71769.8,
          71796.3,
          71808.7,
          71826.5,
          71838.2,
          71840.5,
          71856.9,
          71868.3,
          71870.4,
          71901.9,
          71904.9,
          71921.1,
          71941.5,
          71953.8,
          71955.8,
          71971.3,
          71973.1,
          71991,
          72033.6,
          72047.9,
          72050,
          72067.6,
          72082.3,
          72084.6,
          72097.6,
          72099.6,
          72112.7,
          72131.9,
          72149.5,
          72163.6,
          72180.8,
          72197.9,
          72216.7,
          72228.3,
          72247,
          72263.8,
          72266.1
         ],
         "type": "bar",
         "x": [
          "09/01/22 13:35:00",
          "09/19/22 13:51:00",
          "09/20/22 19:29:00",
          "09/21/22 23:29:00",
          "09/22/22 06:09:00",
          "09/22/22 19:37:00",
          "09/22/22 22:38:00",
          "09/23/22 06:08:00",
          "09/23/22 23:21:00",
          "09/25/22 09:24:00",
          "09/26/22 06:07:00",
          "09/27/22 06:07:00",
          "09/27/22 23:08:00",
          "09/28/22 06:09:00",
          "09/29/22 06:07:00",
          "09/29/22 23:12:00",
          "09/30/22 06:07:00",
          "10/01/22 20:21:00",
          "10/02/22 00:10:00",
          "10/02/22 23:16:00",
          "10/04/22 06:09:00",
          "10/04/22 23:15:00",
          "10/05/22 06:08:00",
          "10/05/22 23:53:00",
          "10/06/22 06:09:00",
          "10/07/22 06:08:00",
          "10/10/22 06:08:00",
          "10/10/22 23:23:00",
          "10/11/22 06:10:00",
          "10/12/22 06:07:00",
          "10/12/22 22:40:00",
          "10/13/22 06:07:00",
          "10/13/22 23:09:00",
          "10/14/22 06:09:00",
          "10/14/22 23:08:00",
          "10/15/22 23:12:00",
          "10/16/22 23:26:00",
          "10/17/22 23:51:00",
          "10/18/22 23:22:00",
          "10/19/22 23:23:00",
          "10/20/22 23:34:00",
          "10/21/22 23:24:00",
          "10/22/22 23:58:00",
          "10/23/22 22:47:00",
          "10/24/22 06:08:00"
         ],
         "xaxis": "x",
         "y": [
          71428.8,
          71697.8,
          71719.2,
          71737.9,
          71739.9,
          71751.3,
          71753.4,
          71755.7,
          71769.8,
          71796.3,
          71808.7,
          71826.5,
          71838.2,
          71840.5,
          71856.9,
          71868.3,
          71870.4,
          71901.9,
          71904.9,
          71921.1,
          71941.5,
          71953.8,
          71955.8,
          71971.3,
          71973.1,
          71991,
          72033.6,
          72047.9,
          72050,
          72067.6,
          72082.3,
          72084.6,
          72097.6,
          72099.6,
          72112.7,
          72131.9,
          72149.5,
          72163.6,
          72180.8,
          72197.9,
          72216.7,
          72228.3,
          72247,
          72263.8,
          72266.1
         ],
         "yaxis": "y"
        },
        {
         "line": {
          "color": "lime"
         },
         "marker": {
          "color": "orange"
         },
         "mode": "lines+markers",
         "text": [
          71428.8,
          71697.8,
          71719.2,
          71737.9,
          71739.9,
          71751.3,
          71753.4,
          71755.7,
          71769.8,
          71796.3,
          71808.7,
          71826.5,
          71838.2,
          71840.5,
          71856.9,
          71868.3,
          71870.4,
          71901.9,
          71904.9,
          71921.1,
          71941.5,
          71953.8,
          71955.8,
          71971.3,
          71973.1,
          71991,
          72033.6,
          72047.9,
          72050,
          72067.6,
          72082.3,
          72084.6,
          72097.6,
          72099.6,
          72112.7,
          72131.9,
          72149.5,
          72163.6,
          72180.8,
          72197.9,
          72216.7,
          72228.3,
          72247,
          72263.8,
          72266.1
         ],
         "type": "scatter",
         "x": [
          "09/01/22 13:35:00",
          "09/19/22 13:51:00",
          "09/20/22 19:29:00",
          "09/21/22 23:29:00",
          "09/22/22 06:09:00",
          "09/22/22 19:37:00",
          "09/22/22 22:38:00",
          "09/23/22 06:08:00",
          "09/23/22 23:21:00",
          "09/25/22 09:24:00",
          "09/26/22 06:07:00",
          "09/27/22 06:07:00",
          "09/27/22 23:08:00",
          "09/28/22 06:09:00",
          "09/29/22 06:07:00",
          "09/29/22 23:12:00",
          "09/30/22 06:07:00",
          "10/01/22 20:21:00",
          "10/02/22 00:10:00",
          "10/02/22 23:16:00",
          "10/04/22 06:09:00",
          "10/04/22 23:15:00",
          "10/05/22 06:08:00",
          "10/05/22 23:53:00",
          "10/06/22 06:09:00",
          "10/07/22 06:08:00",
          "10/10/22 06:08:00",
          "10/10/22 23:23:00",
          "10/11/22 06:10:00",
          "10/12/22 06:07:00",
          "10/12/22 22:40:00",
          "10/13/22 06:07:00",
          "10/13/22 23:09:00",
          "10/14/22 06:09:00",
          "10/14/22 23:08:00",
          "10/15/22 23:12:00",
          "10/16/22 23:26:00",
          "10/17/22 23:51:00",
          "10/18/22 23:22:00",
          "10/19/22 23:23:00",
          "10/20/22 23:34:00",
          "10/21/22 23:24:00",
          "10/22/22 23:58:00",
          "10/23/22 22:47:00",
          "10/24/22 06:08:00"
         ],
         "xaxis": "x",
         "y": [
          71428.8,
          71697.8,
          71719.2,
          71737.9,
          71739.9,
          71751.3,
          71753.4,
          71755.7,
          71769.8,
          71796.3,
          71808.7,
          71826.5,
          71838.2,
          71840.5,
          71856.9,
          71868.3,
          71870.4,
          71901.9,
          71904.9,
          71921.1,
          71941.5,
          71953.8,
          71955.8,
          71971.3,
          71973.1,
          71991,
          72033.6,
          72047.9,
          72050,
          72067.6,
          72082.3,
          72084.6,
          72097.6,
          72099.6,
          72112.7,
          72131.9,
          72149.5,
          72163.6,
          72180.8,
          72197.9,
          72216.7,
          72228.3,
          72247,
          72263.8,
          72266.1
         ],
         "yaxis": "y"
        }
       ],
       "layout": {
        "annotations": [
         {
          "showarrow": false,
          "x": 0,
          "y": 800,
          "yshift": 10
         }
        ],
        "legend": {
         "x": 0.01,
         "xanchor": "left",
         "y": 0.99,
         "yanchor": "top"
        },
        "template": {
         "data": {
          "bar": [
           {
            "error_x": {
             "color": "#2a3f5f"
            },
            "error_y": {
             "color": "#2a3f5f"
            },
            "marker": {
             "line": {
              "color": "#E5ECF6",
              "width": 0.5
             },
             "pattern": {
              "fillmode": "overlay",
              "size": 10,
              "solidity": 0.2
             }
            },
            "type": "bar"
           }
          ],
          "barpolar": [
           {
            "marker": {
             "line": {
              "color": "#E5ECF6",
              "width": 0.5
             },
             "pattern": {
              "fillmode": "overlay",
              "size": 10,
              "solidity": 0.2
             }
            },
            "type": "barpolar"
           }
          ],
          "carpet": [
           {
            "aaxis": {
             "endlinecolor": "#2a3f5f",
             "gridcolor": "white",
             "linecolor": "white",
             "minorgridcolor": "white",
             "startlinecolor": "#2a3f5f"
            },
            "baxis": {
             "endlinecolor": "#2a3f5f",
             "gridcolor": "white",
             "linecolor": "white",
             "minorgridcolor": "white",
             "startlinecolor": "#2a3f5f"
            },
            "type": "carpet"
           }
          ],
          "choropleth": [
           {
            "colorbar": {
             "outlinewidth": 0,
             "ticks": ""
            },
            "type": "choropleth"
           }
          ],
          "contour": [
           {
            "colorbar": {
             "outlinewidth": 0,
             "ticks": ""
            },
            "colorscale": [
             [
              0,
              "#0d0887"
             ],
             [
              0.1111111111111111,
              "#46039f"
             ],
             [
              0.2222222222222222,
              "#7201a8"
             ],
             [
              0.3333333333333333,
              "#9c179e"
             ],
             [
              0.4444444444444444,
              "#bd3786"
             ],
             [
              0.5555555555555556,
              "#d8576b"
             ],
             [
              0.6666666666666666,
              "#ed7953"
             ],
             [
              0.7777777777777778,
              "#fb9f3a"
             ],
             [
              0.8888888888888888,
              "#fdca26"
             ],
             [
              1,
              "#f0f921"
             ]
            ],
            "type": "contour"
           }
          ],
          "contourcarpet": [
           {
            "colorbar": {
             "outlinewidth": 0,
             "ticks": ""
            },
            "type": "contourcarpet"
           }
          ],
          "heatmap": [
           {
            "colorbar": {
             "outlinewidth": 0,
             "ticks": ""
            },
            "colorscale": [
             [
              0,
              "#0d0887"
             ],
             [
              0.1111111111111111,
              "#46039f"
             ],
             [
              0.2222222222222222,
              "#7201a8"
             ],
             [
              0.3333333333333333,
              "#9c179e"
             ],
             [
              0.4444444444444444,
              "#bd3786"
             ],
             [
              0.5555555555555556,
              "#d8576b"
             ],
             [
              0.6666666666666666,
              "#ed7953"
             ],
             [
              0.7777777777777778,
              "#fb9f3a"
             ],
             [
              0.8888888888888888,
              "#fdca26"
             ],
             [
              1,
              "#f0f921"
             ]
            ],
            "type": "heatmap"
           }
          ],
          "heatmapgl": [
           {
            "colorbar": {
             "outlinewidth": 0,
             "ticks": ""
            },
            "colorscale": [
             [
              0,
              "#0d0887"
             ],
             [
              0.1111111111111111,
              "#46039f"
             ],
             [
              0.2222222222222222,
              "#7201a8"
             ],
             [
              0.3333333333333333,
              "#9c179e"
             ],
             [
              0.4444444444444444,
              "#bd3786"
             ],
             [
              0.5555555555555556,
              "#d8576b"
             ],
             [
              0.6666666666666666,
              "#ed7953"
             ],
             [
              0.7777777777777778,
              "#fb9f3a"
             ],
             [
              0.8888888888888888,
              "#fdca26"
             ],
             [
              1,
              "#f0f921"
             ]
            ],
            "type": "heatmapgl"
           }
          ],
          "histogram": [
           {
            "marker": {
             "pattern": {
              "fillmode": "overlay",
              "size": 10,
              "solidity": 0.2
             }
            },
            "type": "histogram"
           }
          ],
          "histogram2d": [
           {
            "colorbar": {
             "outlinewidth": 0,
             "ticks": ""
            },
            "colorscale": [
             [
              0,
              "#0d0887"
             ],
             [
              0.1111111111111111,
              "#46039f"
             ],
             [
              0.2222222222222222,
              "#7201a8"
             ],
             [
              0.3333333333333333,
              "#9c179e"
             ],
             [
              0.4444444444444444,
              "#bd3786"
             ],
             [
              0.5555555555555556,
              "#d8576b"
             ],
             [
              0.6666666666666666,
              "#ed7953"
             ],
             [
              0.7777777777777778,
              "#fb9f3a"
             ],
             [
              0.8888888888888888,
              "#fdca26"
             ],
             [
              1,
              "#f0f921"
             ]
            ],
            "type": "histogram2d"
           }
          ],
          "histogram2dcontour": [
           {
            "colorbar": {
             "outlinewidth": 0,
             "ticks": ""
            },
            "colorscale": [
             [
              0,
              "#0d0887"
             ],
             [
              0.1111111111111111,
              "#46039f"
             ],
             [
              0.2222222222222222,
              "#7201a8"
             ],
             [
              0.3333333333333333,
              "#9c179e"
             ],
             [
              0.4444444444444444,
              "#bd3786"
             ],
             [
              0.5555555555555556,
              "#d8576b"
             ],
             [
              0.6666666666666666,
              "#ed7953"
             ],
             [
              0.7777777777777778,
              "#fb9f3a"
             ],
             [
              0.8888888888888888,
              "#fdca26"
             ],
             [
              1,
              "#f0f921"
             ]
            ],
            "type": "histogram2dcontour"
           }
          ],
          "mesh3d": [
           {
            "colorbar": {
             "outlinewidth": 0,
             "ticks": ""
            },
            "type": "mesh3d"
           }
          ],
          "parcoords": [
           {
            "line": {
             "colorbar": {
              "outlinewidth": 0,
              "ticks": ""
             }
            },
            "type": "parcoords"
           }
          ],
          "pie": [
           {
            "automargin": true,
            "type": "pie"
           }
          ],
          "scatter": [
           {
            "fillpattern": {
             "fillmode": "overlay",
             "size": 10,
             "solidity": 0.2
            },
            "type": "scatter"
           }
          ],
          "scatter3d": [
           {
            "line": {
             "colorbar": {
              "outlinewidth": 0,
              "ticks": ""
             }
            },
            "marker": {
             "colorbar": {
              "outlinewidth": 0,
              "ticks": ""
             }
            },
            "type": "scatter3d"
           }
          ],
          "scattercarpet": [
           {
            "marker": {
             "colorbar": {
              "outlinewidth": 0,
              "ticks": ""
             }
            },
            "type": "scattercarpet"
           }
          ],
          "scattergeo": [
           {
            "marker": {
             "colorbar": {
              "outlinewidth": 0,
              "ticks": ""
             }
            },
            "type": "scattergeo"
           }
          ],
          "scattergl": [
           {
            "marker": {
             "colorbar": {
              "outlinewidth": 0,
              "ticks": ""
             }
            },
            "type": "scattergl"
           }
          ],
          "scattermapbox": [
           {
            "marker": {
             "colorbar": {
              "outlinewidth": 0,
              "ticks": ""
             }
            },
            "type": "scattermapbox"
           }
          ],
          "scatterpolar": [
           {
            "marker": {
             "colorbar": {
              "outlinewidth": 0,
              "ticks": ""
             }
            },
            "type": "scatterpolar"
           }
          ],
          "scatterpolargl": [
           {
            "marker": {
             "colorbar": {
              "outlinewidth": 0,
              "ticks": ""
             }
            },
            "type": "scatterpolargl"
           }
          ],
          "scatterternary": [
           {
            "marker": {
             "colorbar": {
              "outlinewidth": 0,
              "ticks": ""
             }
            },
            "type": "scatterternary"
           }
          ],
          "surface": [
           {
            "colorbar": {
             "outlinewidth": 0,
             "ticks": ""
            },
            "colorscale": [
             [
              0,
              "#0d0887"
             ],
             [
              0.1111111111111111,
              "#46039f"
             ],
             [
              0.2222222222222222,
              "#7201a8"
             ],
             [
              0.3333333333333333,
              "#9c179e"
             ],
             [
              0.4444444444444444,
              "#bd3786"
             ],
             [
              0.5555555555555556,
              "#d8576b"
             ],
             [
              0.6666666666666666,
              "#ed7953"
             ],
             [
              0.7777777777777778,
              "#fb9f3a"
             ],
             [
              0.8888888888888888,
              "#fdca26"
             ],
             [
              1,
              "#f0f921"
             ]
            ],
            "type": "surface"
           }
          ],
          "table": [
           {
            "cells": {
             "fill": {
              "color": "#EBF0F8"
             },
             "line": {
              "color": "white"
             }
            },
            "header": {
             "fill": {
              "color": "#C8D4E3"
             },
             "line": {
              "color": "white"
             }
            },
            "type": "table"
           }
          ]
         },
         "layout": {
          "annotationdefaults": {
           "arrowcolor": "#2a3f5f",
           "arrowhead": 0,
           "arrowwidth": 1
          },
          "autotypenumbers": "strict",
          "coloraxis": {
           "colorbar": {
            "outlinewidth": 0,
            "ticks": ""
           }
          },
          "colorscale": {
           "diverging": [
            [
             0,
             "#8e0152"
            ],
            [
             0.1,
             "#c51b7d"
            ],
            [
             0.2,
             "#de77ae"
            ],
            [
             0.3,
             "#f1b6da"
            ],
            [
             0.4,
             "#fde0ef"
            ],
            [
             0.5,
             "#f7f7f7"
            ],
            [
             0.6,
             "#e6f5d0"
            ],
            [
             0.7,
             "#b8e186"
            ],
            [
             0.8,
             "#7fbc41"
            ],
            [
             0.9,
             "#4d9221"
            ],
            [
             1,
             "#276419"
            ]
           ],
           "sequential": [
            [
             0,
             "#0d0887"
            ],
            [
             0.1111111111111111,
             "#46039f"
            ],
            [
             0.2222222222222222,
             "#7201a8"
            ],
            [
             0.3333333333333333,
             "#9c179e"
            ],
            [
             0.4444444444444444,
             "#bd3786"
            ],
            [
             0.5555555555555556,
             "#d8576b"
            ],
            [
             0.6666666666666666,
             "#ed7953"
            ],
            [
             0.7777777777777778,
             "#fb9f3a"
            ],
            [
             0.8888888888888888,
             "#fdca26"
            ],
            [
             1,
             "#f0f921"
            ]
           ],
           "sequentialminus": [
            [
             0,
             "#0d0887"
            ],
            [
             0.1111111111111111,
             "#46039f"
            ],
            [
             0.2222222222222222,
             "#7201a8"
            ],
            [
             0.3333333333333333,
             "#9c179e"
            ],
            [
             0.4444444444444444,
             "#bd3786"
            ],
            [
             0.5555555555555556,
             "#d8576b"
            ],
            [
             0.6666666666666666,
             "#ed7953"
            ],
            [
             0.7777777777777778,
             "#fb9f3a"
            ],
            [
             0.8888888888888888,
             "#fdca26"
            ],
            [
             1,
             "#f0f921"
            ]
           ]
          },
          "colorway": [
           "#636efa",
           "#EF553B",
           "#00cc96",
           "#ab63fa",
           "#FFA15A",
           "#19d3f3",
           "#FF6692",
           "#B6E880",
           "#FF97FF",
           "#FECB52"
          ],
          "font": {
           "color": "#2a3f5f"
          },
          "geo": {
           "bgcolor": "white",
           "lakecolor": "white",
           "landcolor": "#E5ECF6",
           "showlakes": true,
           "showland": true,
           "subunitcolor": "white"
          },
          "hoverlabel": {
           "align": "left"
          },
          "hovermode": "closest",
          "mapbox": {
           "style": "light"
          },
          "paper_bgcolor": "white",
          "plot_bgcolor": "#E5ECF6",
          "polar": {
           "angularaxis": {
            "gridcolor": "white",
            "linecolor": "white",
            "ticks": ""
           },
           "bgcolor": "#E5ECF6",
           "radialaxis": {
            "gridcolor": "white",
            "linecolor": "white",
            "ticks": ""
           }
          },
          "scene": {
           "xaxis": {
            "backgroundcolor": "#E5ECF6",
            "gridcolor": "white",
            "gridwidth": 2,
            "linecolor": "white",
            "showbackground": true,
            "ticks": "",
            "zerolinecolor": "white"
           },
           "yaxis": {
            "backgroundcolor": "#E5ECF6",
            "gridcolor": "white",
            "gridwidth": 2,
            "linecolor": "white",
            "showbackground": true,
            "ticks": "",
            "zerolinecolor": "white"
           },
           "zaxis": {
            "backgroundcolor": "#E5ECF6",
            "gridcolor": "white",
            "gridwidth": 2,
            "linecolor": "white",
            "showbackground": true,
            "ticks": "",
            "zerolinecolor": "white"
           }
          },
          "shapedefaults": {
           "line": {
            "color": "#2a3f5f"
           }
          },
          "ternary": {
           "aaxis": {
            "gridcolor": "white",
            "linecolor": "white",
            "ticks": ""
           },
           "baxis": {
            "gridcolor": "white",
            "linecolor": "white",
            "ticks": ""
           },
           "bgcolor": "#E5ECF6",
           "caxis": {
            "gridcolor": "white",
            "linecolor": "white",
            "ticks": ""
           }
          },
          "title": {
           "x": 0.05
          },
          "xaxis": {
           "automargin": true,
           "gridcolor": "white",
           "linecolor": "white",
           "ticks": "",
           "title": {
            "standoff": 15
           },
           "zerolinecolor": "white",
           "zerolinewidth": 2
          },
          "yaxis": {
           "automargin": true,
           "gridcolor": "white",
           "linecolor": "white",
           "ticks": "",
           "title": {
            "standoff": 15
           },
           "zerolinecolor": "white",
           "zerolinewidth": 2
          }
         }
        },
        "xaxis": {
         "anchor": "y",
         "domain": [
          0,
          0.94
         ],
         "title": {
          "text": "Monat"
         }
        },
        "yaxis": {
         "anchor": "x",
         "domain": [
          0,
          1
         ],
         "range": [
          71680,
          72300
         ],
         "title": {
          "text": "Ertrag [kWh] "
         }
        },
        "yaxis2": {
         "anchor": "x",
         "overlaying": "y",
         "side": "right"
        }
       }
      }
     },
     "metadata": {},
     "output_type": "display_data"
    }
   ],
   "source": [
    "from statistics import mode\n",
    "import plotly.graph_objects as go\n",
    "from plotly.subplots import make_subplots\n",
    "\n",
    "# Create figure with secondary y-axis\n",
    "fig = make_subplots(specs=[[{\"secondary_y\": True}]])\n",
    "\n",
    "# Add traces\n",
    "fig.add_trace(\n",
    "    go.Bar(x=strom_detail['Datum'], y=strom_detail['Zählerstand'], marker_color='orange',  \n",
    "    text=strom_detail[\"Zählerstand\"],\n",
    "    ),\n",
    "    secondary_y=False,\n",
    ")\n",
    "\n",
    "fig.add_trace(\n",
    "    go.Scatter(x=strom_detail['Datum'], y=strom_detail['Zählerstand'], marker_color='orange',  \n",
    "    text=strom_detail[\"Zählerstand\"], mode='lines+markers', line_color='lime',\n",
    "    ),\n",
    "    secondary_y=False,\n",
    ")\n",
    "# Set x-axis title\n",
    "fig.update_xaxes(title_text=\"Monat\")\n",
    "\n",
    "# Set y-axes titles\n",
    "fig.update_yaxes(range=[71680, 72300], title_text=\"Ertrag [kWh] \", secondary_y=False)\n",
    "# fig.update_yaxes(range=[0, 1200], title_text=\"Spez. Ertrag [kWh/kWp]\", secondary_y=False)\n",
    "\n",
    "fig.update_layout(legend=dict(\n",
    "    yanchor=\"top\",\n",
    "    y=0.99,\n",
    "    xanchor=\"left\",\n",
    "    x=0.01))\n",
    "\n",
    "\n",
    "fig.add_annotation(x=0, y=800,\n",
    "            #text=f'Totaler jährlicher <br> Strombedarf: {str(abs(bedarf_total))} kWh',\n",
    "            showarrow=False,\n",
    "            yshift=10)\n",
    "\n",
    "fig.show()"
   ]
  },
  {
   "cell_type": "code",
   "execution_count": 35,
   "metadata": {},
   "outputs": [],
   "source": [
    "tmp = []\n",
    "for lf in strom_detail['Datum']:\n",
    "    tmp.append(datetime.strptime(lf, '%m/%d/%y %H:%M:%S'))\n",
    "\n",
    "strom_detail['Date'] = tmp"
   ]
  },
  {
   "cell_type": "code",
   "execution_count": 44,
   "metadata": {},
   "outputs": [
    {
     "ename": "AttributeError",
     "evalue": "'Timedelta' object has no attribute 'hrs'",
     "output_type": "error",
     "traceback": [
      "\u001b[0;31m---------------------------------------------------------------------------\u001b[0m",
      "\u001b[0;31mAttributeError\u001b[0m                            Traceback (most recent call last)",
      "Cell \u001b[0;32mIn [44], line 1\u001b[0m\n\u001b[0;32m----> 1\u001b[0m \u001b[43m(\u001b[49m\u001b[43mstrom_detail\u001b[49m\u001b[43m[\u001b[49m\u001b[38;5;124;43m'\u001b[39;49m\u001b[38;5;124;43mDate\u001b[39;49m\u001b[38;5;124;43m'\u001b[39;49m\u001b[43m]\u001b[49m\u001b[43m[\u001b[49m\u001b[38;5;241;43m3\u001b[39;49m\u001b[43m]\u001b[49m\u001b[43m \u001b[49m\u001b[38;5;241;43m-\u001b[39;49m\u001b[43m \u001b[49m\u001b[43mstrom_detail\u001b[49m\u001b[43m[\u001b[49m\u001b[38;5;124;43m'\u001b[39;49m\u001b[38;5;124;43mDate\u001b[39;49m\u001b[38;5;124;43m'\u001b[39;49m\u001b[43m]\u001b[49m\u001b[43m[\u001b[49m\u001b[38;5;241;43m2\u001b[39;49m\u001b[43m]\u001b[49m\u001b[43m)\u001b[49m\u001b[38;5;241;43m.\u001b[39;49m\u001b[43mhrs\u001b[49m\n",
      "\u001b[0;31mAttributeError\u001b[0m: 'Timedelta' object has no attribute 'hrs'"
     ]
    }
   ],
   "source": [
    "(strom_detail['Date'][3] - strom_detail['Date'][2]).hrs"
   ]
  },
  {
   "cell_type": "code",
   "execution_count": 22,
   "metadata": {},
   "outputs": [
    {
     "data": {
      "text/plain": [
       "pandas._libs.tslibs.timestamps.Timestamp"
      ]
     },
     "execution_count": 22,
     "metadata": {},
     "output_type": "execute_result"
    }
   ],
   "source": [
    "type(strom_detail['Date'][0])"
   ]
  },
  {
   "cell_type": "code",
   "execution_count": 2,
   "metadata": {},
   "outputs": [
    {
     "name": "stdout",
     "output_type": "stream",
     "text": [
      "2022-09-26 09:41:54.703483\n"
     ]
    }
   ],
   "source": [
    "\n",
    "now = datetime.now()\n",
    "print(now)"
   ]
  },
  {
   "cell_type": "code",
   "execution_count": 6,
   "metadata": {},
   "outputs": [
    {
     "name": "stdout",
     "output_type": "stream",
     "text": [
      "<class 'datetime.datetime'>\n"
     ]
    }
   ],
   "source": [
    "print(type(now))"
   ]
  },
  {
   "cell_type": "code",
   "execution_count": 31,
   "metadata": {},
   "outputs": [
    {
     "data": {
      "text/plain": [
       "'09/01/22 13:35:00'"
      ]
     },
     "execution_count": 31,
     "metadata": {},
     "output_type": "execute_result"
    }
   ],
   "source": [
    "datum[0]"
   ]
  },
  {
   "cell_type": "code",
   "execution_count": 32,
   "metadata": {},
   "outputs": [],
   "source": [
    "datetime_object_0 = datetime.strptime(datum[17], '%m/%d/%y %H:%M:%S')\n",
    "datetime_object_1 = datetime.strptime(datum[1], '%m/%d/%y %H:%M:%S')"
   ]
  },
  {
   "cell_type": "code",
   "execution_count": 33,
   "metadata": {},
   "outputs": [
    {
     "data": {
      "text/plain": [
       "19"
      ]
     },
     "execution_count": 33,
     "metadata": {},
     "output_type": "execute_result"
    }
   ],
   "source": [
    "datetime_object_1.day"
   ]
  },
  {
   "cell_type": "code",
   "execution_count": 40,
   "metadata": {},
   "outputs": [],
   "source": [
    "from datetime import datetime, timedelta\n",
    "\n",
    "d0 = datetime(2022, 10, 1, 6, 0)"
   ]
  },
  {
   "cell_type": "code",
   "execution_count": 42,
   "metadata": {},
   "outputs": [
    {
     "name": "stdout",
     "output_type": "stream",
     "text": [
      "2022-10-01 06:00:00\n"
     ]
    }
   ],
   "source": [
    "print(d0)"
   ]
  },
  {
   "cell_type": "code",
   "execution_count": 45,
   "metadata": {},
   "outputs": [],
   "source": [
    "d1 = d0 + timedelta(hours=17)\n",
    "d2 = d1 + timedelta(hours=7)"
   ]
  },
  {
   "cell_type": "code",
   "execution_count": 5,
   "metadata": {},
   "outputs": [],
   "source": [
    "import pandas as pd\n",
    "from datetime import datetime\n",
    "from datetime import timedelta\n",
    "\n",
    "time_total = []\n",
    "t = datetime(2022, 9, 30, 6, 0)\n",
    "s0 = 0\n",
    "s1 = 0\n",
    "strom_total_15kWh = []\n",
    "strom_total_18kWh = []\n",
    "for lf_t in range(62):\n",
    "    # Generate data for 15kWh daily current consumption\n",
    "    if not lf_t % 2:\n",
    "        t = t + timedelta(hours=17)\n",
    "        s0 = s0 + 15\n",
    "        \n",
    "    elif lf_t % 2:\n",
    "        t = t + timedelta(hours=7)\n",
    "        s0 = s0 + 3\n",
    "\n",
    "    # Generate data for 18kWh daily current consumption\n",
    "    if not lf_t % 2:\n",
    "        # t = t + timedelta(hours=17)\n",
    "        s1 = s1 + 18\n",
    "        \n",
    "    elif lf_t % 2:\n",
    "        # t = t + timedelta(hours=7)\n",
    "        s1 = s1 + 3\n",
    "\n",
    "\n",
    "    time_total.append(t)\n",
    "    strom_total_15kWh.append(s0)\n",
    "    strom_total_18kWh.append(s1)\n"
   ]
  },
  {
   "cell_type": "code",
   "execution_count": null,
   "metadata": {},
   "outputs": [],
   "source": []
  },
  {
   "cell_type": "code",
   "execution_count": 6,
   "metadata": {},
   "outputs": [],
   "source": [
    "strom_theorie = pd.DataFrame({'Datum': time_total, 'Stromverbrauch_15kWh': strom_total_15kWh, 'Stromverbrauch_18kWh': strom_total_18kWh})"
   ]
  },
  {
   "cell_type": "code",
   "execution_count": 7,
   "metadata": {},
   "outputs": [
    {
     "data": {
      "text/html": [
       "<div>\n",
       "<style scoped>\n",
       "    .dataframe tbody tr th:only-of-type {\n",
       "        vertical-align: middle;\n",
       "    }\n",
       "\n",
       "    .dataframe tbody tr th {\n",
       "        vertical-align: top;\n",
       "    }\n",
       "\n",
       "    .dataframe thead th {\n",
       "        text-align: right;\n",
       "    }\n",
       "</style>\n",
       "<table border=\"1\" class=\"dataframe\">\n",
       "  <thead>\n",
       "    <tr style=\"text-align: right;\">\n",
       "      <th></th>\n",
       "      <th>Datum</th>\n",
       "      <th>Stromverbrauch_15kWh</th>\n",
       "      <th>Stromverbrauch_18kWh</th>\n",
       "    </tr>\n",
       "  </thead>\n",
       "  <tbody>\n",
       "    <tr>\n",
       "      <th>0</th>\n",
       "      <td>2022-09-30 23:00:00</td>\n",
       "      <td>15</td>\n",
       "      <td>18</td>\n",
       "    </tr>\n",
       "    <tr>\n",
       "      <th>1</th>\n",
       "      <td>2022-10-01 06:00:00</td>\n",
       "      <td>18</td>\n",
       "      <td>21</td>\n",
       "    </tr>\n",
       "    <tr>\n",
       "      <th>2</th>\n",
       "      <td>2022-10-01 23:00:00</td>\n",
       "      <td>33</td>\n",
       "      <td>39</td>\n",
       "    </tr>\n",
       "    <tr>\n",
       "      <th>3</th>\n",
       "      <td>2022-10-02 06:00:00</td>\n",
       "      <td>36</td>\n",
       "      <td>42</td>\n",
       "    </tr>\n",
       "    <tr>\n",
       "      <th>4</th>\n",
       "      <td>2022-10-02 23:00:00</td>\n",
       "      <td>51</td>\n",
       "      <td>60</td>\n",
       "    </tr>\n",
       "    <tr>\n",
       "      <th>...</th>\n",
       "      <td>...</td>\n",
       "      <td>...</td>\n",
       "      <td>...</td>\n",
       "    </tr>\n",
       "    <tr>\n",
       "      <th>57</th>\n",
       "      <td>2022-10-29 06:00:00</td>\n",
       "      <td>522</td>\n",
       "      <td>609</td>\n",
       "    </tr>\n",
       "    <tr>\n",
       "      <th>58</th>\n",
       "      <td>2022-10-29 23:00:00</td>\n",
       "      <td>537</td>\n",
       "      <td>627</td>\n",
       "    </tr>\n",
       "    <tr>\n",
       "      <th>59</th>\n",
       "      <td>2022-10-30 06:00:00</td>\n",
       "      <td>540</td>\n",
       "      <td>630</td>\n",
       "    </tr>\n",
       "    <tr>\n",
       "      <th>60</th>\n",
       "      <td>2022-10-30 23:00:00</td>\n",
       "      <td>555</td>\n",
       "      <td>648</td>\n",
       "    </tr>\n",
       "    <tr>\n",
       "      <th>61</th>\n",
       "      <td>2022-10-31 06:00:00</td>\n",
       "      <td>558</td>\n",
       "      <td>651</td>\n",
       "    </tr>\n",
       "  </tbody>\n",
       "</table>\n",
       "<p>62 rows × 3 columns</p>\n",
       "</div>"
      ],
      "text/plain": [
       "                 Datum  Stromverbrauch_15kWh  Stromverbrauch_18kWh\n",
       "0  2022-09-30 23:00:00                    15                    18\n",
       "1  2022-10-01 06:00:00                    18                    21\n",
       "2  2022-10-01 23:00:00                    33                    39\n",
       "3  2022-10-02 06:00:00                    36                    42\n",
       "4  2022-10-02 23:00:00                    51                    60\n",
       "..                 ...                   ...                   ...\n",
       "57 2022-10-29 06:00:00                   522                   609\n",
       "58 2022-10-29 23:00:00                   537                   627\n",
       "59 2022-10-30 06:00:00                   540                   630\n",
       "60 2022-10-30 23:00:00                   555                   648\n",
       "61 2022-10-31 06:00:00                   558                   651\n",
       "\n",
       "[62 rows x 3 columns]"
      ]
     },
     "execution_count": 7,
     "metadata": {},
     "output_type": "execute_result"
    }
   ],
   "source": [
    "strom_theorie"
   ]
  },
  {
   "cell_type": "code",
   "execution_count": 18,
   "metadata": {},
   "outputs": [
    {
     "data": {
      "application/vnd.plotly.v1+json": {
       "config": {
        "plotlyServerURL": "https://plot.ly"
       },
       "data": [
        {
         "line": {
          "color": "lime"
         },
         "marker": {
          "color": "orange"
         },
         "mode": "lines+markers",
         "name": "15kWh Tagesbedarf",
         "type": "scatter",
         "x": [
          "2022-09-30T23:00:00",
          "2022-10-01T06:00:00",
          "2022-10-01T23:00:00",
          "2022-10-02T06:00:00",
          "2022-10-02T23:00:00",
          "2022-10-03T06:00:00",
          "2022-10-03T23:00:00",
          "2022-10-04T06:00:00",
          "2022-10-04T23:00:00",
          "2022-10-05T06:00:00",
          "2022-10-05T23:00:00",
          "2022-10-06T06:00:00",
          "2022-10-06T23:00:00",
          "2022-10-07T06:00:00",
          "2022-10-07T23:00:00",
          "2022-10-08T06:00:00",
          "2022-10-08T23:00:00",
          "2022-10-09T06:00:00",
          "2022-10-09T23:00:00",
          "2022-10-10T06:00:00",
          "2022-10-10T23:00:00",
          "2022-10-11T06:00:00",
          "2022-10-11T23:00:00",
          "2022-10-12T06:00:00",
          "2022-10-12T23:00:00",
          "2022-10-13T06:00:00",
          "2022-10-13T23:00:00",
          "2022-10-14T06:00:00",
          "2022-10-14T23:00:00",
          "2022-10-15T06:00:00",
          "2022-10-15T23:00:00",
          "2022-10-16T06:00:00",
          "2022-10-16T23:00:00",
          "2022-10-17T06:00:00",
          "2022-10-17T23:00:00",
          "2022-10-18T06:00:00",
          "2022-10-18T23:00:00",
          "2022-10-19T06:00:00",
          "2022-10-19T23:00:00",
          "2022-10-20T06:00:00",
          "2022-10-20T23:00:00",
          "2022-10-21T06:00:00",
          "2022-10-21T23:00:00",
          "2022-10-22T06:00:00",
          "2022-10-22T23:00:00",
          "2022-10-23T06:00:00",
          "2022-10-23T23:00:00",
          "2022-10-24T06:00:00",
          "2022-10-24T23:00:00",
          "2022-10-25T06:00:00",
          "2022-10-25T23:00:00",
          "2022-10-26T06:00:00",
          "2022-10-26T23:00:00",
          "2022-10-27T06:00:00",
          "2022-10-27T23:00:00",
          "2022-10-28T06:00:00",
          "2022-10-28T23:00:00",
          "2022-10-29T06:00:00",
          "2022-10-29T23:00:00",
          "2022-10-30T06:00:00",
          "2022-10-30T23:00:00",
          "2022-10-31T06:00:00"
         ],
         "xaxis": "x",
         "y": [
          71885.4,
          71888.4,
          71903.4,
          71906.4,
          71921.4,
          71924.4,
          71939.4,
          71942.4,
          71957.4,
          71960.4,
          71975.4,
          71978.4,
          71993.4,
          71996.4,
          72011.4,
          72014.4,
          72029.4,
          72032.4,
          72047.4,
          72050.4,
          72065.4,
          72068.4,
          72083.4,
          72086.4,
          72101.4,
          72104.4,
          72119.4,
          72122.4,
          72137.4,
          72140.4,
          72155.4,
          72158.4,
          72173.4,
          72176.4,
          72191.4,
          72194.4,
          72209.4,
          72212.4,
          72227.4,
          72230.4,
          72245.4,
          72248.4,
          72263.4,
          72266.4,
          72281.4,
          72284.4,
          72299.4,
          72302.4,
          72317.4,
          72320.4,
          72335.4,
          72338.4,
          72353.4,
          72356.4,
          72371.4,
          72374.4,
          72389.4,
          72392.4,
          72407.4,
          72410.4,
          72425.4,
          72428.4
         ],
         "yaxis": "y"
        },
        {
         "line": {
          "color": "yellow"
         },
         "marker": {
          "color": "red"
         },
         "mode": "lines+markers",
         "name": "18kWh Tagesbedarf",
         "type": "scatter",
         "x": [
          "2022-09-30T23:00:00",
          "2022-10-01T06:00:00",
          "2022-10-01T23:00:00",
          "2022-10-02T06:00:00",
          "2022-10-02T23:00:00",
          "2022-10-03T06:00:00",
          "2022-10-03T23:00:00",
          "2022-10-04T06:00:00",
          "2022-10-04T23:00:00",
          "2022-10-05T06:00:00",
          "2022-10-05T23:00:00",
          "2022-10-06T06:00:00",
          "2022-10-06T23:00:00",
          "2022-10-07T06:00:00",
          "2022-10-07T23:00:00",
          "2022-10-08T06:00:00",
          "2022-10-08T23:00:00",
          "2022-10-09T06:00:00",
          "2022-10-09T23:00:00",
          "2022-10-10T06:00:00",
          "2022-10-10T23:00:00",
          "2022-10-11T06:00:00",
          "2022-10-11T23:00:00",
          "2022-10-12T06:00:00",
          "2022-10-12T23:00:00",
          "2022-10-13T06:00:00",
          "2022-10-13T23:00:00",
          "2022-10-14T06:00:00",
          "2022-10-14T23:00:00",
          "2022-10-15T06:00:00",
          "2022-10-15T23:00:00",
          "2022-10-16T06:00:00",
          "2022-10-16T23:00:00",
          "2022-10-17T06:00:00",
          "2022-10-17T23:00:00",
          "2022-10-18T06:00:00",
          "2022-10-18T23:00:00",
          "2022-10-19T06:00:00",
          "2022-10-19T23:00:00",
          "2022-10-20T06:00:00",
          "2022-10-20T23:00:00",
          "2022-10-21T06:00:00",
          "2022-10-21T23:00:00",
          "2022-10-22T06:00:00",
          "2022-10-22T23:00:00",
          "2022-10-23T06:00:00",
          "2022-10-23T23:00:00",
          "2022-10-24T06:00:00",
          "2022-10-24T23:00:00",
          "2022-10-25T06:00:00",
          "2022-10-25T23:00:00",
          "2022-10-26T06:00:00",
          "2022-10-26T23:00:00",
          "2022-10-27T06:00:00",
          "2022-10-27T23:00:00",
          "2022-10-28T06:00:00",
          "2022-10-28T23:00:00",
          "2022-10-29T06:00:00",
          "2022-10-29T23:00:00",
          "2022-10-30T06:00:00",
          "2022-10-30T23:00:00",
          "2022-10-31T06:00:00"
         ],
         "xaxis": "x",
         "y": [
          71888.4,
          71891.4,
          71909.4,
          71912.4,
          71930.4,
          71933.4,
          71951.4,
          71954.4,
          71972.4,
          71975.4,
          71993.4,
          71996.4,
          72014.4,
          72017.4,
          72035.4,
          72038.4,
          72056.4,
          72059.4,
          72077.4,
          72080.4,
          72098.4,
          72101.4,
          72119.4,
          72122.4,
          72140.4,
          72143.4,
          72161.4,
          72164.4,
          72182.4,
          72185.4,
          72203.4,
          72206.4,
          72224.4,
          72227.4,
          72245.4,
          72248.4,
          72266.4,
          72269.4,
          72287.4,
          72290.4,
          72308.4,
          72311.4,
          72329.4,
          72332.4,
          72350.4,
          72353.4,
          72371.4,
          72374.4,
          72392.4,
          72395.4,
          72413.4,
          72416.4,
          72434.4,
          72437.4,
          72455.4,
          72458.4,
          72476.4,
          72479.4,
          72497.4,
          72500.4,
          72518.4,
          72521.4
         ],
         "yaxis": "y"
        },
        {
         "line": {
          "color": "grey"
         },
         "marker": {
          "color": "violet"
         },
         "mode": "lines+markers",
         "name": "Tatsächlicher Verbrauch",
         "type": "scatter",
         "x": [
          "2022-09-30T06:07:00",
          "2022-10-01T20:21:00",
          "2022-10-02T00:10:00",
          "2022-10-02T23:16:00",
          "2022-10-04T06:09:00",
          "2022-10-04T23:15:00",
          "2022-10-05T06:08:00",
          "2022-10-05T23:53:00",
          "2022-10-06T06:09:00",
          "2022-10-07T06:08:00",
          "2022-10-10T06:08:00",
          "2022-10-10T23:23:00",
          "2022-10-11T06:10:00",
          "2022-10-12T06:07:00",
          "2022-10-12T22:40:00",
          "2022-10-13T06:07:00",
          "2022-10-13T23:09:00",
          "2022-10-14T06:09:00",
          "2022-10-14T23:08:00",
          "2022-10-15T23:12:00",
          "2022-10-16T23:26:00",
          "2022-10-17T23:51:00",
          "2022-10-18T23:22:00",
          "2022-10-19T23:23:00",
          "2022-10-20T23:34:00",
          "2022-10-21T23:24:00",
          "2022-10-22T23:58:00",
          "2022-10-23T22:47:00",
          "2022-10-24T06:08:00"
         ],
         "y": [
          71870.4,
          71901.9,
          71904.9,
          71921.1,
          71941.5,
          71953.8,
          71955.8,
          71971.3,
          71973.1,
          71991,
          72033.6,
          72047.9,
          72050,
          72067.6,
          72082.3,
          72084.6,
          72097.6,
          72099.6,
          72112.7,
          72131.9,
          72149.5,
          72163.6,
          72180.8,
          72197.9,
          72216.7,
          72228.3,
          72247,
          72263.8,
          72266.1
         ]
        }
       ],
       "layout": {
        "legend": {
         "title": {
          "text": "Tagesbedarf"
         }
        },
        "showlegend": true,
        "template": {
         "data": {
          "bar": [
           {
            "error_x": {
             "color": "#2a3f5f"
            },
            "error_y": {
             "color": "#2a3f5f"
            },
            "marker": {
             "line": {
              "color": "#E5ECF6",
              "width": 0.5
             },
             "pattern": {
              "fillmode": "overlay",
              "size": 10,
              "solidity": 0.2
             }
            },
            "type": "bar"
           }
          ],
          "barpolar": [
           {
            "marker": {
             "line": {
              "color": "#E5ECF6",
              "width": 0.5
             },
             "pattern": {
              "fillmode": "overlay",
              "size": 10,
              "solidity": 0.2
             }
            },
            "type": "barpolar"
           }
          ],
          "carpet": [
           {
            "aaxis": {
             "endlinecolor": "#2a3f5f",
             "gridcolor": "white",
             "linecolor": "white",
             "minorgridcolor": "white",
             "startlinecolor": "#2a3f5f"
            },
            "baxis": {
             "endlinecolor": "#2a3f5f",
             "gridcolor": "white",
             "linecolor": "white",
             "minorgridcolor": "white",
             "startlinecolor": "#2a3f5f"
            },
            "type": "carpet"
           }
          ],
          "choropleth": [
           {
            "colorbar": {
             "outlinewidth": 0,
             "ticks": ""
            },
            "type": "choropleth"
           }
          ],
          "contour": [
           {
            "colorbar": {
             "outlinewidth": 0,
             "ticks": ""
            },
            "colorscale": [
             [
              0,
              "#0d0887"
             ],
             [
              0.1111111111111111,
              "#46039f"
             ],
             [
              0.2222222222222222,
              "#7201a8"
             ],
             [
              0.3333333333333333,
              "#9c179e"
             ],
             [
              0.4444444444444444,
              "#bd3786"
             ],
             [
              0.5555555555555556,
              "#d8576b"
             ],
             [
              0.6666666666666666,
              "#ed7953"
             ],
             [
              0.7777777777777778,
              "#fb9f3a"
             ],
             [
              0.8888888888888888,
              "#fdca26"
             ],
             [
              1,
              "#f0f921"
             ]
            ],
            "type": "contour"
           }
          ],
          "contourcarpet": [
           {
            "colorbar": {
             "outlinewidth": 0,
             "ticks": ""
            },
            "type": "contourcarpet"
           }
          ],
          "heatmap": [
           {
            "colorbar": {
             "outlinewidth": 0,
             "ticks": ""
            },
            "colorscale": [
             [
              0,
              "#0d0887"
             ],
             [
              0.1111111111111111,
              "#46039f"
             ],
             [
              0.2222222222222222,
              "#7201a8"
             ],
             [
              0.3333333333333333,
              "#9c179e"
             ],
             [
              0.4444444444444444,
              "#bd3786"
             ],
             [
              0.5555555555555556,
              "#d8576b"
             ],
             [
              0.6666666666666666,
              "#ed7953"
             ],
             [
              0.7777777777777778,
              "#fb9f3a"
             ],
             [
              0.8888888888888888,
              "#fdca26"
             ],
             [
              1,
              "#f0f921"
             ]
            ],
            "type": "heatmap"
           }
          ],
          "heatmapgl": [
           {
            "colorbar": {
             "outlinewidth": 0,
             "ticks": ""
            },
            "colorscale": [
             [
              0,
              "#0d0887"
             ],
             [
              0.1111111111111111,
              "#46039f"
             ],
             [
              0.2222222222222222,
              "#7201a8"
             ],
             [
              0.3333333333333333,
              "#9c179e"
             ],
             [
              0.4444444444444444,
              "#bd3786"
             ],
             [
              0.5555555555555556,
              "#d8576b"
             ],
             [
              0.6666666666666666,
              "#ed7953"
             ],
             [
              0.7777777777777778,
              "#fb9f3a"
             ],
             [
              0.8888888888888888,
              "#fdca26"
             ],
             [
              1,
              "#f0f921"
             ]
            ],
            "type": "heatmapgl"
           }
          ],
          "histogram": [
           {
            "marker": {
             "pattern": {
              "fillmode": "overlay",
              "size": 10,
              "solidity": 0.2
             }
            },
            "type": "histogram"
           }
          ],
          "histogram2d": [
           {
            "colorbar": {
             "outlinewidth": 0,
             "ticks": ""
            },
            "colorscale": [
             [
              0,
              "#0d0887"
             ],
             [
              0.1111111111111111,
              "#46039f"
             ],
             [
              0.2222222222222222,
              "#7201a8"
             ],
             [
              0.3333333333333333,
              "#9c179e"
             ],
             [
              0.4444444444444444,
              "#bd3786"
             ],
             [
              0.5555555555555556,
              "#d8576b"
             ],
             [
              0.6666666666666666,
              "#ed7953"
             ],
             [
              0.7777777777777778,
              "#fb9f3a"
             ],
             [
              0.8888888888888888,
              "#fdca26"
             ],
             [
              1,
              "#f0f921"
             ]
            ],
            "type": "histogram2d"
           }
          ],
          "histogram2dcontour": [
           {
            "colorbar": {
             "outlinewidth": 0,
             "ticks": ""
            },
            "colorscale": [
             [
              0,
              "#0d0887"
             ],
             [
              0.1111111111111111,
              "#46039f"
             ],
             [
              0.2222222222222222,
              "#7201a8"
             ],
             [
              0.3333333333333333,
              "#9c179e"
             ],
             [
              0.4444444444444444,
              "#bd3786"
             ],
             [
              0.5555555555555556,
              "#d8576b"
             ],
             [
              0.6666666666666666,
              "#ed7953"
             ],
             [
              0.7777777777777778,
              "#fb9f3a"
             ],
             [
              0.8888888888888888,
              "#fdca26"
             ],
             [
              1,
              "#f0f921"
             ]
            ],
            "type": "histogram2dcontour"
           }
          ],
          "mesh3d": [
           {
            "colorbar": {
             "outlinewidth": 0,
             "ticks": ""
            },
            "type": "mesh3d"
           }
          ],
          "parcoords": [
           {
            "line": {
             "colorbar": {
              "outlinewidth": 0,
              "ticks": ""
             }
            },
            "type": "parcoords"
           }
          ],
          "pie": [
           {
            "automargin": true,
            "type": "pie"
           }
          ],
          "scatter": [
           {
            "fillpattern": {
             "fillmode": "overlay",
             "size": 10,
             "solidity": 0.2
            },
            "type": "scatter"
           }
          ],
          "scatter3d": [
           {
            "line": {
             "colorbar": {
              "outlinewidth": 0,
              "ticks": ""
             }
            },
            "marker": {
             "colorbar": {
              "outlinewidth": 0,
              "ticks": ""
             }
            },
            "type": "scatter3d"
           }
          ],
          "scattercarpet": [
           {
            "marker": {
             "colorbar": {
              "outlinewidth": 0,
              "ticks": ""
             }
            },
            "type": "scattercarpet"
           }
          ],
          "scattergeo": [
           {
            "marker": {
             "colorbar": {
              "outlinewidth": 0,
              "ticks": ""
             }
            },
            "type": "scattergeo"
           }
          ],
          "scattergl": [
           {
            "marker": {
             "colorbar": {
              "outlinewidth": 0,
              "ticks": ""
             }
            },
            "type": "scattergl"
           }
          ],
          "scattermapbox": [
           {
            "marker": {
             "colorbar": {
              "outlinewidth": 0,
              "ticks": ""
             }
            },
            "type": "scattermapbox"
           }
          ],
          "scatterpolar": [
           {
            "marker": {
             "colorbar": {
              "outlinewidth": 0,
              "ticks": ""
             }
            },
            "type": "scatterpolar"
           }
          ],
          "scatterpolargl": [
           {
            "marker": {
             "colorbar": {
              "outlinewidth": 0,
              "ticks": ""
             }
            },
            "type": "scatterpolargl"
           }
          ],
          "scatterternary": [
           {
            "marker": {
             "colorbar": {
              "outlinewidth": 0,
              "ticks": ""
             }
            },
            "type": "scatterternary"
           }
          ],
          "surface": [
           {
            "colorbar": {
             "outlinewidth": 0,
             "ticks": ""
            },
            "colorscale": [
             [
              0,
              "#0d0887"
             ],
             [
              0.1111111111111111,
              "#46039f"
             ],
             [
              0.2222222222222222,
              "#7201a8"
             ],
             [
              0.3333333333333333,
              "#9c179e"
             ],
             [
              0.4444444444444444,
              "#bd3786"
             ],
             [
              0.5555555555555556,
              "#d8576b"
             ],
             [
              0.6666666666666666,
              "#ed7953"
             ],
             [
              0.7777777777777778,
              "#fb9f3a"
             ],
             [
              0.8888888888888888,
              "#fdca26"
             ],
             [
              1,
              "#f0f921"
             ]
            ],
            "type": "surface"
           }
          ],
          "table": [
           {
            "cells": {
             "fill": {
              "color": "#EBF0F8"
             },
             "line": {
              "color": "white"
             }
            },
            "header": {
             "fill": {
              "color": "#C8D4E3"
             },
             "line": {
              "color": "white"
             }
            },
            "type": "table"
           }
          ]
         },
         "layout": {
          "annotationdefaults": {
           "arrowcolor": "#2a3f5f",
           "arrowhead": 0,
           "arrowwidth": 1
          },
          "autotypenumbers": "strict",
          "coloraxis": {
           "colorbar": {
            "outlinewidth": 0,
            "ticks": ""
           }
          },
          "colorscale": {
           "diverging": [
            [
             0,
             "#8e0152"
            ],
            [
             0.1,
             "#c51b7d"
            ],
            [
             0.2,
             "#de77ae"
            ],
            [
             0.3,
             "#f1b6da"
            ],
            [
             0.4,
             "#fde0ef"
            ],
            [
             0.5,
             "#f7f7f7"
            ],
            [
             0.6,
             "#e6f5d0"
            ],
            [
             0.7,
             "#b8e186"
            ],
            [
             0.8,
             "#7fbc41"
            ],
            [
             0.9,
             "#4d9221"
            ],
            [
             1,
             "#276419"
            ]
           ],
           "sequential": [
            [
             0,
             "#0d0887"
            ],
            [
             0.1111111111111111,
             "#46039f"
            ],
            [
             0.2222222222222222,
             "#7201a8"
            ],
            [
             0.3333333333333333,
             "#9c179e"
            ],
            [
             0.4444444444444444,
             "#bd3786"
            ],
            [
             0.5555555555555556,
             "#d8576b"
            ],
            [
             0.6666666666666666,
             "#ed7953"
            ],
            [
             0.7777777777777778,
             "#fb9f3a"
            ],
            [
             0.8888888888888888,
             "#fdca26"
            ],
            [
             1,
             "#f0f921"
            ]
           ],
           "sequentialminus": [
            [
             0,
             "#0d0887"
            ],
            [
             0.1111111111111111,
             "#46039f"
            ],
            [
             0.2222222222222222,
             "#7201a8"
            ],
            [
             0.3333333333333333,
             "#9c179e"
            ],
            [
             0.4444444444444444,
             "#bd3786"
            ],
            [
             0.5555555555555556,
             "#d8576b"
            ],
            [
             0.6666666666666666,
             "#ed7953"
            ],
            [
             0.7777777777777778,
             "#fb9f3a"
            ],
            [
             0.8888888888888888,
             "#fdca26"
            ],
            [
             1,
             "#f0f921"
            ]
           ]
          },
          "colorway": [
           "#636efa",
           "#EF553B",
           "#00cc96",
           "#ab63fa",
           "#FFA15A",
           "#19d3f3",
           "#FF6692",
           "#B6E880",
           "#FF97FF",
           "#FECB52"
          ],
          "font": {
           "color": "#2a3f5f"
          },
          "geo": {
           "bgcolor": "white",
           "lakecolor": "white",
           "landcolor": "#E5ECF6",
           "showlakes": true,
           "showland": true,
           "subunitcolor": "white"
          },
          "hoverlabel": {
           "align": "left"
          },
          "hovermode": "closest",
          "mapbox": {
           "style": "light"
          },
          "paper_bgcolor": "white",
          "plot_bgcolor": "#E5ECF6",
          "polar": {
           "angularaxis": {
            "gridcolor": "white",
            "linecolor": "white",
            "ticks": ""
           },
           "bgcolor": "#E5ECF6",
           "radialaxis": {
            "gridcolor": "white",
            "linecolor": "white",
            "ticks": ""
           }
          },
          "scene": {
           "xaxis": {
            "backgroundcolor": "#E5ECF6",
            "gridcolor": "white",
            "gridwidth": 2,
            "linecolor": "white",
            "showbackground": true,
            "ticks": "",
            "zerolinecolor": "white"
           },
           "yaxis": {
            "backgroundcolor": "#E5ECF6",
            "gridcolor": "white",
            "gridwidth": 2,
            "linecolor": "white",
            "showbackground": true,
            "ticks": "",
            "zerolinecolor": "white"
           },
           "zaxis": {
            "backgroundcolor": "#E5ECF6",
            "gridcolor": "white",
            "gridwidth": 2,
            "linecolor": "white",
            "showbackground": true,
            "ticks": "",
            "zerolinecolor": "white"
           }
          },
          "shapedefaults": {
           "line": {
            "color": "#2a3f5f"
           }
          },
          "ternary": {
           "aaxis": {
            "gridcolor": "white",
            "linecolor": "white",
            "ticks": ""
           },
           "baxis": {
            "gridcolor": "white",
            "linecolor": "white",
            "ticks": ""
           },
           "bgcolor": "#E5ECF6",
           "caxis": {
            "gridcolor": "white",
            "linecolor": "white",
            "ticks": ""
           }
          },
          "title": {
           "x": 0.05
          },
          "xaxis": {
           "automargin": true,
           "gridcolor": "white",
           "linecolor": "white",
           "ticks": "",
           "title": {
            "standoff": 15
           },
           "zerolinecolor": "white",
           "zerolinewidth": 2
          },
          "yaxis": {
           "automargin": true,
           "gridcolor": "white",
           "linecolor": "white",
           "ticks": "",
           "title": {
            "standoff": 15
           },
           "zerolinecolor": "white",
           "zerolinewidth": 2
          }
         }
        },
        "xaxis": {
         "anchor": "y",
         "domain": [
          0,
          1
         ],
         "title": {
          "text": "Monat"
         }
        },
        "yaxis": {
         "anchor": "x",
         "domain": [
          0,
          1
         ],
         "title": {
          "text": "Stromverbrauch [kWh]"
         }
        }
       }
      }
     },
     "metadata": {},
     "output_type": "display_data"
    }
   ],
   "source": [
    "from statistics import mode\n",
    "import plotly.graph_objects as go\n",
    "from plotly.subplots import make_subplots\n",
    "fig = make_subplots()\n",
    "# Add traces\n",
    "fig.add_trace(\n",
    "    go.Scatter(x=strom_theorie['Datum'], y=strom_theorie['Stromverbrauch_15kWh']+71870.4, marker_color='orange', \n",
    "    name=\"15kWh Tagesbedarf\", \n",
    "    mode='lines+markers', line_color='lime'\n",
    "    ),\n",
    "    secondary_y=False,\n",
    ")\n",
    "\n",
    "fig.add_trace(\n",
    "    go.Scatter(x=strom_theorie['Datum'], y=strom_theorie['Stromverbrauch_18kWh']+71870.4, marker_color='red', \n",
    "    name=\"18kWh Tagesbedarf\", \n",
    "    mode='lines+markers', line_color='yellow'\n",
    "    ),\n",
    "    secondary_y=False,\n",
    ")\n",
    "\n",
    "fig.add_trace(\n",
    "    go.Scatter(x=strom_oktober['Date'], y=strom_oktober['Zählerstand'], marker_color=\"violet\",\n",
    "    name=\"Tatsächlicher Verbrauch\",\n",
    "    mode=\"lines+markers\", line_color='grey'\n",
    "    )\n",
    ")\n",
    "# Set x-axis title\n",
    "fig.update_xaxes(title_text=\"Monat\")\n",
    "fig.update_yaxes(title_text=\"Stromverbrauch [kWh]\")\n",
    "fig.update_layout(legend_title_text='Tagesbedarf', showlegend=True)\n",
    "# fig.update_layout(legend=dict(\n",
    "#     yanchor=\"top\",\n",
    "#     y=0.99,\n",
    "#     xanchor=\"left\",\n",
    "#     x=0.01))\n",
    "fig.show()"
   ]
  },
  {
   "cell_type": "code",
   "execution_count": 13,
   "metadata": {},
   "outputs": [
    {
     "data": {
      "text/html": [
       "<div>\n",
       "<style scoped>\n",
       "    .dataframe tbody tr th:only-of-type {\n",
       "        vertical-align: middle;\n",
       "    }\n",
       "\n",
       "    .dataframe tbody tr th {\n",
       "        vertical-align: top;\n",
       "    }\n",
       "\n",
       "    .dataframe thead th {\n",
       "        text-align: right;\n",
       "    }\n",
       "</style>\n",
       "<table border=\"1\" class=\"dataframe\">\n",
       "  <thead>\n",
       "    <tr style=\"text-align: right;\">\n",
       "      <th></th>\n",
       "      <th>Datum</th>\n",
       "      <th>Zählerstand</th>\n",
       "      <th>Date</th>\n",
       "    </tr>\n",
       "  </thead>\n",
       "  <tbody>\n",
       "    <tr>\n",
       "      <th>16</th>\n",
       "      <td>09/30/22 06:07:00</td>\n",
       "      <td>71870.4</td>\n",
       "      <td>2022-09-30 06:07:00</td>\n",
       "    </tr>\n",
       "    <tr>\n",
       "      <th>17</th>\n",
       "      <td>10/01/22 20:21:00</td>\n",
       "      <td>71901.9</td>\n",
       "      <td>2022-10-01 20:21:00</td>\n",
       "    </tr>\n",
       "    <tr>\n",
       "      <th>18</th>\n",
       "      <td>10/02/22 00:10:00</td>\n",
       "      <td>71904.9</td>\n",
       "      <td>2022-10-02 00:10:00</td>\n",
       "    </tr>\n",
       "    <tr>\n",
       "      <th>19</th>\n",
       "      <td>10/02/22 23:16:00</td>\n",
       "      <td>71921.1</td>\n",
       "      <td>2022-10-02 23:16:00</td>\n",
       "    </tr>\n",
       "    <tr>\n",
       "      <th>20</th>\n",
       "      <td>10/04/22 06:09:00</td>\n",
       "      <td>71941.5</td>\n",
       "      <td>2022-10-04 06:09:00</td>\n",
       "    </tr>\n",
       "  </tbody>\n",
       "</table>\n",
       "</div>"
      ],
      "text/plain": [
       "                Datum  Zählerstand                Date\n",
       "16  09/30/22 06:07:00      71870.4 2022-09-30 06:07:00\n",
       "17  10/01/22 20:21:00      71901.9 2022-10-01 20:21:00\n",
       "18  10/02/22 00:10:00      71904.9 2022-10-02 00:10:00\n",
       "19  10/02/22 23:16:00      71921.1 2022-10-02 23:16:00\n",
       "20  10/04/22 06:09:00      71941.5 2022-10-04 06:09:00"
      ]
     },
     "execution_count": 13,
     "metadata": {},
     "output_type": "execute_result"
    }
   ],
   "source": [
    "strom_oktober.head()"
   ]
  },
  {
   "cell_type": "code",
   "execution_count": null,
   "metadata": {},
   "outputs": [],
   "source": []
  }
 ],
 "metadata": {
  "kernelspec": {
   "display_name": "Python 3.10.4 ('pyside2_dev')",
   "language": "python",
   "name": "python3"
  },
  "language_info": {
   "codemirror_mode": {
    "name": "ipython",
    "version": 3
   },
   "file_extension": ".py",
   "mimetype": "text/x-python",
   "name": "python",
   "nbconvert_exporter": "python",
   "pygments_lexer": "ipython3",
   "version": "3.10.6"
  },
  "orig_nbformat": 4,
  "vscode": {
   "interpreter": {
    "hash": "52867ee1f7e3b1f93523cdfe2d5d91084b6fa11775e78fca1f22649f7620b014"
   }
  }
 },
 "nbformat": 4,
 "nbformat_minor": 2
}
