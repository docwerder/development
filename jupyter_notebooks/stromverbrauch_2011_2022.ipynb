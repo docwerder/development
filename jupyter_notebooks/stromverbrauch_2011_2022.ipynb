{
 "cells": [
  {
   "cell_type": "code",
   "execution_count": 1,
   "metadata": {},
   "outputs": [],
   "source": [
    "import pandas as pd\n",
    "\n",
    "import pandas as pd\n",
    "\n",
    "df_tmp = {'01/01/11': 11934, \n",
    "            '02/21/11': 15720}\n",
    "\n",
    "df_strom_2011_2022 = pd.DataFrame(df_tmp.items(), columns=['Datum', 'Zählerstand'])\n",
    "df_strom_2011_2022.loc[0] = ['01/01/11', 11934]\n",
    "df_strom_2011_2022.loc[1] = ['02/21/12', 15720]\n",
    "df_strom_2011_2022.loc[2] = ['02/19/13', 19760]\n",
    "df_strom_2011_2022.loc[3] = ['02/18/14', 23992]\n",
    "df_strom_2011_2022.loc[4] = ['02/12/15', 28357]\n",
    "df_strom_2011_2022.loc[5] = ['02/11/16', 34273]\n",
    "df_strom_2011_2022.loc[6] = ['03/31/16', 35020]\n",
    "df_strom_2011_2022.loc[7] = ['02/14/17', 39644]\n",
    "df_strom_2011_2022.loc[8] = ['03/31/17', 40435]\n",
    "df_strom_2011_2022.loc[9] = ['02/20/18', 45335]\n",
    "df_strom_2011_2022.loc[10] = ['02/19/19', 50756]\n",
    "df_strom_2011_2022.loc[11] = ['03/07/19', 51017]\n",
    "df_strom_2011_2022.loc[12] = ['04/01/19', 51398]\n",
    "df_strom_2011_2022.loc[13] = ['02/20/20', 56414]\n",
    "df_strom_2011_2022.loc[14] = ['03/31/20', 57056]\n",
    "df_strom_2011_2022.loc[15] = ['06/30/20', 58513]\n",
    "df_strom_2011_2022.loc[16] = ['12/31/20', 61464]\n",
    "df_strom_2011_2022.loc[17] = ['02/05/21', 62167]\n",
    "df_strom_2011_2022.loc[18] = ['12/27/21', 67526]\n",
    "df_strom_2011_2022.loc[19] = ['02/28/22', 68701]\n",
    "df_strom_2011_2022.loc[20] = ['06/30/22', 70561]\n",
    "df_strom_2011_2022.loc[21] = ['09/01/22', 71429]\n",
    "df_strom_2011_2022.loc[22] = ['09/19/22', 71698]\n"
   ]
  },
  {
   "cell_type": "markdown",
   "metadata": {},
   "source": [
    "Stromverbrauch detailierter im September 2022"
   ]
  },
  {
   "cell_type": "code",
   "execution_count": 1,
   "metadata": {},
   "outputs": [],
   "source": [
    "import pandas as pd\n",
    "from datetime import datetime\n",
    "from datetime import timedelta\n",
    "\n",
    "strom_detail = pd.DataFrame()\n",
    "tmp = []\n",
    "datum = ['09/01/22 13:35:00', \n",
    "         '09/19/22 13:51:00', \n",
    "         '09/20/22 19:29:00',\n",
    "         '09/21/22 23:29:00',\n",
    "         '09/22/22 06:09:00',\n",
    "         '09/22/22 19:37:00',\n",
    "         '09/22/22 22:38:00',\n",
    "         '09/23/22 06:08:00',\n",
    "         '09/23/22 23:21:00',\n",
    "         '09/25/22 09:24:00',\n",
    "         '09/26/22 06:07:00',\n",
    "         '09/27/22 06:07:00',\n",
    "         '09/27/22 23:08:00',\n",
    "         '09/28/22 06:09:00', \n",
    "         '09/29/22 06:07:00',\n",
    "         '09/29/22 23:12:00',\n",
    "         '09/30/22 06:07:00',\n",
    "         '10/01/22 20:21:00',\n",
    "         '10/02/22 00:10:00',\n",
    "         '10/02/22 23:16:00',\n",
    "         '10/04/22 06:09:00',\n",
    "         '10/04/22 23:15:00',\n",
    "         '10/05/22 06:08:00',\n",
    "         '10/05/22 23:53:00',\n",
    "         '10/06/22 06:09:00']\n",
    "\n",
    "zaehler = [71428.8, 71697.8, 71719.2, 71737.9, 71739.9, 71751.3, \n",
    "           71753.4, 71755.7, 71769.8, 71796.3, 71808.7, 71826.5,\n",
    "           71838.2, 71840.5, 71856.9, 71868.3, 71870.4, 71901.9,\n",
    "           71904.9, 71921.1, 71941.5, 71953.8, 71955.8,  71971.3,\n",
    "           71973.1 \n",
    "           ]\n",
    "\n",
    "strom_detail = pd.DataFrame({'Datum': datum, 'Zählerstand': zaehler})\n",
    "\n",
    "for lf in strom_detail['Datum']:\n",
    "    tmp.append(datetime.strptime(lf, '%m/%d/%y %H:%M:%S'))\n",
    "\n",
    "\n",
    "strom_detail['Date'] = tmp"
   ]
  },
  {
   "cell_type": "code",
   "execution_count": 2,
   "metadata": {},
   "outputs": [
    {
     "name": "stdout",
     "output_type": "stream",
     "text": [
      "23 23\n",
      "27 27\n",
      "29 29\n",
      "4 4\n",
      "5 5\n"
     ]
    }
   ],
   "source": [
    "\n",
    "delta_1 = round(strom_detail.loc[8]['Zählerstand'] - strom_detail.loc[7]['Zählerstand'], 2)\n",
    "print(strom_detail.loc[8]['Date'].day, strom_detail.loc[7]['Date'].day)\n",
    "\n",
    "delta_2 = round(strom_detail.loc[12]['Zählerstand'] - strom_detail.loc[11]['Zählerstand'], 2)\n",
    "print(strom_detail.loc[12]['Date'].day, strom_detail.loc[11]['Date'].day)\n",
    "\n",
    "delta_3 = round(strom_detail.loc[15]['Zählerstand'] - strom_detail.loc[14]['Zählerstand'], 2)\n",
    "print(strom_detail.loc[15]['Date'].day, strom_detail.loc[14]['Date'].day)\n",
    "\n",
    "delta_4 = round(strom_detail.loc[21]['Zählerstand'] - strom_detail.loc[20]['Zählerstand'], 2)\n",
    "print(strom_detail.loc[21]['Date'].day, strom_detail.loc[20]['Date'].day)\n",
    "\n",
    "delta_5 = round(strom_detail.loc[23]['Zählerstand'] - strom_detail.loc[22]['Zählerstand'], 2)\n",
    "print(strom_detail.loc[23]['Date'].day, strom_detail.loc[22]['Date'].day)\n",
    "\n"
   ]
  },
  {
   "cell_type": "code",
   "execution_count": 10,
   "metadata": {},
   "outputs": [
    {
     "name": "stdout",
     "output_type": "stream",
     "text": [
      "14.1\n",
      "11.7\n",
      "11.4\n",
      "12.3\n",
      "15.5\n"
     ]
    }
   ],
   "source": [
    "print(delta_1), print(delta_2), print(delta_3), print(delta_4), print(delta_5)\n",
    "strom_tag = [23, 27, 29, 4, 5]\n"
   ]
  },
  {
   "cell_type": "code",
   "execution_count": 19,
   "metadata": {},
   "outputs": [
    {
     "name": "stdout",
     "output_type": "stream",
     "text": [
      "Mittelwert: 13.0\n",
      "Standardabweichung: 1.56\n"
     ]
    }
   ],
   "source": [
    "import statistics\n",
    "strom_tag = [delta_1, delta_2, delta_3, delta_4, delta_5]\n",
    "mittelwert = statistics.mean(strom_tag)\n",
    "abw = statistics.pstdev(strom_tag)\n",
    "print(f'Mittelwert: {mittelwert}')\n",
    "print(f'Standardabweichung: {abw:.2f}')\n"
   ]
  },
  {
   "cell_type": "code",
   "execution_count": null,
   "metadata": {},
   "outputs": [],
   "source": []
  },
  {
   "cell_type": "code",
   "execution_count": null,
   "metadata": {},
   "outputs": [],
   "source": []
  },
  {
   "cell_type": "code",
   "execution_count": 14,
   "metadata": {},
   "outputs": [
    {
     "data": {
      "application/vnd.plotly.v1+json": {
       "config": {
        "plotlyServerURL": "https://plot.ly"
       },
       "data": [
        {
         "marker": {
          "color": "orange"
         },
         "text": [
          71428.8,
          71697.8,
          71719.2,
          71737.9,
          71739.9,
          71751.3,
          71753.4,
          71755.7,
          71769.8,
          71796.3,
          71808.7,
          71826.5,
          71838.2,
          71840.5,
          71856.9,
          71868.3,
          71870.4,
          71901.9,
          71904.9,
          71921.1,
          71941.5,
          71953.8,
          71955.8,
          71971.3,
          71973.1
         ],
         "type": "bar",
         "x": [
          "09/01/22 13:35:00",
          "09/19/22 13:51:00",
          "09/20/22 19:29:00",
          "09/21/22 23:29:00",
          "09/22/22 06:09:00",
          "09/22/22 19:37:00",
          "09/22/22 22:38:00",
          "09/23/22 06:08:00",
          "09/23/22 23:21:00",
          "09/25/22 09:24:00",
          "09/26/22 06:07:00",
          "09/27/22 06:07:00",
          "09/27/22 23:08:00",
          "09/28/22 06:09:00",
          "09/29/22 06:07:00",
          "09/29/22 23:12:00",
          "09/30/22 06:07:00",
          "10/01/22 20:21:00",
          "10/02/22 00:10:00",
          "10/02/22 23:16:00",
          "10/04/22 06:09:00",
          "10/04/22 23:15:00",
          "10/05/22 06:08:00",
          "10/05/22 23:53:00",
          "10/06/22 06:09:00"
         ],
         "xaxis": "x",
         "y": [
          71428.8,
          71697.8,
          71719.2,
          71737.9,
          71739.9,
          71751.3,
          71753.4,
          71755.7,
          71769.8,
          71796.3,
          71808.7,
          71826.5,
          71838.2,
          71840.5,
          71856.9,
          71868.3,
          71870.4,
          71901.9,
          71904.9,
          71921.1,
          71941.5,
          71953.8,
          71955.8,
          71971.3,
          71973.1
         ],
         "yaxis": "y"
        },
        {
         "line": {
          "color": "lime"
         },
         "marker": {
          "color": "orange"
         },
         "mode": "lines+markers",
         "text": [
          71428.8,
          71697.8,
          71719.2,
          71737.9,
          71739.9,
          71751.3,
          71753.4,
          71755.7,
          71769.8,
          71796.3,
          71808.7,
          71826.5,
          71838.2,
          71840.5,
          71856.9,
          71868.3,
          71870.4,
          71901.9,
          71904.9,
          71921.1,
          71941.5,
          71953.8,
          71955.8,
          71971.3,
          71973.1
         ],
         "type": "scatter",
         "x": [
          "09/01/22 13:35:00",
          "09/19/22 13:51:00",
          "09/20/22 19:29:00",
          "09/21/22 23:29:00",
          "09/22/22 06:09:00",
          "09/22/22 19:37:00",
          "09/22/22 22:38:00",
          "09/23/22 06:08:00",
          "09/23/22 23:21:00",
          "09/25/22 09:24:00",
          "09/26/22 06:07:00",
          "09/27/22 06:07:00",
          "09/27/22 23:08:00",
          "09/28/22 06:09:00",
          "09/29/22 06:07:00",
          "09/29/22 23:12:00",
          "09/30/22 06:07:00",
          "10/01/22 20:21:00",
          "10/02/22 00:10:00",
          "10/02/22 23:16:00",
          "10/04/22 06:09:00",
          "10/04/22 23:15:00",
          "10/05/22 06:08:00",
          "10/05/22 23:53:00",
          "10/06/22 06:09:00"
         ],
         "xaxis": "x",
         "y": [
          71428.8,
          71697.8,
          71719.2,
          71737.9,
          71739.9,
          71751.3,
          71753.4,
          71755.7,
          71769.8,
          71796.3,
          71808.7,
          71826.5,
          71838.2,
          71840.5,
          71856.9,
          71868.3,
          71870.4,
          71901.9,
          71904.9,
          71921.1,
          71941.5,
          71953.8,
          71955.8,
          71971.3,
          71973.1
         ],
         "yaxis": "y"
        }
       ],
       "layout": {
        "annotations": [
         {
          "showarrow": false,
          "x": 0,
          "y": 800,
          "yshift": 10
         }
        ],
        "legend": {
         "x": 0.01,
         "xanchor": "left",
         "y": 0.99,
         "yanchor": "top"
        },
        "template": {
         "data": {
          "bar": [
           {
            "error_x": {
             "color": "#2a3f5f"
            },
            "error_y": {
             "color": "#2a3f5f"
            },
            "marker": {
             "line": {
              "color": "#E5ECF6",
              "width": 0.5
             },
             "pattern": {
              "fillmode": "overlay",
              "size": 10,
              "solidity": 0.2
             }
            },
            "type": "bar"
           }
          ],
          "barpolar": [
           {
            "marker": {
             "line": {
              "color": "#E5ECF6",
              "width": 0.5
             },
             "pattern": {
              "fillmode": "overlay",
              "size": 10,
              "solidity": 0.2
             }
            },
            "type": "barpolar"
           }
          ],
          "carpet": [
           {
            "aaxis": {
             "endlinecolor": "#2a3f5f",
             "gridcolor": "white",
             "linecolor": "white",
             "minorgridcolor": "white",
             "startlinecolor": "#2a3f5f"
            },
            "baxis": {
             "endlinecolor": "#2a3f5f",
             "gridcolor": "white",
             "linecolor": "white",
             "minorgridcolor": "white",
             "startlinecolor": "#2a3f5f"
            },
            "type": "carpet"
           }
          ],
          "choropleth": [
           {
            "colorbar": {
             "outlinewidth": 0,
             "ticks": ""
            },
            "type": "choropleth"
           }
          ],
          "contour": [
           {
            "colorbar": {
             "outlinewidth": 0,
             "ticks": ""
            },
            "colorscale": [
             [
              0,
              "#0d0887"
             ],
             [
              0.1111111111111111,
              "#46039f"
             ],
             [
              0.2222222222222222,
              "#7201a8"
             ],
             [
              0.3333333333333333,
              "#9c179e"
             ],
             [
              0.4444444444444444,
              "#bd3786"
             ],
             [
              0.5555555555555556,
              "#d8576b"
             ],
             [
              0.6666666666666666,
              "#ed7953"
             ],
             [
              0.7777777777777778,
              "#fb9f3a"
             ],
             [
              0.8888888888888888,
              "#fdca26"
             ],
             [
              1,
              "#f0f921"
             ]
            ],
            "type": "contour"
           }
          ],
          "contourcarpet": [
           {
            "colorbar": {
             "outlinewidth": 0,
             "ticks": ""
            },
            "type": "contourcarpet"
           }
          ],
          "heatmap": [
           {
            "colorbar": {
             "outlinewidth": 0,
             "ticks": ""
            },
            "colorscale": [
             [
              0,
              "#0d0887"
             ],
             [
              0.1111111111111111,
              "#46039f"
             ],
             [
              0.2222222222222222,
              "#7201a8"
             ],
             [
              0.3333333333333333,
              "#9c179e"
             ],
             [
              0.4444444444444444,
              "#bd3786"
             ],
             [
              0.5555555555555556,
              "#d8576b"
             ],
             [
              0.6666666666666666,
              "#ed7953"
             ],
             [
              0.7777777777777778,
              "#fb9f3a"
             ],
             [
              0.8888888888888888,
              "#fdca26"
             ],
             [
              1,
              "#f0f921"
             ]
            ],
            "type": "heatmap"
           }
          ],
          "heatmapgl": [
           {
            "colorbar": {
             "outlinewidth": 0,
             "ticks": ""
            },
            "colorscale": [
             [
              0,
              "#0d0887"
             ],
             [
              0.1111111111111111,
              "#46039f"
             ],
             [
              0.2222222222222222,
              "#7201a8"
             ],
             [
              0.3333333333333333,
              "#9c179e"
             ],
             [
              0.4444444444444444,
              "#bd3786"
             ],
             [
              0.5555555555555556,
              "#d8576b"
             ],
             [
              0.6666666666666666,
              "#ed7953"
             ],
             [
              0.7777777777777778,
              "#fb9f3a"
             ],
             [
              0.8888888888888888,
              "#fdca26"
             ],
             [
              1,
              "#f0f921"
             ]
            ],
            "type": "heatmapgl"
           }
          ],
          "histogram": [
           {
            "marker": {
             "pattern": {
              "fillmode": "overlay",
              "size": 10,
              "solidity": 0.2
             }
            },
            "type": "histogram"
           }
          ],
          "histogram2d": [
           {
            "colorbar": {
             "outlinewidth": 0,
             "ticks": ""
            },
            "colorscale": [
             [
              0,
              "#0d0887"
             ],
             [
              0.1111111111111111,
              "#46039f"
             ],
             [
              0.2222222222222222,
              "#7201a8"
             ],
             [
              0.3333333333333333,
              "#9c179e"
             ],
             [
              0.4444444444444444,
              "#bd3786"
             ],
             [
              0.5555555555555556,
              "#d8576b"
             ],
             [
              0.6666666666666666,
              "#ed7953"
             ],
             [
              0.7777777777777778,
              "#fb9f3a"
             ],
             [
              0.8888888888888888,
              "#fdca26"
             ],
             [
              1,
              "#f0f921"
             ]
            ],
            "type": "histogram2d"
           }
          ],
          "histogram2dcontour": [
           {
            "colorbar": {
             "outlinewidth": 0,
             "ticks": ""
            },
            "colorscale": [
             [
              0,
              "#0d0887"
             ],
             [
              0.1111111111111111,
              "#46039f"
             ],
             [
              0.2222222222222222,
              "#7201a8"
             ],
             [
              0.3333333333333333,
              "#9c179e"
             ],
             [
              0.4444444444444444,
              "#bd3786"
             ],
             [
              0.5555555555555556,
              "#d8576b"
             ],
             [
              0.6666666666666666,
              "#ed7953"
             ],
             [
              0.7777777777777778,
              "#fb9f3a"
             ],
             [
              0.8888888888888888,
              "#fdca26"
             ],
             [
              1,
              "#f0f921"
             ]
            ],
            "type": "histogram2dcontour"
           }
          ],
          "mesh3d": [
           {
            "colorbar": {
             "outlinewidth": 0,
             "ticks": ""
            },
            "type": "mesh3d"
           }
          ],
          "parcoords": [
           {
            "line": {
             "colorbar": {
              "outlinewidth": 0,
              "ticks": ""
             }
            },
            "type": "parcoords"
           }
          ],
          "pie": [
           {
            "automargin": true,
            "type": "pie"
           }
          ],
          "scatter": [
           {
            "fillpattern": {
             "fillmode": "overlay",
             "size": 10,
             "solidity": 0.2
            },
            "type": "scatter"
           }
          ],
          "scatter3d": [
           {
            "line": {
             "colorbar": {
              "outlinewidth": 0,
              "ticks": ""
             }
            },
            "marker": {
             "colorbar": {
              "outlinewidth": 0,
              "ticks": ""
             }
            },
            "type": "scatter3d"
           }
          ],
          "scattercarpet": [
           {
            "marker": {
             "colorbar": {
              "outlinewidth": 0,
              "ticks": ""
             }
            },
            "type": "scattercarpet"
           }
          ],
          "scattergeo": [
           {
            "marker": {
             "colorbar": {
              "outlinewidth": 0,
              "ticks": ""
             }
            },
            "type": "scattergeo"
           }
          ],
          "scattergl": [
           {
            "marker": {
             "colorbar": {
              "outlinewidth": 0,
              "ticks": ""
             }
            },
            "type": "scattergl"
           }
          ],
          "scattermapbox": [
           {
            "marker": {
             "colorbar": {
              "outlinewidth": 0,
              "ticks": ""
             }
            },
            "type": "scattermapbox"
           }
          ],
          "scatterpolar": [
           {
            "marker": {
             "colorbar": {
              "outlinewidth": 0,
              "ticks": ""
             }
            },
            "type": "scatterpolar"
           }
          ],
          "scatterpolargl": [
           {
            "marker": {
             "colorbar": {
              "outlinewidth": 0,
              "ticks": ""
             }
            },
            "type": "scatterpolargl"
           }
          ],
          "scatterternary": [
           {
            "marker": {
             "colorbar": {
              "outlinewidth": 0,
              "ticks": ""
             }
            },
            "type": "scatterternary"
           }
          ],
          "surface": [
           {
            "colorbar": {
             "outlinewidth": 0,
             "ticks": ""
            },
            "colorscale": [
             [
              0,
              "#0d0887"
             ],
             [
              0.1111111111111111,
              "#46039f"
             ],
             [
              0.2222222222222222,
              "#7201a8"
             ],
             [
              0.3333333333333333,
              "#9c179e"
             ],
             [
              0.4444444444444444,
              "#bd3786"
             ],
             [
              0.5555555555555556,
              "#d8576b"
             ],
             [
              0.6666666666666666,
              "#ed7953"
             ],
             [
              0.7777777777777778,
              "#fb9f3a"
             ],
             [
              0.8888888888888888,
              "#fdca26"
             ],
             [
              1,
              "#f0f921"
             ]
            ],
            "type": "surface"
           }
          ],
          "table": [
           {
            "cells": {
             "fill": {
              "color": "#EBF0F8"
             },
             "line": {
              "color": "white"
             }
            },
            "header": {
             "fill": {
              "color": "#C8D4E3"
             },
             "line": {
              "color": "white"
             }
            },
            "type": "table"
           }
          ]
         },
         "layout": {
          "annotationdefaults": {
           "arrowcolor": "#2a3f5f",
           "arrowhead": 0,
           "arrowwidth": 1
          },
          "autotypenumbers": "strict",
          "coloraxis": {
           "colorbar": {
            "outlinewidth": 0,
            "ticks": ""
           }
          },
          "colorscale": {
           "diverging": [
            [
             0,
             "#8e0152"
            ],
            [
             0.1,
             "#c51b7d"
            ],
            [
             0.2,
             "#de77ae"
            ],
            [
             0.3,
             "#f1b6da"
            ],
            [
             0.4,
             "#fde0ef"
            ],
            [
             0.5,
             "#f7f7f7"
            ],
            [
             0.6,
             "#e6f5d0"
            ],
            [
             0.7,
             "#b8e186"
            ],
            [
             0.8,
             "#7fbc41"
            ],
            [
             0.9,
             "#4d9221"
            ],
            [
             1,
             "#276419"
            ]
           ],
           "sequential": [
            [
             0,
             "#0d0887"
            ],
            [
             0.1111111111111111,
             "#46039f"
            ],
            [
             0.2222222222222222,
             "#7201a8"
            ],
            [
             0.3333333333333333,
             "#9c179e"
            ],
            [
             0.4444444444444444,
             "#bd3786"
            ],
            [
             0.5555555555555556,
             "#d8576b"
            ],
            [
             0.6666666666666666,
             "#ed7953"
            ],
            [
             0.7777777777777778,
             "#fb9f3a"
            ],
            [
             0.8888888888888888,
             "#fdca26"
            ],
            [
             1,
             "#f0f921"
            ]
           ],
           "sequentialminus": [
            [
             0,
             "#0d0887"
            ],
            [
             0.1111111111111111,
             "#46039f"
            ],
            [
             0.2222222222222222,
             "#7201a8"
            ],
            [
             0.3333333333333333,
             "#9c179e"
            ],
            [
             0.4444444444444444,
             "#bd3786"
            ],
            [
             0.5555555555555556,
             "#d8576b"
            ],
            [
             0.6666666666666666,
             "#ed7953"
            ],
            [
             0.7777777777777778,
             "#fb9f3a"
            ],
            [
             0.8888888888888888,
             "#fdca26"
            ],
            [
             1,
             "#f0f921"
            ]
           ]
          },
          "colorway": [
           "#636efa",
           "#EF553B",
           "#00cc96",
           "#ab63fa",
           "#FFA15A",
           "#19d3f3",
           "#FF6692",
           "#B6E880",
           "#FF97FF",
           "#FECB52"
          ],
          "font": {
           "color": "#2a3f5f"
          },
          "geo": {
           "bgcolor": "white",
           "lakecolor": "white",
           "landcolor": "#E5ECF6",
           "showlakes": true,
           "showland": true,
           "subunitcolor": "white"
          },
          "hoverlabel": {
           "align": "left"
          },
          "hovermode": "closest",
          "mapbox": {
           "style": "light"
          },
          "paper_bgcolor": "white",
          "plot_bgcolor": "#E5ECF6",
          "polar": {
           "angularaxis": {
            "gridcolor": "white",
            "linecolor": "white",
            "ticks": ""
           },
           "bgcolor": "#E5ECF6",
           "radialaxis": {
            "gridcolor": "white",
            "linecolor": "white",
            "ticks": ""
           }
          },
          "scene": {
           "xaxis": {
            "backgroundcolor": "#E5ECF6",
            "gridcolor": "white",
            "gridwidth": 2,
            "linecolor": "white",
            "showbackground": true,
            "ticks": "",
            "zerolinecolor": "white"
           },
           "yaxis": {
            "backgroundcolor": "#E5ECF6",
            "gridcolor": "white",
            "gridwidth": 2,
            "linecolor": "white",
            "showbackground": true,
            "ticks": "",
            "zerolinecolor": "white"
           },
           "zaxis": {
            "backgroundcolor": "#E5ECF6",
            "gridcolor": "white",
            "gridwidth": 2,
            "linecolor": "white",
            "showbackground": true,
            "ticks": "",
            "zerolinecolor": "white"
           }
          },
          "shapedefaults": {
           "line": {
            "color": "#2a3f5f"
           }
          },
          "ternary": {
           "aaxis": {
            "gridcolor": "white",
            "linecolor": "white",
            "ticks": ""
           },
           "baxis": {
            "gridcolor": "white",
            "linecolor": "white",
            "ticks": ""
           },
           "bgcolor": "#E5ECF6",
           "caxis": {
            "gridcolor": "white",
            "linecolor": "white",
            "ticks": ""
           }
          },
          "title": {
           "x": 0.05
          },
          "xaxis": {
           "automargin": true,
           "gridcolor": "white",
           "linecolor": "white",
           "ticks": "",
           "title": {
            "standoff": 15
           },
           "zerolinecolor": "white",
           "zerolinewidth": 2
          },
          "yaxis": {
           "automargin": true,
           "gridcolor": "white",
           "linecolor": "white",
           "ticks": "",
           "title": {
            "standoff": 15
           },
           "zerolinecolor": "white",
           "zerolinewidth": 2
          }
         }
        },
        "xaxis": {
         "anchor": "y",
         "domain": [
          0,
          0.94
         ],
         "title": {
          "text": "Monat"
         }
        },
        "yaxis": {
         "anchor": "x",
         "domain": [
          0,
          1
         ],
         "range": [
          71680,
          72000
         ],
         "title": {
          "text": "Ertrag [kWh] "
         }
        },
        "yaxis2": {
         "anchor": "x",
         "overlaying": "y",
         "side": "right"
        }
       }
      }
     },
     "metadata": {},
     "output_type": "display_data"
    }
   ],
   "source": [
    "from statistics import mode\n",
    "import plotly.graph_objects as go\n",
    "from plotly.subplots import make_subplots\n",
    "\n",
    "# Create figure with secondary y-axis\n",
    "fig = make_subplots(specs=[[{\"secondary_y\": True}]])\n",
    "\n",
    "# Add traces\n",
    "fig.add_trace(\n",
    "    go.Bar(x=strom_detail['Datum'], y=strom_detail['Zählerstand'], marker_color='orange',  \n",
    "    text=strom_detail[\"Zählerstand\"],\n",
    "    ),\n",
    "    secondary_y=False,\n",
    ")\n",
    "\n",
    "fig.add_trace(\n",
    "    go.Scatter(x=strom_detail['Datum'], y=strom_detail['Zählerstand'], marker_color='orange',  \n",
    "    text=strom_detail[\"Zählerstand\"], mode='lines+markers', line_color='lime',\n",
    "    ),\n",
    "    secondary_y=False,\n",
    ")\n",
    "# Set x-axis title\n",
    "fig.update_xaxes(title_text=\"Monat\")\n",
    "\n",
    "# Set y-axes titles\n",
    "fig.update_yaxes(range=[71680, 72000], title_text=\"Ertrag [kWh] \", secondary_y=False)\n",
    "# fig.update_yaxes(range=[0, 1200], title_text=\"Spez. Ertrag [kWh/kWp]\", secondary_y=False)\n",
    "\n",
    "fig.update_layout(legend=dict(\n",
    "    yanchor=\"top\",\n",
    "    y=0.99,\n",
    "    xanchor=\"left\",\n",
    "    x=0.01))\n",
    "\n",
    "\n",
    "fig.add_annotation(x=0, y=800,\n",
    "            #text=f'Totaler jährlicher <br> Strombedarf: {str(abs(bedarf_total))} kWh',\n",
    "            showarrow=False,\n",
    "            yshift=10)\n",
    "\n",
    "fig.show()"
   ]
  },
  {
   "cell_type": "code",
   "execution_count": 35,
   "metadata": {},
   "outputs": [],
   "source": [
    "tmp = []\n",
    "for lf in strom_detail['Datum']:\n",
    "    tmp.append(datetime.strptime(lf, '%m/%d/%y %H:%M:%S'))\n",
    "\n",
    "strom_detail['Date'] = tmp"
   ]
  },
  {
   "cell_type": "code",
   "execution_count": 44,
   "metadata": {},
   "outputs": [
    {
     "ename": "AttributeError",
     "evalue": "'Timedelta' object has no attribute 'hrs'",
     "output_type": "error",
     "traceback": [
      "\u001b[0;31m---------------------------------------------------------------------------\u001b[0m",
      "\u001b[0;31mAttributeError\u001b[0m                            Traceback (most recent call last)",
      "Cell \u001b[0;32mIn [44], line 1\u001b[0m\n\u001b[0;32m----> 1\u001b[0m \u001b[43m(\u001b[49m\u001b[43mstrom_detail\u001b[49m\u001b[43m[\u001b[49m\u001b[38;5;124;43m'\u001b[39;49m\u001b[38;5;124;43mDate\u001b[39;49m\u001b[38;5;124;43m'\u001b[39;49m\u001b[43m]\u001b[49m\u001b[43m[\u001b[49m\u001b[38;5;241;43m3\u001b[39;49m\u001b[43m]\u001b[49m\u001b[43m \u001b[49m\u001b[38;5;241;43m-\u001b[39;49m\u001b[43m \u001b[49m\u001b[43mstrom_detail\u001b[49m\u001b[43m[\u001b[49m\u001b[38;5;124;43m'\u001b[39;49m\u001b[38;5;124;43mDate\u001b[39;49m\u001b[38;5;124;43m'\u001b[39;49m\u001b[43m]\u001b[49m\u001b[43m[\u001b[49m\u001b[38;5;241;43m2\u001b[39;49m\u001b[43m]\u001b[49m\u001b[43m)\u001b[49m\u001b[38;5;241;43m.\u001b[39;49m\u001b[43mhrs\u001b[49m\n",
      "\u001b[0;31mAttributeError\u001b[0m: 'Timedelta' object has no attribute 'hrs'"
     ]
    }
   ],
   "source": [
    "(strom_detail['Date'][3] - strom_detail['Date'][2]).hrs"
   ]
  },
  {
   "cell_type": "code",
   "execution_count": 2,
   "metadata": {},
   "outputs": [
    {
     "name": "stdout",
     "output_type": "stream",
     "text": [
      "2022-09-26 09:41:54.703483\n"
     ]
    }
   ],
   "source": [
    "\n",
    "now = datetime.now()\n",
    "print(now)"
   ]
  },
  {
   "cell_type": "code",
   "execution_count": 6,
   "metadata": {},
   "outputs": [
    {
     "name": "stdout",
     "output_type": "stream",
     "text": [
      "<class 'datetime.datetime'>\n"
     ]
    }
   ],
   "source": [
    "print(type(now))"
   ]
  },
  {
   "cell_type": "code",
   "execution_count": 31,
   "metadata": {},
   "outputs": [
    {
     "data": {
      "text/plain": [
       "'09/01/22 13:35:00'"
      ]
     },
     "execution_count": 31,
     "metadata": {},
     "output_type": "execute_result"
    }
   ],
   "source": [
    "datum[0]"
   ]
  },
  {
   "cell_type": "code",
   "execution_count": 14,
   "metadata": {},
   "outputs": [],
   "source": [
    "datetime_object_0 = datetime.strptime(datum[0], '%m/%d/%y %H:%M:%S')\n",
    "datetime_object_1 = datetime.strptime(datum[1], '%m/%d/%y %H:%M:%S')"
   ]
  },
  {
   "cell_type": "code",
   "execution_count": 30,
   "metadata": {},
   "outputs": [
    {
     "data": {
      "text/plain": [
       "19"
      ]
     },
     "execution_count": 30,
     "metadata": {},
     "output_type": "execute_result"
    }
   ],
   "source": [
    "datetime_object_1.day"
   ]
  },
  {
   "cell_type": "code",
   "execution_count": null,
   "metadata": {},
   "outputs": [],
   "source": []
  }
 ],
 "metadata": {
  "kernelspec": {
   "display_name": "Python 3.10.4 ('pyside2_dev')",
   "language": "python",
   "name": "python3"
  },
  "language_info": {
   "codemirror_mode": {
    "name": "ipython",
    "version": 3
   },
   "file_extension": ".py",
   "mimetype": "text/x-python",
   "name": "python",
   "nbconvert_exporter": "python",
   "pygments_lexer": "ipython3",
   "version": "3.10.6"
  },
  "orig_nbformat": 4,
  "vscode": {
   "interpreter": {
    "hash": "52867ee1f7e3b1f93523cdfe2d5d91084b6fa11775e78fca1f22649f7620b014"
   }
  }
 },
 "nbformat": 4,
 "nbformat_minor": 2
}
