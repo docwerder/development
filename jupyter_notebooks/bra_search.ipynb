{
 "cells": [
  {
   "cell_type": "code",
   "execution_count": 14,
   "metadata": {},
   "outputs": [
    {
     "name": "stdout",
     "output_type": "stream",
     "text": [
      "carmella_bing\n",
      "carmella_bing in scene brazzers_vault_carmella_bing_balls_of_steel_480p.mp4 gefunden\n",
      "memphis_monroe in scene brazzers_vault_memphis_monroe_big_boobs_make_the_world_go_around_1080p.mp4 gefunden\n",
      "memphis_monroe in scene brazzers_vault_memphis_monroe_big_boobs_make_the_world_go_around_720p.mp4 gefunden\n"
     ]
    }
   ],
   "source": [
    "import os\n",
    "import glob\n",
    "\n",
    "bra_dir = '/Volumes/WERDERNAS_X/VIDEOS_X/BRAZZERS'\n",
    "bblib_dir = r'big_butts_like_it_big'\n",
    "bzv_dir = r'brazzers_vault'\n",
    "\n",
    "bblib_dir_path = os.path.join(bra_dir, bblib_dir)\n",
    "bzv_dir_path = os.path.join(bra_dir, bzv_dir)\n",
    "\n",
    "\n",
    "#os.chdir(bblib_dir_path)\n",
    "os.chdir(bzv_dir_path)\n",
    "\n",
    "ps_dict = {'ca_bi': 'carmella_bing', 'dy_ry': 'dylan_ryder', 'me_mo': 'memphis_monroe'}\n",
    "#ca_bi = r'carmella_bing'\n",
    "#dy_ry = r'dylan_ryder'\n",
    "print(ps_dict['ca_bi'])\n",
    "file = sorted(glob.glob(\"*.mp4\"))\n",
    "for lf in file[:]:\n",
    "    if (ps_dict['ca_bi'] in lf):\n",
    "        print(ps_dict['ca_bi'] + ' in scene ' + lf + ' gefunden')\n",
    "    elif (ps_dict['me_mo'] in lf):\n",
    "        print(ps_dict['me_mo'] + ' in scene ' + lf + ' gefunden')\n",
    "    "
   ]
  },
  {
   "cell_type": "code",
   "execution_count": 16,
   "metadata": {},
   "outputs": [
    {
     "data": {
      "text/plain": [
       "202.47999999999996"
      ]
     },
     "execution_count": 16,
     "metadata": {},
     "output_type": "execute_result"
    }
   ],
   "source": [
    "536.41-333.93"
   ]
  },
  {
   "cell_type": "code",
   "execution_count": 18,
   "metadata": {},
   "outputs": [
    {
     "data": {
      "text/plain": [
       "183.12291199999999"
      ]
     },
     "execution_count": 18,
     "metadata": {},
     "output_type": "execute_result"
    }
   ],
   "source": [
    "202.48*0.9044"
   ]
  },
  {
   "cell_type": "code",
   "execution_count": 20,
   "metadata": {},
   "outputs": [
    {
     "data": {
      "text/plain": [
       "248.41000000000003"
      ]
     },
     "execution_count": 20,
     "metadata": {},
     "output_type": "execute_result"
    }
   ],
   "source": [
    "183.12+65.29"
   ]
  },
  {
   "cell_type": "code",
   "execution_count": 26,
   "metadata": {},
   "outputs": [
    {
     "data": {
      "text/plain": [
       "440.88493150684934"
      ]
     },
     "execution_count": 26,
     "metadata": {},
     "output_type": "execute_result"
    }
   ],
   "source": [
    "536.41*300/365"
   ]
  },
  {
   "cell_type": "code",
   "execution_count": 22,
   "metadata": {},
   "outputs": [
    {
     "data": {
      "text/plain": [
       "105.75"
      ]
     },
     "execution_count": 22,
     "metadata": {},
     "output_type": "execute_result"
    }
   ],
   "source": [
    "439.68-333.93"
   ]
  },
  {
   "cell_type": "code",
   "execution_count": 23,
   "metadata": {},
   "outputs": [
    {
     "data": {
      "text/plain": [
       "0.819672131147541"
      ]
     },
     "execution_count": 23,
     "metadata": {},
     "output_type": "execute_result"
    }
   ],
   "source": [
    "300/366"
   ]
  },
  {
   "cell_type": "code",
   "execution_count": 27,
   "metadata": {},
   "outputs": [
    {
     "data": {
      "text/plain": [
       "439.64163599999995"
      ]
     },
     "execution_count": 27,
     "metadata": {},
     "output_type": "execute_result"
    }
   ],
   "source": [
    "536.41*0.8196"
   ]
  },
  {
   "cell_type": "code",
   "execution_count": 29,
   "metadata": {},
   "outputs": [
    {
     "data": {
      "text/plain": [
       "96.76999999999998"
      ]
     },
     "execution_count": 29,
     "metadata": {},
     "output_type": "execute_result"
    }
   ],
   "source": [
    "536.41-439.64"
   ]
  },
  {
   "cell_type": "code",
   "execution_count": 30,
   "metadata": {},
   "outputs": [
    {
     "data": {
      "text/plain": [
       "439.6803278688525"
      ]
     },
     "execution_count": 30,
     "metadata": {},
     "output_type": "execute_result"
    }
   ],
   "source": [
    "536.41*300/366"
   ]
  },
  {
   "cell_type": "code",
   "execution_count": 31,
   "metadata": {},
   "outputs": [
    {
     "data": {
      "text/plain": [
       "273.2704918032787"
      ]
     },
     "execution_count": 31,
     "metadata": {},
     "output_type": "execute_result"
    }
   ],
   "source": [
    "333.39*300/366"
   ]
  },
  {
   "cell_type": "code",
   "execution_count": 33,
   "metadata": {},
   "outputs": [
    {
     "data": {
      "text/plain": [
       "263.14"
      ]
     },
     "execution_count": 33,
     "metadata": {},
     "output_type": "execute_result"
    }
   ],
   "source": [
    "536.41-273.27"
   ]
  },
  {
   "cell_type": "code",
   "execution_count": null,
   "metadata": {},
   "outputs": [],
   "source": []
  }
 ],
 "metadata": {
  "hide_input": false,
  "kernelspec": {
   "display_name": "Python 3",
   "language": "python",
   "name": "python3"
  },
  "language_info": {
   "codemirror_mode": {
    "name": "ipython",
    "version": 3
   },
   "file_extension": ".py",
   "mimetype": "text/x-python",
   "name": "python",
   "nbconvert_exporter": "python",
   "pygments_lexer": "ipython3",
   "version": "3.7.3"
  }
 },
 "nbformat": 4,
 "nbformat_minor": 2
}
