{
 "cells": [
  {
   "cell_type": "code",
   "execution_count": null,
   "metadata": {},
   "outputs": [],
   "source": [
    "import pandas as pd\n",
    "import numpy as np\n",
    "from analysis_tools.tools import show_values_on_bars\n",
    "from analysis_tools.tools import update_barplot_figure\n",
    "import os\n",
    "input_path = r'c:\\\\Repos\\Sandbox\\jwingbermuehle\\DATEN_POOL'\n",
    "input_csv = os.path.join(input_path,'dbf_important_features.csv')\n",
    "\n",
    "df = pd.read_csv(input_csv, index_col = 0)\n",
    "\n",
    "df.index.name = 'Features'"
   ]
  },
  {
   "cell_type": "code",
   "execution_count": null,
   "metadata": {},
   "outputs": [],
   "source": [
    "df=df.fillna(0)\n",
    "x_value = df['18FERKEG']\n",
    "y_value = df.index\n",
    "\n",
    "#update_barplot_figure"
   ]
  },
  {
   "cell_type": "code",
   "execution_count": null,
   "metadata": {},
   "outputs": [],
   "source": [
    "update_barplot_figure(x_value,y_value,df,'18FERKEG')"
   ]
  },
  {
   "cell_type": "code",
   "execution_count": null,
   "metadata": {},
   "outputs": [],
   "source": [
    "df=df.fillna(0)\n",
    "x_value = df.columns\n",
    "y_value = df.index"
   ]
  },
  {
   "cell_type": "code",
   "execution_count": null,
   "metadata": {},
   "outputs": [],
   "source": [
    "x_value[1]"
   ]
  },
  {
   "cell_type": "code",
   "execution_count": null,
   "metadata": {},
   "outputs": [],
   "source": [
    "update_barplot_figure(x_value[1],y_value,df,x_value[1])"
   ]
  },
  {
   "cell_type": "code",
   "execution_count": null,
   "metadata": {},
   "outputs": [],
   "source": [
    "import seaborn as sns\n",
    "import matplotlib.pyplot as plt\n",
    "import numpy as np\n",
    "colors = sns.color_palette('colorblind')\n",
    "a = [1,6,3,1,0]\n",
    "b = [0,4,3,5,0]\n",
    "   \n",
    "    \n",
    "plt.yticks( range(5), ['Very Disatisfied', 'Dissatisfied', 'Neutral', 'Satisfied', 'Very satisfied'])\n",
    " \n",
    "plt.xlabel('Number of users')\n",
    "plt.xlim([min(a), max(a)+10])\n",
    "p1 = plt.barh(np.arange(5)-0.15 , a, 0.30, color = colors[0],hatch = 'x')\n",
    "p2 = plt.barh(np.arange(5)+0.15 , b, 0.30, color = colors[1])    \n",
    "  \n",
    "plt.legend((p1[0], p2[0]), ('Group 1: Only prediction', 'Group 2: With explanation'))"
   ]
  },
  {
   "cell_type": "code",
   "execution_count": null,
   "metadata": {},
   "outputs": [],
   "source": [
    "max(a)"
   ]
  },
  {
   "cell_type": "code",
   "execution_count": null,
   "metadata": {},
   "outputs": [],
   "source": [
    "def plot_bar_chart(data):\n",
    "        x = []\n",
    "        y = []\n",
    "        for item in data:\n",
    "            y.append(item['count'])\n",
    "            x.append(item['Implemented_by_partial_function'])\n",
    "        plt.barh(x, y)\n",
    "        plt.title(\"Top apis\", fontsize=10)\n",
    "        plt.xlabel(\"Number of API Calls\", fontsize=8)\n",
    "        plt.xticks([])\n",
    "        plt.ylabel(\"Partial function\", fontsize=8)\n",
    "        plt.tick_params(axis='y', labelsize=8)\n",
    "        for i, j in zip(y, x):\n",
    "            plt.text(i, j, str(i), clip_on=True, ha='center',va='center', fontsize=8)\n",
    "        plt.tight_layout()\n",
    "        buf = BytesIO()\n",
    "        plt.savefig(buf, format='png')\n",
    "        image_base64 = base64.b64encode(buf.getvalue()).decode('utf-8').replace('\\n', '')\n",
    "        buf.close()\n",
    "        # Clear the previous plot.\n",
    "        plt.gcf().clear()\n",
    "        return image_base64 "
   ]
  },
  {
   "cell_type": "code",
   "execution_count": null,
   "metadata": {},
   "outputs": [],
   "source": [
    "plot_bar_chart(df)"
   ]
  },
  {
   "cell_type": "code",
   "execution_count": null,
   "metadata": {},
   "outputs": [],
   "source": [
    "def plot_preds(image, preds):\n",
    "    \"\"\"Displays image and the top-n predicted probabilities in a bar graph\n",
    "    Args:\n",
    "        image: PIL image\n",
    "        preds: list of predicted labels and their probabilities\n",
    "    \"\"\"\n",
    "    \n",
    "    \"\"\"# For Spyder\n",
    "    plt.imshow(image)\n",
    "    plt.axis('off')\"\"\"\n",
    "\n",
    "    plt.figure()\n",
    "    labels = (\"cat\", \"dog\")\n",
    "    plt.barh([0, 1], preds, alpha=0.5)\n",
    "    plt.yticks([0, 1], labels)\n",
    "    plt.xlabel('Probability')\n",
    "    plt.xlim(0,1.01)\n",
    "    plt.tight_layout()\n",
    "    plt.savefig('out.png') "
   ]
  },
  {
   "cell_type": "code",
   "execution_count": null,
   "metadata": {},
   "outputs": [],
   "source": []
  },
  {
   "cell_type": "code",
   "execution_count": null,
   "metadata": {},
   "outputs": [],
   "source": [
    "def read_my_dbf(dbf_file):\n",
    "    import dbfread\n",
    "    class MyFieldParser(dbfread.FieldParser):\n",
    "        def parse(self, field, data):\n",
    "            try:\n",
    "                return dbfread.FieldParser.parse(self, field, data)\n",
    "            except ValueError:\n",
    "#            return dbfread.InvalidValue(data)\n",
    "                return None\n",
    "\n",
    "    my_anomalies = dbfread.DBF(dbf_file, ignore_missing_memofile=True, parserclass=MyFieldParser)\n",
    "    anomalies_df_with_nullflags = pd.DataFrame(iter(my_anomalies))\n",
    "    my_anomalies_df = anomalies_df_with_nullflags.drop(columns=['_NullFlags'])\n",
    "    return my_anomalies_df"
   ]
  },
  {
   "cell_type": "code",
   "execution_count": null,
   "metadata": {},
   "outputs": [],
   "source": [
    "\n",
    "import os\n",
    "from analysis_tools.tools import read_my_dbf\n",
    "my_input_dir = r\"\\\\linfile1\\groups\\EMAT_evaluation_data\\CombEvalDataWarehouse\\proj0\"\n",
    "my_folder_list = [\n",
    "    r'14467\\18FERKEG\\CE\\Feature',\n",
    "    r'14467\\18MA9MA7\\CE\\Feature',\n",
    "    r'12542\\24110VOL\\CE\\Feature',\n",
    "#     r'14369\\2411D91S\\CE\\Feature',\n",
    "]\n"
   ]
  },
  {
   "cell_type": "code",
   "execution_count": null,
   "metadata": {},
   "outputs": [],
   "source": [
    "dbf_file_name = r'cleaned_up_exchange_rodat37.dbf'\n",
    "for i, dbf_file in zip(range(len(my_folder_list)), my_folder_list):\n",
    "    dbf_file = os.path.join(my_input_dir,dbf_file,dbf_file_name)\n",
    "    my_anomalies_df = read_my_dbf(dbf_file)"
   ]
  },
  {
   "cell_type": "code",
   "execution_count": null,
   "metadata": {},
   "outputs": [],
   "source": [
    "range(len(my_folder_list))"
   ]
  },
  {
   "cell_type": "code",
   "execution_count": null,
   "metadata": {},
   "outputs": [],
   "source": [
    "my_anomalies_df"
   ]
  },
  {
   "cell_type": "code",
   "execution_count": 5,
   "metadata": {},
   "outputs": [],
   "source": [
    "import os\n",
    "import glob\n",
    "import pandas as pd\n",
    "\n",
    "root_folder = r'\\\\linfile1\\Groups\\EMAT_evaluation_data\\CombEvalDataWarehouse\\proj0'\n",
    "lineshort_folder = glob.glob(r'{}\\*\\[0-9][0-9]??????\\ECD\\R[0-9]aa'.format(root_folder))\n",
    "import json\n",
    "rodat_info = []\n",
    "df_tmp = {}\n",
    "df_final = []\n",
    "for lf in lineshort_folder[:2]:\n",
    "    line_name = lf.split('\\\\')[8]\n",
    "    tmp = line_name + '_Rodat_info.txt'\n",
    "    file_name = os.path.join(lf,tmp)\n",
    "    with open(file_name) as fn:\n",
    "        temp = json.load(fn)\n",
    "#         print(line_name)\n",
    "#         print(temp)\n",
    "#         print('---')\n"
   ]
  },
  {
   "cell_type": "code",
   "execution_count": 8,
   "metadata": {},
   "outputs": [
    {
     "data": {
      "text/plain": [
       "[                           RODAT_Status\n",
       " 36MICMOR  Hooked in Database of RODAT37,\n",
       "                            RODAT_Status Remarks\n",
       " 36MICMOR  Hooked in Database of RODAT37    None,\n",
       "                                RODAT_Status Remarks\n",
       " 22SANWOO  NOT Hooked in Database of RODAT37     NaN\n",
       " 36MICMOR                                NaN    None,\n",
       "                                RODAT_Status          Remarks\n",
       " 22SANWOO  NOT Hooked in Database of RODAT37  Additional file]"
      ]
     },
     "execution_count": 8,
     "metadata": {},
     "output_type": "execute_result"
    }
   ],
   "source": [
    "df_final"
   ]
  },
  {
   "cell_type": "code",
   "execution_count": null,
   "metadata": {},
   "outputs": [],
   "source": [
    "type"
   ]
  },
  {
   "cell_type": "code",
   "execution_count": null,
   "metadata": {},
   "outputs": [],
   "source": [
    "type(temp3),\n",
    "temp3 = list(['RODAT_Status', 'Hooked in Database of RODAT37'])\n",
    "temp3"
   ]
  },
  {
   "cell_type": "code",
   "execution_count": null,
   "metadata": {},
   "outputs": [],
   "source": [
    "ddf2 = pd.DataFrame(temp3)\n",
    "ddf2"
   ]
  },
  {
   "cell_type": "code",
   "execution_count": null,
   "metadata": {},
   "outputs": [],
   "source": [
    "ddf"
   ]
  },
  {
   "cell_type": "code",
   "execution_count": null,
   "metadata": {},
   "outputs": [],
   "source": [
    "ddf3 = pd.concat([ddf3, ddf2], axis = 1)\n",
    "ddf3"
   ]
  },
  {
   "cell_type": "code",
   "execution_count": null,
   "metadata": {},
   "outputs": [],
   "source": [
    "#Open the file back and read the contents\n",
    "     #f=open(\"guru99.txt\", \"r\")\n",
    "     #   if f.mode == 'r': \n",
    "     #     contents =f.read()\n",
    "     #     print contents\n",
    "     #or, readlines reads the individual line into a list\n",
    "     #fl =f.readlines()\n",
    "     #for x in fl:\n",
    "     #print x"
   ]
  },
  {
   "cell_type": "code",
   "execution_count": null,
   "metadata": {},
   "outputs": [],
   "source": [
    "import pandas as pd\n",
    "c1=[\"q\",\"q\",\"q\",\"qaa\",\"q\",\"q\"]\n",
    "c2=[\"x\",\"x\",\"x\",\"x\",\"x\",\"x\"]\n",
    "df1=pd.DataFrame(c1)\n",
    "df2=pd.DataFrame(c2)\n",
    "df3 = pd.concat([df1, df2], axis = 1)"
   ]
  },
  {
   "cell_type": "code",
   "execution_count": null,
   "metadata": {},
   "outputs": [],
   "source": [
    "print(c1)"
   ]
  },
  {
   "cell_type": "code",
   "execution_count": null,
   "metadata": {},
   "outputs": [],
   "source": [
    "df3"
   ]
  },
  {
   "cell_type": "code",
   "execution_count": null,
   "metadata": {},
   "outputs": [],
   "source": []
  }
 ],
 "metadata": {
  "hide_input": false,
  "kernelspec": {
   "display_name": "Python 3",
   "language": "python",
   "name": "python3"
  },
  "language_info": {
   "codemirror_mode": {
    "name": "ipython",
    "version": 3
   },
   "file_extension": ".py",
   "mimetype": "text/x-python",
   "name": "python",
   "nbconvert_exporter": "python",
   "pygments_lexer": "ipython3",
   "version": "3.7.3"
  }
 },
 "nbformat": 4,
 "nbformat_minor": 2
}
