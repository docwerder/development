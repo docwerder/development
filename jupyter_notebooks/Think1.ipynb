{
 "cells": [
  {
   "cell_type": "code",
   "execution_count": null,
   "metadata": {},
   "outputs": [],
   "source": [
    "import pandas as pd\n",
    "import numpy as np\n",
    "from analysis_tools.tools import show_values_on_bars\n",
    "from analysis_tools.tools import update_barplot_figure\n",
    "import os\n",
    "# \n",
    "\n",
    "input_path = r'c:\\\\Repos\\Sandbox\\jwingbermuehle\\DATEN_POOL'\n",
    "input_csv = os.path.join(input_path,'dbf_important_features.csv')\n",
    "\n",
    "df = pd.read_csv(input_csv, index_col = 0)\n",
    "\n",
    "df.index.name = 'Features'"
   ]
  },
  {
   "cell_type": "code",
   "execution_count": null,
   "metadata": {},
   "outputs": [],
   "source": [
    "df=df.fillna(0)\n",
    "x_value = df['18FERKEG']\n",
    "y_value = df.index\n",
    "\n",
    "#update_barplot_figure"
   ]
  },
  {
   "cell_type": "code",
   "execution_count": null,
   "metadata": {},
   "outputs": [],
   "source": [
    "update_barplot_figure(x_value,y_value,df,'18FERKEG')"
   ]
  },
  {
   "cell_type": "code",
   "execution_count": null,
   "metadata": {},
   "outputs": [],
   "source": [
    "df=df.fillna(0)\n",
    "x_value = df.columns\n",
    "y_value = df.index"
   ]
  },
  {
   "cell_type": "code",
   "execution_count": null,
   "metadata": {},
   "outputs": [],
   "source": [
    "x_value[1]"
   ]
  },
  {
   "cell_type": "code",
   "execution_count": null,
   "metadata": {},
   "outputs": [],
   "source": [
    "update_barplot_figure(x_value[1],y_value,df,x_value[1])"
   ]
  },
  {
   "cell_type": "code",
   "execution_count": null,
   "metadata": {},
   "outputs": [],
   "source": [
    "import seaborn as sns\n",
    "import matplotlib.pyplot as plt\n",
    "import numpy as np\n",
    "colors = sns.color_palette('colorblind')\n",
    "a = [1,6,3,1,0]\n",
    "b = [0,4,3,5,0]\n",
    "   \n",
    "    \n",
    "plt.yticks( range(5), ['Very Disatisfied', 'Dissatisfied', 'Neutral', 'Satisfied', 'Very satisfied'])\n",
    " \n",
    "plt.xlabel('Number of users')\n",
    "plt.xlim([min(a), max(a)+10])\n",
    "p1 = plt.barh(np.arange(5)-0.15 , a, 0.30, color = colors[0],hatch = 'x')\n",
    "p2 = plt.barh(np.arange(5)+0.15 , b, 0.30, color = colors[1])    \n",
    "  \n",
    "plt.legend((p1[0], p2[0]), ('Group 1: Only prediction', 'Group 2: With explanation'))"
   ]
  },
  {
   "cell_type": "code",
   "execution_count": null,
   "metadata": {},
   "outputs": [],
   "source": [
    "max(a)"
   ]
  },
  {
   "cell_type": "code",
   "execution_count": null,
   "metadata": {},
   "outputs": [],
   "source": [
    "def plot_bar_chart(data):\n",
    "        x = []\n",
    "        y = []\n",
    "        for item in data:\n",
    "            y.append(item['count'])\n",
    "            x.append(item['Implemented_by_partial_function'])\n",
    "        plt.barh(x, y)\n",
    "        plt.title(\"Top apis\", fontsize=10)\n",
    "        plt.xlabel(\"Number of API Calls\", fontsize=8)\n",
    "        plt.xticks([])\n",
    "        plt.ylabel(\"Partial function\", fontsize=8)\n",
    "        plt.tick_params(axis='y', labelsize=8)\n",
    "        for i, j in zip(y, x):\n",
    "            plt.text(i, j, str(i), clip_on=True, ha='center',va='center', fontsize=8)\n",
    "        plt.tight_layout()\n",
    "        buf = BytesIO()\n",
    "        plt.savefig(buf, format='png')\n",
    "        image_base64 = base64.b64encode(buf.getvalue()).decode('utf-8').replace('\\n', '')\n",
    "        buf.close()\n",
    "        # Clear the previous plot.\n",
    "        plt.gcf().clear()\n",
    "        return image_base64 "
   ]
  },
  {
   "cell_type": "code",
   "execution_count": null,
   "metadata": {},
   "outputs": [],
   "source": [
    "plot_bar_chart(df)"
   ]
  },
  {
   "cell_type": "code",
   "execution_count": null,
   "metadata": {},
   "outputs": [],
   "source": [
    "def plot_preds(image, preds):\n",
    "    \"\"\"Displays image and the top-n predicted probabilities in a bar graph\n",
    "    Args:\n",
    "        image: PIL image\n",
    "        preds: list of predicted labels and their probabilities\n",
    "    \"\"\"\n",
    "    \n",
    "    \"\"\"# For Spyder\n",
    "    plt.imshow(image)\n",
    "    plt.axis('off')\"\"\"\n",
    "\n",
    "    plt.figure()\n",
    "    labels = (\"cat\", \"dog\")\n",
    "    plt.barh([0, 1], preds, alpha=0.5)\n",
    "    plt.yticks([0, 1], labels)\n",
    "    plt.xlabel('Probability')\n",
    "    plt.xlim(0,1.01)\n",
    "    plt.tight_layout()\n",
    "    plt.savefig('out.png') "
   ]
  },
  {
   "cell_type": "code",
   "execution_count": null,
   "metadata": {},
   "outputs": [],
   "source": []
  },
  {
   "cell_type": "code",
   "execution_count": null,
   "metadata": {},
   "outputs": [],
   "source": [
    "def read_my_dbf(dbf_file):\n",
    "    import dbfread\n",
    "    class MyFieldParser(dbfread.FieldParser):\n",
    "        def parse(self, field, data):\n",
    "            try:\n",
    "                return dbfread.FieldParser.parse(self, field, data)\n",
    "            except ValueError:\n",
    "#            return dbfread.InvalidValue(data)\n",
    "                return None\n",
    "\n",
    "    my_anomalies = dbfread.DBF(dbf_file, ignore_missing_memofile=True, parserclass=MyFieldParser)\n",
    "    anomalies_df_with_nullflags = pd.DataFrame(iter(my_anomalies))\n",
    "    my_anomalies_df = anomalies_df_with_nullflags.drop(columns=['_NullFlags'])\n",
    "    return my_anomalies_df"
   ]
  },
  {
   "cell_type": "code",
   "execution_count": null,
   "metadata": {},
   "outputs": [],
   "source": [
    "\n",
    "import os\n",
    "from analysis_tools.tools import read_my_dbf\n",
    "my_input_dir = r\"\\\\linfile1\\groups\\EMAT_evaluation_data\\CombEvalDataWarehouse\\proj0\"\n",
    "my_folder_list = [\n",
    "    r'14467\\18FERKEG\\CE\\Feature',\n",
    "    r'14467\\18MA9MA7\\CE\\Feature',\n",
    "    r'12542\\24110VOL\\CE\\Feature',\n",
    "#     r'14369\\2411D91S\\CE\\Feature',\n",
    "]\n"
   ]
  },
  {
   "cell_type": "code",
   "execution_count": null,
   "metadata": {},
   "outputs": [],
   "source": [
    "dbf_file_name = r'cleaned_up_exchange_rodat37.dbf'\n",
    "for i, dbf_file in zip(range(len(my_folder_list)), my_folder_list):\n",
    "    dbf_file = os.path.join(my_input_dir,dbf_file,dbf_file_name)\n",
    "    my_anomalies_df = read_my_dbf(dbf_file)"
   ]
  },
  {
   "cell_type": "code",
   "execution_count": null,
   "metadata": {},
   "outputs": [],
   "source": [
    "range(len(my_folder_list))"
   ]
  },
  {
   "cell_type": "code",
   "execution_count": null,
   "metadata": {},
   "outputs": [],
   "source": [
    "my_anomalies_df"
   ]
  },
  {
   "cell_type": "code",
   "execution_count": 5,
   "metadata": {},
   "outputs": [],
   "source": [
    "import os\n",
    "import glob\n",
    "import pandas as pd\n",
    "\n",
    "root_folder = r'\\\\linfile1\\Groups\\EMAT_evaluation_data\\CombEvalDataWarehouse\\proj0'\n",
    "lineshort_folder = glob.glob(r'{}\\*\\[0-9][0-9]??????\\ECD\\R[0-9]aa'.format(root_folder))\n",
    "import json\n",
    "rodat_info = []\n",
    "df_tmp = {}\n",
    "df_final = []\n",
    "for lf in lineshort_folder[:2]:\n",
    "    line_name = lf.split('\\\\')[8]\n",
    "    tmp = line_name + '_Rodat_info.txt'\n",
    "    file_name = os.path.join(lf,tmp)\n",
    "    with open(file_name) as fn:\n",
    "        temp = json.load(fn)\n",
    "#         print(line_name)\n",
    "#         print(temp)\n",
    "#         print('---')\n"
   ]
  },
  {
   "cell_type": "code",
   "execution_count": 8,
   "metadata": {},
   "outputs": [
    {
     "data": {
      "text/plain": [
       "[                           RODAT_Status\n",
       " 36MICMOR  Hooked in Database of RODAT37,\n",
       "                            RODAT_Status Remarks\n",
       " 36MICMOR  Hooked in Database of RODAT37    None,\n",
       "                                RODAT_Status Remarks\n",
       " 22SANWOO  NOT Hooked in Database of RODAT37     NaN\n",
       " 36MICMOR                                NaN    None,\n",
       "                                RODAT_Status          Remarks\n",
       " 22SANWOO  NOT Hooked in Database of RODAT37  Additional file]"
      ]
     },
     "execution_count": 8,
     "metadata": {},
     "output_type": "execute_result"
    }
   ],
   "source": [
    "df_final"
   ]
  },
  {
   "cell_type": "code",
   "execution_count": null,
   "metadata": {},
   "outputs": [],
   "source": [
    "type"
   ]
  },
  {
   "cell_type": "code",
   "execution_count": null,
   "metadata": {},
   "outputs": [],
   "source": [
    "type(temp3),\n",
    "temp3 = list(['RODAT_Status', 'Hooked in Database of RODAT37'])\n",
    "temp3"
   ]
  },
  {
   "cell_type": "code",
   "execution_count": null,
   "metadata": {},
   "outputs": [],
   "source": [
    "ddf2 = pd.DataFrame(temp3)\n",
    "ddf2"
   ]
  },
  {
   "cell_type": "code",
   "execution_count": null,
   "metadata": {},
   "outputs": [],
   "source": [
    "ddf"
   ]
  },
  {
   "cell_type": "code",
   "execution_count": null,
   "metadata": {},
   "outputs": [],
   "source": [
    "ddf3 = pd.concat([ddf3, ddf2], axis = 1)\n",
    "ddf3"
   ]
  },
  {
   "cell_type": "code",
   "execution_count": null,
   "metadata": {},
   "outputs": [],
   "source": [
    "#Open the file back and read the contents\n",
    "     #f=open(\"guru99.txt\", \"r\")\n",
    "     #   if f.mode == 'r': \n",
    "     #     contents =f.read()\n",
    "     #     print contents\n",
    "     #or, readlines reads the individual line into a list\n",
    "     #fl =f.readlines()\n",
    "     #for x in fl:\n",
    "     #print x"
   ]
  },
  {
   "cell_type": "code",
   "execution_count": null,
   "metadata": {},
   "outputs": [],
   "source": [
    "import pandas as pd\n",
    "c1=[\"q\",\"q\",\"q\",\"qaa\",\"q\",\"q\"]\n",
    "c2=[\"x\",\"x\",\"x\",\"x\",\"x\",\"x\"]\n",
    "df1=pd.DataFrame(c1)\n",
    "df2=pd.DataFrame(c2)\n",
    "df3 = pd.concat([df1, df2], axis = 1)"
   ]
  },
  {
   "cell_type": "code",
   "execution_count": null,
   "metadata": {},
   "outputs": [],
   "source": [
    "print(c1)"
   ]
  },
  {
   "cell_type": "code",
   "execution_count": null,
   "metadata": {},
   "outputs": [],
   "source": [
    "df3"
   ]
  },
  {
   "cell_type": "code",
   "execution_count": 1,
   "metadata": {},
   "outputs": [],
   "source": [
    "import numpy as np\n",
    "import pandas as pd\n"
   ]
  },
  {
   "cell_type": "code",
   "execution_count": 2,
   "metadata": {},
   "outputs": [
    {
     "data": {
      "text/html": [
       "<div>\n",
       "<style scoped>\n",
       "    .dataframe tbody tr th:only-of-type {\n",
       "        vertical-align: middle;\n",
       "    }\n",
       "\n",
       "    .dataframe tbody tr th {\n",
       "        vertical-align: top;\n",
       "    }\n",
       "\n",
       "    .dataframe thead th {\n",
       "        text-align: right;\n",
       "    }\n",
       "</style>\n",
       "<table border=\"1\" class=\"dataframe\">\n",
       "  <thead>\n",
       "    <tr style=\"text-align: right;\">\n",
       "      <th></th>\n",
       "      <th>X</th>\n",
       "      <th>Y</th>\n",
       "    </tr>\n",
       "  </thead>\n",
       "  <tbody>\n",
       "    <tr>\n",
       "      <th>0</th>\n",
       "      <td>3.0</td>\n",
       "      <td>4.0</td>\n",
       "    </tr>\n",
       "    <tr>\n",
       "      <th>1</th>\n",
       "      <td>0.0</td>\n",
       "      <td>5.0</td>\n",
       "    </tr>\n",
       "  </tbody>\n",
       "</table>\n",
       "</div>"
      ],
      "text/plain": [
       "     X    Y\n",
       "0  3.0  4.0\n",
       "1  0.0  5.0"
      ]
     },
     "execution_count": 2,
     "metadata": {},
     "output_type": "execute_result"
    }
   ],
   "source": [
    "df1 = pd.DataFrame({'X': [None, 0], 'Y': [None, 5]})\n",
    "df2 = pd.DataFrame({'X': [3, 3], 'Y': [4, 4]})\n",
    "df1.combine_first(df2)"
   ]
  },
  {
   "cell_type": "code",
   "execution_count": 8,
   "metadata": {},
   "outputs": [],
   "source": [
    "df = pd.DataFrame({'Courses':[\"Spark\",\"PySpark\",\"Python\",\"pandas\"],\n",
    "                      'Fee' :[20000,25000,22000,24000]})\n",
    "  \n",
    "df1 = pd.DataFrame({'Duration':['30day','40days','35days','60days'],\n",
    "                      'Discount':[1000,2300,2500,2000,]}) "
   ]
  },
  {
   "cell_type": "code",
   "execution_count": 11,
   "metadata": {},
   "outputs": [
    {
     "data": {
      "text/html": [
       "<div>\n",
       "<style scoped>\n",
       "    .dataframe tbody tr th:only-of-type {\n",
       "        vertical-align: middle;\n",
       "    }\n",
       "\n",
       "    .dataframe tbody tr th {\n",
       "        vertical-align: top;\n",
       "    }\n",
       "\n",
       "    .dataframe thead th {\n",
       "        text-align: right;\n",
       "    }\n",
       "</style>\n",
       "<table border=\"1\" class=\"dataframe\">\n",
       "  <thead>\n",
       "    <tr style=\"text-align: right;\">\n",
       "      <th></th>\n",
       "      <th>Courses</th>\n",
       "      <th>Fee</th>\n",
       "    </tr>\n",
       "  </thead>\n",
       "  <tbody>\n",
       "    <tr>\n",
       "      <th>0</th>\n",
       "      <td>Spark</td>\n",
       "      <td>20000</td>\n",
       "    </tr>\n",
       "    <tr>\n",
       "      <th>1</th>\n",
       "      <td>PySpark</td>\n",
       "      <td>25000</td>\n",
       "    </tr>\n",
       "    <tr>\n",
       "      <th>2</th>\n",
       "      <td>Python</td>\n",
       "      <td>22000</td>\n",
       "    </tr>\n",
       "    <tr>\n",
       "      <th>3</th>\n",
       "      <td>pandas</td>\n",
       "      <td>24000</td>\n",
       "    </tr>\n",
       "  </tbody>\n",
       "</table>\n",
       "</div>"
      ],
      "text/plain": [
       "   Courses    Fee\n",
       "0    Spark  20000\n",
       "1  PySpark  25000\n",
       "2   Python  22000\n",
       "3   pandas  24000"
      ]
     },
     "execution_count": 11,
     "metadata": {},
     "output_type": "execute_result"
    }
   ],
   "source": [
    "df"
   ]
  },
  {
   "cell_type": "code",
   "execution_count": 12,
   "metadata": {},
   "outputs": [
    {
     "data": {
      "text/html": [
       "<div>\n",
       "<style scoped>\n",
       "    .dataframe tbody tr th:only-of-type {\n",
       "        vertical-align: middle;\n",
       "    }\n",
       "\n",
       "    .dataframe tbody tr th {\n",
       "        vertical-align: top;\n",
       "    }\n",
       "\n",
       "    .dataframe thead th {\n",
       "        text-align: right;\n",
       "    }\n",
       "</style>\n",
       "<table border=\"1\" class=\"dataframe\">\n",
       "  <thead>\n",
       "    <tr style=\"text-align: right;\">\n",
       "      <th></th>\n",
       "      <th>Duration</th>\n",
       "      <th>Discount</th>\n",
       "    </tr>\n",
       "  </thead>\n",
       "  <tbody>\n",
       "    <tr>\n",
       "      <th>0</th>\n",
       "      <td>30day</td>\n",
       "      <td>1000</td>\n",
       "    </tr>\n",
       "    <tr>\n",
       "      <th>1</th>\n",
       "      <td>40days</td>\n",
       "      <td>2300</td>\n",
       "    </tr>\n",
       "    <tr>\n",
       "      <th>2</th>\n",
       "      <td>35days</td>\n",
       "      <td>2500</td>\n",
       "    </tr>\n",
       "    <tr>\n",
       "      <th>3</th>\n",
       "      <td>60days</td>\n",
       "      <td>2000</td>\n",
       "    </tr>\n",
       "  </tbody>\n",
       "</table>\n",
       "</div>"
      ],
      "text/plain": [
       "  Duration  Discount\n",
       "0    30day      1000\n",
       "1   40days      2300\n",
       "2   35days      2500\n",
       "3   60days      2000"
      ]
     },
     "execution_count": 12,
     "metadata": {},
     "output_type": "execute_result"
    }
   ],
   "source": [
    "df1"
   ]
  },
  {
   "cell_type": "code",
   "execution_count": 6,
   "metadata": {},
   "outputs": [],
   "source": [
    "import pandas as pd\n",
    "df1 = pd.DataFrame({'A': [None, 0], 'B': [4, None]})\n",
    "df2 = pd.DataFrame({'B': [3, 3], 'C': [1, 1]})"
   ]
  },
  {
   "cell_type": "code",
   "execution_count": 7,
   "metadata": {},
   "outputs": [
    {
     "data": {
      "text/html": [
       "<div>\n",
       "<style scoped>\n",
       "    .dataframe tbody tr th:only-of-type {\n",
       "        vertical-align: middle;\n",
       "    }\n",
       "\n",
       "    .dataframe tbody tr th {\n",
       "        vertical-align: top;\n",
       "    }\n",
       "\n",
       "    .dataframe thead th {\n",
       "        text-align: right;\n",
       "    }\n",
       "</style>\n",
       "<table border=\"1\" class=\"dataframe\">\n",
       "  <thead>\n",
       "    <tr style=\"text-align: right;\">\n",
       "      <th></th>\n",
       "      <th>A</th>\n",
       "      <th>B</th>\n",
       "    </tr>\n",
       "  </thead>\n",
       "  <tbody>\n",
       "    <tr>\n",
       "      <th>0</th>\n",
       "      <td>NaN</td>\n",
       "      <td>4.0</td>\n",
       "    </tr>\n",
       "    <tr>\n",
       "      <th>1</th>\n",
       "      <td>0.0</td>\n",
       "      <td>NaN</td>\n",
       "    </tr>\n",
       "  </tbody>\n",
       "</table>\n",
       "</div>"
      ],
      "text/plain": [
       "     A    B\n",
       "0  NaN  4.0\n",
       "1  0.0  NaN"
      ]
     },
     "execution_count": 7,
     "metadata": {},
     "output_type": "execute_result"
    }
   ],
   "source": [
    "df1"
   ]
  },
  {
   "cell_type": "code",
   "execution_count": 8,
   "metadata": {},
   "outputs": [
    {
     "data": {
      "text/html": [
       "<div>\n",
       "<style scoped>\n",
       "    .dataframe tbody tr th:only-of-type {\n",
       "        vertical-align: middle;\n",
       "    }\n",
       "\n",
       "    .dataframe tbody tr th {\n",
       "        vertical-align: top;\n",
       "    }\n",
       "\n",
       "    .dataframe thead th {\n",
       "        text-align: right;\n",
       "    }\n",
       "</style>\n",
       "<table border=\"1\" class=\"dataframe\">\n",
       "  <thead>\n",
       "    <tr style=\"text-align: right;\">\n",
       "      <th></th>\n",
       "      <th>B</th>\n",
       "      <th>C</th>\n",
       "    </tr>\n",
       "  </thead>\n",
       "  <tbody>\n",
       "    <tr>\n",
       "      <th>0</th>\n",
       "      <td>3</td>\n",
       "      <td>1</td>\n",
       "    </tr>\n",
       "    <tr>\n",
       "      <th>1</th>\n",
       "      <td>3</td>\n",
       "      <td>1</td>\n",
       "    </tr>\n",
       "  </tbody>\n",
       "</table>\n",
       "</div>"
      ],
      "text/plain": [
       "   B  C\n",
       "0  3  1\n",
       "1  3  1"
      ]
     },
     "execution_count": 8,
     "metadata": {},
     "output_type": "execute_result"
    }
   ],
   "source": [
    "df2"
   ]
  },
  {
   "cell_type": "code",
   "execution_count": 9,
   "metadata": {},
   "outputs": [
    {
     "data": {
      "text/html": [
       "<div>\n",
       "<style scoped>\n",
       "    .dataframe tbody tr th:only-of-type {\n",
       "        vertical-align: middle;\n",
       "    }\n",
       "\n",
       "    .dataframe tbody tr th {\n",
       "        vertical-align: top;\n",
       "    }\n",
       "\n",
       "    .dataframe thead th {\n",
       "        text-align: right;\n",
       "    }\n",
       "</style>\n",
       "<table border=\"1\" class=\"dataframe\">\n",
       "  <thead>\n",
       "    <tr style=\"text-align: right;\">\n",
       "      <th></th>\n",
       "      <th>A</th>\n",
       "      <th>B</th>\n",
       "      <th>C</th>\n",
       "    </tr>\n",
       "  </thead>\n",
       "  <tbody>\n",
       "    <tr>\n",
       "      <th>0</th>\n",
       "      <td>NaN</td>\n",
       "      <td>4.0</td>\n",
       "      <td>1</td>\n",
       "    </tr>\n",
       "    <tr>\n",
       "      <th>1</th>\n",
       "      <td>0.0</td>\n",
       "      <td>3.0</td>\n",
       "      <td>1</td>\n",
       "    </tr>\n",
       "  </tbody>\n",
       "</table>\n",
       "</div>"
      ],
      "text/plain": [
       "     A    B  C\n",
       "0  NaN  4.0  1\n",
       "1  0.0  3.0  1"
      ]
     },
     "execution_count": 9,
     "metadata": {},
     "output_type": "execute_result"
    }
   ],
   "source": [
    "df1.combine_first(df2)"
   ]
  },
  {
   "cell_type": "code",
   "execution_count": 10,
   "metadata": {},
   "outputs": [
    {
     "data": {
      "text/plain": [
       "3755"
      ]
     },
     "execution_count": 10,
     "metadata": {},
     "output_type": "execute_result"
    }
   ],
   "source": [
    "15806-12051"
   ]
  },
  {
   "cell_type": "code",
   "execution_count": null,
   "metadata": {},
   "outputs": [],
   "source": []
  }
 ],
 "metadata": {
  "hide_input": false,
  "kernelspec": {
   "display_name": "Python 3.10.6 ('pyside2_dev')",
   "language": "python",
   "name": "python3"
  },
  "language_info": {
   "codemirror_mode": {
    "name": "ipython",
    "version": 3
   },
   "file_extension": ".py",
   "mimetype": "text/x-python",
   "name": "python",
   "nbconvert_exporter": "python",
   "pygments_lexer": "ipython3",
   "version": "3.10.6"
  },
  "vscode": {
   "interpreter": {
    "hash": "52867ee1f7e3b1f93523cdfe2d5d91084b6fa11775e78fca1f22649f7620b014"
   }
  }
 },
 "nbformat": 4,
 "nbformat_minor": 2
}
