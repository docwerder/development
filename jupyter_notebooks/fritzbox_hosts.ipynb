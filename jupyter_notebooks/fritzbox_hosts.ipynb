{
 "cells": [
  {
   "cell_type": "code",
   "execution_count": 1,
   "metadata": {},
   "outputs": [
    {
     "name": "stdout",
     "output_type": "stream",
     "text": [
      "  1: 192.168.178.43   87ff1af2-72fb-4b68-8cb7-048cf8088e52 F0:18:98:E8:86:1F   active\n",
      "  2: 192.168.178.34   HarmonyHub                   00:04:20:F7:E8:85   active\n",
      "  3: 192.168.178.35   NPI9D7D13                    A8:6B:AD:58:94:55   active\n",
      "  4: 192.168.178.26   PS4-7BEB32                   BC:60:A7:7B:EB:32   active\n",
      "  5: 192.168.178.61   SonosZP                      48:A6:B8:F5:2D:FA   active\n",
      "  6: 192.168.178.31   Speaker-WerderTeufel--2      50:1E:2D:1B:77:56   active\n",
      "  7: 192.168.178.59   WerderAir                    3C:22:FB:95:72:E8   active\n",
      "  8: 192.168.178.63   WerderHome                   08:9E:01:F0:F1:CB   active\n",
      "  9: 192.168.178.64   WerderPad                    EC:26:51:07:1B:00   active\n",
      " 10: 192.168.178.57   b9e2a7fe1c48918a-fritz-box   60:6D:3C:27:4F:B7   active\n",
      " 11: 192.168.178.30   dm7020hd                     00:80:05:BA:0C:0F   active\n",
      " 12: 192.168.178.1    fritz.box                    44:4E:6D:6C:AF:05   active\n",
      " 13: 192.168.178.22   fritz.repeater               62:FF:4D:14:F7:6E   active\n",
      " 14: 192.168.178.23   fritz.repeater               62:FF:4D:3F:B5:37   active\n",
      " 15: 192.168.178.40   iPad-von-Jorg                40:30:04:A6:F5:FA   active\n",
      " 16: 192.168.178.62   iPad-von-Karin               8E:0B:8A:38:1B:EA   active\n",
      " 17: 192.168.178.66   iPhoneDocWerder              E2:4B:31:90:49:1A   active\n",
      " 18: 192.168.178.50   skyq                         E8:B2:FE:E8:11:37   active\n"
     ]
    }
   ],
   "source": [
    "from fritzconnection.lib.fritzhosts import FritzHosts\n",
    "\n",
    "# source: https://fritzconnection.readthedocs.io/en/1.3.4/sources/library.html#fritzphonebook\n",
    "fh = FritzHosts(address='192.168.178.1', password='leer4023')\n",
    "#print(fh.get_host_name())\n",
    "hosts = fh.get_hosts_info()\n",
    "active_hosts = fh.get_active_hosts()\n",
    "#print(hosts)\n",
    "#for index, host in enumerate(hosts, start=1):\n",
    "#    status = 'active' if host['status'] else  '-'\n",
    "#    ip = host['ip'] if host['ip'] else '-'\n",
    "#    mac = host['mac'] if host['mac'] else '-'\n",
    "#    hn = host['name']\n",
    "#    print(f'{index:>3}: {ip:<16} {hn:<28} {mac:<17}   {status}')\n",
    "\n",
    "for index, host in enumerate(active_hosts, start=1):\n",
    "    status = 'active' if host['status'] else  '-'\n",
    "    ip = host['ip'] if host['ip'] else '-'\n",
    "    mac = host['mac'] if host['mac'] else '-'\n",
    "    hn = host['name']\n",
    "    print(f'{index:>3}: {ip:<16} {hn:<28} {mac:<17}   {status}')"
   ]
  },
  {
   "cell_type": "code",
   "execution_count": null,
   "metadata": {},
   "outputs": [],
   "source": [
    "from fritzconnection.lib.fritzwlan import FritzWLAN\n",
    "\n",
    "fw = FritzWLAN(address='192.168.178.1', password='leer4023')\n",
    "print(fw.total_host_number)\n",
    "print(fw.)"
   ]
  },
  {
   "cell_type": "code",
   "execution_count": null,
   "metadata": {},
   "outputs": [],
   "source": [
    "import time\n",
    "import datetime\n",
    "import itertools\n",
    "\n",
    "from fritzconnection.lib.fritzwlan import FritzWLAN\n",
    "from fritzconnection.core.exceptions import FritzServiceError\n",
    "\n",
    "\n",
    "ADDRESS = '192.168.178.1'\n",
    "PASSWORD = 'leer4023'  # should not be hardcoded for real usage\n",
    "\n",
    "# short time periods for demonstration purposes\n",
    "TRACKING_DURATION = 20\n",
    "TRACKING_PERIOD = 2\n",
    "\n",
    "\n",
    "def get_active_macs(fwlan):\n",
    "    \"\"\"\n",
    "    Gets a FritzWLAN instance and returns a list of mac addresses\n",
    "    from the active devices\n",
    "    \"\"\"\n",
    "    active_macs = list()\n",
    "    # iterate over all wlans:\n",
    "    for n in itertools.count(1):\n",
    "        fwlan.service = n\n",
    "        try:\n",
    "            hosts_info = fwlan.get_hosts_info()\n",
    "        except FritzServiceError:\n",
    "            break\n",
    "        else:\n",
    "            active_macs.extend(entry['mac'] for entry in hosts_info)\n",
    "    return active_macs\n",
    "\n",
    "\n",
    "def report_devices(fwlan):\n",
    "    active_macs = get_active_macs(fwlan)\n",
    "    # decide here what to do with this information:\n",
    "    # print the mac addresses\n",
    "    for mac in active_macs:\n",
    "        print(mac)\n",
    "    print()  # empty line for readability\n",
    "\n",
    "\n",
    "def track_devices(tracking_duration, tracking_period):\n",
    "    # instanciate FritzWLAN just once for reusage\n",
    "    fwlan = FritzWLAN(address=ADDRESS, password=PASSWORD)\n",
    "    stop = datetime.datetime.now() + tracking_duration\n",
    "    while datetime.datetime.now() < stop:\n",
    "        report_devices(fwlan)\n",
    "        time.sleep(tracking_period)\n",
    "\n",
    "\n",
    "def main():\n",
    "    tracking_duration = datetime.timedelta(seconds=TRACKING_DURATION)\n",
    "    track_devices(tracking_duration, TRACKING_PERIOD)\n",
    "    print('done.')\n",
    "\n",
    "\n",
    "if __name__ == '__main__':\n",
    "    main()"
   ]
  },
  {
   "cell_type": "code",
   "execution_count": null,
   "metadata": {},
   "outputs": [],
   "source": []
  }
 ],
 "metadata": {
  "kernelspec": {
   "display_name": "Python 3.7.7 64-bit ('python37': conda)",
   "language": "python",
   "name": "python37764bitpython37conda788c0a2a258145f497836360a98c8a17"
  },
  "language_info": {
   "codemirror_mode": {
    "name": "ipython",
    "version": 3
   },
   "file_extension": ".py",
   "mimetype": "text/x-python",
   "name": "python",
   "nbconvert_exporter": "python",
   "pygments_lexer": "ipython3",
   "version": "3.7.7"
  }
 },
 "nbformat": 4,
 "nbformat_minor": 4
}
