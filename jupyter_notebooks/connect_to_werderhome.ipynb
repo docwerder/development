{
 "cells": [
  {
   "cell_type": "code",
   "execution_count": 1,
   "id": "5333c1e6",
   "metadata": {},
   "outputs": [
    {
     "data": {
      "text/plain": [
       "<applescript._result.Result at 0x11677db40>"
      ]
     },
     "execution_count": 1,
     "metadata": {},
     "output_type": "execute_result"
    }
   ],
   "source": [
    "import applescript\n",
    "applescript.run('''\n",
    "    tell application \"Finder\"\n",
    "        try\n",
    "            mount volume \"afp://192.168.178.48/WERDERNAS2\" as user name \"admin\" with password \"pax123\"\n",
    "        on error\n",
    "            display dialog \"Es ist ein Fehler aufgetreten!\" buttons ¬\n",
    "            {\" OK \"} default button 1 ¬\n",
    "            with icon stop\n",
    "        end try\n",
    "    end tell\n",
    "''')"
   ]
  },
  {
   "cell_type": "code",
   "execution_count": 2,
   "id": "75c2d765",
   "metadata": {},
   "outputs": [
    {
     "ename": "TypeError",
     "evalue": "'str' object is not callable",
     "output_type": "error",
     "traceback": [
      "\u001b[0;31m---------------------------------------------------------------------------\u001b[0m",
      "\u001b[0;31mTypeError\u001b[0m                                 Traceback (most recent call last)",
      "Input \u001b[0;32mIn [2]\u001b[0m, in \u001b[0;36m<cell line: 2>\u001b[0;34m()\u001b[0m\n\u001b[1;32m      1\u001b[0m \u001b[38;5;28;01mimport\u001b[39;00m \u001b[38;5;21;01msys\u001b[39;00m\n\u001b[0;32m----> 2\u001b[0m \u001b[43msys\u001b[49m\u001b[38;5;241;43m.\u001b[39;49m\u001b[43mexecutable\u001b[49m\u001b[43m(\u001b[49m\u001b[43m)\u001b[49m\n",
      "\u001b[0;31mTypeError\u001b[0m: 'str' object is not callable"
     ]
    }
   ],
   "source": [
    "import sys\n",
    "sys.executable()"
   ]
  },
  {
   "cell_type": "code",
   "execution_count": 1,
   "id": "65755712",
   "metadata": {},
   "outputs": [
    {
     "name": "stdout",
     "output_type": "stream",
     "text": [
      "/Users/joerg/opt/anaconda3/envs/python38/bin/python\n"
     ]
    }
   ],
   "source": [
    "import sys\n",
    "print(sys.executable)"
   ]
  },
  {
   "cell_type": "code",
   "execution_count": 2,
   "id": "f050612d",
   "metadata": {},
   "outputs": [
    {
     "name": "stdout",
     "output_type": "stream",
     "text": [
      "Collecting applescript\n",
      "  Using cached applescript-2021.2.9-py3-none-any.whl\n",
      "Installing collected packages: applescript\n",
      "Successfully installed applescript-2021.2.9\n",
      "Note: you may need to restart the kernel to use updated packages.\n"
     ]
    }
   ],
   "source": [
    "pip install applescript"
   ]
  },
  {
   "cell_type": "code",
   "execution_count": null,
   "id": "53bf53b7",
   "metadata": {},
   "outputs": [],
   "source": []
  }
 ],
 "metadata": {
  "kernelspec": {
   "display_name": "Python 3.10.6 ('pyside2_dev')",
   "language": "python",
   "name": "python3"
  },
  "language_info": {
   "codemirror_mode": {
    "name": "ipython",
    "version": 3
   },
   "file_extension": ".py",
   "mimetype": "text/x-python",
   "name": "python",
   "nbconvert_exporter": "python",
   "pygments_lexer": "ipython3",
   "version": "3.10.6"
  },
  "vscode": {
   "interpreter": {
    "hash": "52867ee1f7e3b1f93523cdfe2d5d91084b6fa11775e78fca1f22649f7620b014"
   }
  }
 },
 "nbformat": 4,
 "nbformat_minor": 5
}
