{
 "cells": [
  {
   "cell_type": "code",
   "execution_count": 4,
   "metadata": {},
   "outputs": [],
   "source": [
    "import numpy as np\n",
    "fString = open('iris.data','r')\n",
    "fFloat = open('iris.csv','w')\n",
    "\n",
    "for line in fString:\n",
    "    line = line.replace('Iris-setosa', '1')\n",
    "    line = line.replace('Iris-versicolor', '2')\n",
    "    line = line.replace('Iris-virginica','3')\n",
    "    fFloat.write(line)\n",
    "\n",
    "fString.close()\n",
    "fFloat.close()\n"
   ]
  },
  {
   "cell_type": "code",
   "execution_count": 4,
   "metadata": {},
   "outputs": [],
   "source": []
  },
  {
   "cell_type": "code",
   "execution_count": 5,
   "metadata": {},
   "outputs": [],
   "source": [
    "fFloat = open('iris.csv','r')\n",
    "dataset = np.loadtxt(fFloat, delimiter = ',')\n",
    "fFloat.close()\n"
   ]
  },
  {
   "cell_type": "code",
   "execution_count": 8,
   "metadata": {},
   "outputs": [
    {
     "data": {
      "text/plain": "<matplotlib.collections.PathCollection at 0x7fe9b19f3d00>"
     },
     "execution_count": 8,
     "metadata": {},
     "output_type": "execute_result"
    },
    {
     "data": {
      "text/plain": "<Figure size 432x288 with 2 Axes>",
      "image/png": "[encoded data removed]"
     },
     "metadata": {
      "needs_background": "light"
     },
     "output_type": "display_data"
    }
   ],
   "source": [
    "import matplotlib.pyplot as plt\n",
    "#%matplotlib inline\n",
    "\n",
    "fig = plt.figure(1)\n",
    "\n",
    "ax = fig.add_subplot(2,2,1)\n",
    "ax.scatter(dataset[0:50,0],dataset[0:50,1], c = 'red', s=60, alpha=0.6)\n",
    "ax.scatter(dataset[50:100,0],dataset[50:100,1], c = 'green', s=60, alpha=0.6)\n",
    "ax.scatter(dataset[100:150,0],dataset[100:150,1], c = 'blue', s=60, alpha=0.6)\n",
    "\n",
    "\n",
    "ax=fig.add_subplot(2,2,2)\n",
    "ax.scatter(dataset[0:50,2],dataset[0:50,3], c = 'red', s=60, alpha=0.6)\n",
    "ax.scatter(dataset[50:100,2],dataset[50:100,3], c = 'green', s=60, alpha=0.6)\n",
    "ax.scatter(dataset[100:150,2],dataset[100:150,3], c = 'blue', s=60, alpha=0.6)"
   ]
  },
  {
   "cell_type": "code",
   "execution_count": 7,
   "metadata": {},
   "outputs": [
    {
     "ename": "NameError",
     "evalue": "name 'matplotlib' is not defined",
     "output_type": "error",
     "traceback": [
      "\u001B[0;31m---------------------------------------------------------------------------\u001B[0m",
      "\u001B[0;31mNameError\u001B[0m                                 Traceback (most recent call last)",
      "\u001B[0;32m<ipython-input-7-01a4881bf885>\u001B[0m in \u001B[0;36m<module>\u001B[0;34m\u001B[0m\n\u001B[0;32m----> 1\u001B[0;31m \u001B[0mprint\u001B[0m\u001B[0;34m(\u001B[0m\u001B[0mmatplotlib\u001B[0m\u001B[0;34m.\u001B[0m\u001B[0m__version__\u001B[0m\u001B[0;34m)\u001B[0m\u001B[0;34m\u001B[0m\u001B[0;34m\u001B[0m\u001B[0m\n\u001B[0m",
      "\u001B[0;31mNameError\u001B[0m: name 'matplotlib' is not defined"
     ]
    }
   ],
   "source": [
    "print(matplotlib.__version__)"
   ]
  },
  {
   "cell_type": "code",
   "execution_count": null,
   "metadata": {},
   "outputs": [],
   "source": [
    "import io\n",
    "\n",
    "with io.open('diagnosis.data', 'r', encoding='utf-8') as fn:\n",
    "  lines = fn.readlines()"
   ]
  },
  {
   "cell_type": "code",
   "execution_count": null,
   "metadata": {},
   "outputs": [],
   "source": [
    "# fString = open('diagnosis.data','r')\n",
    "# fFloat1 = open('diagnosis.csv','w')\n",
    "\n",
    "# for line in fString:\n",
    "#     line = line.replace(\",\", \".\")\n",
    "#     line = line.replace(\"\\t\",\",\")\n",
    "#     line = line.replace(\"yes\",\"1\")\n",
    "#     line = line.replace(\"no\",\"0\")\n",
    "#     line = line.replace(\"\\r\\n\",\"\\n\")  \n",
    "#     fFloat1.write(line)\n",
    "\n",
    "import numpy as np\n",
    "import pandas as pd\n",
    "\n",
    "np.random.seed(42)\n",
    "fFloat = open('diagnosis.csv','r')\n",
    "df = pd.read_csv('my_diagnosis.csv', delimiter = ';', header = None)\n",
    "#data = np.loadtxt(fFloat)#, delimiter=',')\n",
    "#data2 = np.genfromtxt('diagnosis.csv',delimiter=',')\n"
   ]
  },
  {
   "cell_type": "code",
   "execution_count": null,
   "metadata": {},
   "outputs": [],
   "source": [
    "df\n",
    "arr = df.to_numpy()"
   ]
  },
  {
   "cell_type": "code",
   "execution_count": null,
   "metadata": {},
   "outputs": [],
   "source": [
    "arr.shape"
   ]
  },
  {
   "cell_type": "code",
   "execution_count": null,
   "metadata": {},
   "outputs": [],
   "source": [
    "pwd"
   ]
  },
  {
   "cell_type": "code",
   "execution_count": null,
   "metadata": {},
   "outputs": [],
   "source": [
    "from sklearn.datasets import load_iris"
   ]
  },
  {
   "cell_type": "code",
   "execution_count": null,
   "metadata": {},
   "outputs": [],
   "source": [
    "iris_dataset = load_iris()"
   ]
  },
  {
   "cell_type": "code",
   "execution_count": null,
   "metadata": {},
   "outputs": [],
   "source": [
    "type(iris_dataset)"
   ]
  },
  {
   "cell_type": "code",
   "execution_count": null,
   "metadata": {},
   "outputs": [],
   "source": [
    "print('Schlüssel von iris_dataset: {}'.format(iris_dataset.keys()))"
   ]
  },
  {
   "cell_type": "code",
   "execution_count": null,
   "metadata": {},
   "outputs": [],
   "source": [
    "print(iris_dataset['data'].shape)"
   ]
  },
  {
   "cell_type": "code",
   "execution_count": null,
   "metadata": {},
   "outputs": [],
   "source": [
    "print('Schlüssel von iris_dataset: {}'.format(iris_dataset['target_names']))"
   ]
  },
  {
   "cell_type": "code",
   "execution_count": null,
   "metadata": {},
   "outputs": [],
   "source": [
    "pwd"
   ]
  },
  {
   "cell_type": "code",
   "execution_count": null,
   "metadata": {},
   "outputs": [],
   "source": []
  }
 ],
 "metadata": {
  "hide_input": false,
  "kernelspec": {
   "display_name": "Python 3",
   "language": "python",
   "name": "python3"
  },
  "language_info": {
   "codemirror_mode": {
    "name": "ipython",
    "version": 3
   },
   "file_extension": ".py",
   "mimetype": "text/x-python",
   "name": "python",
   "nbconvert_exporter": "python",
   "pygments_lexer": "ipython3",
   "version": "3.7.3"
  }
 },
 "nbformat": 4,
 "nbformat_minor": 4
}