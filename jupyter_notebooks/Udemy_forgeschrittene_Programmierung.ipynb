{
 "cells": [
  {
   "cell_type": "code",
   "execution_count": null,
   "metadata": {},
   "outputs": [],
   "source": [
    "my_name = 'Peter Peterson'\n",
    "\n",
    "if my_name.startswith('Peter'):\n",
    "    my_name = my_name.replace('Peter ', 'Magnus ')\n",
    "print(my_name)"
   ]
  },
  {
   "cell_type": "code",
   "execution_count": null,
   "metadata": {},
   "outputs": [],
   "source": [
    "my_name = 'Hello my name is Jan Schaffranek'\n",
    "my_firstname_start_idx = my_name.find('Jan')\n",
    "print(my_firstname_start_idx)\n",
    "my_first_name = my_name[my_firstname_start_idx:my_firstname_start_idx+3]\n",
    "print(my_first_name)"
   ]
  },
  {
   "cell_type": "code",
   "execution_count": null,
   "metadata": {},
   "outputs": [],
   "source": [
    "output_str = ' '\n",
    "friend_names = ['Jan', 'Peter', 'Dennis']\n",
    "for name in friend_names:\n",
    "    output_str += name + ' '\n",
    "print(output_str)\n",
    "\n",
    "#genauso geht:\n",
    "output_str2 = ' '.join(friend_names)"
   ]
  },
  {
   "cell_type": "code",
   "execution_count": null,
   "metadata": {},
   "outputs": [],
   "source": [
    "from datetime import datetime\n",
    "firstname = 'Jan'\n",
    "lastname = 'Schaffranek'\n",
    "date = datetime.now()\n",
    "date = '{:%d.%m.%}'.format(date)\n",
    "my_template = 'Hello my name is Jan Schaffranek, nice to meet you. Today is the 14.04.2020.'\n",
    "my_template2 = 'Hello my name is %s %s, nice to meet you. Today is the 14.04.2020.'%(firstname, lastname)\n",
    "my_template3 = 'Hello my name is {0} {1}, nice to meet you. Today is the 14.04.2020.'.format(firstname, lastname)\n",
    "\n",
    "print(my_template)\n",
    "print(my_template2)\n",
    "print(my_template3)"
   ]
  },
  {
   "cell_type": "markdown",
   "metadata": {},
   "source": [
    "# F-String Logik\n",
    "\n",
    "Durch das Voranstellendes Buchstaben 'f' vor dem String wird Python mitgeteilt, allen Code, der in den gewschweiften Klammern steht, auszuführen.\n",
    "WICHTIG: Der String muss in doppelten Anführungszeichen stehen, sonst gibt es einen Fehler"
   ]
  },
  {
   "cell_type": "code",
   "execution_count": null,
   "metadata": {},
   "outputs": [],
   "source": [
    "my_str = f\"Hello my name is {print('Joerg')}\""
   ]
  },
  {
   "cell_type": "code",
   "execution_count": null,
   "metadata": {},
   "outputs": [],
   "source": [
    "my_list = [1, 3, 5]\n",
    "my_dict = {'Jan':1, 'Peter': 5, 'Dennis': 6}"
   ]
  },
  {
   "cell_type": "code",
   "execution_count": null,
   "metadata": {},
   "outputs": [],
   "source": [
    "my_str2 = f\"text...{my_list[1]}..\"\n",
    "print(my_str2)\n",
    "my_str3 = f\"text...{my_dict['Jan']}..\"\n",
    "print(my_str3)\n",
    "\n",
    "print(my_dict.keys())"
   ]
  },
  {
   "cell_type": "code",
   "execution_count": 4,
   "metadata": {},
   "outputs": [],
   "source": [
    "import os"
   ]
  },
  {
   "cell_type": "code",
   "execution_count": 6,
   "metadata": {},
   "outputs": [
    {
     "data": {
      "text/plain": [
       "'/Users/joergwingbermuehle/OneDrive/JUPYTER_NOTEBOOKS'"
      ]
     },
     "execution_count": 6,
     "metadata": {},
     "output_type": "execute_result"
    }
   ],
   "source": [
    "pwd"
   ]
  },
  {
   "cell_type": "code",
   "execution_count": 8,
   "metadata": {},
   "outputs": [],
   "source": [
    "project_path = os.path.abspath('/Users/joergwingbermuehle/OneDrive/JUPYTER_NOTEBOOKS')"
   ]
  },
  {
   "cell_type": "markdown",
   "metadata": {},
   "source": [
    "Dazu interessant ist das pathlib-modul!"
   ]
  },
  {
   "cell_type": "code",
   "execution_count": 13,
   "metadata": {},
   "outputs": [
    {
     "name": "stdout",
     "output_type": "stream",
     "text": [
      "Please enter your age: 22\n"
     ]
    }
   ],
   "source": [
    "user_input = input('Please enter your age: ')"
   ]
  },
  {
   "cell_type": "markdown",
   "metadata": {},
   "source": [
    "# Default Arguments und Default Returns"
   ]
  },
  {
   "cell_type": "code",
   "execution_count": 2,
   "metadata": {},
   "outputs": [
    {
     "name": "stdout",
     "output_type": "stream",
     "text": [
      "None\n"
     ]
    }
   ],
   "source": [
    "#Funktion returend immer einen wert, wenn der User nichts angibt, dann wird \"None\" returned\n",
    "def append_list(my_list, value):\n",
    "    my_list.append(value)\n",
    "\n",
    "l = [1, 2]\n",
    "l = append_list(l, 3)\n",
    "print(l)"
   ]
  },
  {
   "cell_type": "code",
   "execution_count": 20,
   "metadata": {},
   "outputs": [],
   "source": [
    "\n",
    "def grow_list(val, my_list=None, a = 2, b = False):\n",
    "    if my_list:\n",
    "        my_list.append(val)\n",
    "    else:\n",
    "        my_list = [val]\n",
    "    return(my_list)"
   ]
  },
  {
   "cell_type": "code",
   "execution_count": 25,
   "metadata": {},
   "outputs": [
    {
     "name": "stdout",
     "output_type": "stream",
     "text": [
      "grow_list\n",
      "4\n",
      "('val', 'my_list', 'a', 'b')\n"
     ]
    }
   ],
   "source": [
    "#Aufruf, um weitere Eigenschaften der Funktion zu erhalten\n",
    "print(grow_list.__name__)\n",
    "print(grow_list.__code__.co_argcount)\n",
    "print(grow_list.__code__.co_varnames)\n",
    "\n",
    "\n"
   ]
  },
  {
   "cell_type": "code",
   "execution_count": 12,
   "metadata": {},
   "outputs": [
    {
     "name": "stdout",
     "output_type": "stream",
     "text": [
      "<function grow_list at 0x7fedae1eba60> <class 'function'>\n"
     ]
    }
   ],
   "source": [
    "my_func = grow_list\n",
    "print(my_func, type(my_func))"
   ]
  },
  {
   "cell_type": "code",
   "execution_count": 19,
   "metadata": {},
   "outputs": [
    {
     "name": "stdout",
     "output_type": "stream",
     "text": [
      "[221]\n"
     ]
    }
   ],
   "source": [
    "def print_function_output(fn, **kwargs):\n",
    "    print(fn(**kwargs))\n",
    "\n",
    "print_function_output(my_func,val = 221)"
   ]
  },
  {
   "cell_type": "code",
   "execution_count": 17,
   "metadata": {},
   "outputs": [
    {
     "ename": "TypeError",
     "evalue": "grow_list() missing 1 required positional argument: 'val'",
     "output_type": "error",
     "traceback": [
      "\u001b[0;31m---------------------------------------------------------------------------\u001b[0m",
      "\u001b[0;31mTypeError\u001b[0m                                 Traceback (most recent call last)",
      "\u001b[0;32m<ipython-input-17-db3ada79940f>\u001b[0m in \u001b[0;36m<module>\u001b[0;34m\u001b[0m\n\u001b[0;32m----> 1\u001b[0;31m \u001b[0mmy_func\u001b[0m\u001b[0;34m(\u001b[0m\u001b[0;34m)\u001b[0m\u001b[0;34m\u001b[0m\u001b[0;34m\u001b[0m\u001b[0m\n\u001b[0m",
      "\u001b[0;31mTypeError\u001b[0m: grow_list() missing 1 required positional argument: 'val'"
     ]
    }
   ],
   "source": [
    "my_func()"
   ]
  },
  {
   "cell_type": "markdown",
   "metadata": {},
   "source": [
    "# Positional Arguments\n",
    "\n"
   ]
  },
  {
   "cell_type": "code",
   "execution_count": 26,
   "metadata": {},
   "outputs": [],
   "source": [
    "def my_function(a, b, c = 10, d = 12, e = 13):\n",
    "    print(\"a = {}, b = {}, c = {}, d = {}, e = {}\".format(a, b, c, d, e))"
   ]
  },
  {
   "cell_type": "code",
   "execution_count": 27,
   "metadata": {},
   "outputs": [
    {
     "name": "stdout",
     "output_type": "stream",
     "text": [
      "a = 1, b = 2, c = 3, d = 4, e = 56\n"
     ]
    }
   ],
   "source": [
    "my_function(1, 2, 3, 4, 56)"
   ]
  },
  {
   "cell_type": "code",
   "execution_count": 44,
   "metadata": {},
   "outputs": [
    {
     "name": "stdout",
     "output_type": "stream",
     "text": [
      "a = 1, b = 4, args = 55\n"
     ]
    }
   ],
   "source": [
    "# wenn man nicht weiss, wieviele Argumente die Function haben soll\n",
    "# *args = variable number of pos. arguments\n",
    "# man darf beliebig viele Argumente einsetzen, wichtig ist das * vor\n",
    "# der Variable. Auch der Name der Variable darf beliebig sein, man wählt\n",
    "# meistens *args\n",
    "\n",
    "def my_function2(a, b, *args):\n",
    "    print('a = {}, b = {}, args = {}'.format(a, b, args[3]))\n",
    "    #print(*args, type(args))\n",
    "    \n",
    "#my_function2(1, 4, 4, 6, 77)\n",
    "my_function2(1, 4, 4, 6, 77, 55, 88)\n",
    "#\n",
    "    "
   ]
  },
  {
   "cell_type": "code",
   "execution_count": 45,
   "metadata": {},
   "outputs": [],
   "source": [
    "#wichtig: User-Default Arguments muessen am Ende der Argumentliste stehen!\n",
    "\n",
    "\n",
    "def my_function4(a, *args, b = None):\n",
    "    print('a = {}, b = {}, args = {}'.format(a, b, args))\n"
   ]
  },
  {
   "cell_type": "code",
   "execution_count": 46,
   "metadata": {},
   "outputs": [
    {
     "name": "stdout",
     "output_type": "stream",
     "text": [
      "a = 1, b = 2, args = (3, 4, 5, 6, False)\n"
     ]
    }
   ],
   "source": [
    "my_function4(1, 3, 4, 5, 6, False, b = 2)"
   ]
  },
  {
   "cell_type": "markdown",
   "metadata": {},
   "source": [
    "# **kwargs"
   ]
  },
  {
   "cell_type": "code",
   "execution_count": 58,
   "metadata": {},
   "outputs": [],
   "source": [
    "# Normal arguments, *Args, Default Args\n",
    "# *args: Tuple\n",
    "# **kwargs: Dictionary\n",
    "\n",
    "\n",
    "def my_function5(a, *args, **kwargs):\n",
    "    print(args, type(args))\n",
    "    print(kwargs, type(kwargs))\n",
    "\n",
    "    \n",
    "    print('a = {}, args = {}, kwargs = {}'.format(a, args, kwargs))\n",
    "\n",
    "    \n",
    "# will man weiterhin noch User-Defined Arguments benutzen, so kann diese\n",
    "# in der Funktionsdefinition verwenden, also\n",
    "def my_function6(a, *args, x = 2, y = 3, z = 4, **kwargs):\n",
    "    \n",
    "    print('a = {}, x = {}, y = {}, z = {}, args = {}, kwargs = {}'.format(a, x, y, z, args, kwargs))\n",
    "\n"
   ]
  },
  {
   "cell_type": "code",
   "execution_count": 60,
   "metadata": {},
   "outputs": [
    {
     "name": "stdout",
     "output_type": "stream",
     "text": [
      "(3, 4) <class 'tuple'>\n",
      "{'c': 30, 'd': 40.5} <class 'dict'>\n",
      "a = 1, args = (3, 4), kwargs = {'c': 30, 'd': 40.5}\n",
      "a = 1, x = 2, y = 3, z = 4, args = (3, 4), kwargs = {'c': 30, 'd': '40.5'}\n"
     ]
    }
   ],
   "source": [
    "my_function5(1, 3, 4, c = 30, d = 40.5)\n",
    "my_function6(1, 3, 4, c = 30, d = '40.5')\n",
    "\n"
   ]
  },
  {
   "cell_type": "code",
   "execution_count": 61,
   "metadata": {},
   "outputs": [],
   "source": [
    "import matplotlib.pyplot as plt\n",
    "\n",
    "def plot_my_lists(list_x, list_y, **kwargs):\n",
    "    plt.scatter(list_x, list_y, **kwargs)\n",
    "    plt.show()"
   ]
  },
  {
   "cell_type": "code",
   "execution_count": 84,
   "metadata": {},
   "outputs": [
    {
     "data": {
      "image/png": "[encoded data removed]",
      "text/plain": [
       "<Figure size 432x288 with 1 Axes>"
      ]
     },
     "metadata": {
      "needs_background": "light"
     },
     "output_type": "display_data"
    },
    {
     "name": "stdout",
     "output_type": "stream",
     "text": [
      "{'plotnonfinite': False, 'data': None}\n"
     ]
    }
   ],
   "source": [
    "list_x = [-3, -2, -1, 1, 2, 3]\n",
    "list_y = [9, 4, 1, 1, 4, 9]\n",
    "plot_my_lists(list_x, list_y, color = 'red', s = 100)\n",
    "\n",
    "print(plt.scatter.__kwdefaults__)"
   ]
  },
  {
   "cell_type": "code",
   "execution_count": null,
   "metadata": {},
   "outputs": [],
   "source": []
  }
 ],
 "metadata": {
  "hide_input": false,
  "kernelspec": {
   "display_name": "Python 3",
   "language": "python",
   "name": "python3"
  },
  "language_info": {
   "codemirror_mode": {
    "name": "ipython",
    "version": 3
   },
   "file_extension": ".py",
   "mimetype": "text/x-python",
   "name": "python",
   "nbconvert_exporter": "python",
   "pygments_lexer": "ipython3",
   "version": "3.7.3"
  }
 },
 "nbformat": 4,
 "nbformat_minor": 2
}
