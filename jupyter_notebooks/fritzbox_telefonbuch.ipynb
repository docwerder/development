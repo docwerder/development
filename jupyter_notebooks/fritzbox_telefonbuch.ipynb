{
 "cells": [
  {
   "cell_type": "code",
   "execution_count": 3,
   "metadata": {},
   "outputs": [
    {
     "name": "stdout",
     "output_type": "stream",
     "text": [
      "# packages in environment at /Users/joerg/opt/anaconda3/envs/python37:\r\n",
      "#\r\n",
      "# Name                    Version                   Build  Channel\r\n",
      "fritzconnection           1.4.0                    pypi_0    pypi\r\n"
     ]
    }
   ],
   "source": [
    "!conda list fritzc*"
   ]
  },
  {
   "cell_type": "code",
   "execution_count": 4,
   "metadata": {},
   "outputs": [],
   "source": [
    "import pandas as pd\n",
    "from fritzconnection.lib.fritzphonebook import FritzPhonebook\n",
    "\n",
    "# Source:\n",
    "# https://fritzconnection.readthedocs.io/en/1.3.4/sources/library.html#fritzphonebook\n",
    "\n",
    "fp = FritzPhonebook(address='192.168.178.1', password='leer4023')"
   ]
  },
  {
   "cell_type": "code",
   "execution_count": 9,
   "metadata": {},
   "outputs": [
    {
     "name": "stdout",
     "output_type": "stream",
     "text": [
      "Agnesmeyer, P & T\n",
      "['+494964959249']\n",
      "Alle (Rundruf)\n",
      "['**9']\n",
      "Anrufbeantworter\n",
      "['**600', '**605']\n",
      "AVM Ansage (HD)\n",
      "['500@hd-telefonie.avm.de']\n",
      "Beese, Maike\n",
      "['+4949519499114']\n",
      "Bentlage, Christiane\n",
      "['+4949616688987', '+491754709183']\n",
      "Brümmer, Andreas\n",
      "['+49593186907', '+491729236122']\n",
      "Büssing, Margret\n",
      "['+4944731503', '+4915202884070']\n",
      "De Vries, Evelyn\n",
      "['+494941131018']\n",
      "Deeken, Stefanie\n",
      "['+494473941655']\n",
      "Diddens, Peter\n",
      "['+4949199752049']\n",
      "Drees, Benno\n",
      "['+4944748174']\n",
      "Drees, Bianca\n",
      "['+4944749419700', '+4915208433993']\n",
      "Drees, Hans-Jürgen\n",
      "['+494474939689', '+491729023292', '+494474947816']\n",
      "Drees, Thorsten\n",
      "['+494474934060', '+491729305538']\n",
      "Eden, Bernd\n",
      "['+4949641286', '+491731705594']\n",
      "Eilers, Martina\n",
      "['+4949639174882', '+4915164911482']\n",
      "Freimuth,  Andrea\n",
      "['+494964959265']\n",
      "Frieling, Monika\n",
      "['+4949538143', '+491741862526']\n",
      "Gottschald, Taxi\n",
      "['+49496491333', '+49496491333']\n",
      "Groen, Sabine\n",
      "['+4949511767', '+491773989810']\n",
      "Harms, Dr.\n",
      "['+4949518910']\n",
      "Illian, Matthias\n",
      "['+497156480187']\n",
      "ISDN/DECT Rundruf\n",
      "['**50']\n",
      "Kannen, Leni\n",
      "['+4944716844']\n",
      "Kannen, Nicole\n",
      "['+4944717010135', '+491622185586']\n",
      "KIGA Westeresch\n",
      "['+494964959800']\n",
      "Klugkist, Hanneliese\n",
      "['+4949531687']\n",
      "Krankenhaus, Papenburg\n",
      "['+494961930']\n",
      "Macke, Andreas\n",
      "['+494471913740', '+491735871172']\n",
      "Macke, Josef\n",
      "['+4944715939', '+4915227294370']\n",
      "Macke, Leonie\n",
      "['+4915228566243']\n",
      "Macke, Petra\n",
      "['+49593186607', '+4917672917235', '+4925654044524']\n",
      "Macke, Ulrike\n",
      "['+4915222398085']\n",
      "Markwald, Birgit\n",
      "['+4949646057751', '+491739991036']\n",
      "Marsmann, Nils\n",
      "['+4949641310', '+4915204256504']\n",
      "Möller, Liesbeth\n",
      "['+4925223374']\n",
      "Möllmann, Michaela\n",
      "['+494474934863', '+491622113630']\n",
      "Nee, Ingo\n",
      "['+494963917517']\n",
      "Oltrop, Arno\n",
      "['+4949536493']\n",
      "Opitz, Margret & Stefan\n",
      "['+494964958240', '+491751165386']\n",
      "Pieper, Barbara\n",
      "['+494962996244', '+4915159235374']\n",
      "Radomski, Thomas\n",
      "['+494941131000']\n",
      "Rave, Doris\n",
      "['+494964959424']\n",
      "Reents, Jan\n",
      "['+4949219995311']\n",
      "S850H\n",
      "['**610']\n",
      "Saathoff, Theo\n",
      "['+494919261601']\n",
      "Sander, Maria\n",
      "['+4944739433666', '+491706513361']\n",
      "Schoe, Anja\n",
      "['+494964958759']\n",
      "Schröter, Bianca\n",
      "['+4949545830', '+491724814149']\n",
      "Smidt, Heike\n",
      "['+49495282336', '+491725619905']\n",
      "Stanko, Helga\n",
      "['+4949518913']\n",
      "Stubbe, Jasmin & Heinz\n",
      "['+494964958546']\n",
      "Telefon\n",
      "['**2']\n",
      "Van Wulfen, Antonius\n",
      "['+494964914033']\n",
      "Vinke, Petra\n",
      "['+494964958243']\n",
      "Wecker 1\n",
      "['**41']\n",
      "Wecker 2\n",
      "['**42']\n",
      "Wecker 3\n",
      "['**43']\n",
      "Willerding, Franziska\n",
      "['+4949648054510', '+4917667801015']\n",
      "Willoh, Birgit\n",
      "['+4954323922', '+491736197840']\n",
      "Wingbermühle, Alois\n",
      "['+4954321394']\n",
      "Wingbermühle, Jörg\n",
      "['+4949646059932', '+491734515422', '+495919136274']\n",
      "Wingbermühle, Karin\n",
      "['+4949646059932', '+491734511901', '+4949531214']\n",
      "Wotte, Joop\n",
      "['+4917624925953', '+494964958646']\n"
     ]
    },
    {
     "data": {
      "text/plain": [
       "Deeken, Stefanie    1\n",
       "Rave, Doris         1\n",
       "Möller, Liesbeth    1\n",
       "Radomski, Thomas    1\n",
       "Brümmer, Andreas    1\n",
       "                   ..\n",
       "Macke, Petra        1\n",
       "Büssing, Margret    1\n",
       "Eden, Bernd         1\n",
       "Nee, Ingo           1\n",
       "Macke, Leonie       1\n",
       "Name: Name, Length: 65, dtype: int64"
      ]
     },
     "execution_count": 9,
     "metadata": {},
     "output_type": "execute_result"
    }
   ],
   "source": [
    "tb = []\n",
    "for phonebook_id in fp.phonebook_ids:\n",
    "    contacts = fp.get_all_names(phonebook_id)\n",
    "    for name, numbers in contacts.items():\n",
    "        print(name)\n",
    "        print(numbers)\n",
    "\n",
    "df = pd.DataFrame(list(contacts.items()),columns = ['Name','Telefonnummer']) \n",
    "df['Name'].value_counts()\n",
    "#"
   ]
  },
  {
   "cell_type": "code",
   "execution_count": null,
   "metadata": {},
   "outputs": [],
   "source": [
    "print(type(name))"
   ]
  },
  {
   "cell_type": "code",
   "execution_count": null,
   "metadata": {},
   "outputs": [],
   "source": [
    "print(type(numbers))"
   ]
  },
  {
   "cell_type": "code",
   "execution_count": null,
   "metadata": {},
   "outputs": [],
   "source": [
    "print(numbers)"
   ]
  },
  {
   "cell_type": "code",
   "execution_count": null,
   "metadata": {},
   "outputs": [],
   "source": [
    "print(name)"
   ]
  },
  {
   "cell_type": "code",
   "execution_count": null,
   "metadata": {},
   "outputs": [],
   "source": []
  }
 ],
 "metadata": {
  "hide_input": false,
  "kernelspec": {
   "display_name": "Python 3.7.7 64-bit ('python37': conda)",
   "language": "python",
   "name": "python37764bitpython37conda788c0a2a258145f497836360a98c8a17"
  },
  "language_info": {
   "codemirror_mode": {
    "name": "ipython",
    "version": 3
   },
   "file_extension": ".py",
   "mimetype": "text/x-python",
   "name": "python",
   "nbconvert_exporter": "python",
   "pygments_lexer": "ipython3",
   "version": "3.7.7"
  }
 },
 "nbformat": 4,
 "nbformat_minor": 2
}
