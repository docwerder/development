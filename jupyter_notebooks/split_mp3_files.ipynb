{
 "cells": [
  {
   "cell_type": "code",
   "execution_count": 3,
   "metadata": {},
   "outputs": [],
   "source": [
    "from pydub import AudioSegment"
   ]
  },
  {
   "cell_type": "code",
   "execution_count": 14,
   "metadata": {},
   "outputs": [
    {
     "data": {
      "text/plain": [
       "<_io.BufferedRandom name='splitted_file.mp3'>"
      ]
     },
     "execution_count": 14,
     "metadata": {},
     "output_type": "execute_result"
    }
   ],
   "source": [
    "sound = AudioSegment.from_mp3(\"01_be_free_with_your_love.mp3\")\n",
    "# len() and slicing are in milliseconds\n",
    "halfway_point = len(sound) / 2\n",
    "second_half = sound[halfway_point:]\n",
    "# Concatenation is just adding\n",
    "second_half_3_times = second_half + second_half\n",
    "# writing mp3 files is a one liner\n",
    "second_half_3_times.export(\"splitted_file.mp3\", format=\"mp3\")"
   ]
  },
  {
   "cell_type": "code",
   "execution_count": 3,
   "metadata": {},
   "outputs": [],
   "source": [
    "import librosa\n",
    "import soundfile as sf"
   ]
  },
  {
   "cell_type": "code",
   "execution_count": 105,
   "metadata": {},
   "outputs": [],
   "source": [
    "import os\n",
    "import pathlib\n",
    "path_dir = r\"/Users/joerg/repos/development/jupyter_notebooks/\"\n",
    "mp3_dir = r\"/Users/joerg/Music/Hörspiele/die_drei_fragezeichen/mp3_uncut\"\n",
    "path_dir = pathlib.Path(path_dir)\n",
    "mp3_dir = pathlib.Path(mp3_dir)\n",
    "dir_tmp = pathlib.Path.mkdir(mp3_dir / 'test_dir')"
   ]
  },
  {
   "cell_type": "code",
   "execution_count": 141,
   "metadata": {},
   "outputs": [
    {
     "name": "stdout",
     "output_type": "stream",
     "text": [
      "Maximum duration:  3144\n",
      "[0, 314400, 628800, 943200, 1257600, 1572000, 1886400, 2200800, 2515200, 2829600, 3144000]\n",
      "segment_first:  0\n",
      "segment_last:  314400\n",
      "segment_first:  314400\n",
      "segment_last:  628800\n",
      "segment_first:  628800\n",
      "segment_last:  943200\n",
      "segment_first:  943200\n",
      "segment_last:  1257600\n",
      "segment_first:  1257600\n",
      "segment_last:  1572000\n",
      "segment_first:  1572000\n",
      "segment_last:  1886400\n",
      "segment_first:  1886400\n",
      "segment_last:  2200800\n",
      "segment_first:  2200800\n",
      "segment_last:  2515200\n",
      "segment_first:  2515200\n",
      "segment_last:  2829600\n",
      "segment_first:  2829600\n",
      "segment_last:  3144000\n"
     ]
    }
   ],
   "source": [
    "for mp3_file in sorted(mp3_dir.iterdir())[:2]:\n",
    "    # print(mp3_file)\n",
    "    if str(mp3_file.stem).startswith('.DS_Store'):\n",
    "        continue\n",
    "        print('after', mp3_file)\n",
    "        print('stem: ', mp3_file.stem)\n",
    "    # print('dir_tmp:' , mp3_file.stem)\n",
    "    dir_tmp = pathlib.Path.mkdir(mp3_dir / str(mp3_file.stem))\n",
    "\n",
    "    mp3_track = AudioSegment.from_mp3(mp3_file)\n",
    "    max_duration = mp3_track.duration_seconds\n",
    "    print('Maximum duration: ', int(max_duration))\n",
    "    max_duration_int = int(max_duration)\n",
    "    cut_list = [lf*max_duration_int*100 for lf in range(11)]\n",
    "    print(cut_list)\n",
    "    for i, segment in enumerate(cut_list):\n",
    "        if i > 0:\n",
    "            segment_first = cut_list[i-1]\n",
    "            print('segment_first: ', segment_first)\n",
    "            segment_last = cut_list[i]\n",
    "            print('segment_last: ', segment_last)\n",
    "            mp3_splitted_clip = mp3_track[segment_first:segment_last]\n",
    "            # print('mp3_dir: ', mp3_dir)\n",
    "            # print('mp3_file: ', mp3_file)\n",
    "            # mp3_splitted_clip.export(os.path.join(mp3_dir, \"splitted_title2.mp3\"), format=\"mp3\")\n",
    "\n",
    "    # # if mp3_file_names.suffix == \".mp3\":\n",
    "    # #     song_name = mp3_file_names\n",
    "\n"
   ]
  },
  {
   "cell_type": "code",
   "execution_count": null,
   "metadata": {},
   "outputs": [],
   "source": []
  },
  {
   "cell_type": "code",
   "execution_count": null,
   "metadata": {},
   "outputs": [],
   "source": []
  },
  {
   "cell_type": "code",
   "execution_count": null,
   "metadata": {},
   "outputs": [],
   "source": []
  },
  {
   "cell_type": "code",
   "execution_count": null,
   "metadata": {},
   "outputs": [],
   "source": []
  },
  {
   "cell_type": "code",
   "execution_count": null,
   "metadata": {},
   "outputs": [],
   "source": []
  },
  {
   "cell_type": "code",
   "execution_count": 91,
   "metadata": {},
   "outputs": [
    {
     "name": "stdout",
     "output_type": "stream",
     "text": [
      "i: 0\n",
      "item:  0\n",
      "i: 1\n",
      "item:  1\n",
      "i: 2\n",
      "item:  2\n",
      "i: 3\n",
      "item:  3\n",
      "i: 4\n",
      "item:  4\n",
      "i: 5\n",
      "item:  5\n",
      "i: 6\n",
      "item:  6\n",
      "i: 7\n",
      "item:  7\n",
      "i: 8\n",
      "item:  8\n",
      "i: 9\n",
      "item:  9\n"
     ]
    }
   ],
   "source": [
    "li = list(range(10))\n",
    "\n",
    "for i, item in enumerate(li):\n",
    "    print('i:', i)\n",
    "    print('item: ', item)\n",
    "    # if i > 0:\n",
    "    #     print(item, li[i-1])"
   ]
  },
  {
   "cell_type": "code",
   "execution_count": null,
   "metadata": {},
   "outputs": [],
   "source": []
  },
  {
   "cell_type": "code",
   "execution_count": null,
   "metadata": {},
   "outputs": [],
   "source": []
  },
  {
   "cell_type": "code",
   "execution_count": null,
   "metadata": {},
   "outputs": [],
   "source": []
  },
  {
   "cell_type": "code",
   "execution_count": 17,
   "metadata": {},
   "outputs": [
    {
     "name": "stdout",
     "output_type": "stream",
     "text": [
      "strom_verbrauch.png\n",
      "Automate Data Entry Using Python.ipynb\n",
      "ipywidget_test.ipynb\n",
      "01_be_free_with_your_love.mp3\n",
      "tutorial25.ipynb\n",
      "Untitled5.ipynb\n",
      "bra_search.ipynb\n",
      "Untitled1.ipynb\n",
      ".DS_Store\n",
      "split_mp3_files.ipynb\n",
      "apple_watch_edelstahl_sportarmband_2021.png\n",
      "Iris_visual.ipynb\n",
      "lambdas_und_Co_Funktionen.ipynb\n",
      "Untitled3.ipynb\n",
      "Untitled.ipynb\n",
      "Untitled4.ipynb\n",
      "energieverbrauch-WerderAir.ipynb\n",
      "Untitled6.ipynb\n",
      "ExampleJoerg.ipynb\n",
      "Untitled2.ipynb\n",
      "fritzbox_telefonbuch.ipynb\n",
      "apple_macbook_air_8coreCPU_10coreGPU_16GB_1TB_okt_2022.png\n",
      "energieverbrauch.ipynb\n",
      "energieverbrauch-werderair-2.ipynb\n",
      "apple_macbook_m1_8core_air_16GB_512SSD_Nov_2020.png\n",
      "Jupyter Notebook formatting.ipynb\n",
      "Think1.ipynb\n",
      "mito_examples.ipynb\n",
      "think.ipynb\n",
      "Think1-jvsc-0fea9fb0-6b09-4588-bb7d-431f0bf25019f9cdcfb4-5e5a-4e06-9be4-84bc270e7668.ipynb\n",
      "fritzbox_hosts.ipynb\n",
      ".ipynb_checkpoints\n",
      "mp3split.py\n",
      "ML_Teil1.ipynb\n",
      "mac_mini_m1_2021.png\n",
      "mpp_overview_oct_2022.ipynb\n",
      "ueberlegungen_PV_Stromtracking.ipynb\n",
      "apple_iphone_14_mitternacht_256GB_oktober2022.png\n",
      "voila_test.ipynb\n",
      "Udemy_forgeschrittene_Programmierung.ipynb\n",
      "dashboarding_python_2.ipynb\n",
      "stromverbrauch_2011_2022.ipynb\n",
      "Dashboarding in Python.ipynb\n"
     ]
    }
   ],
   "source": [
    "for filename in os.listdir(path_dir):\n",
    "    x = filename.split(\".\")\n",
    "    print(filename)\n",
    "    path_file = os.sep.join([path_dir, filename])\n",
    "   # x, sr = librosa.load(path_file, sr=None)\n",
    "    #print(x)"
   ]
  },
  {
   "cell_type": "code",
   "execution_count": 14,
   "metadata": {},
   "outputs": [
    {
     "name": "stdout",
     "output_type": "stream",
     "text": [
      "[]\n"
     ]
    }
   ],
   "source": [
    "file = \"/Users/joerg/repos/development/jupyter_notebooks/01_be_free_with_your_love.mp3\"\n",
    "x, sr = librosa.load(file, sr=None)\n",
    "print(x)\n",
    "#% you will get x as audio file in numpy array and sr as original sampling rate\n",
    "for i in range(0, len(x),5 * sr):\n",
    "    print('hallo')\n",
    "    y = x[5 * sr * i: 5 * sr *(i+1)]\n",
    "    print(y)\n",
    "    sf.write(\"/Users/joerg/repos/development/jupyter_notebooks/splitted_file_audio\"+str(i)+\".mp3\", y, sr)"
   ]
  },
  {
   "cell_type": "code",
   "execution_count": 34,
   "metadata": {},
   "outputs": [],
   "source": [
    "from pydub import AudioSegment\n",
    "import os"
   ]
  },
  {
   "cell_type": "code",
   "execution_count": 35,
   "metadata": {},
   "outputs": [
    {
     "data": {
      "text/plain": [
       "PosixPath('/Users/joerg/repos/development/jupyter_notebooks/01_be_free_with_your_love.mp3')"
      ]
     },
     "execution_count": 35,
     "metadata": {},
     "output_type": "execute_result"
    }
   ],
   "source": [
    "song_name"
   ]
  },
  {
   "cell_type": "code",
   "execution_count": 36,
   "metadata": {},
   "outputs": [],
   "source": [
    "sound = AudioSegment.from_file(song_name)"
   ]
  },
  {
   "cell_type": "code",
   "execution_count": 63,
   "metadata": {},
   "outputs": [
    {
     "name": "stdout",
     "output_type": "stream",
     "text": [
      "song_name:  /Users/joerg/repos/development/jupyter_notebooks/01_be_free_with_your_love.mp3\n",
      "Maximum duration:  280.6073469387755\n",
      "0\n",
      "140303.67346938775\n"
     ]
    },
    {
     "data": {
      "text/plain": [
       "<_io.BufferedRandom name='/Users/joerg/repos/development/jupyter_notebooks/splitted_title2.mp3'>"
      ]
     },
     "execution_count": 63,
     "metadata": {},
     "output_type": "execute_result"
    }
   ],
   "source": [
    "print('song_name: ', song_name)\n",
    "sound = AudioSegment.from_mp3(song_name)\n",
    "max_duration = sound.duration_seconds\n",
    "print('Maximum duration: ', max_duration)\n",
    "# first_cut_point = (1*60 + 18) * 1000   #% 1:18\n",
    "# print(first_cut_point)\n",
    "# last_cut_point = (1*60 + 33) * 1000   #% 1:33\n",
    "# print(last_cut_point)\n",
    "\n",
    "first_cut_point = 0\n",
    "print(first_cut_point)\n",
    "last_cut_point = max_duration/2 * 1000\n",
    "print(last_cut_point)\n",
    "\n",
    "\n",
    "\n",
    "# first_cut_point = 0   #% 0:00\n",
    "# last_cut_point = 0.24   #% 4:00\n",
    "\n",
    "\n",
    "\n",
    "sound_clip = sound[:last_cut_point]\n",
    "sound_clip.export(os.path.join(path_dir, \"splitted_title2.mp3\"), format=\"mp3\")\n",
    "#sound_clip_2.export(os.path.join(path_dir, \"splitted_title_2.mp3\"), format=\"mp3\")"
   ]
  },
  {
   "cell_type": "code",
   "execution_count": null,
   "metadata": {},
   "outputs": [],
   "source": []
  }
 ],
 "metadata": {
  "kernelspec": {
   "display_name": "Python 3.10.6 ('pyside2_dev')",
   "language": "python",
   "name": "python3"
  },
  "language_info": {
   "codemirror_mode": {
    "name": "ipython",
    "version": 3
   },
   "file_extension": ".py",
   "mimetype": "text/x-python",
   "name": "python",
   "nbconvert_exporter": "python",
   "pygments_lexer": "ipython3",
   "version": "3.10.6"
  },
  "orig_nbformat": 4,
  "vscode": {
   "interpreter": {
    "hash": "52867ee1f7e3b1f93523cdfe2d5d91084b6fa11775e78fca1f22649f7620b014"
   }
  }
 },
 "nbformat": 4,
 "nbformat_minor": 2
}
