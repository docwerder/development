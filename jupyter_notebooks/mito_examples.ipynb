{
 "cells": [
  {
   "cell_type": "code",
   "execution_count": 1,
   "metadata": {},
   "outputs": [],
   "source": [
    "import mitosheet"
   ]
  },
  {
   "cell_type": "code",
   "execution_count": 2,
   "metadata": {},
   "outputs": [
    {
     "data": {
      "application/vnd.jupyter.widget-view+json": {
       "model_id": "5fe7255126b24bccbb162127689a48bb",
       "version_major": 2,
       "version_minor": 0
      },
      "text/plain": [
       "MitoWidget(analysis_data_json='{\"analysisName\": \"UUID-b96c7d7f-c295-4f49-a176-8a9046cac85e\", \"code\": {\"imports…"
      ]
     },
     "metadata": {},
     "output_type": "display_data"
    }
   ],
   "source": [
    "mitosheet.sheet()"
   ]
  },
  {
   "cell_type": "code",
   "execution_count": 5,
   "metadata": {},
   "outputs": [],
   "source": [
    "# MITO CODE START (DO NOT EDIT)\n",
    "\n",
    "from mitosheet import * # Import necessary functions from Mito\n",
    "register_analysis('UUID-3dc0cd7d-293a-47f4-bbb2-e8a228678c94') # Let Mito know which analysis is being run\n",
    "\n",
    "# Imported /Users/joerg/OneDrive/jupyter_notebooks/mito/Mito Tutorial Data/Airport-Pets.csv\n",
    "import pandas as pd\n",
    "Airport_Pets_csv = pd.read_csv(r'/Users/joerg/OneDrive/jupyter_notebooks/mito/Mito Tutorial Data/Airport-Pets.csv')\n",
    "\n",
    "# Imported /Users/joerg/OneDrive/jupyter_notebooks/mito/Mito Tutorial Data/netflix_titles.csv\n",
    "import pandas as pd\n",
    "netflix_titles_csv = pd.read_csv(r'/Users/joerg/OneDrive/jupyter_notebooks/mito/Mito Tutorial Data/netflix_titles.csv')\n",
    "\n",
    "# Pivoted netflix_titles_csv into df3\n",
    "unused_columns = netflix_titles_csv.columns.difference(set(['rating']).union(set(['type'])).union(set({'rating'})))\n",
    "tmp_df = netflix_titles_csv.drop(unused_columns, axis=1)\n",
    "pivot_table = tmp_df.pivot_table(\n",
    "    index=['rating'],\n",
    "    columns=['type'],\n",
    "    values=['rating'],\n",
    "    aggfunc={'rating': ['count']}\n",
    ")\n",
    "\n",
    "# Flatten the column headers\n",
    "pivot_table.columns = [flatten_column_header(col) for col in pivot_table.columns.values]\n",
    "\n",
    "# Reset the column name and the indexes\n",
    "df3 = pivot_table.reset_index()\n",
    "\n",
    "# Filtered country in netflix_titles_csv\n",
    "netflix_titles_csv = netflix_titles_csv[netflix_titles_csv['country'].str.contains('Brazil', na=False)]\n",
    "\n",
    "# Imported /Users/joerg/OneDrive/jupyter_notebooks/mito/Mito Tutorial Data/Zipcode-Data.csv\n",
    "import pandas as pd\n",
    "Zipcode_Data_csv = pd.read_csv(r'/Users/joerg/OneDrive/jupyter_notebooks/mito/Mito Tutorial Data/Zipcode-Data.csv')\n",
    "\n",
    "  \n",
    "# MITO CODE END (DO NOT EDIT)"
   ]
  },
  {
   "cell_type": "code",
   "execution_count": 6,
   "metadata": {},
   "outputs": [
    {
     "data": {
      "text/html": [
       "<div><div id=b7bd2240-56c3-461b-b93f-e771e14440d5 style=\"display:none; background-color:#9D6CFF; color:white; width:200px; height:30px; padding-left:5px; border-radius:4px; flex-direction:row; justify-content:space-around; align-items:center;\" onmouseover=\"this.style.backgroundColor='#BA9BF8'\" onmouseout=\"this.style.backgroundColor='#9D6CFF'\" onclick=\"window.commands?.execute('create-mitosheet-from-dataframe-output');\">See Full Dataframe in Mito</div> <script> if (window.commands.hasCommand('create-mitosheet-from-dataframe-output')) document.getElementById('b7bd2240-56c3-461b-b93f-e771e14440d5').style.display = 'flex' </script> <table border=\"1\" class=\"dataframe\">\n",
       "  <thead>\n",
       "    <tr style=\"text-align: right;\">\n",
       "      <th></th>\n",
       "      <th>rating</th>\n",
       "      <th>rating count Movie</th>\n",
       "      <th>rating count TV Show</th>\n",
       "    </tr>\n",
       "  </thead>\n",
       "  <tbody>\n",
       "    <tr>\n",
       "      <th>0</th>\n",
       "      <td>66 min</td>\n",
       "      <td>1.0</td>\n",
       "      <td>NaN</td>\n",
       "    </tr>\n",
       "    <tr>\n",
       "      <th>1</th>\n",
       "      <td>74 min</td>\n",
       "      <td>1.0</td>\n",
       "      <td>NaN</td>\n",
       "    </tr>\n",
       "    <tr>\n",
       "      <th>2</th>\n",
       "      <td>84 min</td>\n",
       "      <td>1.0</td>\n",
       "      <td>NaN</td>\n",
       "    </tr>\n",
       "    <tr>\n",
       "      <th>3</th>\n",
       "      <td>G</td>\n",
       "      <td>41.0</td>\n",
       "      <td>NaN</td>\n",
       "    </tr>\n",
       "    <tr>\n",
       "      <th>4</th>\n",
       "      <td>NC-17</td>\n",
       "      <td>3.0</td>\n",
       "      <td>NaN</td>\n",
       "    </tr>\n",
       "    <tr>\n",
       "      <th>5</th>\n",
       "      <td>NR</td>\n",
       "      <td>75.0</td>\n",
       "      <td>5.0</td>\n",
       "    </tr>\n",
       "    <tr>\n",
       "      <th>6</th>\n",
       "      <td>PG</td>\n",
       "      <td>287.0</td>\n",
       "      <td>NaN</td>\n",
       "    </tr>\n",
       "    <tr>\n",
       "      <th>7</th>\n",
       "      <td>PG-13</td>\n",
       "      <td>490.0</td>\n",
       "      <td>NaN</td>\n",
       "    </tr>\n",
       "    <tr>\n",
       "      <th>8</th>\n",
       "      <td>R</td>\n",
       "      <td>797.0</td>\n",
       "      <td>2.0</td>\n",
       "    </tr>\n",
       "    <tr>\n",
       "      <th>9</th>\n",
       "      <td>TV-14</td>\n",
       "      <td>1427.0</td>\n",
       "      <td>733.0</td>\n",
       "    </tr>\n",
       "    <tr>\n",
       "      <th>10</th>\n",
       "      <td>TV-G</td>\n",
       "      <td>126.0</td>\n",
       "      <td>94.0</td>\n",
       "    </tr>\n",
       "    <tr>\n",
       "      <th>11</th>\n",
       "      <td>TV-MA</td>\n",
       "      <td>2062.0</td>\n",
       "      <td>1145.0</td>\n",
       "    </tr>\n",
       "    <tr>\n",
       "      <th>12</th>\n",
       "      <td>TV-PG</td>\n",
       "      <td>540.0</td>\n",
       "      <td>323.0</td>\n",
       "    </tr>\n",
       "    <tr>\n",
       "      <th>13</th>\n",
       "      <td>TV-Y</td>\n",
       "      <td>131.0</td>\n",
       "      <td>176.0</td>\n",
       "    </tr>\n",
       "    <tr>\n",
       "      <th>14</th>\n",
       "      <td>TV-Y7</td>\n",
       "      <td>139.0</td>\n",
       "      <td>195.0</td>\n",
       "    </tr>\n",
       "    <tr>\n",
       "      <th>15</th>\n",
       "      <td>TV-Y7-FV</td>\n",
       "      <td>5.0</td>\n",
       "      <td>1.0</td>\n",
       "    </tr>\n",
       "    <tr>\n",
       "      <th>16</th>\n",
       "      <td>UR</td>\n",
       "      <td>3.0</td>\n",
       "      <td>NaN</td>\n",
       "    </tr>\n",
       "  </tbody>\n",
       "</table></div>"
      ],
      "text/plain": [
       "      rating  rating count Movie  rating count TV Show\n",
       "0     66 min                 1.0                   NaN\n",
       "1     74 min                 1.0                   NaN\n",
       "2     84 min                 1.0                   NaN\n",
       "3          G                41.0                   NaN\n",
       "4      NC-17                 3.0                   NaN\n",
       "5         NR                75.0                   5.0\n",
       "6         PG               287.0                   NaN\n",
       "7      PG-13               490.0                   NaN\n",
       "8          R               797.0                   2.0\n",
       "9      TV-14              1427.0                 733.0\n",
       "10      TV-G               126.0                  94.0\n",
       "11     TV-MA              2062.0                1145.0\n",
       "12     TV-PG               540.0                 323.0\n",
       "13      TV-Y               131.0                 176.0\n",
       "14     TV-Y7               139.0                 195.0\n",
       "15  TV-Y7-FV                 5.0                   1.0\n",
       "16        UR                 3.0                   NaN"
      ]
     },
     "execution_count": 6,
     "metadata": {},
     "output_type": "execute_result"
    }
   ],
   "source": [
    "df3\n"
   ]
  },
  {
   "cell_type": "code",
   "execution_count": 2,
   "metadata": {},
   "outputs": [
    {
     "data": {
      "application/vnd.jupyter.widget-view+json": {
       "model_id": "597d18e96c7a4a6f8fa158c0d3a27dd0",
       "version_major": 2,
       "version_minor": 0
      },
      "text/plain": [
       "MitoWidget(analysis_data_json='{\"analysisName\": \"UUID-bec9d723-10ef-45ec-843f-137d68ffd0ec\", \"code\": {\"imports…"
      ]
     },
     "metadata": {},
     "output_type": "display_data"
    }
   ],
   "source": [
    "mitosheet.sheet()"
   ]
  },
  {
   "cell_type": "code",
   "execution_count": null,
   "metadata": {},
   "outputs": [],
   "source": [
    "# MITO CODE START (DO NOT EDIT)\n",
    "\n",
    "from mitosheet import * # Import necessary functions from Mito\n",
    "register_analysis('UUID-bec9d723-10ef-45ec-843f-137d68ffd0ec') # Let Mito know which analysis is being run\n",
    "\n",
    "# Imported /Users/joerg/OneDrive/jupyter_notebooks/mito/Mito Tutorial Data/Airport-Pets.csv\n",
    "import pandas as pd\n",
    "Airport_Pets_csv = pd.read_csv(r'/Users/joerg/OneDrive/jupyter_notebooks/mito/Mito Tutorial Data/Airport-Pets.csv')\n",
    "\n",
    "# Imported /Users/joerg/OneDrive/jupyter_notebooks/mito/Mito Tutorial Data/Zipcode-Data.csv\n",
    "import pandas as pd\n",
    "Zipcode_Data_csv = pd.read_csv(r'/Users/joerg/OneDrive/jupyter_notebooks/mito/Mito Tutorial Data/Zipcode-Data.csv')\n",
    "\n",
    "# Merged Zipcode_Data_csv and Airport_Pets_csv\n",
    "temp_df = Airport_Pets_csv.drop_duplicates(subset='Zip') # Remove duplicates so lookup merge only returns first match\n",
    "df3 = Zipcode_Data_csv.merge(temp_df, left_on=['Zip'], right_on=['Zip'], how='left', suffixes=['_Zipcode_Data_csv', '_Airport_Pets_csv'])\n",
    "\n",
    "# Merged df3 and Zipcode_Data_csv\n",
    "temp_df = Zipcode_Data_csv.drop_duplicates(subset='Zip') # Remove duplicates so lookup merge only returns first match\n",
    "df4 = df3.merge(temp_df, left_on=['Zip'], right_on=['Zip'], how='left', suffixes=['_df3', '_Zipcode_Data_csv'])\n",
    "\n",
    "# Deleted dataframe df4\n",
    "del df4\n",
    "\n",
    "# Deleted dataframe df3\n",
    "del df3\n",
    "\n",
    "# Merged Zipcode_Data_csv and Airport_Pets_csv\n",
    "temp_df = Airport_Pets_csv.drop_duplicates(subset='Zip') # Remove duplicates so lookup merge only returns first match\n",
    "Zipcode_Data_csv_tmp = Zipcode_Data_csv.drop(['Mean_Income', 'Pop', 'Median_Income'], axis=1)\n",
    "df3 = Zipcode_Data_csv_tmp.merge(temp_df, left_on=['Zip'], right_on=['Zip'], how='left', suffixes=['_Zipcode_Data_csv', '_Airport_Pets_csv'])\n",
    "\n",
    "# Renamed df3 to merge\n",
    "merge = df3\n",
    "\n",
    "# Pivoted merge into df4\n",
    "unused_columns = merge.columns.difference(set(['State']).union(set([])).union(set({'Zip'})))\n",
    "tmp_df = merge.drop(unused_columns, axis=1)\n",
    "pivot_table = tmp_df.pivot_table(\n",
    "    index=['State'],\n",
    "    values=['Zip'],\n",
    "    aggfunc={'Zip': ['count']}\n",
    ")\n",
    "\n",
    "# Flatten the column headers\n",
    "pivot_table.columns = [flatten_column_header(col) for col in pivot_table.columns.values]\n",
    "\n",
    "# Reset the column name and the indexes\n",
    "df4 = pivot_table.reset_index()\n",
    "\n",
    "  \n",
    "# MITO CODE END (DO NOT EDIT)"
   ]
  },
  {
   "cell_type": "code",
   "execution_count": null,
   "metadata": {},
   "outputs": [],
   "source": []
  }
 ],
 "metadata": {
  "kernelspec": {
   "display_name": "Python 3",
   "language": "python",
   "name": "python3"
  },
  "language_info": {
   "codemirror_mode": {
    "name": "ipython",
    "version": 3
   },
   "file_extension": ".py",
   "mimetype": "text/x-python",
   "name": "python",
   "nbconvert_exporter": "python",
   "pygments_lexer": "ipython3",
   "version": "3.8.8"
  }
 },
 "nbformat": 4,
 "nbformat_minor": 4
}
