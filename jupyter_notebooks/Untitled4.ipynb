{
 "cells": [
  {
   "cell_type": "code",
   "execution_count": 2,
   "id": "846991e2-21a5-4bcb-8ab8-9a50e4283b03",
   "metadata": {},
   "outputs": [],
   "source": [
    "import mitosheet"
   ]
  },
  {
   "cell_type": "code",
   "execution_count": 3,
   "id": "7cb04e11-11b4-47e4-949a-866689b97914",
   "metadata": {},
   "outputs": [
    {
     "data": {
      "application/vnd.jupyter.widget-view+json": {
       "model_id": "abfc7e4379704d3a882196bc30b31679",
       "version_major": 2,
       "version_minor": 0
      },
      "text/plain": [
       "MitoWidget(analysis_data_json='{\"analysisName\": \"UUID-4a1739aa-7560-400c-bd85-02cf96c9a170\", \"code\": {\"imports…"
      ]
     },
     "metadata": {},
     "output_type": "display_data"
    }
   ],
   "source": [
    "mitosheet.sheet()"
   ]
  },
  {
   "cell_type": "code",
   "execution_count": null,
   "id": "2dde2340-0e05-45e0-ae2a-a4b78e85a47e",
   "metadata": {},
   "outputs": [],
   "source": [
    "# MITO CODE START (DO NOT EDIT)\n",
    "\n",
    "from mitosheet import * # Import necessary functions from Mito\n",
    "register_analysis('UUID-4a1739aa-7560-400c-bd85-02cf96c9a170') # Let Mito know which analysis is being run\n",
    "\n",
    "# Imported /Users/joerg/OneDrive/jupyter_notebooks/finanzen2021/Detail2021-Tabelle 1.csv\n",
    "import pandas as pd\n",
    "Detail2021_Tabelle_1_csv = pd.read_csv(r'/Users/joerg/OneDrive/jupyter_notebooks/finanzen2021/Detail2021-Tabelle 1.csv', sep=';')\n",
    "\n",
    "  \n",
    "# MITO CODE END (DO NOT EDIT)"
   ]
  },
  {
   "cell_type": "code",
   "execution_count": null,
   "id": "fecc027c-c807-498b-8f01-0cf413b062b1",
   "metadata": {},
   "outputs": [],
   "source": []
  },
  {
   "cell_type": "code",
   "execution_count": null,
   "id": "1ce32212-9917-436e-bc5d-2f41f58d0a32",
   "metadata": {},
   "outputs": [],
   "source": []
  },
  {
   "cell_type": "code",
   "execution_count": null,
   "id": "b91bdc32-f82b-4c2e-822f-972d0ab90ef6",
   "metadata": {},
   "outputs": [],
   "source": []
  },
  {
   "cell_type": "code",
   "execution_count": null,
   "id": "cf1eaafe-dc57-49b3-a8c9-af751eec4b5f",
   "metadata": {},
   "outputs": [],
   "source": []
  }
 ],
 "metadata": {
  "kernelspec": {
   "display_name": "Python 3",
   "language": "python",
   "name": "python3"
  },
  "language_info": {
   "codemirror_mode": {
    "name": "ipython",
    "version": 3
   },
   "file_extension": ".py",
   "mimetype": "text/x-python",
   "name": "python",
   "nbconvert_exporter": "python",
   "pygments_lexer": "ipython3",
   "version": "3.8.8"
  }
 },
 "nbformat": 4,
 "nbformat_minor": 5
}
