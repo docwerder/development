{
 "cells": [
  {
   "cell_type": "markdown",
   "metadata": {},
   "source": [
    "Übersicht Energieverbrauch"
   ]
  },
  {
   "cell_type": "code",
   "execution_count": 28,
   "metadata": {},
   "outputs": [],
   "source": [
    "arbeitspreis_eprimo = 0.2563 #ct/kWh\n",
    "grundpreis_eprimo = 20.70   #€\n",
    "\n",
    "arbeitspreis_vattenvall = 0.2590   # ct/kWh\n",
    "grundpreis_vattenfall = 19.90     #€"
   ]
  },
  {
   "cell_type": "code",
   "execution_count": 29,
   "metadata": {},
   "outputs": [],
   "source": [
    "verbrauch = 5600 #kWh\n",
    "\n",
    "gesamtpreis_eprimo = (verbrauch * arbeitspreis_eprimo) + (12 * grundpreis_eprimo)\n",
    "gesamtpreis_vattenfall = (verbrauch * arbeitspreis_vattenvall) + (12 * grundpreis_vattenfall)\n"
   ]
  },
  {
   "cell_type": "code",
   "execution_count": 31,
   "metadata": {},
   "outputs": [
    {
     "data": {
      "text/plain": [
       "(1683.6799999999998, 1689.2)"
      ]
     },
     "execution_count": 31,
     "metadata": {},
     "output_type": "execute_result"
    }
   ],
   "source": [
    "gesamtpreis_eprimo, gesamtpreis_vattenfall"
   ]
  },
  {
   "cell_type": "code",
   "execution_count": 32,
   "metadata": {},
   "outputs": [
    {
     "data": {
      "text/plain": [
       "(140.30666666666664, 140.76666666666668)"
      ]
     },
     "execution_count": 32,
     "metadata": {},
     "output_type": "execute_result"
    }
   ],
   "source": [
    "gesamtpreis_eprimo / 12, gesamtpreis_vattenfall/12"
   ]
  },
  {
   "cell_type": "code",
   "execution_count": 19,
   "metadata": {},
   "outputs": [
    {
     "data": {
      "text/plain": [
       "1435.2799999999997"
      ]
     },
     "execution_count": 19,
     "metadata": {},
     "output_type": "execute_result"
    }
   ],
   "source": [
    "verbrauch * arbeitspreis_eprimo"
   ]
  },
  {
   "cell_type": "code",
   "execution_count": 9,
   "metadata": {},
   "outputs": [],
   "source": [
    "import numpy as np\n",
    "import datetime as dt\n",
    "\n",
    "start = dt.date( 2020, 3, 11 )\n",
    "end = dt.date( 2020, 12, 31 )\n",
    "\n",
    "days = np.busday_count( start, end )"
   ]
  },
  {
   "cell_type": "code",
   "execution_count": 10,
   "metadata": {},
   "outputs": [
    {
     "data": {
      "text/plain": [
       "211"
      ]
     },
     "execution_count": 10,
     "metadata": {},
     "output_type": "execute_result"
    }
   ],
   "source": [
    "days"
   ]
  },
  {
   "cell_type": "code",
   "execution_count": 5,
   "metadata": {},
   "outputs": [],
   "source": [
    "np.busday_count?"
   ]
  },
  {
   "cell_type": "code",
   "execution_count": 8,
   "metadata": {},
   "outputs": [
    {
     "data": {
      "text/plain": [
       "1215.0"
      ]
     },
     "execution_count": 8,
     "metadata": {},
     "output_type": "execute_result"
    }
   ],
   "source": [
    "50*81*0.3"
   ]
  },
  {
   "cell_type": "code",
   "execution_count": null,
   "metadata": {},
   "outputs": [],
   "source": []
  },
  {
   "cell_type": "markdown",
   "metadata": {},
   "source": [
    "## `Berechnung Gasverbrauch neuer Anbieter`"
   ]
  },
  {
   "cell_type": "markdown",
   "metadata": {},
   "source": [
    "1. Aktueller Verbrauch ermitteln: \n",
    "* Stand am 21.02.2020: 25278 Kubikmeter \n",
    "* Stand am 16.03.2021: 27721 Kubikmeter "
   ]
  },
  {
   "cell_type": "code",
   "execution_count": 25,
   "metadata": {},
   "outputs": [
    {
     "name": "stdout",
     "output_type": "stream",
     "text": [
      "389\n",
      "Täglicher Verbrauchswert: \t\t 6.28 Kubikmeter\n",
      "Hochgerechneter Verbrauchswert: \t 2292.28 Kubikmeter\n",
      "Hochgerechneter Verbrauchswert: \t 22922.75 kWh\n"
     ]
    }
   ],
   "source": [
    "import datetime\n",
    "now = datetime.datetime.strptime('16.03.2021', '%d.%m.%Y')\n",
    "last = datetime.datetime.strptime('21.02.2020', '%d.%m.%Y')\n",
    "diff = now - last\n",
    "print(diff.days)\n",
    "\n",
    "verbrauch_21_02_2020 = 25278\n",
    "verbrauch_16_03_2021 = 27721\n",
    "\n",
    "diff_verbrauch = verbrauch_16_03_2021 - verbrauch_21_02_2020\n",
    "\n",
    "verbrauch_tgl = diff_verbrauch / diff.days\n",
    "print('Täglicher Verbrauchswert: \\t\\t', round(verbrauch_tgl, 2), 'Kubikmeter')\n",
    "print('Hochgerechneter Verbrauchswert: \\t', round(verbrauch_tgl*365,2), 'Kubikmeter')\n",
    "\n",
    "# Zur Umrechnung von Kubikmeter in kWh wird üblicherweise ein Produkt aus \n",
    "# Zustandszahl und Brennwert genommen. Für die EWE galt damals.\n",
    "# Zustandszahl = 0.9702 \n",
    "# Brennwert = 9.767 kWh/Kubikmeter\n",
    "\n",
    "# Das ergibt zusammen 9.47kWh/Kubikmeter. \n",
    "# Zur besseren Rechnung nehmen wir den Faktor 10!!\n",
    "\n",
    "# Daraus folgt. Der durchschnittliche Verbrauchswert in kWh pro Jahr beträgt\n",
    "\n",
    "print('Hochgerechneter Verbrauchswert: \\t', round(verbrauch_tgl*365*10,2), 'kWh')\n"
   ]
  },
  {
   "cell_type": "markdown",
   "metadata": {},
   "source": [
    "### Definition der Grundpreise"
   ]
  },
  {
   "cell_type": "code",
   "execution_count": 6,
   "metadata": {},
   "outputs": [],
   "source": [
    "# Grundpreis\n",
    "grundpreis_eprimo = 20.51   # € pro Monat, entspricht 248.12 € pro Jahr\n",
    "grundpreis_yellostrom  = 43.65 # € pro Monat Apple Watch Series 6  einmalig 49 €\n",
    "grundpreis_spargas24 = 49.46   #€ pro Monat Apple Watch Series 6 44mm einmalig 45.43 € \n",
    "grundpreis_vattenfall_easy24 = 21.9 # € pro Monat OHNE Apple Watch\n",
    "grundpreis_vattenfall_easy12 = 21.9 # € pro Monat OHNE Apple Watch\n",
    "grundpreis_eon = 14.61 # € pro Monat OHNE Apple Watch\n",
    "\n",
    "\n",
    "# Arbeitspreis\n",
    "\n",
    "arbeitspreis_eprimo = 5.02  # ct/kWh\n",
    "arbeitspreis_yellostrom = 4.82 # ct/kWh\n",
    "arbeitspreis_spargas24 = 5.16     # ct/kWh\n",
    "arbeitspreis_vattenfall_easy24 = 5.44 # ct/kWh\n",
    "arbeitspreis_vattenfall_easy12 = 5.2 # ct/kWh\n",
    "arbeitspreis_eon = 5.77 # ct/kWh\n"
   ]
  },
  {
   "cell_type": "markdown",
   "metadata": {},
   "source": [
    "### Definition des Gesamtpreises"
   ]
  },
  {
   "cell_type": "code",
   "execution_count": 8,
   "metadata": {},
   "outputs": [
    {
     "name": "stdout",
     "output_type": "stream",
     "text": [
      "Gesamtpreis_eprimo: \t\t 1400.72 €\n",
      "Gesamtpreis_eprimo mtl: \t 116.73 €\n",
      "----\n",
      "Gesamtpreis_yellostrom: \t 1632.4 €\n",
      "Gesamtpreis_yellostrom mtl: \t 136.03 €\n",
      "----\n",
      "Gesamtpreis_spargas24: \t\t 1780.32 €\n",
      "Gesamtpreis_spargas24 mtl: \t 148.36 €\n",
      "----\n",
      "Gesamtpreis_vattenfall_easy24: \t\t 1514.0 €\n",
      "Gesamtpreis_vattenfall_easy24 (inkl. Bonus 225+225):\t 1064.0 €\n",
      "Gesamtpreis_vattenfall_easy24 : mtl: \t 126.17 €\n",
      "----\n",
      "Gesamtpreis_eon: \t\t 1502.42 €\n",
      "Gesamtpreis_eon (inkl. Bonus 225+177):\t 1100.42 €\n",
      "Gesamtpreis_eon : mtl: \t 125.2 €\n"
     ]
    }
   ],
   "source": [
    "verbrauch = 23000 #kWh\n",
    "\n",
    "gesamtpreis_eprimo = round((((verbrauch * arbeitspreis_eprimo)/100) + (12 * grundpreis_eprimo)), 2)\n",
    "print('Gesamtpreis_eprimo: \\t\\t', gesamtpreis_eprimo ,'€')\n",
    "print('Gesamtpreis_eprimo mtl: \\t', round(gesamtpreis_eprimo/12, 2),'€')\n",
    "\n",
    "print('----')\n",
    "\n",
    "gesamtpreis_yellostrom = round((((verbrauch * arbeitspreis_yellostrom)/100) + (12 * grundpreis_yellostrom)), 2)\n",
    "print('Gesamtpreis_yellostrom: \\t', gesamtpreis_yellostrom, '€')\n",
    "print('Gesamtpreis_yellostrom mtl: \\t', round(gesamtpreis_yellostrom/12, 2),'€')\n",
    "\n",
    "print('----')\n",
    "\n",
    "gesamtpreis_spargas24 = round((((verbrauch * arbeitspreis_spargas24)/100) + (12 * grundpreis_spargas24)), 2)\n",
    "print('Gesamtpreis_spargas24: \\t\\t', gesamtpreis_spargas24, '€')\n",
    "print('Gesamtpreis_spargas24 mtl: \\t', round(gesamtpreis_spargas24/12, 2),'€')\n",
    "\n",
    "#gesamtpreis_spargas = (verbrauch * arbeitspreis_spargas) + (12 * grundpreis_spargas)\n",
    "#gesamtpreis_vattenfall = (verbrauch * arbeitspreis_vattenvall) + (12 * grundpreis_vattenfall)\n",
    "\n",
    "print('----')\n",
    "\n",
    "gesamtpreis_vattenfall_easy24 = round((((verbrauch * arbeitspreis_vattenfall_easy24)/100) + (12 * grundpreis_vattenfall_easy24)), 2)\n",
    "print('Gesamtpreis_vattenfall_easy24: \\t\\t', gesamtpreis_vattenfall_easy24, '€')\n",
    "print('Gesamtpreis_vattenfall_easy24 (inkl. Bonus 225+225):\\t', round(gesamtpreis_vattenfall_easy24-(225+225), 2),'€')\n",
    "print('Gesamtpreis_vattenfall_easy24 : mtl: \\t', round(gesamtpreis_vattenfall_easy24/12, 2),'€')\n",
    "\n",
    "print('----')\n",
    "\n",
    "gesamtpreis_eon = round((((verbrauch * arbeitspreis_eon)/100) + (12 * grundpreis_eon)), 2)\n",
    "print('Gesamtpreis_eon: \\t\\t', gesamtpreis_eon, '€')\n",
    "print('Gesamtpreis_eon (inkl. Bonus 225+177):\\t', round(gesamtpreis_eon-(225+177), 2),'€')\n",
    "print('Gesamtpreis_eon : mtl: \\t', round(gesamtpreis_eon/12, 2),'€')\n",
    "\n"
   ]
  },
  {
   "cell_type": "code",
   "execution_count": 5,
   "metadata": {},
   "outputs": [
    {
     "data": {
      "text/plain": [
       "760"
      ]
     },
     "execution_count": 5,
     "metadata": {},
     "output_type": "execute_result"
    }
   ],
   "source": [
    "1780-(1460-230-210)"
   ]
  },
  {
   "cell_type": "code",
   "execution_count": 23,
   "metadata": {},
   "outputs": [
    {
     "data": {
      "text/plain": [
       "1565.52"
      ]
     },
     "execution_count": 23,
     "metadata": {},
     "output_type": "execute_result"
    }
   ],
   "source": [
    "gesamtpreis_spargas"
   ]
  },
  {
   "cell_type": "code",
   "execution_count": 24,
   "metadata": {},
   "outputs": [
    {
     "data": {
      "text/plain": [
       "1172.48"
      ]
     },
     "execution_count": 24,
     "metadata": {},
     "output_type": "execute_result"
    }
   ],
   "source": [
    "gesamtpreis_eprimo"
   ]
  },
  {
   "cell_type": "code",
   "execution_count": 2,
   "metadata": {},
   "outputs": [
    {
     "data": {
      "text/plain": [
       "20.676666666666666"
      ]
     },
     "execution_count": 2,
     "metadata": {},
     "output_type": "execute_result"
    }
   ],
   "source": [
    "248.12/12"
   ]
  },
  {
   "cell_type": "code",
   "execution_count": 26,
   "metadata": {},
   "outputs": [
    {
     "data": {
      "text/plain": [
       "1298"
      ]
     },
     "execution_count": 26,
     "metadata": {},
     "output_type": "execute_result"
    }
   ],
   "source": [
    "round((verbrauch * arbeitspreis_eprimo)/100)"
   ]
  },
  {
   "cell_type": "code",
   "execution_count": 27,
   "metadata": {},
   "outputs": [
    {
     "data": {
      "text/plain": [
       "1060"
      ]
     },
     "execution_count": 27,
     "metadata": {},
     "output_type": "execute_result"
    }
   ],
   "source": [
    "round((verbrauch * arbeitspreis_yellostrom)/100)"
   ]
  },
  {
   "cell_type": "code",
   "execution_count": 5,
   "metadata": {},
   "outputs": [
    {
     "data": {
      "text/plain": [
       "9.475943399999998"
      ]
     },
     "execution_count": 5,
     "metadata": {},
     "output_type": "execute_result"
    }
   ],
   "source": [
    " 0.9702*9.767"
   ]
  },
  {
   "cell_type": "code",
   "execution_count": null,
   "metadata": {},
   "outputs": [],
   "source": []
  }
 ],
 "metadata": {
  "hide_input": false,
  "kernelspec": {
   "display_name": "Python 3",
   "language": "python",
   "name": "python3"
  },
  "language_info": {
   "codemirror_mode": {
    "name": "ipython",
    "version": 3
   },
   "file_extension": ".py",
   "mimetype": "text/x-python",
   "name": "python",
   "nbconvert_exporter": "python",
   "pygments_lexer": "ipython3",
   "version": "3.8.8"
  }
 },
 "nbformat": 4,
 "nbformat_minor": 2
}
