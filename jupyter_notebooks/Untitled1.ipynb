{
 "cells": [
  {
   "cell_type": "code",
   "execution_count": 40,
   "id": "505c990d",
   "metadata": {},
   "outputs": [],
   "source": [
    "!jt -f source"
   ]
  },
  {
   "cell_type": "code",
   "execution_count": 37,
   "id": "52eba39b",
   "metadata": {},
   "outputs": [
    {
     "name": "stdout",
     "output_type": "stream",
     "text": [
      "Jupyter notebook reverted to default style.\r\n"
     ]
    }
   ],
   "source": [
    "!jupyter-themer "
   ]
  },
  {
   "cell_type": "code",
   "execution_count": 38,
   "id": "fc532f57",
   "metadata": {},
   "outputs": [],
   "source": [
    "def xkk():\n",
    "    print('kk')"
   ]
  },
  {
   "cell_type": "code",
   "execution_count": 42,
   "id": "be966d0b",
   "metadata": {},
   "outputs": [],
   "source": [
    "from jupyterthemes import jtplot\n",
    "jtplot.style(theme='monokai', context='notebook', ticks=True, grid=False)"
   ]
  },
  {
   "cell_type": "code",
   "execution_count": 45,
   "id": "39691f2e",
   "metadata": {},
   "outputs": [],
   "source": [
    "!jt -t grade3"
   ]
  },
  {
   "cell_type": "code",
   "execution_count": null,
   "id": "e7e6cdf4",
   "metadata": {},
   "outputs": [],
   "source": []
  }
 ],
 "metadata": {
  "kernelspec": {
   "display_name": "Python 3",
   "language": "python",
   "name": "python3"
  },
  "language_info": {
   "codemirror_mode": {
    "name": "ipython",
    "version": 3
   },
   "file_extension": ".py",
   "mimetype": "text/x-python",
   "name": "python",
   "nbconvert_exporter": "python",
   "pygments_lexer": "ipython3",
   "version": "3.9.2"
  }
 },
 "nbformat": 4,
 "nbformat_minor": 5
}
