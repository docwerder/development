{
 "cells": [
  {
   "cell_type": "code",
   "execution_count": 2,
   "metadata": {},
   "outputs": [
    {
     "data": {
      "text/plain": "        year        quarter        market     dur_stay mode        purpose  \\\n0       2002  January-March       Belgium  1-3  nights  Air        Holiday   \n1       2002  January-March       Belgium  1-3  nights  Air       Business   \n2       2002  January-March       Belgium  1-3  nights  Air            VFR   \n3       2002  January-March       Belgium  1-3  nights  Air  Miscellaneous   \n4       2002  January-March       Belgium  1-3  nights  Sea       Business   \n...      ...            ...           ...          ...  ...            ...   \n61457  2020P  January-March  Other Africa  4-7  nights  Air  Miscellaneous   \n61458  2020P  January-March  Other Africa  8-14 nights  Air        Holiday   \n61459  2020P  January-March  Other Africa  8-14 nights  Air            VFR   \n61460  2020P  January-March  Other Africa  15+  nights  Air        Holiday   \n61461  2020P  January-March  Other Africa  15+  nights  Air            VFR   \n\n          area  Visits (000s)  Spend (£m)  Nights (000s)  sample  \n0       LONDON       3.572186    0.969138       6.954456       5  \n1       LONDON       9.284226    2.399577      12.604959      19  \n2       LONDON       0.877182    0.089833       2.153128       3  \n3       LONDON       0.163874    0.010160       0.163874       1  \n4       LONDON       1.648670    0.016789       1.650300       1  \n...        ...            ...         ...            ...     ...  \n61457   LONDON       1.695331    1.103167       8.831038       2  \n61458   LONDON       1.486972    2.022254       7.836555       1  \n61459   LONDON       2.416554    1.847152      63.894432       2  \n61460   LONDON       2.472653    1.006109      35.080377       2  \n61461   LONDON       4.124325    3.960705     134.909755       4  \n\n[61462 rows x 11 columns]",
      "text/html": "<div>\n<style scoped>\n    .dataframe tbody tr th:only-of-type {\n        vertical-align: middle;\n    }\n\n    .dataframe tbody tr th {\n        vertical-align: top;\n    }\n\n    .dataframe thead th {\n        text-align: right;\n    }\n</style>\n<table border=\"1\" class=\"dataframe\">\n  <thead>\n    <tr style=\"text-align: right;\">\n      <th></th>\n      <th>year</th>\n      <th>quarter</th>\n      <th>market</th>\n      <th>dur_stay</th>\n      <th>mode</th>\n      <th>purpose</th>\n      <th>area</th>\n      <th>Visits (000s)</th>\n      <th>Spend (£m)</th>\n      <th>Nights (000s)</th>\n      <th>sample</th>\n    </tr>\n  </thead>\n  <tbody>\n    <tr>\n      <th>0</th>\n      <td>2002</td>\n      <td>January-March</td>\n      <td>Belgium</td>\n      <td>1-3  nights</td>\n      <td>Air</td>\n      <td>Holiday</td>\n      <td>LONDON</td>\n      <td>3.572186</td>\n      <td>0.969138</td>\n      <td>6.954456</td>\n      <td>5</td>\n    </tr>\n    <tr>\n      <th>1</th>\n      <td>2002</td>\n      <td>January-March</td>\n      <td>Belgium</td>\n      <td>1-3  nights</td>\n      <td>Air</td>\n      <td>Business</td>\n      <td>LONDON</td>\n      <td>9.284226</td>\n      <td>2.399577</td>\n      <td>12.604959</td>\n      <td>19</td>\n    </tr>\n    <tr>\n      <th>2</th>\n      <td>2002</td>\n      <td>January-March</td>\n      <td>Belgium</td>\n      <td>1-3  nights</td>\n      <td>Air</td>\n      <td>VFR</td>\n      <td>LONDON</td>\n      <td>0.877182</td>\n      <td>0.089833</td>\n      <td>2.153128</td>\n      <td>3</td>\n    </tr>\n    <tr>\n      <th>3</th>\n      <td>2002</td>\n      <td>January-March</td>\n      <td>Belgium</td>\n      <td>1-3  nights</td>\n      <td>Air</td>\n      <td>Miscellaneous</td>\n      <td>LONDON</td>\n      <td>0.163874</td>\n      <td>0.010160</td>\n      <td>0.163874</td>\n      <td>1</td>\n    </tr>\n    <tr>\n      <th>4</th>\n      <td>2002</td>\n      <td>January-March</td>\n      <td>Belgium</td>\n      <td>1-3  nights</td>\n      <td>Sea</td>\n      <td>Business</td>\n      <td>LONDON</td>\n      <td>1.648670</td>\n      <td>0.016789</td>\n      <td>1.650300</td>\n      <td>1</td>\n    </tr>\n    <tr>\n      <th>...</th>\n      <td>...</td>\n      <td>...</td>\n      <td>...</td>\n      <td>...</td>\n      <td>...</td>\n      <td>...</td>\n      <td>...</td>\n      <td>...</td>\n      <td>...</td>\n      <td>...</td>\n      <td>...</td>\n    </tr>\n    <tr>\n      <th>61457</th>\n      <td>2020P</td>\n      <td>January-March</td>\n      <td>Other Africa</td>\n      <td>4-7  nights</td>\n      <td>Air</td>\n      <td>Miscellaneous</td>\n      <td>LONDON</td>\n      <td>1.695331</td>\n      <td>1.103167</td>\n      <td>8.831038</td>\n      <td>2</td>\n    </tr>\n    <tr>\n      <th>61458</th>\n      <td>2020P</td>\n      <td>January-March</td>\n      <td>Other Africa</td>\n      <td>8-14 nights</td>\n      <td>Air</td>\n      <td>Holiday</td>\n      <td>LONDON</td>\n      <td>1.486972</td>\n      <td>2.022254</td>\n      <td>7.836555</td>\n      <td>1</td>\n    </tr>\n    <tr>\n      <th>61459</th>\n      <td>2020P</td>\n      <td>January-March</td>\n      <td>Other Africa</td>\n      <td>8-14 nights</td>\n      <td>Air</td>\n      <td>VFR</td>\n      <td>LONDON</td>\n      <td>2.416554</td>\n      <td>1.847152</td>\n      <td>63.894432</td>\n      <td>2</td>\n    </tr>\n    <tr>\n      <th>61460</th>\n      <td>2020P</td>\n      <td>January-March</td>\n      <td>Other Africa</td>\n      <td>15+  nights</td>\n      <td>Air</td>\n      <td>Holiday</td>\n      <td>LONDON</td>\n      <td>2.472653</td>\n      <td>1.006109</td>\n      <td>35.080377</td>\n      <td>2</td>\n    </tr>\n    <tr>\n      <th>61461</th>\n      <td>2020P</td>\n      <td>January-March</td>\n      <td>Other Africa</td>\n      <td>15+  nights</td>\n      <td>Air</td>\n      <td>VFR</td>\n      <td>LONDON</td>\n      <td>4.124325</td>\n      <td>3.960705</td>\n      <td>134.909755</td>\n      <td>4</td>\n    </tr>\n  </tbody>\n</table>\n<p>61462 rows × 11 columns</p>\n</div>"
     },
     "execution_count": 2,
     "metadata": {},
     "output_type": "execute_result"
    }
   ],
   "source": [
    "import pandas as pd\n",
    "import numpy as np\n",
    "import ipywidgets as wg\n",
    "from IPython.display import display\n",
    "\n",
    "url = \"https://data.london.gov.uk/download/number-international-visitors-london/b1e0f953-4c8a-4b45-95f5-e0d143d5641e/international-visitors-london-raw.csv\"\n",
    "\n",
    "df_london = pd.read_csv(url, encoding='unicode_escape')\n",
    "df_london"
   ]
  },
  {
   "cell_type": "code",
   "execution_count": 3,
   "metadata": {
    "hide_input": false
   },
   "outputs": [
    {
     "data": {
      "text/plain": "Dropdown(options=('ALLE', '2002', '2003', '2004', '2005', '2006', '2007', '2008', '2009', '2010', '2011', '201…",
      "application/vnd.jupyter.widget-view+json": {
       "version_major": 2,
       "version_minor": 0,
       "model_id": "9dda335088614e45ac4649ef54c36b85"
      }
     },
     "metadata": {},
     "output_type": "display_data"
    },
    {
     "data": {
      "text/plain": "Dropdown(options=('ALLE', 'Business', 'Holiday', 'Miscellaneous', 'Study', 'VFR'), value='ALLE')",
      "application/vnd.jupyter.widget-view+json": {
       "version_major": 2,
       "version_minor": 0,
       "model_id": "674215cdd17f4a01a2ca26b8d8d90506"
      }
     },
     "metadata": {},
     "output_type": "display_data"
    },
    {
     "data": {
      "text/plain": "BoundedFloatText(value=5.0, description='Nummer', max=1000.0, step=1.0)",
      "application/vnd.jupyter.widget-view+json": {
       "version_major": 2,
       "version_minor": 0,
       "model_id": "d565d6f6265043c4a20aff5c5cc0be2d"
      }
     },
     "metadata": {},
     "output_type": "display_data"
    },
    {
     "data": {
      "text/plain": "Output()",
      "application/vnd.jupyter.widget-view+json": {
       "version_major": 2,
       "version_minor": 0,
       "model_id": "7376740ab23a445a9759e8f9bcbed958"
      }
     },
     "metadata": {},
     "output_type": "display_data"
    }
   ],
   "source": [
    "ALL = 'ALLE'\n",
    "\n",
    "def unique_sorted_values_plus_ALL(array):\n",
    "    unique = array.unique().tolist()\n",
    "    unique.sort()\n",
    "    unique.insert(0,ALL)\n",
    "    return unique\n",
    "\n",
    "\n",
    "#Definiere Dropdown widget, um das Jahr auszuwählen\n",
    "auswahl_jahr = wg.Dropdown(options = unique_sorted_values_plus_ALL(df_london.year))\n",
    "\n",
    "\n",
    "#Definiere Dropdown widget, um den Zweck auszuwählen\n",
    "auswahl_zweck = wg.Dropdown(options = unique_sorted_values_plus_ALL(df_london.purpose))\n",
    "\n",
    "#Definiere Dropdown widget, um DF zu färben!\n",
    "auswahl_zahl = wg.BoundedFloatText(min = 0, max = 1000, value = 5, step = 1, description = 'Nummer')\n",
    "\n",
    "output = wg.Output()\n",
    "\n",
    "\n",
    "# def auswahl_jahr_eventhandler(change):\n",
    "#     output_jahr.clear_output()\n",
    "#     with output_jahr:\n",
    "#             if (change.new == ALL):\n",
    "#                 display(df_london)\n",
    "#             else:\n",
    "#                 display(df_london[df_london.year == change.new])\n",
    "                \n",
    "                \n",
    "def common_filtering(year, purpose, nummer):\n",
    "    output.clear_output()\n",
    "    \n",
    "    if (year == ALL) & (purpose == ALL):\n",
    "        common_filter = df_london\n",
    "    elif (year == ALL):\n",
    "        common_filter = df_london[df_london.purpose == purpose]\n",
    "    elif (purpose == ALL):\n",
    "        common_filter = df_london[df_london.year == year]\n",
    "    else:\n",
    "        common_filter = df_london[(df_london.year == year) & (df_london.purpose == purpose)]\n",
    "    \n",
    "    with output:\n",
    "        display(common_filter.style.applymap(lambda x: faerbe_df(x, nummer),\n",
    "                    subset=['visits']))\n",
    "        \n",
    "def faerbe_df(value, comparison):\n",
    "    if value >= comparison:\n",
    "        return 'color: red'\n",
    "    else:\n",
    "        return 'color: black'\n",
    "        \n",
    "def auswahl_jahr_eventhandler(change):\n",
    "    common_filtering(change.new, auswahl_zweck.value, auswahl_zahl.value)\n",
    "\n",
    "def auswahl_zweck_eventhandler(change):\n",
    "    common_filtering(auswahl_jahr.value, change.new, auswahl_zahl.value)\n",
    "    \n",
    "def auswahl_zahl_eventhandler(change):\n",
    "    common_filtering(auswahl_jahr.value, auswahl_zweck.value, change.new)\n",
    "    \n",
    "                \n",
    "\n",
    "\n",
    "auswahl_jahr.observe(auswahl_jahr_eventhandler, names = 'value')\n",
    "auswahl_zweck.observe(auswahl_zweck_eventhandler, names = 'value')\n",
    "auswahl_zahl.observe(auswahl_zahl_eventhandler, names = 'value')\n",
    "\n",
    "\n",
    "display(auswahl_jahr)\n",
    "display(auswahl_zweck)\n",
    "display(auswahl_zahl)\n",
    "display(output)"
   ]
  },
  {
   "cell_type": "code",
   "execution_count": null,
   "metadata": {},
   "outputs": [],
   "source": [
    "# output_jahr = wg.Output()\n",
    "# output_jahr.clear_output()\n",
    "# #display(output_jahr)"
   ]
  },
  {
   "cell_type": "code",
   "execution_count": null,
   "metadata": {},
   "outputs": [],
   "source": [
    "\n",
    "!pwd"
   ]
  },
  {
   "cell_type": "code",
   "execution_count": null,
   "metadata": {},
   "outputs": [],
   "source": []
  }
 ],
 "metadata": {
  "hide_input": false,
  "kernelspec": {
   "display_name": "Python 3",
   "language": "python",
   "name": "python3"
  },
  "language_info": {
   "codemirror_mode": {
    "name": "ipython",
    "version": 3
   },
   "file_extension": ".py",
   "mimetype": "text/x-python",
   "name": "python",
   "nbconvert_exporter": "python",
   "pygments_lexer": "ipython3",
   "version": "3.7.4"
  }
 },
 "nbformat": 4,
 "nbformat_minor": 2
}