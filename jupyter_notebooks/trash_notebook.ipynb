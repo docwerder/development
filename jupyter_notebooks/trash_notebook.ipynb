{
 "cells": [
  {
   "cell_type": "code",
   "execution_count": 1,
   "metadata": {},
   "outputs": [],
   "source": [
    "import pandas as pd\n",
    "import os\n",
    "import numpy as np\n",
    "import sys\n",
    "sys.path.append('/Users/joerg/repos/')\n",
    "%load_ext autoreload\n",
    "from development.utilities_functions.myFunctions import getColumnNamesWithRow "
   ]
  },
  {
   "cell_type": "code",
   "execution_count": 2,
   "metadata": {},
   "outputs": [
    {
     "data": {
      "text/plain": [
       "'/Users/joerg/opt/anaconda3/envs/pyside2_dev/bin/python'"
      ]
     },
     "execution_count": 2,
     "metadata": {},
     "output_type": "execute_result"
    }
   ],
   "source": [
    "import os \n",
    "os.environ['PYTHONPATH']"
   ]
  },
  {
   "cell_type": "code",
   "execution_count": 5,
   "metadata": {},
   "outputs": [],
   "source": [
    "import pandas as pd\n",
    "df_test = pd.DataFrame({\n",
    "    \"joint_id\": [\"AAAA\", \"BBB\", \"HG\", \"CCC\", \"ZGH\", \"JTZ\"],\n",
    "    \"vendor\": [\"V1\", \"V2\", \"V4\", \"2019\", \"RHEDE\", \"TILL\"],\n",
    "    \"anomaly\": [\"DF-XD\", \"KJ-XSD-X\", \"V1\", \"Neun\", \"Karin\", \"LOS\"]\n",
    "\n",
    "\n",
    "\n",
    "})"
   ]
  },
  {
   "cell_type": "code",
   "execution_count": 6,
   "metadata": {},
   "outputs": [
    {
     "name": "stdout",
     "output_type": "stream",
     "text": [
      "Search String V1 fond at column: vendor in row  [0]\n",
      "Search String V1 fond at column: anomaly in row  [2]\n"
     ]
    },
    {
     "data": {
      "text/plain": [
       "['vendor', 'anomaly']"
      ]
     },
     "execution_count": 6,
     "metadata": {},
     "output_type": "execute_result"
    }
   ],
   "source": [
    "getColumnNamesWithRow(df_test, search_string='V1')"
   ]
  },
  {
   "cell_type": "code",
   "execution_count": 7,
   "metadata": {},
   "outputs": [],
   "source": [
    "from functools import partial\n",
    "def hightlight_value(val, sstr):\n",
    "    color = 'orange' if sstr in str(val) else ''\n",
    "    return f'background-color: {color}'"
   ]
  },
  {
   "cell_type": "code",
   "execution_count": 8,
   "metadata": {},
   "outputs": [
    {
     "data": {
      "text/html": [
       "<style type=\"text/css\">\n",
       "#T_a4fd3_row0_col0, #T_a4fd3_row0_col2, #T_a4fd3_row1_col0, #T_a4fd3_row1_col1, #T_a4fd3_row1_col2, #T_a4fd3_row2_col0, #T_a4fd3_row2_col1, #T_a4fd3_row3_col0, #T_a4fd3_row3_col1, #T_a4fd3_row3_col2, #T_a4fd3_row4_col0, #T_a4fd3_row4_col1, #T_a4fd3_row4_col2, #T_a4fd3_row5_col0, #T_a4fd3_row5_col1, #T_a4fd3_row5_col2 {\n",
       "  background-color: ;\n",
       "}\n",
       "#T_a4fd3_row0_col1, #T_a4fd3_row2_col2 {\n",
       "  background-color: orange;\n",
       "}\n",
       "</style>\n",
       "<table id=\"T_a4fd3\">\n",
       "  <thead>\n",
       "    <tr>\n",
       "      <th class=\"blank level0\" >&nbsp;</th>\n",
       "      <th id=\"T_a4fd3_level0_col0\" class=\"col_heading level0 col0\" >joint_id</th>\n",
       "      <th id=\"T_a4fd3_level0_col1\" class=\"col_heading level0 col1\" >vendor</th>\n",
       "      <th id=\"T_a4fd3_level0_col2\" class=\"col_heading level0 col2\" >anomaly</th>\n",
       "    </tr>\n",
       "  </thead>\n",
       "  <tbody>\n",
       "    <tr>\n",
       "      <th id=\"T_a4fd3_level0_row0\" class=\"row_heading level0 row0\" >0</th>\n",
       "      <td id=\"T_a4fd3_row0_col0\" class=\"data row0 col0\" >AAAA</td>\n",
       "      <td id=\"T_a4fd3_row0_col1\" class=\"data row0 col1\" >V1</td>\n",
       "      <td id=\"T_a4fd3_row0_col2\" class=\"data row0 col2\" >DF-XD</td>\n",
       "    </tr>\n",
       "    <tr>\n",
       "      <th id=\"T_a4fd3_level0_row1\" class=\"row_heading level0 row1\" >1</th>\n",
       "      <td id=\"T_a4fd3_row1_col0\" class=\"data row1 col0\" >BBB</td>\n",
       "      <td id=\"T_a4fd3_row1_col1\" class=\"data row1 col1\" >V2</td>\n",
       "      <td id=\"T_a4fd3_row1_col2\" class=\"data row1 col2\" >KJ-XSD-X</td>\n",
       "    </tr>\n",
       "    <tr>\n",
       "      <th id=\"T_a4fd3_level0_row2\" class=\"row_heading level0 row2\" >2</th>\n",
       "      <td id=\"T_a4fd3_row2_col0\" class=\"data row2 col0\" >HG</td>\n",
       "      <td id=\"T_a4fd3_row2_col1\" class=\"data row2 col1\" >V4</td>\n",
       "      <td id=\"T_a4fd3_row2_col2\" class=\"data row2 col2\" >V1</td>\n",
       "    </tr>\n",
       "    <tr>\n",
       "      <th id=\"T_a4fd3_level0_row3\" class=\"row_heading level0 row3\" >3</th>\n",
       "      <td id=\"T_a4fd3_row3_col0\" class=\"data row3 col0\" >CCC</td>\n",
       "      <td id=\"T_a4fd3_row3_col1\" class=\"data row3 col1\" >2019</td>\n",
       "      <td id=\"T_a4fd3_row3_col2\" class=\"data row3 col2\" >Neun</td>\n",
       "    </tr>\n",
       "    <tr>\n",
       "      <th id=\"T_a4fd3_level0_row4\" class=\"row_heading level0 row4\" >4</th>\n",
       "      <td id=\"T_a4fd3_row4_col0\" class=\"data row4 col0\" >ZGH</td>\n",
       "      <td id=\"T_a4fd3_row4_col1\" class=\"data row4 col1\" >RHEDE</td>\n",
       "      <td id=\"T_a4fd3_row4_col2\" class=\"data row4 col2\" >Karin</td>\n",
       "    </tr>\n",
       "    <tr>\n",
       "      <th id=\"T_a4fd3_level0_row5\" class=\"row_heading level0 row5\" >5</th>\n",
       "      <td id=\"T_a4fd3_row5_col0\" class=\"data row5 col0\" >JTZ</td>\n",
       "      <td id=\"T_a4fd3_row5_col1\" class=\"data row5 col1\" >TILL</td>\n",
       "      <td id=\"T_a4fd3_row5_col2\" class=\"data row5 col2\" >LOS</td>\n",
       "    </tr>\n",
       "  </tbody>\n",
       "</table>\n"
      ],
      "text/plain": [
       "<pandas.io.formats.style.Styler at 0x1316430d0>"
      ]
     },
     "execution_count": 8,
     "metadata": {},
     "output_type": "execute_result"
    }
   ],
   "source": [
    "import pandas as pd\n",
    "pd.set_option('display.max_columns', 500)\n",
    "search_string = 'V1'\n",
    "\n",
    "highlight = partial(hightlight_value, sstr=search_string)\n",
    "df_test.style.applymap(highlight)"
   ]
  },
  {
   "cell_type": "code",
   "execution_count": null,
   "metadata": {},
   "outputs": [],
   "source": []
  }
 ],
 "metadata": {
  "kernelspec": {
   "display_name": "Python 3.10.6 ('pyside2_dev')",
   "language": "python",
   "name": "python3"
  },
  "language_info": {
   "codemirror_mode": {
    "name": "ipython",
    "version": 3
   },
   "file_extension": ".py",
   "mimetype": "text/x-python",
   "name": "python",
   "nbconvert_exporter": "python",
   "pygments_lexer": "ipython3",
   "version": "3.10.6"
  },
  "orig_nbformat": 4,
  "vscode": {
   "interpreter": {
    "hash": "52867ee1f7e3b1f93523cdfe2d5d91084b6fa11775e78fca1f22649f7620b014"
   }
  }
 },
 "nbformat": 4,
 "nbformat_minor": 2
}
