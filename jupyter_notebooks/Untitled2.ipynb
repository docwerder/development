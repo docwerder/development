{
 "cells": [
  {
   "cell_type": "code",
   "execution_count": 2,
   "id": "56ec3cca",
   "metadata": {},
   "outputs": [
    {
     "data": {
      "text/plain": [
       "'/Users/joerg/opt/anaconda3/envs/python38/bin/python'"
      ]
     },
     "execution_count": 2,
     "metadata": {},
     "output_type": "execute_result"
    }
   ],
   "source": [
    "import sys\n",
    "sys.executable"
   ]
  },
  {
   "cell_type": "code",
   "execution_count": 3,
   "id": "478c1f82",
   "metadata": {},
   "outputs": [
    {
     "name": "stdout",
     "output_type": "stream",
     "text": [
      "environ({'TMPDIR': '/var/folders/z2/_gyyb63x4pv6zvl1bd53ryg00000gn/T/', '__CFBundleIdentifier': 'com.apple.Terminal', 'XPC_FLAGS': '0x0', 'LaunchInstanceID': '32A7DF47-03D7-407A-AABC-C8801FCA825C', 'TERM': 'xterm-color', 'SSH_AUTH_SOCK': '/private/tmp/com.apple.launchd.R7XJv7K0Fv/Listeners', 'SECURITYSESSIONID': '186a4', 'XPC_SERVICE_NAME': '0', 'TERM_PROGRAM': 'Apple_Terminal', 'TERM_PROGRAM_VERSION': '440', 'TERM_SESSION_ID': 'BCA35752-F91C-4FCF-AC93-D015D06B3D16', 'SHELL': '/bin/zsh', 'HOME': '/Users/joerg', 'LOGNAME': 'joerg', 'USER': 'joerg', 'PATH': '/Users/joerg/opt/anaconda3/bin:/Users/joerg/opt/anaconda3/condabin:/Users/joerg/anaconda3/bin:/usr/local/bin:/usr/bin:/bin:/usr/sbin:/sbin:/Library/TeX/texbin', 'SHLVL': '1', 'PWD': '/Users/joerg', 'OLDPWD': '/Users/joerg', 'ZSH': '/Users/joerg/.oh-my-zsh', 'PAGER': 'cat', 'LESS': '-R', 'LSCOLORS': 'Gxfxcxdxbxegedabagacad', 'CONDA_EXE': '/Users/joerg/opt/anaconda3/bin/conda', '_CE_M': '', '_CE_CONDA': '', 'CONDA_PYTHON_EXE': '/Users/joerg/opt/anaconda3/bin/python', 'CONDA_SHLVL': '1', 'CONDA_PREFIX': '/Users/joerg/opt/anaconda3', 'CONDA_DEFAULT_ENV': 'base', 'CONDA_PROMPT_MODIFIER': '(base) ', 'LANG': 'de_DE.UTF-8', '_': '/Users/joerg/opt/anaconda3/bin/jupyter', 'JPY_PARENT_PID': '40371', 'CLICOLOR': '1', 'GIT_PAGER': 'cat', 'MPLBACKEND': 'module://ipykernel.pylab.backend_inline'})\n"
     ]
    }
   ],
   "source": [
    "import os\n",
    "print (os.environ)"
   ]
  },
  {
   "cell_type": "code",
   "execution_count": 4,
   "id": "239a5bcd",
   "metadata": {},
   "outputs": [
    {
     "name": "stdout",
     "output_type": "stream",
     "text": [
      "\r\n",
      "     active environment : base\r\n",
      "    active env location : /Users/joerg/opt/anaconda3\r\n",
      "            shell level : 1\r\n",
      "       user config file : /Users/joerg/.condarc\r\n",
      " populated config files : \r\n",
      "          conda version : 4.10.1\r\n",
      "    conda-build version : 3.21.4\r\n",
      "         python version : 3.8.8.final.0\r\n",
      "       virtual packages : __osx=10.16=0\r\n",
      "                          __unix=0=0\r\n",
      "                          __archspec=1=x86_64\r\n",
      "       base environment : /Users/joerg/opt/anaconda3  (writable)\r\n",
      "      conda av data dir : /Users/joerg/opt/anaconda3/etc/conda\r\n",
      "  conda av metadata url : https://repo.anaconda.com/pkgs/main\r\n",
      "           channel URLs : https://repo.anaconda.com/pkgs/main/osx-64\r\n",
      "                          https://repo.anaconda.com/pkgs/main/noarch\r\n",
      "                          https://repo.anaconda.com/pkgs/r/osx-64\r\n",
      "                          https://repo.anaconda.com/pkgs/r/noarch\r\n",
      "          package cache : /Users/joerg/opt/anaconda3/pkgs\r\n",
      "                          /Users/joerg/.conda/pkgs\r\n",
      "       envs directories : /Users/joerg/opt/anaconda3/envs\r\n",
      "                          /Users/joerg/.conda/envs\r\n",
      "               platform : osx-64\r\n",
      "             user-agent : conda/4.10.1 requests/2.25.1 CPython/3.8.8 Darwin/20.6.0 OSX/10.16\r\n",
      "                UID:GID : 501:20\r\n",
      "             netrc file : None\r\n",
      "           offline mode : False\r\n",
      "\r\n"
     ]
    }
   ],
   "source": [
    "!conda info"
   ]
  },
  {
   "cell_type": "code",
   "execution_count": null,
   "id": "d3a56e10",
   "metadata": {},
   "outputs": [],
   "source": []
  }
 ],
 "metadata": {
  "kernelspec": {
   "display_name": "python38",
   "language": "python",
   "name": "python38"
  },
  "language_info": {
   "codemirror_mode": {
    "name": "ipython",
    "version": 3
   },
   "file_extension": ".py",
   "mimetype": "text/x-python",
   "name": "python",
   "nbconvert_exporter": "python",
   "pygments_lexer": "ipython3",
   "version": "3.8.8"
  }
 },
 "nbformat": 4,
 "nbformat_minor": 5
}
