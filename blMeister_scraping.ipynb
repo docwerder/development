{
 "cells": [
  {
   "cell_type": "code",
   "execution_count": 7,
   "metadata": {},
   "outputs": [],
   "source": [
    "from bs4 import BeautifulSoup\n",
    "import requests\n",
    "import pandas as pd"
   ]
  },
  {
   "cell_type": "code",
   "execution_count": 2,
   "metadata": {},
   "outputs": [],
   "source": [
    "# 1964 --> 1963/1964\n",
    "url = \"https://www.fussballdaten.de/bundesliga/1964/ewige-tabelle/\"\n",
    "site_1964 = requests.get(url)\n",
    "import re\n",
    "bs=BeautifulSoup(site_1964.content, \"lxml\")\n",
    "table_body=bs.find('tbody')\n",
    "rows = table_body.find_all('tr')\n",
    "teams = []\n",
    "points = []\n",
    "for row in rows[:]:\n",
    "    cols=row.find_all('td')\n",
    "    cols=[x.text.strip(' ') for x in cols]\n",
    "    # print(cols)\n",
    "    test_string = cols[1]\n",
    "    points.append(cols[-1])\n",
    "    team_string = re.split(r'Bundesliga|2. Bundesliga|3. Liga|Regionalliga West', test_string)\n",
    "    # print(team_string[0])\n",
    "    teams.append(team_string[0])\n",
    "\n",
    "lst_club_name = []\n",
    "ls_city_name = []\n",
    "for team in teams:\n",
    "    # Find the index of the city name without the club name\n",
    "    for i in range(len(team)-1, -1, -1):\n",
    "        if team[i].isupper() and team[i+1:].lower() == team[i+1:]:\n",
    "            city_index = i\n",
    "            break\n",
    "    else:\n",
    "        # If no match is found, skip this team\n",
    "        continue\n",
    "\n",
    "    # Get the club name and format it\n",
    "    club_name_tmp = team[:city_index].replace(\".\", \". \").strip()\n",
    "    city_name_tmp = team[city_index:].strip()\n",
    "    if club_name_tmp == \"TSV 1860 MünchenTS\":\n",
    "        club_name_tmp = \"TSV 1860 München\"\n",
    "        city_name_tmp = \"TSV 1860\"\n",
    "    if club_name_tmp == \"Hertha BSCHertha BS\":\n",
    "        club_name_tmp = \"Hertha BSC\"\n",
    "        city_name_tmp = \"Hertha BSC\"\n",
    "        \n",
    "    lst_club_name.append(club_name_tmp)\n",
    "    ls_city_name.append(city_name_tmp)\n",
    "\n",
    "#     split_string2 = split_string1[0].split('Frankfurt')\n",
    "# #\n",
    "#     # print(test_string)\n",
    "#     # print(split_string1)\n",
    "#     print(type(split_string1[0]))\n",
    "#     print(split_string2)"
   ]
  },
  {
   "cell_type": "code",
   "execution_count": 8,
   "metadata": {},
   "outputs": [
    {
     "data": {
      "text/plain": [
       "['1.  FC Köln',\n",
       " 'Eintracht Frankfurt',\n",
       " 'MSV Duisburg',\n",
       " 'Borussia Dortmund',\n",
       " 'VfB Stuttgart',\n",
       " 'Hamburger SV',\n",
       " 'TSV 1860 München',\n",
       " 'FC Schalke 04',\n",
       " '1.  FC Nürnberg',\n",
       " 'Eintracht Braunschweig',\n",
       " 'SV Werder Bremen',\n",
       " '1.  FC Kaiserslautern',\n",
       " 'Hertha BSC',\n",
       " 'Karlsruher SC',\n",
       " 'Preußen Münster',\n",
       " '1.  FC Saarbrücken']"
      ]
     },
     "execution_count": 8,
     "metadata": {},
     "output_type": "execute_result"
    }
   ],
   "source": [
    "lst_club_name"
   ]
  },
  {
   "cell_type": "code",
   "execution_count": 36,
   "metadata": {},
   "outputs": [],
   "source": [
    "# 1965 --> 1964/1965\n",
    "url = \"https://www.fussballdaten.de/bundesliga/1965/ewige-tabelle/\"\n",
    "site_1965 = requests.get(url)\n",
    "import re\n",
    "bs=BeautifulSoup(site_1965.content, \"lxml\")\n",
    "table_body_1965=bs.find('tbody')\n",
    "rows_1965 = table_body_1965.find_all('tr')\n",
    "teams_1965 = []\n",
    "points_1965 = []\n",
    "for row_1965 in rows_1965[:]:\n",
    "    cols_1965=row_1965.find_all('td')\n",
    "    cols_1965=[x.text.strip(' ') for x in cols]\n",
    "    # print(cols)\n",
    "    test_string = cols_1965[1]\n",
    "    points_1965.append(cols_1965[-1])\n",
    "    team_string_1965 = re.split(r'Bundesliga|2. Bundesliga|3. Liga|Regionalliga West', test_string)\n",
    "    # print(team_string[0])\n",
    "    teams_1965.append(team_string_1965[0])\n",
    "\n",
    "lst_club_name_1965 = []\n",
    "ls_city_name_1965 = []\n",
    "for team in team_string_1965:\n",
    "    # Find the index of the city name without the club name\n",
    "    for i in range(len(team)-1, -1, -1):\n",
    "        if team[i].isupper() and team[i+1:].lower() == team[i+1:]:\n",
    "            city_index = i\n",
    "            break\n",
    "    else:\n",
    "        # If no match is found, skip this team\n",
    "        continue\n",
    "\n",
    "    # Get the club name and format it\n",
    "    club_name_tmp = team[:city_index].replace(\".\", \". \").strip()\n",
    "    city_name_tmp = team[city_index:].strip()\n",
    "    if club_name_tmp == \"TSV 1860 MünchenTS\":\n",
    "        club_name_tmp = \"TSV 1860 München\"\n",
    "        city_name_tmp = \"TSV 1860\"\n",
    "    if club_name_tmp == \"Hertha BSCHertha BS\":\n",
    "        club_name_tmp = \"Hertha BSC\"\n",
    "        city_name_tmp = \"Hertha BSC\"\n",
    "        \n",
    "    lst_club_name_1965.append(club_name_tmp)\n",
    "    ls_city_name_1965.append(city_name_tmp)"
   ]
  },
  {
   "cell_type": "code",
   "execution_count": 18,
   "metadata": {},
   "outputs": [],
   "source": [
    "df_eternal_table = pd.DataFrame(columns=lst_club_name)\n",
    "# df_eternal_table.columns(lst_club_name)\n"
   ]
  },
  {
   "cell_type": "code",
   "execution_count": 20,
   "metadata": {},
   "outputs": [],
   "source": [
    "df_eternal_table.loc[\"1964\", :] = list(points)"
   ]
  },
  {
   "cell_type": "code",
   "execution_count": 21,
   "metadata": {},
   "outputs": [
    {
     "data": {
      "text/html": [
       "<div>\n",
       "<style scoped>\n",
       "    .dataframe tbody tr th:only-of-type {\n",
       "        vertical-align: middle;\n",
       "    }\n",
       "\n",
       "    .dataframe tbody tr th {\n",
       "        vertical-align: top;\n",
       "    }\n",
       "\n",
       "    .dataframe thead th {\n",
       "        text-align: right;\n",
       "    }\n",
       "</style>\n",
       "<table border=\"1\" class=\"dataframe\">\n",
       "  <thead>\n",
       "    <tr style=\"text-align: right;\">\n",
       "      <th></th>\n",
       "      <th>1.  FC Köln</th>\n",
       "      <th>Eintracht Frankfurt</th>\n",
       "      <th>MSV Duisburg</th>\n",
       "      <th>Borussia Dortmund</th>\n",
       "      <th>VfB Stuttgart</th>\n",
       "      <th>Hamburger SV</th>\n",
       "      <th>TSV 1860 München</th>\n",
       "      <th>FC Schalke 04</th>\n",
       "      <th>1.  FC Nürnberg</th>\n",
       "      <th>Eintracht Braunschweig</th>\n",
       "      <th>SV Werder Bremen</th>\n",
       "      <th>1.  FC Kaiserslautern</th>\n",
       "      <th>Hertha BSC</th>\n",
       "      <th>Karlsruher SC</th>\n",
       "      <th>Preußen Münster</th>\n",
       "      <th>1.  FC Saarbrücken</th>\n",
       "    </tr>\n",
       "  </thead>\n",
       "  <tbody>\n",
       "    <tr>\n",
       "      <th>1964</th>\n",
       "      <td>62</td>\n",
       "      <td>55</td>\n",
       "      <td>52</td>\n",
       "      <td>47</td>\n",
       "      <td>46</td>\n",
       "      <td>43</td>\n",
       "      <td>42</td>\n",
       "      <td>41</td>\n",
       "      <td>40</td>\n",
       "      <td>39</td>\n",
       "      <td>38</td>\n",
       "      <td>36</td>\n",
       "      <td>33</td>\n",
       "      <td>32</td>\n",
       "      <td>30</td>\n",
       "      <td>23</td>\n",
       "    </tr>\n",
       "  </tbody>\n",
       "</table>\n",
       "</div>"
      ],
      "text/plain": [
       "     1.  FC Köln Eintracht Frankfurt MSV Duisburg Borussia Dortmund  \\\n",
       "1964          62                  55           52                47   \n",
       "\n",
       "     VfB Stuttgart Hamburger SV TSV 1860 München FC Schalke 04  \\\n",
       "1964            46           43               42            41   \n",
       "\n",
       "     1.  FC Nürnberg Eintracht Braunschweig SV Werder Bremen  \\\n",
       "1964              40                     39               38   \n",
       "\n",
       "     1.  FC Kaiserslautern Hertha BSC Karlsruher SC Preußen Münster  \\\n",
       "1964                    36         33            32              30   \n",
       "\n",
       "     1.  FC Saarbrücken  \n",
       "1964                 23  "
      ]
     },
     "execution_count": 21,
     "metadata": {},
     "output_type": "execute_result"
    }
   ],
   "source": [
    "df_eternal_table"
   ]
  },
  {
   "cell_type": "code",
   "execution_count": 31,
   "metadata": {},
   "outputs": [],
   "source": [
    "import pandas as pd\n",
    "\n",
    "df1 = pd.DataFrame({\"Köln\": [62, 114], \"Frankfurt\": [55, 95], \"Duisburg\": [52, 96]})\n",
    "df2 = pd.DataFrame({\"Köln\": [1, 3], \"Dortmund\": [50, 98], \"Münster\": [29, 30]})\n"
   ]
  },
  {
   "cell_type": "code",
   "execution_count": 32,
   "metadata": {},
   "outputs": [
    {
     "data": {
      "text/html": [
       "<div>\n",
       "<style scoped>\n",
       "    .dataframe tbody tr th:only-of-type {\n",
       "        vertical-align: middle;\n",
       "    }\n",
       "\n",
       "    .dataframe tbody tr th {\n",
       "        vertical-align: top;\n",
       "    }\n",
       "\n",
       "    .dataframe thead th {\n",
       "        text-align: right;\n",
       "    }\n",
       "</style>\n",
       "<table border=\"1\" class=\"dataframe\">\n",
       "  <thead>\n",
       "    <tr style=\"text-align: right;\">\n",
       "      <th></th>\n",
       "      <th>Köln</th>\n",
       "      <th>Frankfurt</th>\n",
       "      <th>Duisburg</th>\n",
       "    </tr>\n",
       "  </thead>\n",
       "  <tbody>\n",
       "    <tr>\n",
       "      <th>0</th>\n",
       "      <td>62</td>\n",
       "      <td>55</td>\n",
       "      <td>52</td>\n",
       "    </tr>\n",
       "    <tr>\n",
       "      <th>1</th>\n",
       "      <td>114</td>\n",
       "      <td>95</td>\n",
       "      <td>96</td>\n",
       "    </tr>\n",
       "  </tbody>\n",
       "</table>\n",
       "</div>"
      ],
      "text/plain": [
       "   Köln  Frankfurt  Duisburg\n",
       "0    62         55        52\n",
       "1   114         95        96"
      ]
     },
     "execution_count": 32,
     "metadata": {},
     "output_type": "execute_result"
    }
   ],
   "source": [
    "df1"
   ]
  },
  {
   "cell_type": "code",
   "execution_count": 33,
   "metadata": {},
   "outputs": [
    {
     "data": {
      "text/html": [
       "<div>\n",
       "<style scoped>\n",
       "    .dataframe tbody tr th:only-of-type {\n",
       "        vertical-align: middle;\n",
       "    }\n",
       "\n",
       "    .dataframe tbody tr th {\n",
       "        vertical-align: top;\n",
       "    }\n",
       "\n",
       "    .dataframe thead th {\n",
       "        text-align: right;\n",
       "    }\n",
       "</style>\n",
       "<table border=\"1\" class=\"dataframe\">\n",
       "  <thead>\n",
       "    <tr style=\"text-align: right;\">\n",
       "      <th></th>\n",
       "      <th>Köln</th>\n",
       "      <th>Dortmund</th>\n",
       "      <th>Münster</th>\n",
       "    </tr>\n",
       "  </thead>\n",
       "  <tbody>\n",
       "    <tr>\n",
       "      <th>0</th>\n",
       "      <td>1</td>\n",
       "      <td>50</td>\n",
       "      <td>29</td>\n",
       "    </tr>\n",
       "    <tr>\n",
       "      <th>1</th>\n",
       "      <td>3</td>\n",
       "      <td>98</td>\n",
       "      <td>30</td>\n",
       "    </tr>\n",
       "  </tbody>\n",
       "</table>\n",
       "</div>"
      ],
      "text/plain": [
       "   Köln  Dortmund  Münster\n",
       "0     1        50       29\n",
       "1     3        98       30"
      ]
     },
     "execution_count": 33,
     "metadata": {},
     "output_type": "execute_result"
    }
   ],
   "source": [
    "df2"
   ]
  },
  {
   "cell_type": "code",
   "execution_count": 34,
   "metadata": {},
   "outputs": [
    {
     "name": "stderr",
     "output_type": "stream",
     "text": [
      "/var/folders/z2/_gyyb63x4pv6zvl1bd53ryg00000gn/T/ipykernel_63128/3559124262.py:1: FutureWarning: The frame.append method is deprecated and will be removed from pandas in a future version. Use pandas.concat instead.\n",
      "  df3 = df1.append(df2)\n"
     ]
    }
   ],
   "source": [
    "df3 = df1.append(df2)"
   ]
  },
  {
   "cell_type": "code",
   "execution_count": 35,
   "metadata": {},
   "outputs": [
    {
     "data": {
      "text/html": [
       "<div>\n",
       "<style scoped>\n",
       "    .dataframe tbody tr th:only-of-type {\n",
       "        vertical-align: middle;\n",
       "    }\n",
       "\n",
       "    .dataframe tbody tr th {\n",
       "        vertical-align: top;\n",
       "    }\n",
       "\n",
       "    .dataframe thead th {\n",
       "        text-align: right;\n",
       "    }\n",
       "</style>\n",
       "<table border=\"1\" class=\"dataframe\">\n",
       "  <thead>\n",
       "    <tr style=\"text-align: right;\">\n",
       "      <th></th>\n",
       "      <th>Köln</th>\n",
       "      <th>Frankfurt</th>\n",
       "      <th>Duisburg</th>\n",
       "      <th>Dortmund</th>\n",
       "      <th>Münster</th>\n",
       "    </tr>\n",
       "  </thead>\n",
       "  <tbody>\n",
       "    <tr>\n",
       "      <th>0</th>\n",
       "      <td>62</td>\n",
       "      <td>55.0</td>\n",
       "      <td>52.0</td>\n",
       "      <td>NaN</td>\n",
       "      <td>NaN</td>\n",
       "    </tr>\n",
       "    <tr>\n",
       "      <th>1</th>\n",
       "      <td>114</td>\n",
       "      <td>95.0</td>\n",
       "      <td>96.0</td>\n",
       "      <td>NaN</td>\n",
       "      <td>NaN</td>\n",
       "    </tr>\n",
       "    <tr>\n",
       "      <th>0</th>\n",
       "      <td>1</td>\n",
       "      <td>NaN</td>\n",
       "      <td>NaN</td>\n",
       "      <td>50.0</td>\n",
       "      <td>29.0</td>\n",
       "    </tr>\n",
       "    <tr>\n",
       "      <th>1</th>\n",
       "      <td>3</td>\n",
       "      <td>NaN</td>\n",
       "      <td>NaN</td>\n",
       "      <td>98.0</td>\n",
       "      <td>30.0</td>\n",
       "    </tr>\n",
       "  </tbody>\n",
       "</table>\n",
       "</div>"
      ],
      "text/plain": [
       "   Köln  Frankfurt  Duisburg  Dortmund  Münster\n",
       "0    62       55.0      52.0       NaN      NaN\n",
       "1   114       95.0      96.0       NaN      NaN\n",
       "0     1        NaN       NaN      50.0     29.0\n",
       "1     3        NaN       NaN      98.0     30.0"
      ]
     },
     "execution_count": 35,
     "metadata": {},
     "output_type": "execute_result"
    }
   ],
   "source": [
    "df3"
   ]
  },
  {
   "cell_type": "code",
   "execution_count": null,
   "metadata": {},
   "outputs": [],
   "source": []
  },
  {
   "cell_type": "code",
   "execution_count": null,
   "metadata": {},
   "outputs": [],
   "source": []
  },
  {
   "cell_type": "code",
   "execution_count": null,
   "metadata": {},
   "outputs": [],
   "source": []
  },
  {
   "cell_type": "code",
   "execution_count": null,
   "metadata": {},
   "outputs": [],
   "source": [
    "\n",
    "for team in teams:\n",
    "    # Find the index of the city name without the club name\n",
    "    for i in range(len(team)-1, -1, -1):\n",
    "        if team[i].isupper() and team[i+1:].lower() == team[i+1:]:\n",
    "            city_index = i\n",
    "            break\n",
    "    else:\n",
    "        # If no match is found, skip this team\n",
    "        continue\n",
    "\n",
    "    # Get the club name and format it\n",
    "    club_name = team[:city_index].replace(\".\", \". \").strip()\n",
    "    city_name = team[city_index:].strip()\n",
    "    if club_name == \"TSV 1860 MünchenTS\":\n",
    "        club_name = \"TSV 1860 München\"\n",
    "        city_name = \"TSV 1860\"\n",
    "    if club_name == \"Hertha BSCHertha BS\":\n",
    "        club_name = \"Hertha BSC\"\n",
    "        city_name = \"Hertha BSC\"\n",
    "    # if \"TSV 1860\" in club_name:\n",
    "    #     print('clubb_name: ', club_name)\n",
    "    # #     tsv_string = \"TSV 1860 MünchenTSV 1860\"\n",
    "    # #     str_1 = tsv_string.split(\"München\")[0]\n",
    "    # #     # str_2 = tsv_string.split(\"München\")#1]\n",
    "    # #     club_name = \"München\".join(str_1)\n",
    "    # #     # print('clubb_name: ', club_name)\n",
    "    # # # Get the city name and format it\n",
    "    \n",
    "\n",
    "    print('club_name: ', club_name)\n",
    "    print('city_name: ', city_name)\n",
    "    # Get the club name and format it\n",
    "    # Get the club name and format it\n",
    "    # if \"TSV 1860\" in team[city_index-10:city_index+1]:\n",
    "    #     club_name = team[:city_index-10].replace(\".\", \". \").strip() + \" \" + \"TSV 1860\"\n",
    "    #     city_name = team[city_index:].strip()\n",
    "    # elif \"Hertha BSC\" in team[city_index-9:city_index+1]:\n",
    "    #     club_name = team[:city_index-9].replace(\".\", \". \").strip() + \" \" + \"Hertha BSC\"\n",
    "    #     city_name = team[city_index:].strip()\n",
    "    # else:\n",
    "    #     club_name = team[:city_index].replace(\".\", \". \").strip()\n",
    "    #     city_name = team[city_index:].strip()\n",
    "\n",
    "    # club_name = team[:city_index].replace(\".\", \". \").strip()\n",
    "\n",
    "    # # Get the city name and format it\n",
    "    # city_name = team[city_index:].strip()\n",
    "\n",
    " "
   ]
  },
  {
   "cell_type": "code",
   "execution_count": null,
   "metadata": {},
   "outputs": [],
   "source": [
    "tsv_string = \"TSV 1860 MünchenTSV 1860\"\n",
    "str_1 = tsv_string.split(\"München\")#[0]\n",
    "str_2 = tsv_string.split(\"München\")#1]\n",
    "print(str_1)\n",
    "print(str_2)"
   ]
  },
  {
   "cell_type": "code",
   "execution_count": null,
   "metadata": {},
   "outputs": [],
   "source": []
  },
  {
   "cell_type": "code",
   "execution_count": null,
   "metadata": {},
   "outputs": [],
   "source": []
  },
  {
   "cell_type": "code",
   "execution_count": null,
   "metadata": {},
   "outputs": [],
   "source": [
    "teams = [\"1.FC KölnKöln\", \"Werder BremenBremen\", \"Eintracht BraunschweigBraunschweig\", \"TSV 1860 MünchenTSV 1860\", \"Hertha BSCHertha BSC\"]\n",
    "\n",
    "for team in teams:\n",
    "    # Find the index of the city name without the club name\n",
    "    for i in range(len(team)-1, -1, -1):\n",
    "        if team[i].isupper() and team[i+1:].lower() == team[i+1:]:\n",
    "            city_index = i\n",
    "            break\n",
    "    else:\n",
    "        # If no match is found, skip this team\n",
    "        continue\n",
    "\n",
    "    # Get the club name and format it\n",
    "    if \"München\" in team[city_index-7:city_index+1]:\n",
    "        club_name = team[:city_index-7].replace(\".\", \". \").strip() + \" München\"\n",
    "        city_name = \"TSV 1860\"\n",
    "    else:\n",
    "        club_name = team[:city_index].replace(\".\", \". \").strip()\n",
    "        city_name = team[city_index:].strip()\n",
    "\n",
    "    print(club_name)\n",
    "    print(city_name)"
   ]
  },
  {
   "cell_type": "code",
   "execution_count": null,
   "metadata": {},
   "outputs": [],
   "source": [
    "cols[1].split(\"Bundesliga\")"
   ]
  },
  {
   "cell_type": "code",
   "execution_count": null,
   "metadata": {},
   "outputs": [],
   "source": [
    "s = \"1.FC KölnKöln\"\n",
    "index = s.find(\"Köln\")\n",
    "if index != -1:\n",
    "  team_name = s[index:]\n",
    "  s = s[:index].strip()\n",
    "else:\n",
    "  team_name = \"\"\n",
    "s = s.replace(\".\", \". \").strip()\n",
    "\n",
    "print(s)  # \"1. FC Köln\"\n",
    "print(team_name)  # \"Köln\"\n",
    "\n",
    "\n"
   ]
  },
  {
   "cell_type": "code",
   "execution_count": null,
   "metadata": {},
   "outputs": [],
   "source": [
    "s = \"1.FC KölnKöln\"\n",
    "team_name = \"\"\n",
    "\n",
    "# Find the index of \"Köln\"\n",
    "index = s.find(\"Köln\")\n",
    "\n",
    "# If \"Köln\" is found, split the string\n",
    "if index != -1:\n",
    "    team_name = s[index+len(\"Köln\"):].strip()  # Get the team name\n",
    "    s = s[:index]  # Get the club name\n",
    "    s = s.replace(\".\", \". \").strip()  # Format the club name\n",
    "\n",
    "print(s)  # \"1. FC Köln\"\n",
    "print(team_name)  # \"Köln\"\n",
    "\n",
    "\n",
    "\n",
    "\n"
   ]
  },
  {
   "cell_type": "code",
   "execution_count": null,
   "metadata": {},
   "outputs": [],
   "source": [
    "test_string = \"1. FC KölnKölnBundesliga\"\n"
   ]
  },
  {
   "cell_type": "code",
   "execution_count": null,
   "metadata": {},
   "outputs": [],
   "source": [
    "import re"
   ]
  },
  {
   "cell_type": "code",
   "execution_count": null,
   "metadata": {},
   "outputs": [],
   "source": [
    "splt_string = re.split(r'Bundesliga|2.Bundesliga|3. Liga', test_string)"
   ]
  },
  {
   "cell_type": "code",
   "execution_count": null,
   "metadata": {},
   "outputs": [],
   "source": [
    "splt_string"
   ]
  },
  {
   "cell_type": "code",
   "execution_count": null,
   "metadata": {},
   "outputs": [],
   "source": []
  }
 ],
 "metadata": {
  "kernelspec": {
   "display_name": "pyside2_dev",
   "language": "python",
   "name": "python3"
  },
  "language_info": {
   "codemirror_mode": {
    "name": "ipython",
    "version": 3
   },
   "file_extension": ".py",
   "mimetype": "text/x-python",
   "name": "python",
   "nbconvert_exporter": "python",
   "pygments_lexer": "ipython3",
   "version": "3.10.6"
  },
  "orig_nbformat": 4
 },
 "nbformat": 4,
 "nbformat_minor": 2
}
