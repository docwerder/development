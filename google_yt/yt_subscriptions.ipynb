{
 "cells": [
  {
   "cell_type": "code",
   "execution_count": 1,
   "id": "5dcf31d7",
   "metadata": {},
   "outputs": [],
   "source": [
    "yt_file_1 = 'YT_sub_01.txt'\n",
    "yt_file_2 = 'YT_sub_02.txt'\n",
    "\n",
    "import pandas as pd\n",
    "datei = open(yt_file_1,'r').readlines()\n",
    "yt_db = []\n",
    "\n",
    "for zeile in datei[:]:\n",
    "    yt_db.append(zeile.split('https://')[1].split('\\n'))\n",
    "\n",
    "flat_list_tmp = [item for sublist in yt_db for item in sublist]\n",
    "yt_db_tmp = flat_list_tmp[::2]\n"
   ]
  },
  {
   "cell_type": "code",
   "execution_count": 2,
   "id": "6b39e702",
   "metadata": {},
   "outputs": [],
   "source": [
    "import pandas\n",
    "df = pandas.DataFrame(data={\"sub1\": yt_db_tmp})\n",
    "df.to_csv(\"yt_db_01.csv\", sep=',',index=False)\n"
   ]
  },
  {
   "cell_type": "code",
   "execution_count": null,
   "id": "361fa04f",
   "metadata": {},
   "outputs": [],
   "source": [
    "df"
   ]
  },
  {
   "cell_type": "code",
   "execution_count": null,
   "id": "d7db4c94",
   "metadata": {},
   "outputs": [],
   "source": []
  }
 ],
 "metadata": {
  "kernelspec": {
   "display_name": "python38_jl30",
   "language": "python",
   "name": "python38_jl30"
  },
  "language_info": {
   "codemirror_mode": {
    "name": "ipython",
    "version": 3
   },
   "file_extension": ".py",
   "mimetype": "text/x-python",
   "name": "python",
   "nbconvert_exporter": "python",
   "pygments_lexer": "ipython3",
   "version": "3.10.4"
  }
 },
 "nbformat": 4,
 "nbformat_minor": 5
}
