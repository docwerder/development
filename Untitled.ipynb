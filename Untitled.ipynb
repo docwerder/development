{
 "cells": [
  {
   "cell_type": "code",
   "execution_count": 1,
   "id": "f88bd8d3-7277-4748-9a4e-5a5004405e78",
   "metadata": {},
   "outputs": [
    {
     "data": {
      "text/html": [
       "<style>.container {width:90% !important; }</style>"
      ],
      "text/plain": [
       "<IPython.core.display.HTML object>"
      ]
     },
     "metadata": {},
     "output_type": "display_data"
    }
   ],
   "source": [
    "import pandas as pd\n",
    "import math\n",
    "import sys\n",
    "#from IPython.core.display import display, HTML\n",
    "#from IPython display\n",
    "from IPython.display import display, HTML\n",
    "display(HTML(\"<style>.container {width:90% !important; }</style>\"))\n",
    "sys.path.append('/Users/joerg/repos/braz')\n",
    "from utilities_functions import scan_func\n",
    "# To run all commands within one cell:\n",
    "from IPython.core.interactiveshell import InteractiveShell\n",
    "InteractiveShell.ast_node_interactivity = \"all\"\n",
    "from collections import Counter\n",
    "# default behaviour:\n",
    "# InteractiveShell.ast_node_interactivity = \"last_expr\""
   ]
  },
  {
   "cell_type": "code",
   "execution_count": null,
   "id": "eea359f5-6a24-4b0e-b09e-b4800c8f0869",
   "metadata": {},
   "outputs": [],
   "source": []
  }
 ],
 "metadata": {
  "kernelspec": {
   "display_name": "python38_jl30",
   "language": "python",
   "name": "python38_jl30"
  },
  "language_info": {
   "codemirror_mode": {
    "name": "ipython",
    "version": 3
   },
   "file_extension": ".py",
   "mimetype": "text/x-python",
   "name": "python",
   "nbconvert_exporter": "python",
   "pygments_lexer": "ipython3",
   "version": "3.10.4"
  }
 },
 "nbformat": 4,
 "nbformat_minor": 5
}
