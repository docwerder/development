{
 "cells": [
  {
   "cell_type": "markdown",
   "id": "e6693191",
   "metadata": {},
   "source": [
    "## Changing Theme"
   ]
  },
  {
   "cell_type": "markdown",
   "id": "4ea9d307",
   "metadata": {},
   "source": [
    "see in which environment jupyter notebook is executed."
   ]
  },
  {
   "cell_type": "code",
   "execution_count": 1,
   "id": "d8021ae1",
   "metadata": {},
   "outputs": [
    {
     "name": "stdout",
     "output_type": "stream",
     "text": [
      "/Users/joerg/opt/anaconda3/envs/python38/bin/python\n"
     ]
    }
   ],
   "source": [
    "import sys\n",
    "print(sys.executable)"
   ]
  },
  {
   "cell_type": "markdown",
   "id": "da6dd11e",
   "metadata": {},
   "source": [
    "command for installing the themes."
   ]
  },
  {
   "cell_type": "code",
   "execution_count": 2,
   "id": "bf5fd02c",
   "metadata": {},
   "outputs": [
    {
     "data": {
      "text/plain": [
       "['Collecting jupyterthemes',\n",
       " '  Downloading jupyterthemes-0.20.0-py2.py3-none-any.whl (7.0 MB)',\n",
       " 'Requirement already satisfied: notebook>=5.6.0 in /Users/joerg/opt/anaconda3/envs/python38/lib/python3.8/site-packages (from jupyterthemes) (6.3.0)',\n",
       " 'Requirement already satisfied: matplotlib>=1.4.3 in /Users/joerg/opt/anaconda3/envs/python38/lib/python3.8/site-packages (from jupyterthemes) (3.3.4)',\n",
       " 'Requirement already satisfied: ipython>=5.4.1 in /Users/joerg/opt/anaconda3/envs/python38/lib/python3.8/site-packages (from jupyterthemes) (7.22.0)',\n",
       " 'Requirement already satisfied: jupyter-core in /Users/joerg/opt/anaconda3/envs/python38/lib/python3.8/site-packages (from jupyterthemes) (4.7.1)',\n",
       " 'Collecting lesscpy>=0.11.2',\n",
       " '  Downloading lesscpy-0.15.0-py2.py3-none-any.whl (46 kB)',\n",
       " 'Requirement already satisfied: prompt-toolkit!=3.0.0,!=3.0.1,<3.1.0,>=2.0.0 in /Users/joerg/opt/anaconda3/envs/python38/lib/python3.8/site-packages (from ipython>=5.4.1->jupyterthemes) (3.0.17)',\n",
       " 'Requirement already satisfied: pexpect>4.3 in /Users/joerg/opt/anaconda3/envs/python38/lib/python3.8/site-packages (from ipython>=5.4.1->jupyterthemes) (4.8.0)',\n",
       " 'Requirement already satisfied: traitlets>=4.2 in /Users/joerg/opt/anaconda3/envs/python38/lib/python3.8/site-packages (from ipython>=5.4.1->jupyterthemes) (5.0.5)',\n",
       " 'Requirement already satisfied: pygments in /Users/joerg/opt/anaconda3/envs/python38/lib/python3.8/site-packages (from ipython>=5.4.1->jupyterthemes) (2.8.1)',\n",
       " 'Requirement already satisfied: pickleshare in /Users/joerg/opt/anaconda3/envs/python38/lib/python3.8/site-packages (from ipython>=5.4.1->jupyterthemes) (0.7.5)',\n",
       " 'Requirement already satisfied: setuptools>=18.5 in /Users/joerg/opt/anaconda3/envs/python38/lib/python3.8/site-packages (from ipython>=5.4.1->jupyterthemes) (52.0.0.post20210125)',\n",
       " 'Requirement already satisfied: appnope in /Users/joerg/opt/anaconda3/envs/python38/lib/python3.8/site-packages (from ipython>=5.4.1->jupyterthemes) (0.1.2)',\n",
       " 'Requirement already satisfied: backcall in /Users/joerg/opt/anaconda3/envs/python38/lib/python3.8/site-packages (from ipython>=5.4.1->jupyterthemes) (0.2.0)',\n",
       " 'Requirement already satisfied: jedi>=0.16 in /Users/joerg/opt/anaconda3/envs/python38/lib/python3.8/site-packages (from ipython>=5.4.1->jupyterthemes) (0.17.1)',\n",
       " 'Requirement already satisfied: decorator in /Users/joerg/opt/anaconda3/envs/python38/lib/python3.8/site-packages (from ipython>=5.4.1->jupyterthemes) (4.4.2)',\n",
       " 'Requirement already satisfied: parso<0.8.0,>=0.7.0 in /Users/joerg/opt/anaconda3/envs/python38/lib/python3.8/site-packages (from jedi>=0.16->ipython>=5.4.1->jupyterthemes) (0.7.0)',\n",
       " 'Requirement already satisfied: six in /Users/joerg/opt/anaconda3/envs/python38/lib/python3.8/site-packages (from lesscpy>=0.11.2->jupyterthemes) (1.15.0)',\n",
       " 'Requirement already satisfied: ply in /Users/joerg/opt/anaconda3/envs/python38/lib/python3.8/site-packages (from lesscpy>=0.11.2->jupyterthemes) (3.11)',\n",
       " 'Requirement already satisfied: pillow>=6.2.0 in /Users/joerg/opt/anaconda3/envs/python38/lib/python3.8/site-packages (from matplotlib>=1.4.3->jupyterthemes) (8.2.0)',\n",
       " 'Requirement already satisfied: pyparsing!=2.0.4,!=2.1.2,!=2.1.6,>=2.0.3 in /Users/joerg/opt/anaconda3/envs/python38/lib/python3.8/site-packages (from matplotlib>=1.4.3->jupyterthemes) (2.4.7)',\n",
       " 'Requirement already satisfied: numpy>=1.15 in /Users/joerg/opt/anaconda3/envs/python38/lib/python3.8/site-packages (from matplotlib>=1.4.3->jupyterthemes) (1.19.2)',\n",
       " 'Requirement already satisfied: cycler>=0.10 in /Users/joerg/opt/anaconda3/envs/python38/lib/python3.8/site-packages (from matplotlib>=1.4.3->jupyterthemes) (0.10.0)',\n",
       " 'Requirement already satisfied: python-dateutil>=2.1 in /Users/joerg/opt/anaconda3/envs/python38/lib/python3.8/site-packages (from matplotlib>=1.4.3->jupyterthemes) (2.8.1)',\n",
       " 'Requirement already satisfied: kiwisolver>=1.0.1 in /Users/joerg/opt/anaconda3/envs/python38/lib/python3.8/site-packages (from matplotlib>=1.4.3->jupyterthemes) (1.3.1)',\n",
       " 'Requirement already satisfied: argon2-cffi in /Users/joerg/opt/anaconda3/envs/python38/lib/python3.8/site-packages (from notebook>=5.6.0->jupyterthemes) (20.1.0)',\n",
       " 'Requirement already satisfied: terminado>=0.8.3 in /Users/joerg/opt/anaconda3/envs/python38/lib/python3.8/site-packages (from notebook>=5.6.0->jupyterthemes) (0.9.4)',\n",
       " 'Requirement already satisfied: Send2Trash>=1.5.0 in /Users/joerg/opt/anaconda3/envs/python38/lib/python3.8/site-packages (from notebook>=5.6.0->jupyterthemes) (1.5.0)',\n",
       " 'Requirement already satisfied: ipykernel in /Users/joerg/opt/anaconda3/envs/python38/lib/python3.8/site-packages (from notebook>=5.6.0->jupyterthemes) (5.3.4)',\n",
       " 'Requirement already satisfied: prometheus-client in /Users/joerg/opt/anaconda3/envs/python38/lib/python3.8/site-packages (from notebook>=5.6.0->jupyterthemes) (0.10.1)',\n",
       " 'Requirement already satisfied: jinja2 in /Users/joerg/opt/anaconda3/envs/python38/lib/python3.8/site-packages (from notebook>=5.6.0->jupyterthemes) (2.11.3)',\n",
       " 'Requirement already satisfied: jupyter-client>=5.3.4 in /Users/joerg/opt/anaconda3/envs/python38/lib/python3.8/site-packages (from notebook>=5.6.0->jupyterthemes) (6.1.12)',\n",
       " 'Requirement already satisfied: nbformat in /Users/joerg/opt/anaconda3/envs/python38/lib/python3.8/site-packages (from notebook>=5.6.0->jupyterthemes) (5.1.3)',\n",
       " 'Requirement already satisfied: pyzmq>=17 in /Users/joerg/opt/anaconda3/envs/python38/lib/python3.8/site-packages (from notebook>=5.6.0->jupyterthemes) (20.0.0)',\n",
       " 'Requirement already satisfied: ipython-genutils in /Users/joerg/opt/anaconda3/envs/python38/lib/python3.8/site-packages (from notebook>=5.6.0->jupyterthemes) (0.2.0)',\n",
       " 'Requirement already satisfied: nbconvert in /Users/joerg/opt/anaconda3/envs/python38/lib/python3.8/site-packages (from notebook>=5.6.0->jupyterthemes) (6.0.7)',\n",
       " 'Requirement already satisfied: tornado>=6.1 in /Users/joerg/opt/anaconda3/envs/python38/lib/python3.8/site-packages (from notebook>=5.6.0->jupyterthemes) (6.1)',\n",
       " 'Requirement already satisfied: ptyprocess>=0.5 in /Users/joerg/opt/anaconda3/envs/python38/lib/python3.8/site-packages (from pexpect>4.3->ipython>=5.4.1->jupyterthemes) (0.7.0)',\n",
       " 'Requirement already satisfied: wcwidth in /Users/joerg/opt/anaconda3/envs/python38/lib/python3.8/site-packages (from prompt-toolkit!=3.0.0,!=3.0.1,<3.1.0,>=2.0.0->ipython>=5.4.1->jupyterthemes) (0.2.5)',\n",
       " 'Requirement already satisfied: cffi>=1.0.0 in /Users/joerg/opt/anaconda3/envs/python38/lib/python3.8/site-packages (from argon2-cffi->notebook>=5.6.0->jupyterthemes) (1.14.5)',\n",
       " 'Requirement already satisfied: pycparser in /Users/joerg/opt/anaconda3/envs/python38/lib/python3.8/site-packages (from cffi>=1.0.0->argon2-cffi->notebook>=5.6.0->jupyterthemes) (2.20)',\n",
       " 'Requirement already satisfied: MarkupSafe>=0.23 in /Users/joerg/opt/anaconda3/envs/python38/lib/python3.8/site-packages (from jinja2->notebook>=5.6.0->jupyterthemes) (1.1.1)',\n",
       " 'Requirement already satisfied: defusedxml in /Users/joerg/opt/anaconda3/envs/python38/lib/python3.8/site-packages (from nbconvert->notebook>=5.6.0->jupyterthemes) (0.7.1)',\n",
       " 'Requirement already satisfied: pandocfilters>=1.4.1 in /Users/joerg/opt/anaconda3/envs/python38/lib/python3.8/site-packages (from nbconvert->notebook>=5.6.0->jupyterthemes) (1.4.3)',\n",
       " 'Requirement already satisfied: mistune<2,>=0.8.1 in /Users/joerg/opt/anaconda3/envs/python38/lib/python3.8/site-packages (from nbconvert->notebook>=5.6.0->jupyterthemes) (0.8.4)',\n",
       " 'Requirement already satisfied: nbclient<0.6.0,>=0.5.0 in /Users/joerg/opt/anaconda3/envs/python38/lib/python3.8/site-packages (from nbconvert->notebook>=5.6.0->jupyterthemes) (0.5.3)',\n",
       " 'Requirement already satisfied: bleach in /Users/joerg/opt/anaconda3/envs/python38/lib/python3.8/site-packages (from nbconvert->notebook>=5.6.0->jupyterthemes) (3.3.0)',\n",
       " 'Requirement already satisfied: testpath in /Users/joerg/opt/anaconda3/envs/python38/lib/python3.8/site-packages (from nbconvert->notebook>=5.6.0->jupyterthemes) (0.4.4)',\n",
       " 'Requirement already satisfied: entrypoints>=0.2.2 in /Users/joerg/opt/anaconda3/envs/python38/lib/python3.8/site-packages (from nbconvert->notebook>=5.6.0->jupyterthemes) (0.3)',\n",
       " 'Requirement already satisfied: jupyterlab-pygments in /Users/joerg/opt/anaconda3/envs/python38/lib/python3.8/site-packages (from nbconvert->notebook>=5.6.0->jupyterthemes) (0.1.2)',\n",
       " 'Requirement already satisfied: nest-asyncio in /Users/joerg/opt/anaconda3/envs/python38/lib/python3.8/site-packages (from nbclient<0.6.0,>=0.5.0->nbconvert->notebook>=5.6.0->jupyterthemes) (1.5.1)',\n",
       " 'Requirement already satisfied: async-generator in /Users/joerg/opt/anaconda3/envs/python38/lib/python3.8/site-packages (from nbclient<0.6.0,>=0.5.0->nbconvert->notebook>=5.6.0->jupyterthemes) (1.10)',\n",
       " 'Requirement already satisfied: jsonschema!=2.5.0,>=2.4 in /Users/joerg/opt/anaconda3/envs/python38/lib/python3.8/site-packages (from nbformat->notebook>=5.6.0->jupyterthemes) (3.2.0)',\n",
       " 'Requirement already satisfied: attrs>=17.4.0 in /Users/joerg/opt/anaconda3/envs/python38/lib/python3.8/site-packages (from jsonschema!=2.5.0,>=2.4->nbformat->notebook>=5.6.0->jupyterthemes) (20.3.0)',\n",
       " 'Requirement already satisfied: pyrsistent>=0.14.0 in /Users/joerg/opt/anaconda3/envs/python38/lib/python3.8/site-packages (from jsonschema!=2.5.0,>=2.4->nbformat->notebook>=5.6.0->jupyterthemes) (0.17.3)',\n",
       " 'Requirement already satisfied: packaging in /Users/joerg/opt/anaconda3/envs/python38/lib/python3.8/site-packages (from bleach->nbconvert->notebook>=5.6.0->jupyterthemes) (20.9)',\n",
       " 'Requirement already satisfied: webencodings in /Users/joerg/opt/anaconda3/envs/python38/lib/python3.8/site-packages (from bleach->nbconvert->notebook>=5.6.0->jupyterthemes) (0.5.1)',\n",
       " 'Installing collected packages: lesscpy, jupyterthemes',\n",
       " 'Successfully installed jupyterthemes-0.20.0 lesscpy-0.15.0']"
      ]
     },
     "execution_count": 2,
     "metadata": {},
     "output_type": "execute_result"
    }
   ],
   "source": [
    "!!pip install jupyterthemes"
   ]
  },
  {
   "cell_type": "markdown",
   "id": "46414b5a",
   "metadata": {},
   "source": [
    "list all the themes available."
   ]
  },
  {
   "cell_type": "code",
   "execution_count": 3,
   "id": "71e2c8bd",
   "metadata": {},
   "outputs": [
    {
     "name": "stdout",
     "output_type": "stream",
     "text": [
      "Available Themes: \r\n",
      "   chesterish\r\n",
      "   grade3\r\n",
      "   gruvboxd\r\n",
      "   gruvboxl\r\n",
      "   monokai\r\n",
      "   oceans16\r\n",
      "   onedork\r\n",
      "   solarizedd\r\n",
      "   solarizedl\r\n"
     ]
    }
   ],
   "source": [
    "!jt -"
   ]
  },
  {
   "cell_type": "markdown",
   "id": "fe06fc7e",
   "metadata": {},
   "source": [
    "set the desired theme..."
   ]
  },
  {
   "cell_type": "code",
   "execution_count": 3,
   "id": "b0ab2283",
   "metadata": {},
   "outputs": [],
   "source": [
    "!jt -t monokai  -T -N"
   ]
  },
  {
   "cell_type": "markdown",
   "id": "1282378b",
   "metadata": {},
   "source": [
    "Reset theme"
   ]
  },
  {
   "cell_type": "code",
   "execution_count": 1,
   "id": "1c823cf8",
   "metadata": {},
   "outputs": [
    {
     "name": "stdout",
     "output_type": "stream",
     "text": [
      "Reset css and font defaults in:\r\n",
      "/Users/joerg/.jupyter/custom &\r\n",
      "/Users/joerg/Library/Jupyter/nbextensions\r\n"
     ]
    }
   ],
   "source": [
    "!jt -r"
   ]
  },
  {
   "cell_type": "code",
   "execution_count": 4,
   "id": "6a3b38bf",
   "metadata": {},
   "outputs": [
    {
     "name": "stdout",
     "output_type": "stream",
     "text": [
      "hallo\n"
     ]
    }
   ],
   "source": [
    "print('hallo')"
   ]
  },
  {
   "cell_type": "code",
   "execution_count": null,
   "id": "dde1945f",
   "metadata": {},
   "outputs": [],
   "source": [
    "print()"
   ]
  }
 ],
 "metadata": {
  "kernelspec": {
   "display_name": "python38",
   "language": "python",
   "name": "python38"
  },
  "language_info": {
   "codemirror_mode": {
    "name": "ipython",
    "version": 3
   },
   "file_extension": ".py",
   "mimetype": "text/x-python",
   "name": "python",
   "nbconvert_exporter": "python",
   "pygments_lexer": "ipython3",
   "version": "3.8.8"
  }
 },
 "nbformat": 4,
 "nbformat_minor": 5
}
