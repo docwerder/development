{
 "cells": [
  {
   "cell_type": "markdown",
   "metadata": {},
   "source": [
    "# Übersicht Energieverbrauch"
   ]
  },
  {
   "cell_type": "code",
   "execution_count": 2,
   "metadata": {},
   "outputs": [],
   "source": [
    "arbeitspreis_eprimo = 0.2563 #ct/kWh\n",
    "grundpreis_eprimo = 20.70   #€\n",
    "\n",
    "arbeitspreis_vattenvall = 0.2590   # ct/kWh\n",
    "grundpreis_vattenfall = 19.90     #€"
   ]
  },
  {
   "cell_type": "code",
   "execution_count": 3,
   "metadata": {},
   "outputs": [],
   "source": [
    "verbrauch = 5600 #kWh\n",
    "\n",
    "gesamtpreis_eprimo = (verbrauch * arbeitspreis_eprimo) + (12 * grundpreis_eprimo)\n",
    "gesamtpreis_vattenfall = (verbrauch * arbeitspreis_vattenvall) + (12 * grundpreis_vattenfall)\n"
   ]
  },
  {
   "cell_type": "code",
   "execution_count": 4,
   "metadata": {},
   "outputs": [
    {
     "data": {
      "text/plain": [
       "(1683.6799999999998, 1689.2)"
      ]
     },
     "execution_count": 4,
     "metadata": {},
     "output_type": "execute_result"
    }
   ],
   "source": [
    "gesamtpreis_eprimo, gesamtpreis_vattenfall"
   ]
  },
  {
   "cell_type": "code",
   "execution_count": 32,
   "metadata": {},
   "outputs": [
    {
     "data": {
      "text/plain": [
       "(140.30666666666664, 140.76666666666668)"
      ]
     },
     "execution_count": 32,
     "metadata": {},
     "output_type": "execute_result"
    }
   ],
   "source": [
    "gesamtpreis_eprimo / 12, gesamtpreis_vattenfall/12"
   ]
  },
  {
   "cell_type": "code",
   "execution_count": 19,
   "metadata": {},
   "outputs": [
    {
     "data": {
      "text/plain": [
       "1435.2799999999997"
      ]
     },
     "execution_count": 19,
     "metadata": {},
     "output_type": "execute_result"
    }
   ],
   "source": [
    "verbrauch * arbeitspreis_eprimo"
   ]
  },
  {
   "cell_type": "code",
   "execution_count": 9,
   "metadata": {},
   "outputs": [],
   "source": [
    "import numpy as np\n",
    "import datetime as dt\n",
    "\n",
    "start = dt.date( 2020, 3, 11 )\n",
    "end = dt.date( 2020, 12, 31 )\n",
    "\n",
    "days = np.busday_count( start, end )"
   ]
  },
  {
   "cell_type": "code",
   "execution_count": 10,
   "metadata": {},
   "outputs": [
    {
     "data": {
      "text/plain": [
       "211"
      ]
     },
     "execution_count": 10,
     "metadata": {},
     "output_type": "execute_result"
    }
   ],
   "source": [
    "# TODO "
   ]
  },
  {
   "cell_type": "code",
   "execution_count": 5,
   "metadata": {},
   "outputs": [],
   "source": [
    "np.busday_count?"
   ]
  },
  {
   "cell_type": "code",
   "execution_count": 8,
   "metadata": {},
   "outputs": [
    {
     "data": {
      "text/plain": [
       "1215.0"
      ]
     },
     "execution_count": 8,
     "metadata": {},
     "output_type": "execute_result"
    }
   ],
   "source": [
    "50*81*0.3"
   ]
  },
  {
   "cell_type": "code",
   "execution_count": null,
   "metadata": {},
   "outputs": [],
   "source": []
  },
  {
   "cell_type": "markdown",
   "metadata": {},
   "source": [
    "## `Berechnung Gasverbrauch neuer Anbieter`"
   ]
  },
  {
   "cell_type": "markdown",
   "metadata": {},
   "source": [
    "1. Aktueller Verbrauch ermitteln: \n",
    "* Stand am 21.02.2020: 25278 Kubikmeter \n",
    "* Stand am 16.03.2021: 27721 Kubikmeter "
   ]
  },
  {
   "cell_type": "code",
   "execution_count": 25,
   "metadata": {},
   "outputs": [
    {
     "name": "stdout",
     "output_type": "stream",
     "text": [
      "389\n",
      "Täglicher Verbrauchswert: \t\t 6.28 Kubikmeter\n",
      "Hochgerechneter Verbrauchswert: \t 2292.28 Kubikmeter\n",
      "Hochgerechneter Verbrauchswert: \t 22922.75 kWh\n"
     ]
    }
   ],
   "source": [
    "import datetime\n",
    "now = datetime.datetime.strptime('16.03.2021', '%d.%m.%Y')\n",
    "last = datetime.datetime.strptime('21.02.2020', '%d.%m.%Y')\n",
    "diff = now - last\n",
    "print(diff.days)\n",
    "\n",
    "verbrauch_21_02_2020 = 25278\n",
    "verbrauch_16_03_2021 = 27721\n",
    "\n",
    "diff_verbrauch = verbrauch_16_03_2021 - verbrauch_21_02_2020\n",
    "\n",
    "verbrauch_tgl = diff_verbrauch / diff.days\n",
    "print('Täglicher Verbrauchswert: \\t\\t', round(verbrauch_tgl, 2), 'Kubikmeter')\n",
    "print('Hochgerechneter Verbrauchswert: \\t', round(verbrauch_tgl*365,2), 'Kubikmeter')\n",
    "\n",
    "# Zur Umrechnung von Kubikmeter in kWh wird üblicherweise ein Produkt aus \n",
    "# Zustandszahl und Brennwert genommen. Für die EWE galt damals.\n",
    "# Zustandszahl = 0.9702 \n",
    "# Brennwert = 9.767 kWh/Kubikmeter\n",
    "\n",
    "# Das ergibt zusammen 9.47kWh/Kubikmeter. \n",
    "# Zur besseren Rechnung nehmen wir den Faktor 10!!\n",
    "\n",
    "# Daraus folgt. Der durchschnittliche Verbrauchswert in kWh pro Jahr beträgt\n",
    "\n",
    "print('Hochgerechneter Verbrauchswert: \\t', round(verbrauch_tgl*365*10,2), 'kWh')\n"
   ]
  },
  {
   "cell_type": "markdown",
   "metadata": {},
   "source": [
    "### Definition der Grundpreise - STROM"
   ]
  },
  {
   "cell_type": "code",
   "execution_count": 3,
   "metadata": {},
   "outputs": [],
   "source": [
    "# Grundpreis\n",
    "grundpreis_eprimo = 20.51   # € pro Monat, entspricht 248.12 € pro Jahr\n",
    "grundpreis_yellostrom  = 43.65 # € pro Monat Apple Watch Series 6  einmalig 49 €\n",
    "grundpreis_spargas24 = 49.46   #€ pro Monat Apple Watch Series 6 44mm einmalig 45.43 € \n",
    "grundpreis_vattenfall_easy24 = 21.9 # € pro Monat OHNE Apple Watch\n",
    "grundpreis_vattenfall_easy12 = 21.9 # € pro Monat OHNE Apple Watch\n",
    "grundpreis_vattenfall_easy24_gas = 21.9 # € pro Monat\n",
    "\n",
    "\n",
    "# Arbeitspreis\n",
    "\n",
    "arbeitspreis_eprimo = 5.02  # ct/kWh\n",
    "arbeitspreis_yellostrom = 4.82 # ct/kWh\n",
    "arbeitspreis_spargas24 = 5.16     # ct/kWh\n",
    "arbeitspreis_vattenfall_easy24 = 5.2 # ct/kWh\n",
    "arbeitspreis_vattenfall_easy12 = 5.2 # ct/kWh\n",
    "arbeitspreis_vattenfall_easy24_gas = 5.44 # ct/kWh\n",
    "\n",
    "\n",
    "verbrauch = 6200\n",
    "# Update zur Berechnung Stromverbrauch August 2022 ENERGIEKRISE!!!!\n",
    "grundpreis_strom_aktuell_vattenfall = 19.9 # € pro Monat\n",
    "arbeitspreis_aktuell_vattenfall = 21.47 # ct/kWh\n",
    "\n",
    "# Voraussichtliche Preiserhöhung zum 01.01. 2023! ENERGIEKRISE! Tarif: Naturstrom 24\n",
    "grundpreis_strom_2023_vattenfall = 18,50 # € pro Monat\n",
    "arbeitspreis_2023_vattenfall = 37.37 # ct/kWh\n",
    "\n",
    "# Preisanpassung Easygas24 zum 06.10.22 auf 8.39 ct/kWh\n",
    "arbeitspreis_vattenfall_easy24_gas_06_10_22 = 8.39 # ct/kWh\n",
    "gesamtpreis_vattenfall_easy24_gas_06_10_22 = round((((verbrauch * arbeitspreis_vattenfall_easy24_gas_06_10_22)/100) + (12 * grundpreis_vattenfall_easy24_gas)), 2)\n",
    "\n"
   ]
  },
  {
   "cell_type": "markdown",
   "metadata": {},
   "source": [
    "## Definition des Gesamtpreises"
   ]
  },
  {
   "cell_type": "code",
   "execution_count": 15,
   "metadata": {},
   "outputs": [
    {
     "name": "stdout",
     "output_type": "stream",
     "text": [
      "Gesamtpreis_eprimo: \t\t 1400.72 €\n",
      "Gesamtpreis_eprimo mtl: \t 116.73 €\n",
      "----\n",
      "Gesamtpreis_yellostrom: \t 1632.4 €\n",
      "Gesamtpreis_yellostrom mtl: \t 136.03 €\n",
      "----\n",
      "Gesamtpreis_spargas24: \t\t 1780.32 €\n",
      "Gesamtpreis_spargas24 mtl: \t 148.36 €\n",
      "----\n",
      "Gesamtpreis_vattenfall_easy24: \t\t\t\t 1458.8 €\n",
      "Gesamtpreis_vattenfall_easy24 (inkl. Bonus 225+213):\t 1020.8 €\n",
      "Gesamtpreis_vattenfall_easy24 : mtl: \t\t\t 121.57 €\n",
      "----\n",
      "Gesamtpreis_vattenfall_easy24_gas: \t\t\t 1514.0 €\n",
      "Gesamtpreis_vattenfall_easy24_gas (inkl. Bonus 215+225): 1074.0 €\n",
      "Gesamtpreis_vattenfall_easy24_gas : mtl: \t\t 126.17 €\n",
      "\n",
      " === PREISANPASSUNG GAS-Umlage zum 06.10.2022\n",
      "Verbrauchspreis steigt von 5.44ct/kWh auf 8.39ct/kWh\n",
      "gesamtpreis_vattenfall_easy24_gas_06_10_22: \t\t 2192.5 €\n"
     ]
    }
   ],
   "source": [
    "verbrauch = 23000 #kWh\n",
    "\n",
    "gesamtpreis_eprimo = round((((verbrauch * arbeitspreis_eprimo)/100) + (12 * grundpreis_eprimo)), 2)\n",
    "print('Gesamtpreis_eprimo: \\t\\t', gesamtpreis_eprimo ,'€')\n",
    "print('Gesamtpreis_eprimo mtl: \\t', round(gesamtpreis_eprimo/12, 2),'€')\n",
    "\n",
    "print('----')\n",
    "\n",
    "gesamtpreis_yellostrom = round((((verbrauch * arbeitspreis_yellostrom)/100) + (12 * grundpreis_yellostrom)), 2)\n",
    "print('Gesamtpreis_yellostrom: \\t', gesamtpreis_yellostrom, '€')\n",
    "print('Gesamtpreis_yellostrom mtl: \\t', round(gesamtpreis_yellostrom/12, 2),'€')\n",
    "\n",
    "print('----')\n",
    "\n",
    "gesamtpreis_spargas24 = round((((verbrauch * arbeitspreis_spargas24)/100) + (12 * grundpreis_spargas24)), 2)\n",
    "print('Gesamtpreis_spargas24: \\t\\t', gesamtpreis_spargas24, '€')\n",
    "print('Gesamtpreis_spargas24 mtl: \\t', round(gesamtpreis_spargas24/12, 2),'€')\n",
    "\n",
    "#gesamtpreis_spargas = (verbrauch * arbeitspreis_spargas) + (12 * grundpreis_spargas)\n",
    "#gesamtpreis_vattenfall = (verbrauch * arbeitspreis_vattenvall) + (12 * grundpreis_vattenfall)\n",
    "\n",
    "print('----')\n",
    "\n",
    "gesamtpreis_vattenfall_easy24 = round((((verbrauch * arbeitspreis_vattenfall_easy24)/100) + (12 * grundpreis_vattenfall_easy24)), 2)\n",
    "print('Gesamtpreis_vattenfall_easy24: \\t\\t\\t\\t', gesamtpreis_vattenfall_easy24, '€')\n",
    "print('Gesamtpreis_vattenfall_easy24 (inkl. Bonus 225+213):\\t', round(gesamtpreis_vattenfall_easy24-(225+213), 2),'€')\n",
    "print('Gesamtpreis_vattenfall_easy24 : mtl: \\t\\t\\t', round(gesamtpreis_vattenfall_easy24/12, 2),'€')\n",
    "\n",
    "\n",
    "\n",
    "\n",
    "print('----')\n",
    "\n",
    "gesamtpreis_vattenfall_easy24_gas = round((((verbrauch * arbeitspreis_vattenfall_easy24_gas)/100) + (12 * grundpreis_vattenfall_easy24_gas)), 2)\n",
    "print('Gesamtpreis_vattenfall_easy24_gas: \\t\\t\\t', gesamtpreis_vattenfall_easy24_gas, '€')\n",
    "print('Gesamtpreis_vattenfall_easy24_gas (inkl. Bonus 215+225):', round(gesamtpreis_vattenfall_easy24_gas-(215+225), 2),'€')\n",
    "print('Gesamtpreis_vattenfall_easy24_gas : mtl: \\t\\t', round(gesamtpreis_vattenfall_easy24_gas/12, 2),'€')\n",
    "\n",
    "\n",
    "print(\"\\n === PREISANPASSUNG GAS-Umlage zum 06.10.2022\")\n",
    "print(\"Verbrauchspreis steigt von 5.44ct/kWh auf 8.39ct/kWh\")\n",
    "\n",
    "\n",
    "gesamtpreis_vattenfall_easy24_gas_06_10_22 = round((((verbrauch * arbeitspreis_vattenfall_easy24_gas_06_10_22)/100) + (12 * grundpreis_vattenfall_easy24_gas)), 2)\n",
    "print('gesamtpreis_vattenfall_easy24_gas_06_10_22: \\t\\t', gesamtpreis_vattenfall_easy24_gas_06_10_22, '€')"
   ]
  },
  {
   "cell_type": "code",
   "execution_count": 13,
   "metadata": {},
   "outputs": [
    {
     "data": {
      "text/plain": [
       "8.39"
      ]
     },
     "execution_count": 13,
     "metadata": {},
     "output_type": "execute_result"
    }
   ],
   "source": [
    "arbeitspreis_vattenfall_easy24_gas_06_10_22"
   ]
  },
  {
   "cell_type": "code",
   "execution_count": 16,
   "metadata": {},
   "outputs": [
    {
     "data": {
      "text/plain": [
       "2618.0"
      ]
     },
     "execution_count": 16,
     "metadata": {},
     "output_type": "execute_result"
    }
   ],
   "source": [
    "2200*1.19"
   ]
  },
  {
   "cell_type": "code",
   "execution_count": 17,
   "metadata": {},
   "outputs": [
    {
     "data": {
      "text/plain": [
       "218.16666666666666"
      ]
     },
     "execution_count": 17,
     "metadata": {},
     "output_type": "execute_result"
    }
   ],
   "source": [
    "2618/12"
   ]
  },
  {
   "cell_type": "code",
   "execution_count": null,
   "metadata": {},
   "outputs": [],
   "source": []
  },
  {
   "cell_type": "code",
   "execution_count": null,
   "metadata": {},
   "outputs": [],
   "source": []
  },
  {
   "cell_type": "markdown",
   "metadata": {},
   "source": [
    "***"
   ]
  },
  {
   "cell_type": "markdown",
   "metadata": {},
   "source": [
    "## Definition des Gesamtpreises - STROM"
   ]
  },
  {
   "cell_type": "code",
   "execution_count": 5,
   "metadata": {},
   "outputs": [
    {
     "name": "stdout",
     "output_type": "stream",
     "text": [
      "Gesamtpreis_aktuell_vattenfall: \t 2538.94 €\n",
      "Gesamtpreis_aktuell_vattenfall: \t 211.58 €\n"
     ]
    }
   ],
   "source": [
    "verbrauch = 6200 #kWh\n",
    "arbeitspreis_aktuell_vattenfall = 37.37\n",
    "grundpreis_strom_aktuell_vattenfall = 18.50\n",
    "\n",
    "gesamtpreis_aktuell_vattenfall = round((((verbrauch * arbeitspreis_aktuell_vattenfall)/100) + (12 * grundpreis_strom_aktuell_vattenfall)), 2)\n",
    "print('Gesamtpreis_aktuell_vattenfall: \\t', gesamtpreis_aktuell_vattenfall ,'€')\n",
    "print('Gesamtpreis_aktuell_vattenfall: \\t', round(gesamtpreis_aktuell_vattenfall/12, 2),'€')\n",
    "\n",
    "# print('---')\n",
    "\n",
    "# gesamtpreis_strom_2023_vattenfall = round((((verbrauch * arbeitspreis_2023_vattenfall)/100) + (12 * grundpreis_strom_2023_vattenfall)), 2)\n",
    "# print('Gesamtpreis_strom_2023_vattenfall: \\t', gesamtpreis_strom_2023_vattenfall ,'€')\n",
    "# print('Gesamtpreis_strom_2023_vattenfall: \\t', round(gesamtpreis_strom_2023_vattenfall/12, 2),'€')\n",
    "\n",
    "\n",
    "\n"
   ]
  },
  {
   "cell_type": "markdown",
   "metadata": {},
   "source": [
    "***"
   ]
  },
  {
   "cell_type": "markdown",
   "metadata": {},
   "source": [
    "### 2022 - Neuer Stromvertrag ab 01.01.2023"
   ]
  },
  {
   "cell_type": "code",
   "execution_count": 5,
   "metadata": {},
   "outputs": [
    {
     "name": "stdout",
     "output_type": "stream",
     "text": [
      "Kosten_vattenfall_2023_treuevorteil_1: \t\t\t 3263.74 €\n",
      "Kosten_vattenfall_2023_treuevorteil_1 pro Monat: \t 271.98 €\n",
      "---\n",
      "Kosten_vattenfall_2023_treuevorteil_2: \t\t\t 2538.94 €\n",
      "Kosten_vattenfall_2023_treuevorteil_2 pro Monat: \t 211.58 €\n",
      "----\n",
      "Kosten_ewe_2022: \t\t\t\t\t 2516.18 €\n",
      "Kosten_vattenfall_EWE pro Monat: \t\t\t 209.68 €\n"
     ]
    }
   ],
   "source": [
    "verbrauch = 6200 #kWh\n",
    "\n",
    "laufzeit = 12  # Monate\n",
    "\n",
    "# 1.Angebot \n",
    "grundpreis_vattenfall_2023_treuevorteil_1 = 16.90   # € pro Monat, entspricht 220.80 € pro Jahr\n",
    "arbeitspreis_vattenfall_2023_treuevorteil_1 = 49.37  # ct/kWh\n",
    "\n",
    "# 2. Angebot\n",
    "grundpreis_vattenfall_2023_treuevorteil_2 = 18.50   # € pro Monat, entspricht 202.80 € pro Jahr\n",
    "arbeitspreis_vattenfall_2023_treuevorteil_2 = 37.37  # ct/kWh\n",
    "\n",
    "\n",
    "# Als Vergleich: Grundversorgung EWE\n",
    "grundpreis_ewe_2022 = 14.33 # € pro Monat\n",
    "arbeitspreis_ewe_2022 = 37.81 # ct/kWh\n",
    "\n",
    "\n",
    "### Gesamtkosten\n",
    "\n",
    "# 1. Angebot\n",
    "gesamtpreis_vattenfall_2023_treuevorteil_1 = round((((verbrauch * arbeitspreis_vattenfall_2023_treuevorteil_1)/100) + \n",
    "(laufzeit * grundpreis_vattenfall_2023_treuevorteil_1)), 2)\n",
    "\n",
    "# 2. Angebot\n",
    "gesamtpreis_vattenfall_2023_treuevorteil_2 = round((((verbrauch * arbeitspreis_vattenfall_2023_treuevorteil_2)/100) + \n",
    "(laufzeit * grundpreis_vattenfall_2023_treuevorteil_2)), 2)\n",
    "\n",
    "# 3. Angebot EWE\n",
    "gesamtpreis_ewe_2022 = round((((verbrauch * arbeitspreis_ewe_2022)/100) + \n",
    "(laufzeit * grundpreis_ewe_2022)), 2)\n",
    "\n",
    "\n",
    "print('Kosten_vattenfall_2023_treuevorteil_1: \\t\\t\\t', gesamtpreis_vattenfall_2023_treuevorteil_1 ,'€')\n",
    "print('Kosten_vattenfall_2023_treuevorteil_1 pro Monat: \\t', round(gesamtpreis_vattenfall_2023_treuevorteil_1/laufzeit, 2),'€')\n",
    "\n",
    "print('---')\n",
    "\n",
    "print('Kosten_vattenfall_2023_treuevorteil_2: \\t\\t\\t', gesamtpreis_vattenfall_2023_treuevorteil_2 ,'€')\n",
    "print('Kosten_vattenfall_2023_treuevorteil_2 pro Monat: \\t', round(gesamtpreis_vattenfall_2023_treuevorteil_2/laufzeit, 2),'€')\n",
    "\n",
    "print('----')\n",
    "\n",
    "print('Kosten_ewe_2022: \\t\\t\\t\\t\\t', gesamtpreis_ewe_2022 ,'€')\n",
    "print('Kosten_vattenfall_EWE pro Monat: \\t\\t\\t', round(gesamtpreis_ewe_2022/laufzeit, 2),'€')\n",
    "\n"
   ]
  },
  {
   "cell_type": "markdown",
   "metadata": {},
   "source": [
    "Allgemein-Berechnung"
   ]
  },
  {
   "cell_type": "code",
   "execution_count": 11,
   "metadata": {},
   "outputs": [
    {
     "name": "stdout",
     "output_type": "stream",
     "text": [
      "Kosten: \t\t\t\t\t 2516.18 €\n",
      "Kosten pro Monat: \t\t\t 209.68 €\n"
     ]
    }
   ],
   "source": [
    "verbrauch = 6200 #kWh\n",
    "laufzeit = 12  # Monate\n",
    "grundpreis = 14.33   # € pro Monat\n",
    "arbeitspreis = 37.81 # ct pro kWh\n",
    "\n",
    "gesamtpreis = round((((verbrauch * arbeitspreis)/100) + (laufzeit * grundpreis)), 2)\n",
    "\n",
    "print('Kosten: \\t\\t\\t\\t\\t', gesamtpreis ,'€')\n",
    "print('Kosten pro Monat: \\t\\t\\t', round(gesamtpreis/laufzeit, 2),'€')\n"
   ]
  },
  {
   "cell_type": "code",
   "execution_count": 27,
   "metadata": {},
   "outputs": [
    {
     "data": {
      "text/plain": [
       "21.0"
      ]
     },
     "execution_count": 27,
     "metadata": {},
     "output_type": "execute_result"
    }
   ],
   "source": [
    "3402.49-3381.49"
   ]
  },
  {
   "cell_type": "code",
   "execution_count": null,
   "metadata": {},
   "outputs": [],
   "source": [
    "pd.set_option('display.max_rows', None)"
   ]
  },
  {
   "cell_type": "code",
   "execution_count": 2,
   "metadata": {},
   "outputs": [
    {
     "data": {
      "text/plain": [
       "33.333333333333336"
      ]
     },
     "execution_count": 2,
     "metadata": {},
     "output_type": "execute_result"
    }
   ],
   "source": [
    "10000/300"
   ]
  },
  {
   "cell_type": "code",
   "execution_count": null,
   "metadata": {},
   "outputs": [],
   "source": []
  },
  {
   "cell_type": "code",
   "execution_count": null,
   "metadata": {},
   "outputs": [],
   "source": []
  },
  {
   "cell_type": "code",
   "execution_count": null,
   "metadata": {},
   "outputs": [],
   "source": []
  },
  {
   "cell_type": "code",
   "execution_count": null,
   "metadata": {},
   "outputs": [],
   "source": []
  },
  {
   "cell_type": "code",
   "execution_count": null,
   "metadata": {},
   "outputs": [],
   "source": []
  },
  {
   "cell_type": "code",
   "execution_count": null,
   "metadata": {},
   "outputs": [],
   "source": []
  },
  {
   "cell_type": "code",
   "execution_count": null,
   "metadata": {},
   "outputs": [],
   "source": []
  },
  {
   "cell_type": "markdown",
   "metadata": {
    "pycharm": {
     "name": "#%% md\n"
    }
   },
   "source": [
    "***"
   ]
  },
  {
   "cell_type": "markdown",
   "metadata": {
    "collapsed": false,
    "pycharm": {
     "name": "#%% md\n"
    }
   },
   "source": [
    "### 27.09.2021: Zur Verrechnung: des momentanen Stromverbrauchs:"
   ]
  },
  {
   "cell_type": "markdown",
   "metadata": {
    "collapsed": false,
    "pycharm": {
     "name": "#%% md\n"
    }
   },
   "source": [
    "Letzte Strom-Abrechnung von Eprimo 2020:"
   ]
  },
  {
   "cell_type": "markdown",
   "metadata": {
    "collapsed": false,
    "pycharm": {
     "name": "#%% md\n"
    }
   },
   "source": [
    "## 4408 kWh für 275 Tage\n",
    "Daraus folgt\n",
    "4408 kWh *365/275\n"
   ]
  },
  {
   "cell_type": "code",
   "execution_count": 1,
   "metadata": {
    "collapsed": false,
    "pycharm": {
     "name": "#%%\n"
    }
   },
   "outputs": [
    {
     "data": {
      "text/plain": [
       "5850.618181818182"
      ]
     },
     "execution_count": 1,
     "metadata": {},
     "output_type": "execute_result"
    }
   ],
   "source": [
    "4408*365/275"
   ]
  },
  {
   "cell_type": "code",
   "execution_count": 5,
   "metadata": {},
   "outputs": [
    {
     "data": {
      "text/plain": [
       "2.95"
      ]
     },
     "execution_count": 5,
     "metadata": {},
     "output_type": "execute_result"
    }
   ],
   "source": [
    "2.4+0.55"
   ]
  },
  {
   "cell_type": "code",
   "execution_count": 1,
   "metadata": {},
   "outputs": [
    {
     "data": {
      "text/plain": [
       "5986"
      ]
     },
     "execution_count": 1,
     "metadata": {},
     "output_type": "execute_result"
    }
   ],
   "source": [
    "4036+1950"
   ]
  },
  {
   "cell_type": "code",
   "execution_count": 5,
   "metadata": {},
   "outputs": [
    {
     "data": {
      "text/plain": [
       "34.4"
      ]
     },
     "execution_count": 5,
     "metadata": {},
     "output_type": "execute_result"
    }
   ],
   "source": [
    "43-43/30*6"
   ]
  },
  {
   "cell_type": "code",
   "execution_count": null,
   "metadata": {},
   "outputs": [],
   "source": []
  }
 ],
 "metadata": {
  "hide_input": false,
  "kernelspec": {
   "display_name": "Python 3.8.8 ('base')",
   "language": "python",
   "name": "python3"
  },
  "language_info": {
   "codemirror_mode": {
    "name": "ipython",
    "version": 3
   },
   "file_extension": ".py",
   "mimetype": "text/x-python",
   "name": "python",
   "nbconvert_exporter": "python",
   "pygments_lexer": "ipython3",
   "version": "3.8.8"
  },
  "vscode": {
   "interpreter": {
    "hash": "a0244e36d896d015f75776ae6befc684a91b52767e09e2de1877d2cd0350f7b0"
   }
  }
 },
 "nbformat": 4,
 "nbformat_minor": 2
}
