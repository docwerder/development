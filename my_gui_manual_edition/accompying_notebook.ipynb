{
 "cells": [
  {
   "cell_type": "markdown",
   "id": "4f66411f",
   "metadata": {},
   "source": [
    "# Accompying Notebook for my_gui_manual_edition"
   ]
  },
  {
   "cell_type": "code",
   "execution_count": 1,
   "id": "20a27860",
   "metadata": {},
   "outputs": [],
   "source": [
    "import pandas as pd\n",
    "import seaborn as sns\n",
    "import os\n",
    "import numpy as np\n",
    "pd.set_option('display.max_rows', None)\n",
    "import matplotlib.pyplot as plt \n",
    "#from matplotlib.backends.backend_qt5agg import FigureCanvasQTAgg as FigureCanvas"
   ]
  },
  {
   "cell_type": "code",
   "execution_count": null,
   "id": "f3900b27",
   "metadata": {},
   "outputs": [],
   "source": [
    "pdw_anom = list(['INST', 'LIN', 'LIN-GRP', 'LS-IND', 'LS-MELO', 'LS-MIFE', 'MELO-MIFE', 'pLS-IND'])\n",
    "pdw_ctn = list([100, 3, 3, 9, 68, 234, 1, 4])"
   ]
  },
  {
   "cell_type": "code",
   "execution_count": null,
   "id": "53fe813c",
   "metadata": {},
   "outputs": [],
   "source": [
    "pdw_1 = {'pdw_anom': pdw_anom, 'pdw_ctn': pdw_ctn}"
   ]
  },
  {
   "cell_type": "code",
   "execution_count": null,
   "id": "093295b7",
   "metadata": {},
   "outputs": [],
   "source": [
    "pdw_1"
   ]
  },
  {
   "cell_type": "code",
   "execution_count": null,
   "id": "327a6613",
   "metadata": {},
   "outputs": [],
   "source": [
    "pdw_2 = pd.DataFrame(pdw_1)"
   ]
  },
  {
   "cell_type": "code",
   "execution_count": null,
   "id": "10226e1a",
   "metadata": {},
   "outputs": [],
   "source": [
    "pdw_2"
   ]
  },
  {
   "cell_type": "code",
   "execution_count": null,
   "id": "93d817d6",
   "metadata": {},
   "outputs": [],
   "source": [
    "pdw_2.to_csv('pdw_anom_ctn.csv')"
   ]
  },
  {
   "cell_type": "code",
   "execution_count": null,
   "id": "6f9df56c",
   "metadata": {},
   "outputs": [],
   "source": [
    "sns.set_style(\"darkgrid\")\n",
    "figure_tmp_available_features = plt.Figure(figsize=(7, 5), dpi=65, facecolor=(1, 1, 1), edgecolor=(0, 0, 0))"
   ]
  },
  {
   "cell_type": "code",
   "execution_count": null,
   "id": "91ee5c37",
   "metadata": {},
   "outputs": [],
   "source": []
  },
  {
   "cell_type": "code",
   "execution_count": null,
   "id": "a363a4fe",
   "metadata": {},
   "outputs": [],
   "source": [
    "def add_figure_available_features_window(fig):\n",
    "    canvas_feature_overview = FigureCanvas(fig)"
   ]
  },
  {
   "cell_type": "code",
   "execution_count": null,
   "id": "661120b9",
   "metadata": {},
   "outputs": [],
   "source": [
    "add_figure_available_features_window(figure_tmp_available_features)"
   ]
  },
  {
   "cell_type": "code",
   "execution_count": null,
   "id": "3833bb1e",
   "metadata": {},
   "outputs": [],
   "source": [
    "axf1 = figure_tmp_available_features.add_subplot(111)"
   ]
  },
  {
   "cell_type": "code",
   "execution_count": null,
   "id": "bb284eae",
   "metadata": {},
   "outputs": [],
   "source": [
    "axf1"
   ]
  },
  {
   "cell_type": "code",
   "execution_count": null,
   "id": "6b2b7c24",
   "metadata": {},
   "outputs": [],
   "source": [
    "import numpy as np\n",
    "import pandas as pd\n",
    "import plotly.offline as pyo\n",
    "#pyo.init_notebook_mode()\n",
    "# create fake data:\n",
    "df = pd.DataFrame(np.random.randn(100,4),columns='A B C D'.split())\n",
    "pyo.iplot([{\n",
    "'x': df.index,\n",
    "'y': df[col],\n",
    "'name': col\n",
    "} for col in df.columns])\n"
   ]
  },
  {
   "cell_type": "markdown",
   "id": "470e5e69",
   "metadata": {},
   "source": [
    "### Read the two csv-files by hand..."
   ]
  },
  {
   "cell_type": "code",
   "execution_count": 2,
   "id": "f69b4fe3",
   "metadata": {},
   "outputs": [],
   "source": [
    "def load_csv_file():\n",
    "    repo_path = '/Users/joerg/repos/development/'\n",
    "    repo_dir = 'my_gui_manual_edition'\n",
    "    current_csv_file = \"saved_feature_overview_12_05_2022.csv\"\n",
    "    path_csv_file = os.path.join(repo_path, repo_dir, current_csv_file)\n",
    "    \n",
    "    overview_available_features = pd.read_csv(path_csv_file).drop(['Unnamed: 0'], axis=1)\n",
    "    overview_available_features['project_number'] = overview_available_features['project_number'].astype(str)\n",
    "    overview_available_features['feature'] = overview_available_features['feature'].str.lower()\n",
    "    return overview_available_features"
   ]
  },
  {
   "cell_type": "code",
   "execution_count": 3,
   "id": "25e39af6",
   "metadata": {},
   "outputs": [],
   "source": [
    "overview_available_features = load_csv_file()"
   ]
  },
  {
   "cell_type": "code",
   "execution_count": 4,
   "id": "28a0e815",
   "metadata": {},
   "outputs": [],
   "source": [
    "any_anom_type = list(overview_available_features['feature'].unique())\n",
    "any_line = list(overview_available_features['lineshort'].unique())\n"
   ]
  },
  {
   "cell_type": "code",
   "execution_count": 5,
   "id": "e348c144",
   "metadata": {},
   "outputs": [],
   "source": [
    "any_anom_type.insert(0, 'All Features')"
   ]
  },
  {
   "cell_type": "code",
   "execution_count": null,
   "id": "216a76b5",
   "metadata": {},
   "outputs": [],
   "source": [
    "any_anom_type"
   ]
  },
  {
   "cell_type": "code",
   "execution_count": null,
   "id": "2b30e22a",
   "metadata": {},
   "outputs": [],
   "source": [
    "clicked_item = 'crac'"
   ]
  },
  {
   "cell_type": "code",
   "execution_count": null,
   "id": "15a5cfbc",
   "metadata": {},
   "outputs": [],
   "source": []
  },
  {
   "cell_type": "code",
   "execution_count": null,
   "id": "91aca344",
   "metadata": {},
   "outputs": [],
   "source": [
    "any_line"
   ]
  },
  {
   "cell_type": "code",
   "execution_count": 8,
   "id": "da7e0644",
   "metadata": {},
   "outputs": [],
   "source": [
    "single_item_clicked = \"30305306\""
   ]
  },
  {
   "cell_type": "code",
   "execution_count": 9,
   "id": "5d41f43a",
   "metadata": {},
   "outputs": [
    {
     "data": {
      "text/plain": [
       "71    pife-notc\n",
       "72         mife\n",
       "73    melo-corr\n",
       "74           ls\n",
       "75         noth\n",
       "76        unkwn\n",
       "77      ls-mife\n",
       "78         inst\n",
       "79      ls-melo\n",
       "80        other\n",
       "81       ls-ind\n",
       "82      pls-ind\n",
       "83          lin\n",
       "84      lin-grp\n",
       "85    melo-mife\n",
       "Name: feature, dtype: object"
      ]
     },
     "execution_count": 9,
     "metadata": {},
     "output_type": "execute_result"
    }
   ],
   "source": [
    "overview_available_features[overview_available_features['lineshort'] == single_item_clicked]['feature']"
   ]
  },
  {
   "cell_type": "code",
   "execution_count": 10,
   "id": "d149d3c8",
   "metadata": {},
   "outputs": [],
   "source": [
    "uploaded_feature_df = pd.read_csv('uploaded_feature_df.csv', index_col=[0])\n",
    "# print(tabulate(self.overview_available_features, headers='keys', tablefmt='psql'))\n",
    "for index_uploaded_feature_df, row_uploaded_feature_df in uploaded_feature_df.iterrows():\n",
    "    for index_overview, row_overview in overview_available_features.iterrows():\n",
    "        if (row_overview['lineshort'] == row_uploaded_feature_df['lineshort']) & (\n",
    "            row_overview['feature'] == row_uploaded_feature_df['feature']):\n",
    "            overview_available_features.loc[index_overview, 'uploaded_ctn'] = row_overview['ctn']\n",
    "overview_available_features = overview_available_features.fillna(0)"
   ]
  },
  {
   "cell_type": "code",
   "execution_count": 11,
   "id": "e8bd7b2f",
   "metadata": {},
   "outputs": [],
   "source": [
    "%matplotlib inline"
   ]
  },
  {
   "cell_type": "code",
   "execution_count": 12,
   "id": "f8b08d71",
   "metadata": {},
   "outputs": [],
   "source": [
    "sns.set_style(\"darkgrid\")\n",
    "figure_tmp_available_features = plt.Figure(figsize=(7, 5), dpi=65, facecolor=(1, 1, 1), edgecolor=(0, 0, 0))\n",
    "axf1 = figure_tmp_available_features.add_subplot(111)"
   ]
  },
  {
   "cell_type": "code",
   "execution_count": 13,
   "id": "c32f38d7",
   "metadata": {},
   "outputs": [
    {
     "data": {
      "text/plain": [
       "<BarContainer object of 15 artists>"
      ]
     },
     "execution_count": 13,
     "metadata": {},
     "output_type": "execute_result"
    },
    {
     "data": {
      "image/png": "[encoded data removed]",
      "text/plain": [
       "<Figure size 432x288 with 1 Axes>"
      ]
     },
     "metadata": {},
     "output_type": "display_data"
    }
   ],
   "source": [
    "counts = overview_available_features[overview_available_features['lineshort'] == single_item_clicked]['ctn']\n",
    "selected_features = overview_available_features[overview_available_features['lineshort'] == single_item_clicked]['feature']\n",
    "clrs = ['lime' if (x != 0) else 'grey' for x in overview_available_features[overview_available_features['lineshort'] == single_item_clicked]['uploaded_ctn']]\n",
    "plt.barh(selected_features, counts, color=clrs)\n",
    "#axf1.set_title(single_item_clicked)"
   ]
  },
  {
   "cell_type": "code",
   "execution_count": 14,
   "id": "daee27ac",
   "metadata": {},
   "outputs": [
    {
     "data": {
      "text/plain": [
       "71    pife-notc\n",
       "72         mife\n",
       "73    melo-corr\n",
       "74           ls\n",
       "75         noth\n",
       "76        unkwn\n",
       "77      ls-mife\n",
       "78         inst\n",
       "79      ls-melo\n",
       "80        other\n",
       "81       ls-ind\n",
       "82      pls-ind\n",
       "83          lin\n",
       "84      lin-grp\n",
       "85    melo-mife\n",
       "Name: feature, dtype: object"
      ]
     },
     "execution_count": 14,
     "metadata": {},
     "output_type": "execute_result"
    }
   ],
   "source": [
    "selected_features"
   ]
  },
  {
   "cell_type": "markdown",
   "id": "32423514",
   "metadata": {},
   "source": [
    "## Chose: \"All Features\""
   ]
  },
  {
   "cell_type": "code",
   "execution_count": 15,
   "id": "6e94ee8e",
   "metadata": {},
   "outputs": [],
   "source": [
    "single_item_clicked = \"All Features\""
   ]
  },
  {
   "cell_type": "code",
   "execution_count": 16,
   "id": "75818aff",
   "metadata": {},
   "outputs": [
    {
     "data": {
      "text/plain": [
       "124"
      ]
     },
     "execution_count": 16,
     "metadata": {},
     "output_type": "execute_result"
    }
   ],
   "source": [
    "sum(overview_available_features['feature'].value_counts())"
   ]
  },
  {
   "cell_type": "code",
   "execution_count": 17,
   "id": "09a90da0",
   "metadata": {},
   "outputs": [],
   "source": [
    "sum_all_features = overview_available_features.groupby('feature')['ctn'].sum()\n",
    "sum_all_features_uploaded = overview_available_features.groupby('feature')['uploaded_ctn'].sum()"
   ]
  },
  {
   "cell_type": "code",
   "execution_count": 18,
   "id": "bba79147",
   "metadata": {},
   "outputs": [
    {
     "data": {
      "text/plain": [
       "Index(['coat-imp', 'crac', 'crac-c', 'crac-grp', 'inst', 'irre', 'lin',\n",
       "       'lin-grp', 'ls', 'ls-crac', 'ls-feat', 'ls-ind', 'ls-lin', 'ls-melo',\n",
       "       'ls-mife', 'ls-plin', 'melo', 'melo-corr', 'melo-mife', 'mife', 'noth',\n",
       "       'other', 'pife-notc', 'plin', 'pls-ind', 'unkwn'],\n",
       "      dtype='object', name='feature')"
      ]
     },
     "execution_count": 18,
     "metadata": {},
     "output_type": "execute_result"
    }
   ],
   "source": [
    "sum_all_features.index"
   ]
  },
  {
   "cell_type": "code",
   "execution_count": 19,
   "id": "062ebae6",
   "metadata": {},
   "outputs": [],
   "source": [
    "df_all_feature = {'feature': list(sum_all_features.index), 'ctn': list(sum_all_features), 'uploaded_ctn': list(sum_all_features_uploaded)}"
   ]
  },
  {
   "cell_type": "code",
   "execution_count": 20,
   "id": "e280459f",
   "metadata": {},
   "outputs": [],
   "source": [
    "df_all_feature = pd.DataFrame(df_all_feature)"
   ]
  },
  {
   "cell_type": "code",
   "execution_count": 21,
   "id": "50c0333c",
   "metadata": {},
   "outputs": [
    {
     "data": {
      "text/html": [
       "<div>\n",
       "<style scoped>\n",
       "    .dataframe tbody tr th:only-of-type {\n",
       "        vertical-align: middle;\n",
       "    }\n",
       "\n",
       "    .dataframe tbody tr th {\n",
       "        vertical-align: top;\n",
       "    }\n",
       "\n",
       "    .dataframe thead th {\n",
       "        text-align: right;\n",
       "    }\n",
       "</style>\n",
       "<table border=\"1\" class=\"dataframe\">\n",
       "  <thead>\n",
       "    <tr style=\"text-align: right;\">\n",
       "      <th></th>\n",
       "      <th>feature</th>\n",
       "      <th>ctn</th>\n",
       "      <th>uploaded_ctn</th>\n",
       "    </tr>\n",
       "  </thead>\n",
       "  <tbody>\n",
       "    <tr>\n",
       "      <th>0</th>\n",
       "      <td>coat-imp</td>\n",
       "      <td>1212</td>\n",
       "      <td>1212.0</td>\n",
       "    </tr>\n",
       "    <tr>\n",
       "      <th>1</th>\n",
       "      <td>crac</td>\n",
       "      <td>692</td>\n",
       "      <td>692.0</td>\n",
       "    </tr>\n",
       "    <tr>\n",
       "      <th>2</th>\n",
       "      <td>crac-c</td>\n",
       "      <td>25</td>\n",
       "      <td>25.0</td>\n",
       "    </tr>\n",
       "    <tr>\n",
       "      <th>3</th>\n",
       "      <td>crac-grp</td>\n",
       "      <td>23</td>\n",
       "      <td>23.0</td>\n",
       "    </tr>\n",
       "    <tr>\n",
       "      <th>4</th>\n",
       "      <td>inst</td>\n",
       "      <td>1241</td>\n",
       "      <td>1109.0</td>\n",
       "    </tr>\n",
       "    <tr>\n",
       "      <th>5</th>\n",
       "      <td>irre</td>\n",
       "      <td>45334</td>\n",
       "      <td>23.0</td>\n",
       "    </tr>\n",
       "    <tr>\n",
       "      <th>6</th>\n",
       "      <td>lin</td>\n",
       "      <td>438</td>\n",
       "      <td>438.0</td>\n",
       "    </tr>\n",
       "    <tr>\n",
       "      <th>7</th>\n",
       "      <td>lin-grp</td>\n",
       "      <td>30</td>\n",
       "      <td>30.0</td>\n",
       "    </tr>\n",
       "    <tr>\n",
       "      <th>8</th>\n",
       "      <td>ls</td>\n",
       "      <td>3080</td>\n",
       "      <td>143.0</td>\n",
       "    </tr>\n",
       "    <tr>\n",
       "      <th>9</th>\n",
       "      <td>ls-crac</td>\n",
       "      <td>38</td>\n",
       "      <td>38.0</td>\n",
       "    </tr>\n",
       "    <tr>\n",
       "      <th>10</th>\n",
       "      <td>ls-feat</td>\n",
       "      <td>1566</td>\n",
       "      <td>0.0</td>\n",
       "    </tr>\n",
       "    <tr>\n",
       "      <th>11</th>\n",
       "      <td>ls-ind</td>\n",
       "      <td>504</td>\n",
       "      <td>504.0</td>\n",
       "    </tr>\n",
       "    <tr>\n",
       "      <th>12</th>\n",
       "      <td>ls-lin</td>\n",
       "      <td>72</td>\n",
       "      <td>72.0</td>\n",
       "    </tr>\n",
       "    <tr>\n",
       "      <th>13</th>\n",
       "      <td>ls-melo</td>\n",
       "      <td>487</td>\n",
       "      <td>487.0</td>\n",
       "    </tr>\n",
       "    <tr>\n",
       "      <th>14</th>\n",
       "      <td>ls-mife</td>\n",
       "      <td>1362</td>\n",
       "      <td>1164.0</td>\n",
       "    </tr>\n",
       "    <tr>\n",
       "      <th>15</th>\n",
       "      <td>ls-plin</td>\n",
       "      <td>401</td>\n",
       "      <td>358.0</td>\n",
       "    </tr>\n",
       "    <tr>\n",
       "      <th>16</th>\n",
       "      <td>melo</td>\n",
       "      <td>7700</td>\n",
       "      <td>351.0</td>\n",
       "    </tr>\n",
       "    <tr>\n",
       "      <th>17</th>\n",
       "      <td>melo-corr</td>\n",
       "      <td>30624</td>\n",
       "      <td>964.0</td>\n",
       "    </tr>\n",
       "    <tr>\n",
       "      <th>18</th>\n",
       "      <td>melo-mife</td>\n",
       "      <td>1</td>\n",
       "      <td>1.0</td>\n",
       "    </tr>\n",
       "    <tr>\n",
       "      <th>19</th>\n",
       "      <td>mife</td>\n",
       "      <td>38565</td>\n",
       "      <td>1841.0</td>\n",
       "    </tr>\n",
       "    <tr>\n",
       "      <th>20</th>\n",
       "      <td>noth</td>\n",
       "      <td>11579</td>\n",
       "      <td>0.0</td>\n",
       "    </tr>\n",
       "    <tr>\n",
       "      <th>21</th>\n",
       "      <td>other</td>\n",
       "      <td>707122</td>\n",
       "      <td>0.0</td>\n",
       "    </tr>\n",
       "    <tr>\n",
       "      <th>22</th>\n",
       "      <td>pife-notc</td>\n",
       "      <td>120741</td>\n",
       "      <td>0.0</td>\n",
       "    </tr>\n",
       "    <tr>\n",
       "      <th>23</th>\n",
       "      <td>plin</td>\n",
       "      <td>2079</td>\n",
       "      <td>1935.0</td>\n",
       "    </tr>\n",
       "    <tr>\n",
       "      <th>24</th>\n",
       "      <td>pls-ind</td>\n",
       "      <td>21</td>\n",
       "      <td>21.0</td>\n",
       "    </tr>\n",
       "    <tr>\n",
       "      <th>25</th>\n",
       "      <td>unkwn</td>\n",
       "      <td>1240</td>\n",
       "      <td>0.0</td>\n",
       "    </tr>\n",
       "  </tbody>\n",
       "</table>\n",
       "</div>"
      ],
      "text/plain": [
       "      feature     ctn  uploaded_ctn\n",
       "0    coat-imp    1212        1212.0\n",
       "1        crac     692         692.0\n",
       "2      crac-c      25          25.0\n",
       "3    crac-grp      23          23.0\n",
       "4        inst    1241        1109.0\n",
       "5        irre   45334          23.0\n",
       "6         lin     438         438.0\n",
       "7     lin-grp      30          30.0\n",
       "8          ls    3080         143.0\n",
       "9     ls-crac      38          38.0\n",
       "10    ls-feat    1566           0.0\n",
       "11     ls-ind     504         504.0\n",
       "12     ls-lin      72          72.0\n",
       "13    ls-melo     487         487.0\n",
       "14    ls-mife    1362        1164.0\n",
       "15    ls-plin     401         358.0\n",
       "16       melo    7700         351.0\n",
       "17  melo-corr   30624         964.0\n",
       "18  melo-mife       1           1.0\n",
       "19       mife   38565        1841.0\n",
       "20       noth   11579           0.0\n",
       "21      other  707122           0.0\n",
       "22  pife-notc  120741           0.0\n",
       "23       plin    2079        1935.0\n",
       "24    pls-ind      21          21.0\n",
       "25      unkwn    1240           0.0"
      ]
     },
     "execution_count": 21,
     "metadata": {},
     "output_type": "execute_result"
    }
   ],
   "source": [
    "df_all_feature"
   ]
  },
  {
   "cell_type": "code",
   "execution_count": 22,
   "id": "09741be6",
   "metadata": {},
   "outputs": [
    {
     "data": {
      "image/png": "[encoded data removed]",
      "text/plain": [
       "<Figure size 720x720 with 1 Axes>"
      ]
     },
     "metadata": {},
     "output_type": "display_data"
    }
   ],
   "source": [
    "#plt.barh(df_all_feature['feature'], df_all_feature['ctn'], color=clrs)\n",
    "#plt.figure(figsize=(10, 10))\n",
    "fig, ax = plt.subplots(figsize=(10, 10))\n",
    "plt.barh(df_all_feature['feature'], df_all_feature['uploaded_ctn'])\n",
    "ax.set_xscale('log')"
   ]
  },
  {
   "cell_type": "code",
   "execution_count": null,
   "id": "5ce708d0",
   "metadata": {},
   "outputs": [],
   "source": [
    "df_all_feature[df_all_feature['uploaded_ctn'] != 0 ]#['uploaded_ctn']"
   ]
  },
  {
   "cell_type": "code",
   "execution_count": null,
   "id": "81b911e5",
   "metadata": {},
   "outputs": [],
   "source": [
    "clrs = ['lime' if (x != 0) else 'grey' for x in df_all_feature['uploaded_ctn']]"
   ]
  },
  {
   "cell_type": "code",
   "execution_count": null,
   "id": "f8ef6f91",
   "metadata": {},
   "outputs": [],
   "source": [
    "clrs"
   ]
  },
  {
   "cell_type": "code",
   "execution_count": null,
   "id": "c531b569",
   "metadata": {},
   "outputs": [],
   "source": [
    "#plt.barh(df_all_feature['feature'], df_all_feature['ctn'], color=clrs)\n",
    "#plt.figure(figsize=(10, 10))\n",
    "fig, ax = plt.subplots(figsize=(10, 10))\n",
    "plt.barh(df_all_feature['feature'], df_all_feature['ctn'], color=clrs)\n",
    "ax.set_xscale('log')"
   ]
  },
  {
   "cell_type": "code",
   "execution_count": null,
   "id": "6a91e46c",
   "metadata": {},
   "outputs": [],
   "source": [
    "df_all_feature"
   ]
  },
  {
   "cell_type": "code",
   "execution_count": null,
   "id": "e29c3c29",
   "metadata": {},
   "outputs": [],
   "source": [
    "figure_tmp_available_features.add_subplot(111)"
   ]
  },
  {
   "cell_type": "code",
   "execution_count": null,
   "id": "1bb15791",
   "metadata": {},
   "outputs": [],
   "source": [
    "#plt.barh(df_all_feature['feature'], df_all_feature['ctn'], color=clrs)\n",
    "#plt.figure(figsize=(10, 10))\n",
    "fig, ax = plt.subplots(figsize=(10, 10))\n",
    "plt.barh(df_all_feature['feature'], df_all_feature['ctn'])\n",
    "ax.set_yscale('log')"
   ]
  },
  {
   "cell_type": "markdown",
   "id": "83ac7e51",
   "metadata": {},
   "source": [
    "### Chose one single feature"
   ]
  },
  {
   "cell_type": "code",
   "execution_count": null,
   "id": "898168ac",
   "metadata": {},
   "outputs": [],
   "source": [
    "single_item_clicked = \"pife-notc\""
   ]
  },
  {
   "cell_type": "code",
   "execution_count": null,
   "id": "f3190cfe",
   "metadata": {},
   "outputs": [],
   "source": [
    "df_single_item_clicked = overview_available_features[overview_available_features['feature'] == single_item_clicked]"
   ]
  },
  {
   "cell_type": "code",
   "execution_count": null,
   "id": "4115b9e4",
   "metadata": {},
   "outputs": [],
   "source": [
    "df_single_item_clicked"
   ]
  },
  {
   "cell_type": "code",
   "execution_count": null,
   "id": "1893643a",
   "metadata": {},
   "outputs": [],
   "source": [
    "overview_available_features[\n",
    "                overview_available_features['feature'] == single_item_clicked]['uploaded_ctn']"
   ]
  },
  {
   "cell_type": "code",
   "execution_count": null,
   "id": "fe4d922d",
   "metadata": {},
   "outputs": [],
   "source": [
    "clrs = ['lime' if (x != 0) else 'grey' for x in overview_available_features[\n",
    "                overview_available_features['feature'] == single_item_clicked]['uploaded_ctn']]"
   ]
  },
  {
   "cell_type": "code",
   "execution_count": null,
   "id": "45a3809e",
   "metadata": {},
   "outputs": [],
   "source": [
    "fig, ax1 = plt.subplots(figsize=(10, 10))\n",
    "plt.barh(overview_available_features[overview_available_features['feature'] == single_item_clicked]['lineshort'], \n",
    "         overview_available_features[overview_available_features['feature'] == single_item_clicked]['ctn'], color=clrs)\n",
    "#ax.set_yscale('log')"
   ]
  },
  {
   "cell_type": "code",
   "execution_count": null,
   "id": "7236f13a",
   "metadata": {},
   "outputs": [],
   "source": [
    "import numpy as np\n",
    "import pandas as pd\n"
   ]
  },
  {
   "cell_type": "code",
   "execution_count": null,
   "id": "93b3a008",
   "metadata": {},
   "outputs": [],
   "source": [
    "df1 = np.random.randint(0, 100, (50, 4))"
   ]
  },
  {
   "cell_type": "code",
   "execution_count": null,
   "id": "375bd5ec",
   "metadata": {},
   "outputs": [],
   "source": [
    "df2 = pd.DataFrame(data=df1, columns=['A', 'B', 'C', 'D'])"
   ]
  },
  {
   "cell_type": "code",
   "execution_count": null,
   "id": "dcf4d060",
   "metadata": {},
   "outputs": [],
   "source": [
    "df2"
   ]
  },
  {
   "cell_type": "code",
   "execution_count": null,
   "id": "33fb5690",
   "metadata": {},
   "outputs": [],
   "source": []
  }
 ],
 "metadata": {
  "kernelspec": {
   "display_name": "python38_jl30",
   "language": "python",
   "name": "python38_jl30"
  },
  "language_info": {
   "codemirror_mode": {
    "name": "ipython",
    "version": 3
   },
   "file_extension": ".py",
   "mimetype": "text/x-python",
   "name": "python",
   "nbconvert_exporter": "python",
   "pygments_lexer": "ipython3",
   "version": "3.10.4"
  }
 },
 "nbformat": 4,
 "nbformat_minor": 5
}
