{
 "cells": [
  {
   "attachments": {},
   "cell_type": "markdown",
   "id": "9ace8901",
   "metadata": {},
   "source": [
    "### Script for creation of the playlist for TOP40 schlagerfancharts.de"
   ]
  },
  {
   "cell_type": "markdown",
   "id": "0bc9e27d",
   "metadata": {},
   "source": [
    "#### Import relevant modules"
   ]
  },
  {
   "cell_type": "code",
   "execution_count": 2,
   "id": "7863bdd4",
   "metadata": {},
   "outputs": [],
   "source": [
    "import spotipy\n",
    "from spotipy.oauth2 import SpotifyOAuth\n",
    "import time\n",
    "import pandas as pd\n",
    "scope = 'playlist-modify-public'\n",
    "username = 'docwi'\n",
    "import json\n"
   ]
  },
  {
   "cell_type": "markdown",
   "id": "9385fde8",
   "metadata": {},
   "source": [
    "#### Define the relevant modules of spotipy"
   ]
  },
  {
   "cell_type": "code",
   "execution_count": 20,
   "id": "9b3b9d9b",
   "metadata": {},
   "outputs": [],
   "source": [
    "token = SpotifyOAuth(client_id=\"6286b2e6875c4a3e80e9d948a6deffc2\",\n",
    "                     client_secret=\"f01f6b733bae4a709bf2d7731c330912\",\n",
    "                     redirect_uri=\"http://127.0.0.1:8080/\",\n",
    "                     scope=\"playlist-modify-public\")\n",
    "spotifyObject = spotipy.Spotify(auth_manager = token)"
   ]
  },
  {
   "cell_type": "markdown",
   "id": "e1a9df9e",
   "metadata": {},
   "source": [
    "### Define the playlist_name"
   ]
  },
  {
   "cell_type": "code",
   "execution_count": 21,
   "id": "c6b21aab",
   "metadata": {},
   "outputs": [],
   "source": [
    "# create the playlist\n",
    "# playlist_name = input('Name of the playlist: ')\n",
    "playlist_name = \"MySchlagerfancharts_26_06_23\"\n",
    "playlist_description = \"MySchlagerFanCharts\""
   ]
  },
  {
   "cell_type": "markdown",
   "id": "8802bf72",
   "metadata": {},
   "source": [
    "#### Create the playlist-Object within spotipy"
   ]
  },
  {
   "cell_type": "markdown",
   "id": "1975600f",
   "metadata": {},
   "source": [
    "At the first step the list is empty. When this command is executed, \n",
    "a new playlist will be created"
   ]
  },
  {
   "cell_type": "code",
   "execution_count": 22,
   "id": "eaf5fad3",
   "metadata": {},
   "outputs": [],
   "source": [
    "pl_obj = spotifyObject.user_playlist_create(\n",
    "    user=username, name=playlist_name, public=True, description=playlist_description\n",
    ")\n"
   ]
  },
  {
   "cell_type": "markdown",
   "id": "114d2b4d",
   "metadata": {},
   "source": [
    "Now, this playlist_object has to be filled... For this, the csv-file will be imported"
   ]
  },
  {
   "cell_type": "code",
   "execution_count": 23,
   "id": "9761594a",
   "metadata": {},
   "outputs": [],
   "source": [
    "schlagerfancharts_titles_db = pd.read_csv('schlagerfancharts_26_06_2023.csv', index_col=[0])"
   ]
  },
  {
   "cell_type": "code",
   "execution_count": 24,
   "id": "795022f6",
   "metadata": {},
   "outputs": [],
   "source": [
    "artist = []\n",
    "single_title = []\n",
    "list_of_songs = []\n",
    "for lf in schlagerfancharts_titles_db['Song'][:]:\n",
    "    # artist_tmp = lf.split(' - ')[0].split('.', 1)[1]\n",
    "    artist_tmp = lf.split(' - ')[0]\n",
    "    # print(f\"artist_tmp: {artist_tmp}\")\n",
    "    single_title_tmp = lf.split(' - ')[1]\n",
    "    # print(f\"single_title_tmp: {single_title_tmp}\")\n",
    "    searchQuery = artist_tmp + ' ' + single_title_tmp\n",
    "    \n",
    "    searchResults = spotifyObject.search(q=searchQuery)\n",
    "    # print('searchResults: ', searchResults)\n",
    "    if not bool(searchResults['tracks']['items']):\n",
    "        print('Missing information of the track: ', searchResults['tracks']['href'].split('https://api.spotify.com/v1/search?query=+')[1])\n",
    "    else:\n",
    "        single_title_tmp_1 = searchResults['tracks']['items'][0]['uri']\n",
    "        list_of_songs.append(single_title_tmp_1)\n",
    "        #list_of_songs.append(searchResults['tracks']['items'][0]['uri'])\n",
    "    #print('list_of_songs: ', list_of_songs)"
   ]
  },
  {
   "cell_type": "code",
   "execution_count": 15,
   "id": "6bfbeef5",
   "metadata": {},
   "outputs": [
    {
     "data": {
      "text/plain": [
       "43"
      ]
     },
     "execution_count": 15,
     "metadata": {},
     "output_type": "execute_result"
    }
   ],
   "source": [
    "len(list_of_songs)"
   ]
  },
  {
   "cell_type": "markdown",
   "id": "1393720d",
   "metadata": {},
   "source": [
    "#### Find the new playlist.  \n",
    "The playlist is sorted by timem therefore the  "
   ]
  },
  {
   "cell_type": "code",
   "execution_count": 25,
   "id": "af475ac1",
   "metadata": {},
   "outputs": [],
   "source": [
    "user_playlist_obj = spotifyObject.user_playlists(user=username)\n",
    "\n",
    "playlist_name = user_playlist_obj['items'][0]['name']\n",
    "playlist_id = user_playlist_obj['items'][0]['id']"
   ]
  },
  {
   "cell_type": "code",
   "execution_count": 26,
   "id": "a0adf799",
   "metadata": {},
   "outputs": [
    {
     "data": {
      "text/plain": [
       "'MySchlagerfancharts_26_06_23'"
      ]
     },
     "execution_count": 26,
     "metadata": {},
     "output_type": "execute_result"
    }
   ],
   "source": [
    "playlist_name"
   ]
  },
  {
   "cell_type": "markdown",
   "id": "a98a23fa",
   "metadata": {},
   "source": [
    "#### Add songs from 'list_of_songs' list to the chosen playlist"
   ]
  },
  {
   "cell_type": "code",
   "execution_count": 27,
   "id": "bf044b20",
   "metadata": {},
   "outputs": [
    {
     "data": {
      "text/plain": [
       "{'snapshot_id': 'MywyYWJlMjY4OGNjYjMzN2QwMzFjZjZmZDI4NDc5NWRlMmZiZjQzNDcw'}"
      ]
     },
     "execution_count": 27,
     "metadata": {},
     "output_type": "execute_result"
    }
   ],
   "source": [
    "spotifyObject.user_playlist_add_tracks(user=username, playlist_id=playlist_id,\n",
    "                                         tracks=list_of_songs)"
   ]
  },
  {
   "cell_type": "code",
   "execution_count": 48,
   "id": "4c2c879b",
   "metadata": {},
   "outputs": [
    {
     "data": {
      "text/plain": [
       "'4BbwiQvhrpeFHU3clObrun'"
      ]
     },
     "execution_count": 48,
     "metadata": {},
     "output_type": "execute_result"
    }
   ],
   "source": [
    "playlist_id"
   ]
  }
 ],
 "metadata": {
  "kernelspec": {
   "display_name": "dev_env",
   "language": "python",
   "name": "python3"
  },
  "language_info": {
   "codemirror_mode": {
    "name": "ipython",
    "version": 3
   },
   "file_extension": ".py",
   "mimetype": "text/x-python",
   "name": "python",
   "nbconvert_exporter": "python",
   "pygments_lexer": "ipython3",
   "version": "3.11.0"
  },
  "vscode": {
   "interpreter": {
    "hash": "49b32e718d396453da74a87fcbdef4c593c9ec438ad1347297e2038d8db89ee5"
   }
  }
 },
 "nbformat": 4,
 "nbformat_minor": 5
}
