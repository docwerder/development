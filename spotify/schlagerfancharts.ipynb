{
 "cells": [
  {
   "cell_type": "code",
   "execution_count": 1,
   "metadata": {},
   "outputs": [],
   "source": [
    "import sys\n",
    "sys.path.append('/Users/joerg/repos/development/spotify')\n",
    "from bs4 import BeautifulSoup\n",
    "import requests\n",
    "import itertools\n",
    "import pandas as pd"
   ]
  },
  {
   "cell_type": "code",
   "execution_count": 17,
   "metadata": {},
   "outputs": [
    {
     "name": "stdout",
     "output_type": "stream",
     "text": [
      "scanning Site: https://www.schlagerfancharts.de, Response: <Response [200]>\n"
     ]
    }
   ],
   "source": [
    "url = 'https://www.schlagerfancharts.de'\n",
    "db = []\n",
    "titles = []\n",
    "site_tmp = requests.get(url)\n",
    "\n",
    "soup_tmp = BeautifulSoup(site_tmp.content, 'html.parser')\n",
    "db = []\n",
    "titles = []\n",
    "response = requests.get(url)\n",
    "html_content = response.text\n",
    "\n",
    "soup = BeautifulSoup(html_content, 'html.parser')\n",
    "\n",
    "print(f'scanning Site: {url}, Response: {site_tmp}')\n",
    "\n",
    "class_name = 'choice-songtitle'\n",
    "class_name_artist = ''\n",
    "\n",
    "db_titles = soup_tmp.find_all('span', class_ = class_name)\n"
   ]
  },
  {
   "cell_type": "code",
   "execution_count": 19,
   "metadata": {},
   "outputs": [
    {
     "name": "stdout",
     "output_type": "stream",
     "text": [
      " Offene Arme (R...\n",
      " Herzgesteuert\n",
      " Heute lassen w...\n",
      " Ich lieb die L...\n",
      " Du bist das Le...\n",
      " Freunde bleibe...\n",
      " Côte d'Azur\n",
      " Selfie von heu...\n",
      " Bester Tag\n",
      " Heute nicht!\n",
      " Love Life Bala...\n",
      " Schwimm mit de...\n",
      " Ich freu mich ...\n",
      " Ich brauche ei...\n",
      " Du bist mein C...\n",
      " Balance\n",
      " Vor Glück gewe...\n",
      " Jetzt erst rec...\n",
      " man darf doch ...\n",
      " Uns gehört die...\n",
      " Marseille\n",
      " Neuanfang\n",
      " Wer ist Ann So...\n",
      " (All) deine Fa...\n",
      " Ja oder nein\n",
      " Der Moment uns...\n",
      " Leb laut\n",
      " Wenn der Wind ...\n",
      " Vielleicht für...\n",
      " Vamos, Amore m...\n",
      " Liebe ist für ...\n",
      " Lass die Liebe...\n",
      " Herzburnout\n",
      " Liebe auf den ...\n",
      " Viel zu schön ...\n",
      " Zeit sich zu v...\n",
      " Herzüber\n",
      " Kinder der Zei...\n",
      " Stark\n",
      " Alles wird gut\n",
      " Solo Soleil\n",
      " Sommerregennac...\n",
      " Mit den Füßen ...\n"
     ]
    }
   ],
   "source": [
    "for single_title in db_titles:\n",
    "    print(single_title.text)"
   ]
  },
  {
   "cell_type": "code",
   "execution_count": null,
   "metadata": {},
   "outputs": [],
   "source": []
  }
 ],
 "metadata": {
  "kernelspec": {
   "display_name": "pyside2_dev",
   "language": "python",
   "name": "python3"
  },
  "language_info": {
   "codemirror_mode": {
    "name": "ipython",
    "version": 3
   },
   "file_extension": ".py",
   "mimetype": "text/x-python",
   "name": "python",
   "nbconvert_exporter": "python",
   "pygments_lexer": "ipython3",
   "version": "3.10.6"
  },
  "orig_nbformat": 4
 },
 "nbformat": 4,
 "nbformat_minor": 2
}
