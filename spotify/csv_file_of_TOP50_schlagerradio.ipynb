{
 "cells": [
  {
   "cell_type": "markdown",
   "id": "76aa53c2",
   "metadata": {},
   "source": [
    "#### Create csv-File of the actual TOP50 of Schlagerradio.de"
   ]
  },
  {
   "cell_type": "markdown",
   "id": "e39063b4",
   "metadata": {},
   "source": [
    "#### Import of relevant modules"
   ]
  },
  {
   "cell_type": "code",
   "execution_count": 1,
   "id": "987a3354",
   "metadata": {},
   "outputs": [],
   "source": [
    "import sys\n",
    "sys.path.append('/Users/joerg/repos/braz/')\n",
    "from bs4 import BeautifulSoup\n",
    "from typing import List\n",
    "import requests\n",
    "import pandas as pd\n"
   ]
  },
  {
   "cell_type": "markdown",
   "id": "bcaf0cee",
   "metadata": {},
   "source": [
    "#### Define the relevant function for creating the csv-file"
   ]
  },
  {
   "cell_type": "code",
   "execution_count": 2,
   "id": "40710d59",
   "metadata": {},
   "outputs": [],
   "source": [
    "import requests\n",
    "from bs4 import BeautifulSoup\n",
    "def get_top_50():\n",
    "\n",
    "    url = 'https://www.schlagerradio.de/hitparade'\n",
    "    db = []\n",
    "    titles = []\n",
    "    site_tmp = requests.get(url)\n",
    "\n",
    "    soup_tmp = BeautifulSoup(site_tmp.content, 'html.parser')\n",
    "\n",
    "    print(f'scanning Site: {url}, Response: {site_tmp}')\n",
    "\n",
    "    #soup_tmp.find_all(\"div\", {\"class\": \"stylelistrow\"})\n",
    "    data_site_page = soup_tmp.find_all('a')\n",
    "\n",
    "    for lf in data_site_page:\n",
    "        db.append(lf.get('href'))\n",
    "\n",
    "    # print(f' db of {url}: ', db)\n",
    "\n",
    "    #db = scan_func('https://www.schlagerradio.de/hitparade')\n",
    "    titles = []\n",
    "    db1 = soup_tmp.find_all(\"div\", {\"class\": \"totalpoll-question-choices-item-label\"})\n",
    "\n",
    "    for lf in db1:\n",
    "        titles.append(lf.text)\n",
    "\n",
    "    titles_db_tmp = []\n",
    "\n",
    "    for title in titles:\n",
    "        titles_db_tmp.append(title)\n",
    "        \n",
    "    titles_db: List(str) = titles_db_tmp\n",
    "        \n",
    "    return titles_db\n",
    "    print(titles_db)"
   ]
  },
  {
   "cell_type": "code",
   "execution_count": 3,
   "id": "866eedf4",
   "metadata": {},
   "outputs": [
    {
     "name": "stdout",
     "output_type": "stream",
     "text": [
      "scanning Site: https://www.schlagerradio.de/hitparade, Response: <Response [200]>\n"
     ]
    }
   ],
   "source": [
    "list_top50_05_09_2022 = get_top_50()"
   ]
  },
  {
   "cell_type": "code",
   "execution_count": null,
   "id": "507f860e",
   "metadata": {},
   "outputs": [],
   "source": [
    "hitparade_db = {'Titel': list(list_top50_05_09_2022)}\n",
    "df_hitparade = pd.DataFrame(hitparade_db)\n",
    "\n",
    "df_hitparade.to_csv('top_50_schlagerradio_05_09_2022.csv')"
   ]
  },
  {
   "cell_type": "code",
   "execution_count": null,
   "id": "670cfd5d",
   "metadata": {},
   "outputs": [],
   "source": []
  }
 ],
 "metadata": {
  "kernelspec": {
   "display_name": "Python 3.10.4 ('sql_dev')",
   "language": "python",
   "name": "python3"
  },
  "language_info": {
   "codemirror_mode": {
    "name": "ipython",
    "version": 3
   },
   "file_extension": ".py",
   "mimetype": "text/x-python",
   "name": "python",
   "nbconvert_exporter": "python",
   "pygments_lexer": "ipython3",
   "version": "3.10.4"
  },
  "vscode": {
   "interpreter": {
    "hash": "c5db0ce4916e7a0023c71d2610cc14526b5f69d95391b8e9e7f958ca80509f20"
   }
  }
 },
 "nbformat": 4,
 "nbformat_minor": 5
}
